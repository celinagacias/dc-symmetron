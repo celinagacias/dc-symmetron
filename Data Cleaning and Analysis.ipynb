{
  "nbformat": 4,
  "nbformat_minor": 0,
  "metadata": {
    "colab": {
      "provenance": [],
      "toc_visible": true,
      "include_colab_link": true
    },
    "kernelspec": {
      "name": "python3",
      "display_name": "Python 3"
    },
    "language_info": {
      "name": "python"
    }
  },
  "cells": [
    {
      "cell_type": "markdown",
      "metadata": {
        "id": "view-in-github",
        "colab_type": "text"
      },
      "source": [
        "<a href=\"https://colab.research.google.com/github/celinagacias/dc-symmetron/blob/main/Data%20Cleaning%20and%20Analysis.ipynb\" target=\"_parent\"><img src=\"https://colab.research.google.com/assets/colab-badge.svg\" alt=\"Open In Colab\"/></a>"
      ]
    },
    {
      "cell_type": "code",
      "execution_count": null,
      "metadata": {
        "id": "0DQLxPBhmyaq"
      },
      "outputs": [],
      "source": [
        "import pandas as pd\n",
        "import numpy as np\n",
        "from datetime import datetime\n",
        "import string\n",
        "import re\n",
        "import itertools\n",
        "\n",
        "import matplotlib.pyplot as plt\n",
        "import seaborn as sns\n",
        "\n",
        "from pydrive.auth import GoogleAuth\n",
        "from pydrive.drive import GoogleDrive\n",
        "from google.colab import auth, drive\n",
        "from oauth2client.client import GoogleCredentials"
      ]
    },
    {
      "cell_type": "markdown",
      "source": [
        "# Data Read-In"
      ],
      "metadata": {
        "id": "XE2F-wbaTCGI"
      }
    },
    {
      "cell_type": "code",
      "source": [
        "#Authenticate user\n",
        "auth.authenticate_user()\n",
        "gauth = GoogleAuth()\n",
        "\n",
        "#Mount GDrive\n",
        "gdrive = GoogleDrive(gauth)\n",
        "gauth.credentials = GoogleCredentials.get_application_default()\n",
        "drive.mount('/content/drive')"
      ],
      "metadata": {
        "colab": {
          "base_uri": "https://localhost:8080/"
        },
        "id": "b4w23Db_RjPs",
        "outputId": "9da2e152-0a32-410d-ea57-21b8e46d4cdc"
      },
      "execution_count": null,
      "outputs": [
        {
          "output_type": "stream",
          "name": "stdout",
          "text": [
            "Drive already mounted at /content/drive; to attempt to forcibly remount, call drive.mount(\"/content/drive\", force_remount=True).\n"
          ]
        }
      ]
    },
    {
      "cell_type": "code",
      "source": [
        "# Read data from csv\n",
        "folder = '1iLA5sSyu7ere1AN40TWRf6O6ma5LoIDl'\n",
        "filename = 'raw_AACT_data.csv'\n",
        "\n",
        "gfile_list = gdrive.ListFile({'q': \"'\" +  folder + \"'\" + \" in parents and trashed=false\"}).GetList()\n",
        "gfile = [f for f in gfile_list if f['title'] == filename][0]\n",
        "df_file = gdrive.CreateFile({'id': gfile['id']})\n",
        "df_file.GetContentFile(gfile['title'])\n",
        "df = pd.read_csv(filename)\n",
        "display(df.head(2))"
      ],
      "metadata": {
        "id": "ttsAotx7SGmH",
        "colab": {
          "base_uri": "https://localhost:8080/",
          "height": 332
        },
        "outputId": "e905c75d-1023-4427-9d4f-429b75d0d4d7"
      },
      "execution_count": null,
      "outputs": [
        {
          "output_type": "display_data",
          "data": {
            "text/plain": [
              "        nct_id  start_date start_date_type      study_type    phase  \\\n",
              "0  NCT00000113  1997-09-30             NaN  Interventional  Phase 3   \n",
              "1  NCT00000114  1984-05-31             NaN  Interventional  Phase 3   \n",
              "\n",
              "  overall_status last_known_status  \\\n",
              "0      Completed               NaN   \n",
              "1      Completed               NaN   \n",
              "\n",
              "                                         brief_title  population  \\\n",
              "0      Correction of Myopia Evaluation Trial (COMET)         NaN   \n",
              "1  Randomized Trial of Vitamin A and Vitamin E Su...         NaN   \n",
              "\n",
              "  gender_description minimum_age maximum_age gender healthy_volunteers  \\\n",
              "0                NaN     6 Years    12 Years    All                 No   \n",
              "1                NaN    18 Years    49 Years    All                NaN   \n",
              "\n",
              "  countries_removed countries_retained      conditions_table  \\\n",
              "0                {}  {\"United States\"}                myopia   \n",
              "1               NaN                NaN  retinitis pigmentosa   \n",
              "\n",
              "                                           mesh_term  \\\n",
              "0            eye diseases, myopia, refractive errors   \n",
              "1  eye diseases, retinal diseases, retinitis pigm...   \n",
              "\n",
              "                                            criteria  \n",
              "0  Children between the ages of 6 and 12 years wi...  \n",
              "1  Men and nonpregnant women between ages 18 and ...  "
            ],
            "text/html": [
              "\n",
              "  <div id=\"df-bef1b893-8efd-4e5f-ae0d-3cde40e14308\">\n",
              "    <div class=\"colab-df-container\">\n",
              "      <div>\n",
              "<style scoped>\n",
              "    .dataframe tbody tr th:only-of-type {\n",
              "        vertical-align: middle;\n",
              "    }\n",
              "\n",
              "    .dataframe tbody tr th {\n",
              "        vertical-align: top;\n",
              "    }\n",
              "\n",
              "    .dataframe thead th {\n",
              "        text-align: right;\n",
              "    }\n",
              "</style>\n",
              "<table border=\"1\" class=\"dataframe\">\n",
              "  <thead>\n",
              "    <tr style=\"text-align: right;\">\n",
              "      <th></th>\n",
              "      <th>nct_id</th>\n",
              "      <th>start_date</th>\n",
              "      <th>start_date_type</th>\n",
              "      <th>study_type</th>\n",
              "      <th>phase</th>\n",
              "      <th>overall_status</th>\n",
              "      <th>last_known_status</th>\n",
              "      <th>brief_title</th>\n",
              "      <th>population</th>\n",
              "      <th>gender_description</th>\n",
              "      <th>minimum_age</th>\n",
              "      <th>maximum_age</th>\n",
              "      <th>gender</th>\n",
              "      <th>healthy_volunteers</th>\n",
              "      <th>countries_removed</th>\n",
              "      <th>countries_retained</th>\n",
              "      <th>conditions_table</th>\n",
              "      <th>mesh_term</th>\n",
              "      <th>criteria</th>\n",
              "    </tr>\n",
              "  </thead>\n",
              "  <tbody>\n",
              "    <tr>\n",
              "      <th>0</th>\n",
              "      <td>NCT00000113</td>\n",
              "      <td>1997-09-30</td>\n",
              "      <td>NaN</td>\n",
              "      <td>Interventional</td>\n",
              "      <td>Phase 3</td>\n",
              "      <td>Completed</td>\n",
              "      <td>NaN</td>\n",
              "      <td>Correction of Myopia Evaluation Trial (COMET)</td>\n",
              "      <td>NaN</td>\n",
              "      <td>NaN</td>\n",
              "      <td>6 Years</td>\n",
              "      <td>12 Years</td>\n",
              "      <td>All</td>\n",
              "      <td>No</td>\n",
              "      <td>{}</td>\n",
              "      <td>{\"United States\"}</td>\n",
              "      <td>myopia</td>\n",
              "      <td>eye diseases, myopia, refractive errors</td>\n",
              "      <td>Children between the ages of 6 and 12 years wi...</td>\n",
              "    </tr>\n",
              "    <tr>\n",
              "      <th>1</th>\n",
              "      <td>NCT00000114</td>\n",
              "      <td>1984-05-31</td>\n",
              "      <td>NaN</td>\n",
              "      <td>Interventional</td>\n",
              "      <td>Phase 3</td>\n",
              "      <td>Completed</td>\n",
              "      <td>NaN</td>\n",
              "      <td>Randomized Trial of Vitamin A and Vitamin E Su...</td>\n",
              "      <td>NaN</td>\n",
              "      <td>NaN</td>\n",
              "      <td>18 Years</td>\n",
              "      <td>49 Years</td>\n",
              "      <td>All</td>\n",
              "      <td>NaN</td>\n",
              "      <td>NaN</td>\n",
              "      <td>NaN</td>\n",
              "      <td>retinitis pigmentosa</td>\n",
              "      <td>eye diseases, retinal diseases, retinitis pigm...</td>\n",
              "      <td>Men and nonpregnant women between ages 18 and ...</td>\n",
              "    </tr>\n",
              "  </tbody>\n",
              "</table>\n",
              "</div>\n",
              "      <button class=\"colab-df-convert\" onclick=\"convertToInteractive('df-bef1b893-8efd-4e5f-ae0d-3cde40e14308')\"\n",
              "              title=\"Convert this dataframe to an interactive table.\"\n",
              "              style=\"display:none;\">\n",
              "        \n",
              "  <svg xmlns=\"http://www.w3.org/2000/svg\" height=\"24px\"viewBox=\"0 0 24 24\"\n",
              "       width=\"24px\">\n",
              "    <path d=\"M0 0h24v24H0V0z\" fill=\"none\"/>\n",
              "    <path d=\"M18.56 5.44l.94 2.06.94-2.06 2.06-.94-2.06-.94-.94-2.06-.94 2.06-2.06.94zm-11 1L8.5 8.5l.94-2.06 2.06-.94-2.06-.94L8.5 2.5l-.94 2.06-2.06.94zm10 10l.94 2.06.94-2.06 2.06-.94-2.06-.94-.94-2.06-.94 2.06-2.06.94z\"/><path d=\"M17.41 7.96l-1.37-1.37c-.4-.4-.92-.59-1.43-.59-.52 0-1.04.2-1.43.59L10.3 9.45l-7.72 7.72c-.78.78-.78 2.05 0 2.83L4 21.41c.39.39.9.59 1.41.59.51 0 1.02-.2 1.41-.59l7.78-7.78 2.81-2.81c.8-.78.8-2.07 0-2.86zM5.41 20L4 18.59l7.72-7.72 1.47 1.35L5.41 20z\"/>\n",
              "  </svg>\n",
              "      </button>\n",
              "      \n",
              "  <style>\n",
              "    .colab-df-container {\n",
              "      display:flex;\n",
              "      flex-wrap:wrap;\n",
              "      gap: 12px;\n",
              "    }\n",
              "\n",
              "    .colab-df-convert {\n",
              "      background-color: #E8F0FE;\n",
              "      border: none;\n",
              "      border-radius: 50%;\n",
              "      cursor: pointer;\n",
              "      display: none;\n",
              "      fill: #1967D2;\n",
              "      height: 32px;\n",
              "      padding: 0 0 0 0;\n",
              "      width: 32px;\n",
              "    }\n",
              "\n",
              "    .colab-df-convert:hover {\n",
              "      background-color: #E2EBFA;\n",
              "      box-shadow: 0px 1px 2px rgba(60, 64, 67, 0.3), 0px 1px 3px 1px rgba(60, 64, 67, 0.15);\n",
              "      fill: #174EA6;\n",
              "    }\n",
              "\n",
              "    [theme=dark] .colab-df-convert {\n",
              "      background-color: #3B4455;\n",
              "      fill: #D2E3FC;\n",
              "    }\n",
              "\n",
              "    [theme=dark] .colab-df-convert:hover {\n",
              "      background-color: #434B5C;\n",
              "      box-shadow: 0px 1px 3px 1px rgba(0, 0, 0, 0.15);\n",
              "      filter: drop-shadow(0px 1px 2px rgba(0, 0, 0, 0.3));\n",
              "      fill: #FFFFFF;\n",
              "    }\n",
              "  </style>\n",
              "\n",
              "      <script>\n",
              "        const buttonEl =\n",
              "          document.querySelector('#df-bef1b893-8efd-4e5f-ae0d-3cde40e14308 button.colab-df-convert');\n",
              "        buttonEl.style.display =\n",
              "          google.colab.kernel.accessAllowed ? 'block' : 'none';\n",
              "\n",
              "        async function convertToInteractive(key) {\n",
              "          const element = document.querySelector('#df-bef1b893-8efd-4e5f-ae0d-3cde40e14308');\n",
              "          const dataTable =\n",
              "            await google.colab.kernel.invokeFunction('convertToInteractive',\n",
              "                                                     [key], {});\n",
              "          if (!dataTable) return;\n",
              "\n",
              "          const docLinkHtml = 'Like what you see? Visit the ' +\n",
              "            '<a target=\"_blank\" href=https://colab.research.google.com/notebooks/data_table.ipynb>data table notebook</a>'\n",
              "            + ' to learn more about interactive tables.';\n",
              "          element.innerHTML = '';\n",
              "          dataTable['output_type'] = 'display_data';\n",
              "          await google.colab.output.renderOutput(dataTable, element);\n",
              "          const docLink = document.createElement('div');\n",
              "          docLink.innerHTML = docLinkHtml;\n",
              "          element.appendChild(docLink);\n",
              "        }\n",
              "      </script>\n",
              "    </div>\n",
              "  </div>\n",
              "  "
            ]
          },
          "metadata": {}
        }
      ]
    },
    {
      "cell_type": "code",
      "source": [
        "n = len(df)\n",
        "print(f'There are {n} studies in our sample.')"
      ],
      "metadata": {
        "colab": {
          "base_uri": "https://localhost:8080/"
        },
        "id": "5uIa41t3m8r-",
        "outputId": "f0e876ce-9292-4dce-8fe2-f4de1e1c4c3f"
      },
      "execution_count": null,
      "outputs": [
        {
          "output_type": "stream",
          "name": "stdout",
          "text": [
            "There are 42299 studies in our sample.\n"
          ]
        }
      ]
    },
    {
      "cell_type": "markdown",
      "source": [
        "# Data Cleaning"
      ],
      "metadata": {
        "id": "ZeyaVTvCK0bO"
      }
    },
    {
      "cell_type": "code",
      "source": [
        "# list of major cancer categories\n",
        "categories = sorted(['digestive','respiratory tract','head and neck'],\n",
        "                    key=lambda x: -len(df[df.mesh_term.fillna('').str.contains(x)]))"
      ],
      "metadata": {
        "id": "BJD2cqmWmvqV"
      },
      "execution_count": null,
      "outputs": []
    },
    {
      "cell_type": "markdown",
      "source": [
        "## Dates"
      ],
      "metadata": {
        "id": "BvuYNH0UJJnn"
      }
    },
    {
      "cell_type": "code",
      "source": [
        "# convert start date to date\n",
        "df['start_date'] = df['start_date'].apply(\n",
        "    lambda x: datetime.strptime(x, '%Y-%m-%d').date() if str(x) != 'nan' else None)"
      ],
      "metadata": {
        "id": "muEUyM5HJNW-"
      },
      "execution_count": null,
      "outputs": []
    },
    {
      "cell_type": "code",
      "source": [
        "# extract year into separate column\n",
        "df['start_year'] = df['start_date'].apply(lambda x: int(x.year) if x is not None else None)"
      ],
      "metadata": {
        "id": "9Wwr5jJyKBg_"
      },
      "execution_count": null,
      "outputs": []
    },
    {
      "cell_type": "markdown",
      "source": [
        "## Countries"
      ],
      "metadata": {
        "id": "8hboB_lGKeaW"
      }
    },
    {
      "cell_type": "code",
      "source": [
        "def process_countries(l):\n",
        "  # converts string of list of countries into lists\n",
        "  l = l.replace('{','').replace('}','').split(',')\n",
        "  l = set([c.replace('\"','') for c in l])\n",
        "  return l"
      ],
      "metadata": {
        "id": "Oo8o6Z5IKhSl"
      },
      "execution_count": null,
      "outputs": []
    },
    {
      "cell_type": "code",
      "source": [
        "# apply the function to each list of countries\n",
        "df['countries_removed'] = df['countries_removed'].apply(\n",
        "    lambda x: process_countries(x) if str(x) != 'nan' else None)\n",
        "\n",
        "df['countries_retained'] = df['countries_retained'].apply(\n",
        "    lambda x: process_countries(x) if str(x) != 'nan' else None)"
      ],
      "metadata": {
        "id": "1QPo8n7ZMIiP"
      },
      "execution_count": null,
      "outputs": []
    },
    {
      "cell_type": "markdown",
      "source": [
        "## Ages"
      ],
      "metadata": {
        "id": "XTO-gyU-c2xU"
      }
    },
    {
      "cell_type": "code",
      "source": [
        "def parse_age(a):\n",
        "  # Convert text of age into years\n",
        "  if str(a) == 'nan':\n",
        "    return np.nan\n",
        "\n",
        "  num = int(str(a).split(' ')[0])\n",
        "  if 'Year' in a:\n",
        "    age = num\n",
        "  elif 'Month' in a:\n",
        "    age = num / 12\n",
        "  elif 'Week' in a:\n",
        "    age = num / 52\n",
        "  elif 'Day':\n",
        "    age = num / 365\n",
        "  elif 'Hour' in a:\n",
        "    age = num / (24 * 365)\n",
        "  elif 'Minute' in a:\n",
        "    age = num / (24 * 365 * 60)\n",
        "  return age\n",
        "\n",
        "df['minimum_age'] = df['minimum_age'].apply(parse_age)\n",
        "df['maximum_age'] = df['maximum_age'].apply(parse_age)"
      ],
      "metadata": {
        "id": "MWaCgE2fc4gY"
      },
      "execution_count": null,
      "outputs": []
    },
    {
      "cell_type": "markdown",
      "source": [
        "## Inclusion/Exclusion Criteria"
      ],
      "metadata": {
        "id": "S222znpRl7vj"
      }
    },
    {
      "cell_type": "code",
      "source": [
        "# identify which studies have clear inclusion vs. exclusion\n",
        "df['criteria_norm'] = df.criteria.fillna('').str.upper().str.strip().str.replace(' CRITERIA','')\n",
        "inc_cond = df.criteria_norm.str.contains('INCLUSION:')\n",
        "exc_cond = df.criteria_norm.str.contains('EXCLUSION:')\n",
        "parse_mask = (inc_cond) & (exc_cond)\n",
        "len_parse = df[parse_mask].shape[0]\n",
        "print(f'There are {len_parse} ({np.round(len_parse*100/n, 2)}%) studies with clearly delineated inclusion/exclusion criteria')"
      ],
      "metadata": {
        "colab": {
          "base_uri": "https://localhost:8080/"
        },
        "id": "i5iaUdbiI-vc",
        "outputId": "34680c8b-2a22-47e2-9e58-b81a1a4ed1e6"
      },
      "execution_count": null,
      "outputs": [
        {
          "output_type": "stream",
          "name": "stdout",
          "text": [
            "There are 38232 (90.39%) studies with clearly delineated inclusion/exclusion criteria\n"
          ]
        }
      ]
    },
    {
      "cell_type": "code",
      "source": [
        "def parse_criteria(c):\n",
        "  '''Splits criteria into inclusion and exclusion'''\n",
        "\n",
        "  def clean_criteria(s):\n",
        "    # sub-function to clean up criteria text\n",
        "    s = s.replace('INCLUSION:','').strip() # remove inclusion title\n",
        "    s = re.sub(r'(\\n\\s*)+\\n+', '\\n', s) # reduce newlines\n",
        "    return s\n",
        "\n",
        "  # create list with [inclusion, exclusion]\n",
        "  c_list = c.split('EXCLUSION:')\n",
        "  c_list = [clean_criteria(s) for s in c_list]\n",
        "  return c_list\n",
        "\n",
        "# apply the function to derive inclusion and exclusion\n",
        "df['inclusion'] = None\n",
        "df['exclusion'] = None\n",
        "df.loc[parse_mask, 'criteria_split'] = df.loc[parse_mask, 'criteria_norm'].apply(parse_criteria)\n",
        "df.loc[parse_mask, 'inclusion'] = df.loc[parse_mask, 'criteria_split'].apply(lambda x: x[0])\n",
        "df.loc[parse_mask, 'exclusion'] = df.loc[parse_mask, 'criteria_split'].apply(lambda x: x[1])"
      ],
      "metadata": {
        "id": "mEGr_DZqn4q9"
      },
      "execution_count": null,
      "outputs": []
    },
    {
      "cell_type": "markdown",
      "source": [
        "## Subsetting"
      ],
      "metadata": {
        "id": "qjK0vQT-Myv3"
      }
    },
    {
      "cell_type": "code",
      "source": [
        "# remove studies that were paused or suspended\n",
        "suspend_mask = (df.overall_status.isin(['Terminated', 'Withdrawn', 'Suspended']))\n",
        "n_suspend = df[suspend_mask].shape[0]\n",
        "print(f'There are {n_suspend} studies that need to be removed because they are either terminated, withdrawn, or suspended.')\n",
        "df = df[~suspend_mask].copy(deep=True)\n",
        "print(f'There are {len(df)} studies remaining.')"
      ],
      "metadata": {
        "colab": {
          "base_uri": "https://localhost:8080/"
        },
        "id": "8CSVHf1pM1Eh",
        "outputId": "04c073b7-a0de-4e15-cd1a-638a114b0b5e"
      },
      "execution_count": null,
      "outputs": [
        {
          "output_type": "stream",
          "name": "stdout",
          "text": [
            "There are 4600 studies that need to be removed because they are either terminated, withdrawn, or suspended.\n",
            "There are 37699 studies remaining.\n"
          ]
        }
      ]
    },
    {
      "cell_type": "code",
      "source": [
        "# obtain subset of cancer studies\n",
        "df = df[(df.mesh_term.str.contains('neoplasm')) | \n",
        "        (df.mesh_term.str.contains('carcinoma')) | \n",
        "        (df.mesh_term.str.contains('cancer'))].copy(deep=True)\n",
        "print(f'There are {len(df)} studies for cancer-related interventions.')"
      ],
      "metadata": {
        "colab": {
          "base_uri": "https://localhost:8080/"
        },
        "id": "Uc9Bfhf2rW-B",
        "outputId": "fc256f2d-2f66-4476-cbb3-50f3cd57121d"
      },
      "execution_count": null,
      "outputs": [
        {
          "output_type": "stream",
          "name": "stdout",
          "text": [
            "There are 7385 studies for cancer-related interventions.\n"
          ]
        }
      ]
    },
    {
      "cell_type": "code",
      "source": [
        "# subset to just the studies that fit into just 1 category\n",
        "\n",
        "# obtain the applicable categories for each study, in a list\n",
        "df['category'] = df.mesh_term.apply(lambda x: sorted([c for c in categories if c in x]))\n",
        "df = df[df.category.apply(lambda x: len(x) == 1)].copy(deep=True)\n",
        "df['category'] = df.category.apply(lambda x: x[0])\n",
        "print(f'There are {len(df)} studies that fit into just 1 of the categories we identified')"
      ],
      "metadata": {
        "colab": {
          "base_uri": "https://localhost:8080/"
        },
        "id": "lkosEfLamjhK",
        "outputId": "d2268a89-a0c8-42e3-8564-21b9cc8cd8d7"
      },
      "execution_count": null,
      "outputs": [
        {
          "output_type": "stream",
          "name": "stdout",
          "text": [
            "There are 2498 studies that fit into just 1 of the categories we identified\n"
          ]
        }
      ]
    },
    {
      "cell_type": "markdown",
      "source": [
        "# Initial Analysis"
      ],
      "metadata": {
        "id": "RWrIf40eVDxw"
      }
    },
    {
      "cell_type": "markdown",
      "source": [
        "## Basic Descriptives"
      ],
      "metadata": {
        "id": "zy8dYwFhtU3E"
      }
    },
    {
      "cell_type": "code",
      "source": [
        "# most common mesh terms\n",
        "mesh_list = df.mesh_term.apply(lambda x: x.split(', '))\n",
        "all_mesh = [t for t in list(itertools.chain.from_iterable(mesh_list)) if \\\n",
        "            any([t.startswith(s) for s in ['neoplasm','cancer','carcinoma']]) is False]\n",
        "mesh_freq = pd.Series(all_mesh).value_counts()\n",
        "display(mesh_freq.head(30))"
      ],
      "metadata": {
        "colab": {
          "base_uri": "https://localhost:8080/",
          "height": 555
        },
        "id": "sV9IVFs6VZmy",
        "outputId": "941a740a-c6e5-4112-8156-f60a52ecde7c"
      },
      "execution_count": null,
      "outputs": [
        {
          "output_type": "display_data",
          "data": {
            "text/plain": [
              "digestive system diseases      1324\n",
              "digestive system neoplasms     1298\n",
              "gastrointestinal diseases       859\n",
              "gastrointestinal neoplasms      842\n",
              "respiratory tract diseases      814\n",
              "thoracic neoplasms              809\n",
              "respiratory tract neoplasms     807\n",
              "lung diseases                   804\n",
              "lung neoplasms                  800\n",
              "bronchial neoplasms             674\n",
              "bronchogenic                    674\n",
              "glandular and epithelial        644\n",
              "intestinal diseases             591\n",
              "intestinal neoplasms            585\n",
              "colorectal neoplasms            581\n",
              "non-small-cell lung             577\n",
              "rectal diseases                 482\n",
              "colonic diseases                461\n",
              "adenocarcinoma                  352\n",
              "head and neck neoplasms         333\n",
              "liver diseases                  297\n",
              "liver neoplasms                 289\n",
              "hepatocellular                  230\n",
              "stomach diseases                228\n",
              "stomach neoplasms               225\n",
              "endocrine system diseases       214\n",
              "endocrine gland neoplasms       212\n",
              "pathologic processes            169\n",
              "squamous cell                   154\n",
              "stomatognathic diseases         149\n",
              "dtype: int64"
            ]
          },
          "metadata": {}
        }
      ]
    },
    {
      "cell_type": "code",
      "source": [
        "# no. of studies per set of categories\n",
        "print('no. of studies per category or set of categories')\n",
        "all_cat_count = df.category.value_counts()\n",
        "all_cat_prop = all_cat_count / len(df)\n",
        "display(all_cat_count)\n",
        "display(all_cat_prop)\n",
        "\n",
        "# # no. of studies per category\n",
        "# print('''======================\n",
        "# no. of studies per category''')\n",
        "# all_cat = list(itertools.chain.from_iterable(df.category))\n",
        "# cat_count = pd.Series(all_cat).value_counts(dropna=False)\n",
        "# cat_prop = cat_count / len(df)\n",
        "# display(cat_count)\n",
        "# display(cat_prop)"
      ],
      "metadata": {
        "colab": {
          "base_uri": "https://localhost:8080/",
          "height": 173
        },
        "id": "iH3FWScRxday",
        "outputId": "e74e47fe-c70b-41a1-bee2-c82fd680fad6"
      },
      "execution_count": null,
      "outputs": [
        {
          "output_type": "stream",
          "name": "stdout",
          "text": [
            "no. of studies per category or set of categories\n"
          ]
        },
        {
          "output_type": "display_data",
          "data": {
            "text/plain": [
              "digestive            1342\n",
              "respiratory tract     823\n",
              "head and neck         333\n",
              "Name: category, dtype: int64"
            ]
          },
          "metadata": {}
        },
        {
          "output_type": "display_data",
          "data": {
            "text/plain": [
              "digestive            0.537230\n",
              "respiratory tract    0.329464\n",
              "head and neck        0.133307\n",
              "Name: category, dtype: float64"
            ]
          },
          "metadata": {}
        }
      ]
    },
    {
      "cell_type": "markdown",
      "source": [
        "## By Age"
      ],
      "metadata": {
        "id": "5NRkEnqWA99G"
      }
    },
    {
      "cell_type": "markdown",
      "source": [
        "Perform analysis of excluded age groups"
      ],
      "metadata": {
        "id": "4lzETg-XBAL2"
      }
    },
    {
      "cell_type": "code",
      "source": [
        "def get_ages(min, max):\n",
        "  reference_ages = set( range(0, 101) )\n",
        "  if str(min) != 'nan' and str(max) != 'nan':\n",
        "    inc = set( range( int(min), int(max)+1 ) )\n",
        "  elif str(min) == 'nan' and str(max) != 'nan':\n",
        "    inc = set( range(0, int(max)+1 ) )\n",
        "  elif str(min) != 'nan' and str(max) == 'nan':\n",
        "    inc = set( range( int(min), 101) )\n",
        "  else:\n",
        "    inc = reference_ages\n",
        "  exc = sorted(list(reference_ages - inc))\n",
        "  return exc\n",
        "\n",
        "df['excluded_ages'] = df.apply(lambda x: get_ages(x.minimum_age, x.maximum_age), axis=1) \n",
        "\n",
        "display( df[['minimum_age', 'maximum_age', 'excluded_ages']].head() )"
      ],
      "metadata": {
        "colab": {
          "base_uri": "https://localhost:8080/",
          "height": 206
        },
        "id": "Lxy6prqIBXN8",
        "outputId": "8796d7a9-e20c-4245-ad04-2fee7ad10949"
      },
      "execution_count": null,
      "outputs": [
        {
          "output_type": "display_data",
          "data": {
            "text/plain": [
              "     minimum_age  maximum_age  \\\n",
              "203         50.0         79.0   \n",
              "354         20.0         80.0   \n",
              "360         18.0          NaN   \n",
              "365         18.0          NaN   \n",
              "368         20.0         80.0   \n",
              "\n",
              "                                         excluded_ages  \n",
              "203  [0, 1, 2, 3, 4, 5, 6, 7, 8, 9, 10, 11, 12, 13,...  \n",
              "354  [0, 1, 2, 3, 4, 5, 6, 7, 8, 9, 10, 11, 12, 13,...  \n",
              "360  [0, 1, 2, 3, 4, 5, 6, 7, 8, 9, 10, 11, 12, 13,...  \n",
              "365  [0, 1, 2, 3, 4, 5, 6, 7, 8, 9, 10, 11, 12, 13,...  \n",
              "368  [0, 1, 2, 3, 4, 5, 6, 7, 8, 9, 10, 11, 12, 13,...  "
            ],
            "text/html": [
              "\n",
              "  <div id=\"df-e5904933-1312-4a18-b317-a72ffa47862b\">\n",
              "    <div class=\"colab-df-container\">\n",
              "      <div>\n",
              "<style scoped>\n",
              "    .dataframe tbody tr th:only-of-type {\n",
              "        vertical-align: middle;\n",
              "    }\n",
              "\n",
              "    .dataframe tbody tr th {\n",
              "        vertical-align: top;\n",
              "    }\n",
              "\n",
              "    .dataframe thead th {\n",
              "        text-align: right;\n",
              "    }\n",
              "</style>\n",
              "<table border=\"1\" class=\"dataframe\">\n",
              "  <thead>\n",
              "    <tr style=\"text-align: right;\">\n",
              "      <th></th>\n",
              "      <th>minimum_age</th>\n",
              "      <th>maximum_age</th>\n",
              "      <th>excluded_ages</th>\n",
              "    </tr>\n",
              "  </thead>\n",
              "  <tbody>\n",
              "    <tr>\n",
              "      <th>203</th>\n",
              "      <td>50.0</td>\n",
              "      <td>79.0</td>\n",
              "      <td>[0, 1, 2, 3, 4, 5, 6, 7, 8, 9, 10, 11, 12, 13,...</td>\n",
              "    </tr>\n",
              "    <tr>\n",
              "      <th>354</th>\n",
              "      <td>20.0</td>\n",
              "      <td>80.0</td>\n",
              "      <td>[0, 1, 2, 3, 4, 5, 6, 7, 8, 9, 10, 11, 12, 13,...</td>\n",
              "    </tr>\n",
              "    <tr>\n",
              "      <th>360</th>\n",
              "      <td>18.0</td>\n",
              "      <td>NaN</td>\n",
              "      <td>[0, 1, 2, 3, 4, 5, 6, 7, 8, 9, 10, 11, 12, 13,...</td>\n",
              "    </tr>\n",
              "    <tr>\n",
              "      <th>365</th>\n",
              "      <td>18.0</td>\n",
              "      <td>NaN</td>\n",
              "      <td>[0, 1, 2, 3, 4, 5, 6, 7, 8, 9, 10, 11, 12, 13,...</td>\n",
              "    </tr>\n",
              "    <tr>\n",
              "      <th>368</th>\n",
              "      <td>20.0</td>\n",
              "      <td>80.0</td>\n",
              "      <td>[0, 1, 2, 3, 4, 5, 6, 7, 8, 9, 10, 11, 12, 13,...</td>\n",
              "    </tr>\n",
              "  </tbody>\n",
              "</table>\n",
              "</div>\n",
              "      <button class=\"colab-df-convert\" onclick=\"convertToInteractive('df-e5904933-1312-4a18-b317-a72ffa47862b')\"\n",
              "              title=\"Convert this dataframe to an interactive table.\"\n",
              "              style=\"display:none;\">\n",
              "        \n",
              "  <svg xmlns=\"http://www.w3.org/2000/svg\" height=\"24px\"viewBox=\"0 0 24 24\"\n",
              "       width=\"24px\">\n",
              "    <path d=\"M0 0h24v24H0V0z\" fill=\"none\"/>\n",
              "    <path d=\"M18.56 5.44l.94 2.06.94-2.06 2.06-.94-2.06-.94-.94-2.06-.94 2.06-2.06.94zm-11 1L8.5 8.5l.94-2.06 2.06-.94-2.06-.94L8.5 2.5l-.94 2.06-2.06.94zm10 10l.94 2.06.94-2.06 2.06-.94-2.06-.94-.94-2.06-.94 2.06-2.06.94z\"/><path d=\"M17.41 7.96l-1.37-1.37c-.4-.4-.92-.59-1.43-.59-.52 0-1.04.2-1.43.59L10.3 9.45l-7.72 7.72c-.78.78-.78 2.05 0 2.83L4 21.41c.39.39.9.59 1.41.59.51 0 1.02-.2 1.41-.59l7.78-7.78 2.81-2.81c.8-.78.8-2.07 0-2.86zM5.41 20L4 18.59l7.72-7.72 1.47 1.35L5.41 20z\"/>\n",
              "  </svg>\n",
              "      </button>\n",
              "      \n",
              "  <style>\n",
              "    .colab-df-container {\n",
              "      display:flex;\n",
              "      flex-wrap:wrap;\n",
              "      gap: 12px;\n",
              "    }\n",
              "\n",
              "    .colab-df-convert {\n",
              "      background-color: #E8F0FE;\n",
              "      border: none;\n",
              "      border-radius: 50%;\n",
              "      cursor: pointer;\n",
              "      display: none;\n",
              "      fill: #1967D2;\n",
              "      height: 32px;\n",
              "      padding: 0 0 0 0;\n",
              "      width: 32px;\n",
              "    }\n",
              "\n",
              "    .colab-df-convert:hover {\n",
              "      background-color: #E2EBFA;\n",
              "      box-shadow: 0px 1px 2px rgba(60, 64, 67, 0.3), 0px 1px 3px 1px rgba(60, 64, 67, 0.15);\n",
              "      fill: #174EA6;\n",
              "    }\n",
              "\n",
              "    [theme=dark] .colab-df-convert {\n",
              "      background-color: #3B4455;\n",
              "      fill: #D2E3FC;\n",
              "    }\n",
              "\n",
              "    [theme=dark] .colab-df-convert:hover {\n",
              "      background-color: #434B5C;\n",
              "      box-shadow: 0px 1px 3px 1px rgba(0, 0, 0, 0.15);\n",
              "      filter: drop-shadow(0px 1px 2px rgba(0, 0, 0, 0.3));\n",
              "      fill: #FFFFFF;\n",
              "    }\n",
              "  </style>\n",
              "\n",
              "      <script>\n",
              "        const buttonEl =\n",
              "          document.querySelector('#df-e5904933-1312-4a18-b317-a72ffa47862b button.colab-df-convert');\n",
              "        buttonEl.style.display =\n",
              "          google.colab.kernel.accessAllowed ? 'block' : 'none';\n",
              "\n",
              "        async function convertToInteractive(key) {\n",
              "          const element = document.querySelector('#df-e5904933-1312-4a18-b317-a72ffa47862b');\n",
              "          const dataTable =\n",
              "            await google.colab.kernel.invokeFunction('convertToInteractive',\n",
              "                                                     [key], {});\n",
              "          if (!dataTable) return;\n",
              "\n",
              "          const docLinkHtml = 'Like what you see? Visit the ' +\n",
              "            '<a target=\"_blank\" href=https://colab.research.google.com/notebooks/data_table.ipynb>data table notebook</a>'\n",
              "            + ' to learn more about interactive tables.';\n",
              "          element.innerHTML = '';\n",
              "          dataTable['output_type'] = 'display_data';\n",
              "          await google.colab.output.renderOutput(dataTable, element);\n",
              "          const docLink = document.createElement('div');\n",
              "          docLink.innerHTML = docLinkHtml;\n",
              "          element.appendChild(docLink);\n",
              "        }\n",
              "      </script>\n",
              "    </div>\n",
              "  </div>\n",
              "  "
            ]
          },
          "metadata": {}
        }
      ]
    },
    {
      "cell_type": "code",
      "source": [
        "# obtain subset of cancer studies\n",
        "cancer = df[(df.mesh_term.str.contains('neoplasm')) | \n",
        "            (df.mesh_term.str.contains('cancer'))].copy(deep=True)\n",
        "\n",
        "# for obtaining the \"exclusion rate\" per age from 0-100 based on a search term\n",
        "search_term = 'digestive system'\n",
        "def count_age_exclude(search_term, cancer=cancer):\n",
        "\n",
        "  def count_trials(sub, age):\n",
        "    where_excluded = sub[sub.excluded_ages.apply(lambda x: age in x)]\n",
        "    no_excluded = len(where_excluded)\n",
        "    return no_excluded\n",
        "\n",
        "  sub = cancer[cancer.mesh_term.str.contains(search_term)].copy(deep=True)\n",
        "  n = len(sub)\n",
        "  print(f'There are {n} clinical trials for {search_term}.')\n",
        "  ages = list( range(0,101) )\n",
        "  percent_trials = [count_trials(sub, age)/n for age in ages]\n",
        "  result = pd.DataFrame({\n",
        "    'age': ages,\n",
        "    'sub_type': [search_term] * len(ages),\n",
        "    'percent_trials': percent_trials\n",
        "  })\n",
        "  return result\n",
        "\n",
        "# for obtaining the same thing for multiple search terms\n",
        "search_terms = sorted(['respiratory', 'lymphoproliferative', 'lymphatic', \n",
        "                       'leukemia', 'immunoproliferative', 'head and neck', \n",
        "                       'digestive system', 'breast'],\n",
        "key=lambda x: -len(cancer[cancer.mesh_term.str.contains(x)]))\n",
        "tables = [count_age_exclude(term) for term in search_terms]\n",
        "lt = pd.concat(tables)\n",
        "\n",
        "# pivot from long to wide\n",
        "lt_wide = pd.pivot(lt, index='age', columns = 'sub_type', values = 'percent_trials')\n",
        "lt_wide.sort_values('age', ascending=False, inplace=True)\n",
        "\n",
        "# generate heat map\n",
        "plt.figure(figsize=(10, 8))\n",
        "sns.heatmap(lt_wide, yticklabels=5, cmap=\"Blues\")\n",
        "plt.title('% of Trials with Age Exclusion, by Cancer Sub-Type', pad=13, fontsize=14)\n",
        "plt.xlabel(\"Cancer Sub-Types\")\n",
        "plt.xticks(rotation=45)\n",
        "plt.ylabel(\"Age (years)\")\n",
        "plt.yticks(rotation=0)"
      ],
      "metadata": {
        "id": "QqRzs6ZO_vdA",
        "colab": {
          "base_uri": "https://localhost:8080/",
          "height": 1000
        },
        "outputId": "341b6aed-d7bf-439f-f812-a01b5b79769a"
      },
      "execution_count": 47,
      "outputs": [
        {
          "output_type": "stream",
          "name": "stdout",
          "text": [
            "There are 1324 clinical trials for digestive system.\n",
            "There are 825 clinical trials for respiratory.\n",
            "There are 333 clinical trials for head and neck.\n",
            "There are 23 clinical trials for breast.\n",
            "There are 15 clinical trials for lymphatic.\n",
            "There are 13 clinical trials for lymphoproliferative.\n",
            "There are 13 clinical trials for immunoproliferative.\n",
            "There are 9 clinical trials for leukemia.\n"
          ]
        },
        {
          "output_type": "execute_result",
          "data": {
            "text/plain": [
              "(array([  0.5,   5.5,  10.5,  15.5,  20.5,  25.5,  30.5,  35.5,  40.5,\n",
              "         45.5,  50.5,  55.5,  60.5,  65.5,  70.5,  75.5,  80.5,  85.5,\n",
              "         90.5,  95.5, 100.5]),\n",
              " [Text(0, 0.5, '100'),\n",
              "  Text(0, 5.5, '95'),\n",
              "  Text(0, 10.5, '90'),\n",
              "  Text(0, 15.5, '85'),\n",
              "  Text(0, 20.5, '80'),\n",
              "  Text(0, 25.5, '75'),\n",
              "  Text(0, 30.5, '70'),\n",
              "  Text(0, 35.5, '65'),\n",
              "  Text(0, 40.5, '60'),\n",
              "  Text(0, 45.5, '55'),\n",
              "  Text(0, 50.5, '50'),\n",
              "  Text(0, 55.5, '45'),\n",
              "  Text(0, 60.5, '40'),\n",
              "  Text(0, 65.5, '35'),\n",
              "  Text(0, 70.5, '30'),\n",
              "  Text(0, 75.5, '25'),\n",
              "  Text(0, 80.5, '20'),\n",
              "  Text(0, 85.5, '15'),\n",
              "  Text(0, 90.5, '10'),\n",
              "  Text(0, 95.5, '5'),\n",
              "  Text(0, 100.5, '0')])"
            ]
          },
          "metadata": {},
          "execution_count": 47
        },
        {
          "output_type": "display_data",
          "data": {
            "text/plain": [
              "<Figure size 720x576 with 2 Axes>"
            ],
            "image/png": "[encoded data removed]"
          },
          "metadata": {
            "needs_background": "light"
          }
        }
      ]
    },
    {
      "cell_type": "markdown",
      "source": [
        "## By Gender"
      ],
      "metadata": {
        "id": "22lH_V_FHjic"
      }
    },
    {
      "cell_type": "markdown",
      "source": [
        "Simple descriptive statistics of gender column:"
      ],
      "metadata": {
        "id": "Xr4gD1UwH0g7"
      }
    },
    {
      "cell_type": "code",
      "source": [
        "# Overall gender percentages across all cancer groups:\n",
        "gender_percentages_overall = df.gender.value_counts(normalize=True) * 100\n",
        "gender_percentages_overall"
      ],
      "metadata": {
        "id": "umP3qs-rHn8Z",
        "colab": {
          "base_uri": "https://localhost:8080/"
        },
        "outputId": "2a262a02-7281-4b74-f332-11fc943c56b7"
      },
      "execution_count": null,
      "outputs": [
        {
          "output_type": "execute_result",
          "data": {
            "text/plain": [
              "All       97.835671\n",
              "Female     1.843687\n",
              "Male       0.320641\n",
              "Name: gender, dtype: float64"
            ]
          },
          "metadata": {},
          "execution_count": 20
        }
      ]
    },
    {
      "cell_type": "markdown",
      "source": [
        "Gender proportions by cancer type: "
      ],
      "metadata": {
        "id": "Q5JbO2OjIAv9"
      }
    },
    {
      "cell_type": "code",
      "source": [
        "def obtain_gender_percent(term, df=df):\n",
        "  # obtain subset of trials with search term\n",
        "  mask = df.mesh_term.fillna('').str.contains(term)\n",
        "  sub = df[mask].copy(deep=True)\n",
        "  gender_prop = sub['gender'].value_counts(normalize = True) * 100\n",
        "\n",
        "  # summarize gender percent\n",
        "  table = pd.DataFrame(gender_prop).reset_index()\n",
        "  table.rename(columns={'index': 'gender', 'gender': 'percent'}, inplace=True)\n",
        "  table['condition'] = term\n",
        "  return table\n",
        "\n",
        "percent_tables = [obtain_gender_percent(cat) for cat in categories]\n",
        "percent_all = pd.concat(percent_tables)\n",
        "percent_all"
      ],
      "metadata": {
        "id": "wghV6sQ3ICTY",
        "colab": {
          "base_uri": "https://localhost:8080/",
          "height": 332
        },
        "outputId": "92422f26-cc4c-4829-c906-ab305c050ff7"
      },
      "execution_count": null,
      "outputs": [
        {
          "output_type": "execute_result",
          "data": {
            "text/plain": [
              "   gender    percent          condition\n",
              "0     All  99.634592  respiratory tract\n",
              "1  Female   0.243605  respiratory tract\n",
              "2    Male   0.121803  respiratory tract\n",
              "0     All  96.497765          digestive\n",
              "1  Female   3.204173          digestive\n",
              "2    Male   0.298063          digestive\n",
              "0     All  98.795181      head and neck\n",
              "1    Male   0.903614      head and neck\n",
              "2  Female   0.301205      head and neck"
            ],
            "text/html": [
              "\n",
              "  <div id=\"df-866f2bd8-71bd-49d3-9ab0-a6c219302ddb\">\n",
              "    <div class=\"colab-df-container\">\n",
              "      <div>\n",
              "<style scoped>\n",
              "    .dataframe tbody tr th:only-of-type {\n",
              "        vertical-align: middle;\n",
              "    }\n",
              "\n",
              "    .dataframe tbody tr th {\n",
              "        vertical-align: top;\n",
              "    }\n",
              "\n",
              "    .dataframe thead th {\n",
              "        text-align: right;\n",
              "    }\n",
              "</style>\n",
              "<table border=\"1\" class=\"dataframe\">\n",
              "  <thead>\n",
              "    <tr style=\"text-align: right;\">\n",
              "      <th></th>\n",
              "      <th>gender</th>\n",
              "      <th>percent</th>\n",
              "      <th>condition</th>\n",
              "    </tr>\n",
              "  </thead>\n",
              "  <tbody>\n",
              "    <tr>\n",
              "      <th>0</th>\n",
              "      <td>All</td>\n",
              "      <td>99.634592</td>\n",
              "      <td>respiratory tract</td>\n",
              "    </tr>\n",
              "    <tr>\n",
              "      <th>1</th>\n",
              "      <td>Female</td>\n",
              "      <td>0.243605</td>\n",
              "      <td>respiratory tract</td>\n",
              "    </tr>\n",
              "    <tr>\n",
              "      <th>2</th>\n",
              "      <td>Male</td>\n",
              "      <td>0.121803</td>\n",
              "      <td>respiratory tract</td>\n",
              "    </tr>\n",
              "    <tr>\n",
              "      <th>0</th>\n",
              "      <td>All</td>\n",
              "      <td>96.497765</td>\n",
              "      <td>digestive</td>\n",
              "    </tr>\n",
              "    <tr>\n",
              "      <th>1</th>\n",
              "      <td>Female</td>\n",
              "      <td>3.204173</td>\n",
              "      <td>digestive</td>\n",
              "    </tr>\n",
              "    <tr>\n",
              "      <th>2</th>\n",
              "      <td>Male</td>\n",
              "      <td>0.298063</td>\n",
              "      <td>digestive</td>\n",
              "    </tr>\n",
              "    <tr>\n",
              "      <th>0</th>\n",
              "      <td>All</td>\n",
              "      <td>98.795181</td>\n",
              "      <td>head and neck</td>\n",
              "    </tr>\n",
              "    <tr>\n",
              "      <th>1</th>\n",
              "      <td>Male</td>\n",
              "      <td>0.903614</td>\n",
              "      <td>head and neck</td>\n",
              "    </tr>\n",
              "    <tr>\n",
              "      <th>2</th>\n",
              "      <td>Female</td>\n",
              "      <td>0.301205</td>\n",
              "      <td>head and neck</td>\n",
              "    </tr>\n",
              "  </tbody>\n",
              "</table>\n",
              "</div>\n",
              "      <button class=\"colab-df-convert\" onclick=\"convertToInteractive('df-866f2bd8-71bd-49d3-9ab0-a6c219302ddb')\"\n",
              "              title=\"Convert this dataframe to an interactive table.\"\n",
              "              style=\"display:none;\">\n",
              "        \n",
              "  <svg xmlns=\"http://www.w3.org/2000/svg\" height=\"24px\"viewBox=\"0 0 24 24\"\n",
              "       width=\"24px\">\n",
              "    <path d=\"M0 0h24v24H0V0z\" fill=\"none\"/>\n",
              "    <path d=\"M18.56 5.44l.94 2.06.94-2.06 2.06-.94-2.06-.94-.94-2.06-.94 2.06-2.06.94zm-11 1L8.5 8.5l.94-2.06 2.06-.94-2.06-.94L8.5 2.5l-.94 2.06-2.06.94zm10 10l.94 2.06.94-2.06 2.06-.94-2.06-.94-.94-2.06-.94 2.06-2.06.94z\"/><path d=\"M17.41 7.96l-1.37-1.37c-.4-.4-.92-.59-1.43-.59-.52 0-1.04.2-1.43.59L10.3 9.45l-7.72 7.72c-.78.78-.78 2.05 0 2.83L4 21.41c.39.39.9.59 1.41.59.51 0 1.02-.2 1.41-.59l7.78-7.78 2.81-2.81c.8-.78.8-2.07 0-2.86zM5.41 20L4 18.59l7.72-7.72 1.47 1.35L5.41 20z\"/>\n",
              "  </svg>\n",
              "      </button>\n",
              "      \n",
              "  <style>\n",
              "    .colab-df-container {\n",
              "      display:flex;\n",
              "      flex-wrap:wrap;\n",
              "      gap: 12px;\n",
              "    }\n",
              "\n",
              "    .colab-df-convert {\n",
              "      background-color: #E8F0FE;\n",
              "      border: none;\n",
              "      border-radius: 50%;\n",
              "      cursor: pointer;\n",
              "      display: none;\n",
              "      fill: #1967D2;\n",
              "      height: 32px;\n",
              "      padding: 0 0 0 0;\n",
              "      width: 32px;\n",
              "    }\n",
              "\n",
              "    .colab-df-convert:hover {\n",
              "      background-color: #E2EBFA;\n",
              "      box-shadow: 0px 1px 2px rgba(60, 64, 67, 0.3), 0px 1px 3px 1px rgba(60, 64, 67, 0.15);\n",
              "      fill: #174EA6;\n",
              "    }\n",
              "\n",
              "    [theme=dark] .colab-df-convert {\n",
              "      background-color: #3B4455;\n",
              "      fill: #D2E3FC;\n",
              "    }\n",
              "\n",
              "    [theme=dark] .colab-df-convert:hover {\n",
              "      background-color: #434B5C;\n",
              "      box-shadow: 0px 1px 3px 1px rgba(0, 0, 0, 0.15);\n",
              "      filter: drop-shadow(0px 1px 2px rgba(0, 0, 0, 0.3));\n",
              "      fill: #FFFFFF;\n",
              "    }\n",
              "  </style>\n",
              "\n",
              "      <script>\n",
              "        const buttonEl =\n",
              "          document.querySelector('#df-866f2bd8-71bd-49d3-9ab0-a6c219302ddb button.colab-df-convert');\n",
              "        buttonEl.style.display =\n",
              "          google.colab.kernel.accessAllowed ? 'block' : 'none';\n",
              "\n",
              "        async function convertToInteractive(key) {\n",
              "          const element = document.querySelector('#df-866f2bd8-71bd-49d3-9ab0-a6c219302ddb');\n",
              "          const dataTable =\n",
              "            await google.colab.kernel.invokeFunction('convertToInteractive',\n",
              "                                                     [key], {});\n",
              "          if (!dataTable) return;\n",
              "\n",
              "          const docLinkHtml = 'Like what you see? Visit the ' +\n",
              "            '<a target=\"_blank\" href=https://colab.research.google.com/notebooks/data_table.ipynb>data table notebook</a>'\n",
              "            + ' to learn more about interactive tables.';\n",
              "          element.innerHTML = '';\n",
              "          dataTable['output_type'] = 'display_data';\n",
              "          await google.colab.output.renderOutput(dataTable, element);\n",
              "          const docLink = document.createElement('div');\n",
              "          docLink.innerHTML = docLinkHtml;\n",
              "          element.appendChild(docLink);\n",
              "        }\n",
              "      </script>\n",
              "    </div>\n",
              "  </div>\n",
              "  "
            ]
          },
          "metadata": {},
          "execution_count": 21
        }
      ]
    },
    {
      "cell_type": "code",
      "source": [
        "# sns.barplot(percent_all, by='condition', color='gender', stacked=True)\n",
        "# percent_all.set_index('condition').plot(kind='bar', color='gender', stacked=True)\n",
        "percent_wide = pd.pivot(percent_all, index='condition', columns=['gender'], values=['percent'])\n",
        "plt.figure(figsize=(16,10))\n",
        "ax = percent_wide.plot(kind='bar', stacked=True)\n",
        "# ax.get_legend().remove()\n",
        "plt.xticks(rotation=0)\n",
        "plt.show()"
      ],
      "metadata": {
        "id": "tef-AnqBt_8K",
        "colab": {
          "base_uri": "https://localhost:8080/",
          "height": 306
        },
        "outputId": "a715d017-1a6e-49dc-af9a-6e2e78e1ff8f"
      },
      "execution_count": 65,
      "outputs": [
        {
          "output_type": "display_data",
          "data": {
            "text/plain": [
              "<Figure size 1152x720 with 0 Axes>"
            ]
          },
          "metadata": {}
        },
        {
          "output_type": "display_data",
          "data": {
            "text/plain": [
              "<Figure size 432x288 with 1 Axes>"
            ],
            "image/png": "[encoded data removed]"
          },
          "metadata": {
            "needs_background": "light"
          }
        }
      ]
    },
    {
      "cell_type": "markdown",
      "source": [
        "## Exclusion Criteria"
      ],
      "metadata": {
        "id": "i9Jj_iQLuAjI"
      }
    },
    {
      "cell_type": "code",
      "source": [
        "# summarize no. of studies with separable criteria\n",
        "with_crit = (df.inclusion.notnull() & df.exclusion.notnull()).value_counts()\n",
        "print(f'''No. of studies with distinct inclusion and exclusion criteria: \n",
        "{with_crit}''')"
      ],
      "metadata": {
        "id": "0Oq2wRi8uCuG",
        "colab": {
          "base_uri": "https://localhost:8080/"
        },
        "outputId": "d12d944c-f5ae-4948-ab0d-88cf22357b1c"
      },
      "execution_count": null,
      "outputs": [
        {
          "output_type": "stream",
          "name": "stdout",
          "text": [
            "No. of studies with distinct inclusion and exclusion criteria: \n",
            "True     2088\n",
            "False     410\n",
            "dtype: int64\n"
          ]
        }
      ]
    },
    {
      "cell_type": "code",
      "source": [
        "import nltk\n",
        "import itertools\n",
        "import string\n",
        "\n",
        "from nltk.util import everygrams\n",
        "from nltk.corpus import stopwords\n",
        "nltk.download('stopwords')\n",
        "stopwords = stopwords.words('english')\n",
        "\n",
        "# remove punctuation and stopwords\n",
        "clean_string = lambda x: ' '.join([w for w in x.translate(str.maketrans('', '', string.punctuation)).split() \\\n",
        "                                   if w.lower() not in stopwords and w.isdigit() is False]) \\\n",
        "                                   if x is not None else None\n",
        "df['exclusion_clean'] = df['exclusion'].apply(clean_string).fillna('')\n",
        "\n",
        "# view common n-grams (length of 2 to 4)\n",
        "to_ngram = lambda x: set(everygrams(x.split(), min_len=2, max_len=4)) if x != '' else None\n",
        "ngrams = df.exclusion_clean.apply(to_ngram)\n",
        "all_ngrams = list(itertools.chain.from_iterable([s for s in ngrams if s is not None]))\n",
        "ngram_count = pd.Series(all_ngrams).value_counts()\n",
        "display( ngram_count.head(50) )"
      ],
      "metadata": {
        "colab": {
          "base_uri": "https://localhost:8080/",
          "height": 937
        },
        "id": "TAI082SauG9W",
        "outputId": "0fa40cc6-51ce-4fb3-86eb-a633c29ad43b"
      },
      "execution_count": null,
      "outputs": [
        {
          "output_type": "stream",
          "name": "stderr",
          "text": [
            "[nltk_data] Downloading package stopwords to /root/nltk_data...\n",
            "[nltk_data]   Package stopwords is already up-to-date!\n"
          ]
        },
        {
          "output_type": "display_data",
          "data": {
            "text/plain": [
              "(WITHIN, DAYS)                           511\n",
              "(MYOCARDIAL, INFARCTION)                 492\n",
              "(HEART, FAILURE)                         474\n",
              "(WITHIN, WEEKS)                          470\n",
              "(WITHIN, MONTHS)                         409\n",
              "(CELL, CARCINOMA)                        381\n",
              "(CONGESTIVE, HEART)                      379\n",
              "(CONGESTIVE, HEART, FAILURE)             372\n",
              "(BASAL, CELL)                            349\n",
              "(CARCINOMA, SITU)                        348\n",
              "(DAYS, PRIOR)                            344\n",
              "(HEPATITIS, B)                           344\n",
              "(SKIN, CANCER)                           338\n",
              "(CENTRAL, NERVOUS)                       331\n",
              "(NERVOUS, SYSTEM)                        329\n",
              "(CENTRAL, NERVOUS, SYSTEM)               323\n",
              "(ACTIVE, INFECTION)                      318\n",
              "(CLINICALLY, SIGNIFICANT)                317\n",
              "(WEEKS, PRIOR)                           316\n",
              "(UNSTABLE, ANGINA)                       313\n",
              "(PREGNANT, LACTATING)                    305\n",
              "(WITHIN, DAYS, PRIOR)                    293\n",
              "(HUMAN, IMMUNODEFICIENCY)                289\n",
              "(IMMUNODEFICIENCY, VIRUS)                288\n",
              "(HUMAN, IMMUNODEFICIENCY, VIRUS)         286\n",
              "(SQUAMOUS, CELL)                         265\n",
              "(PREGNANT, BREASTFEEDING)                264\n",
              "(MONTHS, PRIOR)                          263\n",
              "(STUDY, TREATMENT)                       253\n",
              "(VIRUS, HIV)                             251\n",
              "(HEPATITIS, C)                           249\n",
              "(MAJOR, SURGERY)                         248\n",
              "(IMMUNODEFICIENCY, VIRUS, HIV)           246\n",
              "(BASAL, CELL, CARCINOMA)                 246\n",
              "(FIRST, DOSE)                            245\n",
              "(WITHIN, YEARS)                          245\n",
              "(HUMAN, IMMUNODEFICIENCY, VIRUS, HIV)    245\n",
              "(AUTOIMMUNE, DISEASE)                    244\n",
              "(WITHIN, WEEKS, PRIOR)                   239\n",
              "(LUNG, DISEASE)                          232\n",
              "(INFORMED, CONSENT)                      231\n",
              "(BRAIN, METASTASES)                      229\n",
              "(WITHIN, LAST)                           222\n",
              "(UNCONTROLLED, HYPERTENSION)             218\n",
              "(PRIOR, TREATMENT)                       216\n",
              "(YORK, HEART)                            214\n",
              "(HEART, ASSOCIATION)                     212\n",
              "(PRIOR, RANDOMIZATION)                   212\n",
              "(NEW, YORK, HEART)                       212\n",
              "(NEW, YORK)                              212\n",
              "dtype: int64"
            ]
          },
          "metadata": {}
        }
      ]
    },
    {
      "cell_type": "code",
      "source": [
        "pd.set_option('max_rows', None)\n",
        "pd.set_option('max_colwidth', None)\n",
        "\n",
        "keywords = {\n",
        "    'heart_issues': ['CONGESTIVE HEART','HEART FAILURE','ANGINA','ISCHEMIC HEART',\n",
        "                     'CORONARY DISEASE','HYPERTENSION','MYOCARDIAL',\n",
        "                     'CARDIAC','CARDIOVASC','ARRHYTHMIA','ARRYTHMIA'],\n",
        "    'hepatitis': ['HEPATITIS'],\n",
        "    'hiv': ['HIV-','-HIV',',HIV','HIV/AIDS','(HIV)','KNOWN HIV',\n",
        "            'PROVEN HIV','HIV POSITIV','HIV-POSITIV','HUMAN IMMUNODEFICIENCY',\n",
        "            'OR HIV','HIV INFECT','HIV-INFECT',' HIV'],\n",
        "    'pregnant': ['PREGNAN'],\n",
        "    'breastfeeding': ['LACTATING', 'BREASTFEED'],\n",
        "    'major_surgery': ['MAJOR SURG']\n",
        "}\n",
        "\n",
        "# to add:\n",
        "# central nervous system\n",
        "# major surgery\n",
        "\n",
        "exclusion_dfs = []\n",
        "\n",
        "for key in keywords.keys():\n",
        "  search_terms = keywords[key]\n",
        "  terms_col = f'{key}_terms'\n",
        "  df[terms_col] = df.exclusion.apply(lambda x: [term for term in search_terms if term in x] \\\n",
        "                                     if x is not None else [])\n",
        "  df[key] = df[terms_col].apply(lambda x: len(x) > 0)\n",
        "\n",
        "  # summarize the % of studies per category\n",
        "  for c in categories:\n",
        "    cat_mask = (df.category.apply(lambda x: c in x))\n",
        "    exclusion_sub = {\n",
        "        'exclusion_criteria': key,\n",
        "        'cancer_category': c,\n",
        "        'no_trials': len(df[df[key] & cat_mask]),\n",
        "        'total_trials': len(df[cat_mask]),\n",
        "        'percent_trials': len(df[df[key] & cat_mask])*100 / len(df[cat_mask])\n",
        "    }\n",
        "    exclusion_dfs.append(exclusion_sub)\n",
        "\n",
        "# create top-level summary of exclusion criteria present\n",
        "exc_top = df[list(keywords.keys())].agg(['sum','mean']).transpose().reset_index()\n",
        "exc_top.rename(columns = {'index': 'exclusion_criteria', \n",
        "                          'sum': 'no_trials',\n",
        "                          'mean': 'percent_trials'}, inplace=True)\n",
        "exc_top['no_trials'] = exc_top['no_trials'].astype(int)\n",
        "exc_top['total_trials'] = len(df)\n",
        "exc_top['percent_trials'] = exc_top['percent_trials'] * 100\n",
        "exc_top = exc_top[['exclusion_criteria', 'no_trials', 'total_trials', 'percent_trials']]\n",
        "exc_top.sort_values('no_trials', ascending=False, inplace=True)\n",
        "display(exc_top)\n",
        "\n",
        "# plot the top-level summary\n",
        "criteria_map = {\n",
        "    'pregnant': 'Pregnant',\n",
        "    'heart_issues': 'Heart Issues',\n",
        "    'breastfeeding': 'Breastfeeding',\n",
        "    'hiv': 'HIV',\n",
        "    'hepatitis': 'Hepatitis',\n",
        "    'major_surgery': 'Major Surgery'\n",
        "}\n",
        "exc_top['exclusion_criteria'] = exc_top['exclusion_criteria'].map(criteria_map)\n",
        "ax = sns.barplot(data=exc_top, x='percent_trials', y='exclusion_criteria',\n",
        "            color='lightblue')\n",
        "ax.set_xlabel('% of Trials w/ Exclusion')\n",
        "ax.set_ylabel('Criteria')\n",
        "plt.show()\n",
        "\n",
        "# collect per-criteria summaries into one table\n",
        "exc_summary = pd.DataFrame(exclusion_dfs).sort_values(['cancer_category','exclusion_criteria'])"
      ],
      "metadata": {
        "colab": {
          "base_uri": "https://localhost:8080/",
          "height": 510
        },
        "id": "Y8RIvlTNuHZP",
        "outputId": "ff6055e1-adf2-4cda-fbf0-064acba2379a"
      },
      "execution_count": null,
      "outputs": [
        {
          "output_type": "display_data",
          "data": {
            "text/plain": [
              "  exclusion_criteria  no_trials  total_trials  percent_trials\n",
              "3           pregnant       1215          2498       48.638911\n",
              "0       heart_issues       1044          2498       41.793435\n",
              "4      breastfeeding        584          2498       23.378703\n",
              "2                hiv        538          2498       21.537230\n",
              "1          hepatitis        459          2498       18.374700\n",
              "5      major_surgery        324          2498       12.970376"
            ],
            "text/html": [
              "\n",
              "  <div id=\"df-eeff8c00-6515-4707-939e-2fd7ed87c2e6\">\n",
              "    <div class=\"colab-df-container\">\n",
              "      <div>\n",
              "<style scoped>\n",
              "    .dataframe tbody tr th:only-of-type {\n",
              "        vertical-align: middle;\n",
              "    }\n",
              "\n",
              "    .dataframe tbody tr th {\n",
              "        vertical-align: top;\n",
              "    }\n",
              "\n",
              "    .dataframe thead th {\n",
              "        text-align: right;\n",
              "    }\n",
              "</style>\n",
              "<table border=\"1\" class=\"dataframe\">\n",
              "  <thead>\n",
              "    <tr style=\"text-align: right;\">\n",
              "      <th></th>\n",
              "      <th>exclusion_criteria</th>\n",
              "      <th>no_trials</th>\n",
              "      <th>total_trials</th>\n",
              "      <th>percent_trials</th>\n",
              "    </tr>\n",
              "  </thead>\n",
              "  <tbody>\n",
              "    <tr>\n",
              "      <th>3</th>\n",
              "      <td>pregnant</td>\n",
              "      <td>1215</td>\n",
              "      <td>2498</td>\n",
              "      <td>48.638911</td>\n",
              "    </tr>\n",
              "    <tr>\n",
              "      <th>0</th>\n",
              "      <td>heart_issues</td>\n",
              "      <td>1044</td>\n",
              "      <td>2498</td>\n",
              "      <td>41.793435</td>\n",
              "    </tr>\n",
              "    <tr>\n",
              "      <th>4</th>\n",
              "      <td>breastfeeding</td>\n",
              "      <td>584</td>\n",
              "      <td>2498</td>\n",
              "      <td>23.378703</td>\n",
              "    </tr>\n",
              "    <tr>\n",
              "      <th>2</th>\n",
              "      <td>hiv</td>\n",
              "      <td>538</td>\n",
              "      <td>2498</td>\n",
              "      <td>21.537230</td>\n",
              "    </tr>\n",
              "    <tr>\n",
              "      <th>1</th>\n",
              "      <td>hepatitis</td>\n",
              "      <td>459</td>\n",
              "      <td>2498</td>\n",
              "      <td>18.374700</td>\n",
              "    </tr>\n",
              "    <tr>\n",
              "      <th>5</th>\n",
              "      <td>major_surgery</td>\n",
              "      <td>324</td>\n",
              "      <td>2498</td>\n",
              "      <td>12.970376</td>\n",
              "    </tr>\n",
              "  </tbody>\n",
              "</table>\n",
              "</div>\n",
              "      <button class=\"colab-df-convert\" onclick=\"convertToInteractive('df-eeff8c00-6515-4707-939e-2fd7ed87c2e6')\"\n",
              "              title=\"Convert this dataframe to an interactive table.\"\n",
              "              style=\"display:none;\">\n",
              "        \n",
              "  <svg xmlns=\"http://www.w3.org/2000/svg\" height=\"24px\"viewBox=\"0 0 24 24\"\n",
              "       width=\"24px\">\n",
              "    <path d=\"M0 0h24v24H0V0z\" fill=\"none\"/>\n",
              "    <path d=\"M18.56 5.44l.94 2.06.94-2.06 2.06-.94-2.06-.94-.94-2.06-.94 2.06-2.06.94zm-11 1L8.5 8.5l.94-2.06 2.06-.94-2.06-.94L8.5 2.5l-.94 2.06-2.06.94zm10 10l.94 2.06.94-2.06 2.06-.94-2.06-.94-.94-2.06-.94 2.06-2.06.94z\"/><path d=\"M17.41 7.96l-1.37-1.37c-.4-.4-.92-.59-1.43-.59-.52 0-1.04.2-1.43.59L10.3 9.45l-7.72 7.72c-.78.78-.78 2.05 0 2.83L4 21.41c.39.39.9.59 1.41.59.51 0 1.02-.2 1.41-.59l7.78-7.78 2.81-2.81c.8-.78.8-2.07 0-2.86zM5.41 20L4 18.59l7.72-7.72 1.47 1.35L5.41 20z\"/>\n",
              "  </svg>\n",
              "      </button>\n",
              "      \n",
              "  <style>\n",
              "    .colab-df-container {\n",
              "      display:flex;\n",
              "      flex-wrap:wrap;\n",
              "      gap: 12px;\n",
              "    }\n",
              "\n",
              "    .colab-df-convert {\n",
              "      background-color: #E8F0FE;\n",
              "      border: none;\n",
              "      border-radius: 50%;\n",
              "      cursor: pointer;\n",
              "      display: none;\n",
              "      fill: #1967D2;\n",
              "      height: 32px;\n",
              "      padding: 0 0 0 0;\n",
              "      width: 32px;\n",
              "    }\n",
              "\n",
              "    .colab-df-convert:hover {\n",
              "      background-color: #E2EBFA;\n",
              "      box-shadow: 0px 1px 2px rgba(60, 64, 67, 0.3), 0px 1px 3px 1px rgba(60, 64, 67, 0.15);\n",
              "      fill: #174EA6;\n",
              "    }\n",
              "\n",
              "    [theme=dark] .colab-df-convert {\n",
              "      background-color: #3B4455;\n",
              "      fill: #D2E3FC;\n",
              "    }\n",
              "\n",
              "    [theme=dark] .colab-df-convert:hover {\n",
              "      background-color: #434B5C;\n",
              "      box-shadow: 0px 1px 3px 1px rgba(0, 0, 0, 0.15);\n",
              "      filter: drop-shadow(0px 1px 2px rgba(0, 0, 0, 0.3));\n",
              "      fill: #FFFFFF;\n",
              "    }\n",
              "  </style>\n",
              "\n",
              "      <script>\n",
              "        const buttonEl =\n",
              "          document.querySelector('#df-eeff8c00-6515-4707-939e-2fd7ed87c2e6 button.colab-df-convert');\n",
              "        buttonEl.style.display =\n",
              "          google.colab.kernel.accessAllowed ? 'block' : 'none';\n",
              "\n",
              "        async function convertToInteractive(key) {\n",
              "          const element = document.querySelector('#df-eeff8c00-6515-4707-939e-2fd7ed87c2e6');\n",
              "          const dataTable =\n",
              "            await google.colab.kernel.invokeFunction('convertToInteractive',\n",
              "                                                     [key], {});\n",
              "          if (!dataTable) return;\n",
              "\n",
              "          const docLinkHtml = 'Like what you see? Visit the ' +\n",
              "            '<a target=\"_blank\" href=https://colab.research.google.com/notebooks/data_table.ipynb>data table notebook</a>'\n",
              "            + ' to learn more about interactive tables.';\n",
              "          element.innerHTML = '';\n",
              "          dataTable['output_type'] = 'display_data';\n",
              "          await google.colab.output.renderOutput(dataTable, element);\n",
              "          const docLink = document.createElement('div');\n",
              "          docLink.innerHTML = docLinkHtml;\n",
              "          element.appendChild(docLink);\n",
              "        }\n",
              "      </script>\n",
              "    </div>\n",
              "  </div>\n",
              "  "
            ]
          },
          "metadata": {}
        },
        {
          "output_type": "display_data",
          "data": {
            "text/plain": [
              "<Figure size 432x288 with 1 Axes>"
            ],
            "image/png": "[encoded data removed]"
          },
          "metadata": {
            "needs_background": "light"
          }
        }
      ]
    },
    {
      "cell_type": "code",
      "source": [
        "## generate heatmap\n",
        "\n",
        "# sort exclusion criteria by no. of studies affected\n",
        "order = sorted(keywords.keys(), key=lambda x: len(df[x]), reverse=True)\n",
        "exc_summary['exclusion_criteria'] = pd.Categorical(exc_summary['exclusion_criteria'], order)\n",
        "exc_wide = pd.pivot(exc_summary[['exclusion_criteria','cancer_category','percent_trials']].copy(deep=True), \n",
        "                    index='exclusion_criteria', \n",
        "                    columns = 'cancer_category', \n",
        "                    values = 'percent_trials')\n",
        "\n",
        "# display the no. of trials by cancer category and exclusion criteria\n",
        "exc_count = exc_summary.groupby(['cancer_category','exclusion_criteria']).no_trials.sum().to_frame()\n",
        "display(exc_count)\n",
        "\n",
        "# plot the wide-format table\n",
        "exc_wide.index = exc_wide.index.values.map(criteria_map)\n",
        "plt.figure(figsize=(10,7))\n",
        "ax = sns.heatmap(exc_wide, cmap=\"Blues\", annot=True, fmt = '.1f')\n",
        "ax.patch.set_facecolor('xkcd:white')\n",
        "ax.set_title('% of Cancer Trials w/ Exclusion Criteria')\n",
        "ax.set_ylabel('Criteria')\n",
        "ax.set_xlabel('Broad Cancer Category')\n",
        "for t in ax.texts: t.set_text(t.get_text() + \" %\")\n",
        "plt.xticks(rotation=0)\n",
        "plt.show()"
      ],
      "metadata": {
        "id": "4FDjbg_Kew2Q",
        "colab": {
          "base_uri": "https://localhost:8080/",
          "height": 1000
        },
        "outputId": "1b01a43e-e79b-4843-d1d7-d840b08ed3cc"
      },
      "execution_count": null,
      "outputs": [
        {
          "output_type": "display_data",
          "data": {
            "text/plain": [
              "                                      no_trials\n",
              "cancer_category   exclusion_criteria           \n",
              "digestive         heart_issues              593\n",
              "                  hepatitis                 182\n",
              "                  hiv                       255\n",
              "                  pregnant                  690\n",
              "                  breastfeeding             322\n",
              "                  major_surgery             151\n",
              "head and neck     heart_issues              119\n",
              "                  hepatitis                  69\n",
              "                  hiv                        61\n",
              "                  pregnant                  183\n",
              "                  breastfeeding              80\n",
              "                  major_surgery              23\n",
              "respiratory tract heart_issues              332\n",
              "                  hepatitis                 208\n",
              "                  hiv                       222\n",
              "                  pregnant                  342\n",
              "                  breastfeeding             182\n",
              "                  major_surgery             150"
            ],
            "text/html": [
              "\n",
              "  <div id=\"df-f38b93c3-464a-4056-944a-59643d9b099c\">\n",
              "    <div class=\"colab-df-container\">\n",
              "      <div>\n",
              "<style scoped>\n",
              "    .dataframe tbody tr th:only-of-type {\n",
              "        vertical-align: middle;\n",
              "    }\n",
              "\n",
              "    .dataframe tbody tr th {\n",
              "        vertical-align: top;\n",
              "    }\n",
              "\n",
              "    .dataframe thead th {\n",
              "        text-align: right;\n",
              "    }\n",
              "</style>\n",
              "<table border=\"1\" class=\"dataframe\">\n",
              "  <thead>\n",
              "    <tr style=\"text-align: right;\">\n",
              "      <th></th>\n",
              "      <th></th>\n",
              "      <th>no_trials</th>\n",
              "    </tr>\n",
              "    <tr>\n",
              "      <th>cancer_category</th>\n",
              "      <th>exclusion_criteria</th>\n",
              "      <th></th>\n",
              "    </tr>\n",
              "  </thead>\n",
              "  <tbody>\n",
              "    <tr>\n",
              "      <th rowspan=\"6\" valign=\"top\">digestive</th>\n",
              "      <th>heart_issues</th>\n",
              "      <td>593</td>\n",
              "    </tr>\n",
              "    <tr>\n",
              "      <th>hepatitis</th>\n",
              "      <td>182</td>\n",
              "    </tr>\n",
              "    <tr>\n",
              "      <th>hiv</th>\n",
              "      <td>255</td>\n",
              "    </tr>\n",
              "    <tr>\n",
              "      <th>pregnant</th>\n",
              "      <td>690</td>\n",
              "    </tr>\n",
              "    <tr>\n",
              "      <th>breastfeeding</th>\n",
              "      <td>322</td>\n",
              "    </tr>\n",
              "    <tr>\n",
              "      <th>major_surgery</th>\n",
              "      <td>151</td>\n",
              "    </tr>\n",
              "    <tr>\n",
              "      <th rowspan=\"6\" valign=\"top\">head and neck</th>\n",
              "      <th>heart_issues</th>\n",
              "      <td>119</td>\n",
              "    </tr>\n",
              "    <tr>\n",
              "      <th>hepatitis</th>\n",
              "      <td>69</td>\n",
              "    </tr>\n",
              "    <tr>\n",
              "      <th>hiv</th>\n",
              "      <td>61</td>\n",
              "    </tr>\n",
              "    <tr>\n",
              "      <th>pregnant</th>\n",
              "      <td>183</td>\n",
              "    </tr>\n",
              "    <tr>\n",
              "      <th>breastfeeding</th>\n",
              "      <td>80</td>\n",
              "    </tr>\n",
              "    <tr>\n",
              "      <th>major_surgery</th>\n",
              "      <td>23</td>\n",
              "    </tr>\n",
              "    <tr>\n",
              "      <th rowspan=\"6\" valign=\"top\">respiratory tract</th>\n",
              "      <th>heart_issues</th>\n",
              "      <td>332</td>\n",
              "    </tr>\n",
              "    <tr>\n",
              "      <th>hepatitis</th>\n",
              "      <td>208</td>\n",
              "    </tr>\n",
              "    <tr>\n",
              "      <th>hiv</th>\n",
              "      <td>222</td>\n",
              "    </tr>\n",
              "    <tr>\n",
              "      <th>pregnant</th>\n",
              "      <td>342</td>\n",
              "    </tr>\n",
              "    <tr>\n",
              "      <th>breastfeeding</th>\n",
              "      <td>182</td>\n",
              "    </tr>\n",
              "    <tr>\n",
              "      <th>major_surgery</th>\n",
              "      <td>150</td>\n",
              "    </tr>\n",
              "  </tbody>\n",
              "</table>\n",
              "</div>\n",
              "      <button class=\"colab-df-convert\" onclick=\"convertToInteractive('df-f38b93c3-464a-4056-944a-59643d9b099c')\"\n",
              "              title=\"Convert this dataframe to an interactive table.\"\n",
              "              style=\"display:none;\">\n",
              "        \n",
              "  <svg xmlns=\"http://www.w3.org/2000/svg\" height=\"24px\"viewBox=\"0 0 24 24\"\n",
              "       width=\"24px\">\n",
              "    <path d=\"M0 0h24v24H0V0z\" fill=\"none\"/>\n",
              "    <path d=\"M18.56 5.44l.94 2.06.94-2.06 2.06-.94-2.06-.94-.94-2.06-.94 2.06-2.06.94zm-11 1L8.5 8.5l.94-2.06 2.06-.94-2.06-.94L8.5 2.5l-.94 2.06-2.06.94zm10 10l.94 2.06.94-2.06 2.06-.94-2.06-.94-.94-2.06-.94 2.06-2.06.94z\"/><path d=\"M17.41 7.96l-1.37-1.37c-.4-.4-.92-.59-1.43-.59-.52 0-1.04.2-1.43.59L10.3 9.45l-7.72 7.72c-.78.78-.78 2.05 0 2.83L4 21.41c.39.39.9.59 1.41.59.51 0 1.02-.2 1.41-.59l7.78-7.78 2.81-2.81c.8-.78.8-2.07 0-2.86zM5.41 20L4 18.59l7.72-7.72 1.47 1.35L5.41 20z\"/>\n",
              "  </svg>\n",
              "      </button>\n",
              "      \n",
              "  <style>\n",
              "    .colab-df-container {\n",
              "      display:flex;\n",
              "      flex-wrap:wrap;\n",
              "      gap: 12px;\n",
              "    }\n",
              "\n",
              "    .colab-df-convert {\n",
              "      background-color: #E8F0FE;\n",
              "      border: none;\n",
              "      border-radius: 50%;\n",
              "      cursor: pointer;\n",
              "      display: none;\n",
              "      fill: #1967D2;\n",
              "      height: 32px;\n",
              "      padding: 0 0 0 0;\n",
              "      width: 32px;\n",
              "    }\n",
              "\n",
              "    .colab-df-convert:hover {\n",
              "      background-color: #E2EBFA;\n",
              "      box-shadow: 0px 1px 2px rgba(60, 64, 67, 0.3), 0px 1px 3px 1px rgba(60, 64, 67, 0.15);\n",
              "      fill: #174EA6;\n",
              "    }\n",
              "\n",
              "    [theme=dark] .colab-df-convert {\n",
              "      background-color: #3B4455;\n",
              "      fill: #D2E3FC;\n",
              "    }\n",
              "\n",
              "    [theme=dark] .colab-df-convert:hover {\n",
              "      background-color: #434B5C;\n",
              "      box-shadow: 0px 1px 3px 1px rgba(0, 0, 0, 0.15);\n",
              "      filter: drop-shadow(0px 1px 2px rgba(0, 0, 0, 0.3));\n",
              "      fill: #FFFFFF;\n",
              "    }\n",
              "  </style>\n",
              "\n",
              "      <script>\n",
              "        const buttonEl =\n",
              "          document.querySelector('#df-f38b93c3-464a-4056-944a-59643d9b099c button.colab-df-convert');\n",
              "        buttonEl.style.display =\n",
              "          google.colab.kernel.accessAllowed ? 'block' : 'none';\n",
              "\n",
              "        async function convertToInteractive(key) {\n",
              "          const element = document.querySelector('#df-f38b93c3-464a-4056-944a-59643d9b099c');\n",
              "          const dataTable =\n",
              "            await google.colab.kernel.invokeFunction('convertToInteractive',\n",
              "                                                     [key], {});\n",
              "          if (!dataTable) return;\n",
              "\n",
              "          const docLinkHtml = 'Like what you see? Visit the ' +\n",
              "            '<a target=\"_blank\" href=https://colab.research.google.com/notebooks/data_table.ipynb>data table notebook</a>'\n",
              "            + ' to learn more about interactive tables.';\n",
              "          element.innerHTML = '';\n",
              "          dataTable['output_type'] = 'display_data';\n",
              "          await google.colab.output.renderOutput(dataTable, element);\n",
              "          const docLink = document.createElement('div');\n",
              "          docLink.innerHTML = docLinkHtml;\n",
              "          element.appendChild(docLink);\n",
              "        }\n",
              "      </script>\n",
              "    </div>\n",
              "  </div>\n",
              "  "
            ]
          },
          "metadata": {}
        },
        {
          "output_type": "display_data",
          "data": {
            "text/plain": [
              "<Figure size 720x504 with 2 Axes>"
            ],
            "image/png": "[encoded data removed]"
          },
          "metadata": {
            "needs_background": "light"
          }
        }
      ]
    },
    {
      "cell_type": "code",
      "source": [
        "exc_wide.index.values"
      ],
      "metadata": {
        "colab": {
          "base_uri": "https://localhost:8080/"
        },
        "id": "Bt9e5h6H6byL",
        "outputId": "eed5571b-013a-473e-bbad-7a72b122e1cf"
      },
      "execution_count": null,
      "outputs": [
        {
          "output_type": "execute_result",
          "data": {
            "text/plain": [
              "['heart_issues', 'hepatitis', 'hiv', 'pregnant', 'breastfeeding', 'major_surgery']\n",
              "Categories (6, object): ['heart_issues', 'hepatitis', 'hiv', 'pregnant', 'breastfeeding',\n",
              "                         'major_surgery']"
            ]
          },
          "metadata": {},
          "execution_count": 39
        }
      ]
    },
    {
      "cell_type": "code",
      "source": [
        "exc_wide['exclusion_criteria'] = exc_wide['exclusion_criteria'].map(criteria_map)\n"
      ],
      "metadata": {
        "colab": {
          "base_uri": "https://localhost:8080/",
          "height": 269
        },
        "id": "Y3fnDcNf6EtS",
        "outputId": "d0144662-61a7-4033-b848-c695a8eae26e"
      },
      "execution_count": null,
      "outputs": [
        {
          "output_type": "execute_result",
          "data": {
            "text/plain": [
              "cancer_category     digestive  head and neck  respiratory tract\n",
              "exclusion_criteria                                             \n",
              "heart_issues        44.187779      35.735736          40.340219\n",
              "hepatitis           13.561848      20.720721          25.273390\n",
              "hiv                 19.001490      18.318318          26.974484\n",
              "pregnant            51.415797      54.954955          41.555286\n",
              "breastfeeding       23.994039      24.024024          22.114216\n",
              "major_surgery       11.251863       6.906907          18.226002"
            ],
            "text/html": [
              "\n",
              "  <div id=\"df-6476035d-72d8-4149-93e9-9720ec759e72\">\n",
              "    <div class=\"colab-df-container\">\n",
              "      <div>\n",
              "<style scoped>\n",
              "    .dataframe tbody tr th:only-of-type {\n",
              "        vertical-align: middle;\n",
              "    }\n",
              "\n",
              "    .dataframe tbody tr th {\n",
              "        vertical-align: top;\n",
              "    }\n",
              "\n",
              "    .dataframe thead th {\n",
              "        text-align: right;\n",
              "    }\n",
              "</style>\n",
              "<table border=\"1\" class=\"dataframe\">\n",
              "  <thead>\n",
              "    <tr style=\"text-align: right;\">\n",
              "      <th>cancer_category</th>\n",
              "      <th>digestive</th>\n",
              "      <th>head and neck</th>\n",
              "      <th>respiratory tract</th>\n",
              "    </tr>\n",
              "    <tr>\n",
              "      <th>exclusion_criteria</th>\n",
              "      <th></th>\n",
              "      <th></th>\n",
              "      <th></th>\n",
              "    </tr>\n",
              "  </thead>\n",
              "  <tbody>\n",
              "    <tr>\n",
              "      <th>heart_issues</th>\n",
              "      <td>44.187779</td>\n",
              "      <td>35.735736</td>\n",
              "      <td>40.340219</td>\n",
              "    </tr>\n",
              "    <tr>\n",
              "      <th>hepatitis</th>\n",
              "      <td>13.561848</td>\n",
              "      <td>20.720721</td>\n",
              "      <td>25.273390</td>\n",
              "    </tr>\n",
              "    <tr>\n",
              "      <th>hiv</th>\n",
              "      <td>19.001490</td>\n",
              "      <td>18.318318</td>\n",
              "      <td>26.974484</td>\n",
              "    </tr>\n",
              "    <tr>\n",
              "      <th>pregnant</th>\n",
              "      <td>51.415797</td>\n",
              "      <td>54.954955</td>\n",
              "      <td>41.555286</td>\n",
              "    </tr>\n",
              "    <tr>\n",
              "      <th>breastfeeding</th>\n",
              "      <td>23.994039</td>\n",
              "      <td>24.024024</td>\n",
              "      <td>22.114216</td>\n",
              "    </tr>\n",
              "    <tr>\n",
              "      <th>major_surgery</th>\n",
              "      <td>11.251863</td>\n",
              "      <td>6.906907</td>\n",
              "      <td>18.226002</td>\n",
              "    </tr>\n",
              "  </tbody>\n",
              "</table>\n",
              "</div>\n",
              "      <button class=\"colab-df-convert\" onclick=\"convertToInteractive('df-6476035d-72d8-4149-93e9-9720ec759e72')\"\n",
              "              title=\"Convert this dataframe to an interactive table.\"\n",
              "              style=\"display:none;\">\n",
              "        \n",
              "  <svg xmlns=\"http://www.w3.org/2000/svg\" height=\"24px\"viewBox=\"0 0 24 24\"\n",
              "       width=\"24px\">\n",
              "    <path d=\"M0 0h24v24H0V0z\" fill=\"none\"/>\n",
              "    <path d=\"M18.56 5.44l.94 2.06.94-2.06 2.06-.94-2.06-.94-.94-2.06-.94 2.06-2.06.94zm-11 1L8.5 8.5l.94-2.06 2.06-.94-2.06-.94L8.5 2.5l-.94 2.06-2.06.94zm10 10l.94 2.06.94-2.06 2.06-.94-2.06-.94-.94-2.06-.94 2.06-2.06.94z\"/><path d=\"M17.41 7.96l-1.37-1.37c-.4-.4-.92-.59-1.43-.59-.52 0-1.04.2-1.43.59L10.3 9.45l-7.72 7.72c-.78.78-.78 2.05 0 2.83L4 21.41c.39.39.9.59 1.41.59.51 0 1.02-.2 1.41-.59l7.78-7.78 2.81-2.81c.8-.78.8-2.07 0-2.86zM5.41 20L4 18.59l7.72-7.72 1.47 1.35L5.41 20z\"/>\n",
              "  </svg>\n",
              "      </button>\n",
              "      \n",
              "  <style>\n",
              "    .colab-df-container {\n",
              "      display:flex;\n",
              "      flex-wrap:wrap;\n",
              "      gap: 12px;\n",
              "    }\n",
              "\n",
              "    .colab-df-convert {\n",
              "      background-color: #E8F0FE;\n",
              "      border: none;\n",
              "      border-radius: 50%;\n",
              "      cursor: pointer;\n",
              "      display: none;\n",
              "      fill: #1967D2;\n",
              "      height: 32px;\n",
              "      padding: 0 0 0 0;\n",
              "      width: 32px;\n",
              "    }\n",
              "\n",
              "    .colab-df-convert:hover {\n",
              "      background-color: #E2EBFA;\n",
              "      box-shadow: 0px 1px 2px rgba(60, 64, 67, 0.3), 0px 1px 3px 1px rgba(60, 64, 67, 0.15);\n",
              "      fill: #174EA6;\n",
              "    }\n",
              "\n",
              "    [theme=dark] .colab-df-convert {\n",
              "      background-color: #3B4455;\n",
              "      fill: #D2E3FC;\n",
              "    }\n",
              "\n",
              "    [theme=dark] .colab-df-convert:hover {\n",
              "      background-color: #434B5C;\n",
              "      box-shadow: 0px 1px 3px 1px rgba(0, 0, 0, 0.15);\n",
              "      filter: drop-shadow(0px 1px 2px rgba(0, 0, 0, 0.3));\n",
              "      fill: #FFFFFF;\n",
              "    }\n",
              "  </style>\n",
              "\n",
              "      <script>\n",
              "        const buttonEl =\n",
              "          document.querySelector('#df-6476035d-72d8-4149-93e9-9720ec759e72 button.colab-df-convert');\n",
              "        buttonEl.style.display =\n",
              "          google.colab.kernel.accessAllowed ? 'block' : 'none';\n",
              "\n",
              "        async function convertToInteractive(key) {\n",
              "          const element = document.querySelector('#df-6476035d-72d8-4149-93e9-9720ec759e72');\n",
              "          const dataTable =\n",
              "            await google.colab.kernel.invokeFunction('convertToInteractive',\n",
              "                                                     [key], {});\n",
              "          if (!dataTable) return;\n",
              "\n",
              "          const docLinkHtml = 'Like what you see? Visit the ' +\n",
              "            '<a target=\"_blank\" href=https://colab.research.google.com/notebooks/data_table.ipynb>data table notebook</a>'\n",
              "            + ' to learn more about interactive tables.';\n",
              "          element.innerHTML = '';\n",
              "          dataTable['output_type'] = 'display_data';\n",
              "          await google.colab.output.renderOutput(dataTable, element);\n",
              "          const docLink = document.createElement('div');\n",
              "          docLink.innerHTML = docLinkHtml;\n",
              "          element.appendChild(docLink);\n",
              "        }\n",
              "      </script>\n",
              "    </div>\n",
              "  </div>\n",
              "  "
            ]
          },
          "metadata": {},
          "execution_count": 32
        }
      ]
    },
    {
      "cell_type": "markdown",
      "source": [
        "# Creating Graphs"
      ],
      "metadata": {
        "id": "dkj3v6zOxoWk"
      }
    },
    {
      "cell_type": "code",
      "source": [
        "# No. of trials by cancer category\n",
        "no_trials = pd.DataFrame({\n",
        "    'Cancer Category': ['Digestive System', 'Respiratory', 'Head and Neck'],\n",
        "    'No. of Trials': [1464, 834, 529]\n",
        "})\n",
        "\n",
        "plt.rcParams.update({'font.size': 16})\n",
        "ax = sns.barplot(data = no_trials, x='No. of Trials', y='Cancer Category',color = 'lightblue')\n",
        "ax.set_xticks([])\n",
        "ax.set_xlabel(None)\n",
        "ax.bar_label(ax.containers[0])\n",
        "ax.set_xlim(0,1700)\n",
        "ax.set_ylabel(None)\n",
        "plt.show()"
      ],
      "metadata": {
        "colab": {
          "base_uri": "https://localhost:8080/",
          "height": 252
        },
        "id": "BjmWHi7xtYgW",
        "outputId": "2c738196-158b-4337-a6d9-75ed7a7a4255"
      },
      "execution_count": null,
      "outputs": [
        {
          "output_type": "display_data",
          "data": {
            "text/plain": [
              "<Figure size 432x288 with 1 Axes>"
            ],
            "image/png": "[encoded data removed]"
          },
          "metadata": {
            "needs_background": "light"
          }
        }
      ]
    },
    {
      "cell_type": "code",
      "source": [
        "raise Exception(\"scratch code below\")"
      ],
      "metadata": {
        "colab": {
          "base_uri": "https://localhost:8080/",
          "height": 166
        },
        "id": "dvd3wCMkrsy_",
        "outputId": "e3b1d456-a39b-4caa-c5ed-2441f0cdfef3"
      },
      "execution_count": null,
      "outputs": [
        {
          "output_type": "error",
          "ename": "Exception",
          "evalue": "ignored",
          "traceback": [
            "\u001b[0;31m---------------------------------------------------------------------------\u001b[0m",
            "\u001b[0;31mException\u001b[0m                                 Traceback (most recent call last)",
            "\u001b[0;32m<ipython-input-28-5c105c5ae893>\u001b[0m in \u001b[0;36m<module>\u001b[0;34m\u001b[0m\n\u001b[0;32m----> 1\u001b[0;31m \u001b[0;32mraise\u001b[0m \u001b[0mException\u001b[0m\u001b[0;34m(\u001b[0m\u001b[0;34m\"scratch code below\"\u001b[0m\u001b[0;34m)\u001b[0m\u001b[0;34m\u001b[0m\u001b[0;34m\u001b[0m\u001b[0m\n\u001b[0m",
            "\u001b[0;31mException\u001b[0m: scratch code below"
          ]
        }
      ]
    },
    {
      "cell_type": "code",
      "source": [],
      "metadata": {
        "id": "JUTfYkBEB5zs"
      },
      "execution_count": null,
      "outputs": []
    }
  ]
}