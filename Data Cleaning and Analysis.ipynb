{
  "cells": [
    {
      "cell_type": "markdown",
      "metadata": {
        "id": "view-in-github",
        "colab_type": "text"
      },
      "source": [
        "<a href=\"https://colab.research.google.com/github/celinagacias/dc-symmetron/blob/main/Data%20Cleaning%20and%20Analysis.ipynb\" target=\"_parent\"><img src=\"https://colab.research.google.com/assets/colab-badge.svg\" alt=\"Open In Colab\"/></a>"
      ]
    },
    {
      "cell_type": "code",
      "execution_count": 1,
      "metadata": {
        "colab": {
          "base_uri": "https://localhost:8080/"
        },
        "id": "0DQLxPBhmyaq",
        "outputId": "5fb4573d-9e4b-4918-dbfa-f9e32d73f4fd"
      },
      "outputs": [
        {
          "output_type": "stream",
          "name": "stderr",
          "text": [
            "[nltk_data] Downloading package stopwords to /root/nltk_data...\n",
            "[nltk_data]   Unzipping corpora/stopwords.zip.\n"
          ]
        },
        {
          "output_type": "stream",
          "name": "stdout",
          "text": [
            "Looking in indexes: https://pypi.org/simple, https://us-python.pkg.dev/colab-wheels/public/simple/\n",
            "Collecting stop_words\n",
            "  Downloading stop-words-2018.7.23.tar.gz (31 kB)\n",
            "  Preparing metadata (setup.py) ... \u001b[?25l\u001b[?25hdone\n",
            "Building wheels for collected packages: stop_words\n",
            "  Building wheel for stop_words (setup.py) ... \u001b[?25l\u001b[?25hdone\n",
            "  Created wheel for stop_words: filename=stop_words-2018.7.23-py3-none-any.whl size=32910 sha256=99b3fcd1863ff897e2c94511c19d5b315580bdc07ec621a732a70904cd04bbdf\n",
            "  Stored in directory: /root/.cache/pip/wheels/eb/03/0d/3bd31c983789aeb0b4d5e2ca48590288d9db1586cf5f225062\n",
            "Successfully built stop_words\n",
            "Installing collected packages: stop_words\n",
            "Successfully installed stop_words-2018.7.23\n"
          ]
        }
      ],
      "source": [
        "import pandas as pd\n",
        "import numpy as np\n",
        "from datetime import datetime\n",
        "import string\n",
        "import re\n",
        "import itertools\n",
        "\n",
        "import matplotlib.pyplot as plt\n",
        "import matplotlib.ticker as mtick\n",
        "import seaborn as sns\n",
        "\n",
        "import nltk\n",
        "from nltk.util import everygrams\n",
        "nltk.download('stopwords')\n",
        "from nltk.corpus import stopwords\n",
        "!pip install stop_words\n",
        "from stop_words import get_stop_words\n",
        "\n",
        "from pydrive.auth import GoogleAuth\n",
        "from pydrive.drive import GoogleDrive\n",
        "from google.colab import auth, drive\n",
        "from oauth2client.client import GoogleCredentials\n",
        "\n",
        "pd.set_option('max_rows', None)\n",
        "pd.set_option('max_colwidth', None)"
      ]
    },
    {
      "cell_type": "markdown",
      "metadata": {
        "id": "XE2F-wbaTCGI"
      },
      "source": [
        "# Data Read-In"
      ]
    },
    {
      "cell_type": "code",
      "execution_count": 2,
      "metadata": {
        "id": "b4w23Db_RjPs",
        "colab": {
          "base_uri": "https://localhost:8080/"
        },
        "outputId": "860ddc48-5f44-42f0-fd77-e9740ac3c413"
      },
      "outputs": [
        {
          "output_type": "stream",
          "name": "stdout",
          "text": [
            "Mounted at /content/drive\n"
          ]
        }
      ],
      "source": [
        "#Authenticate user\n",
        "auth.authenticate_user()\n",
        "gauth = GoogleAuth()\n",
        "\n",
        "#Mount GDrive\n",
        "gdrive = GoogleDrive(gauth)\n",
        "gauth.credentials = GoogleCredentials.get_application_default()\n",
        "drive.mount('/content/drive')"
      ]
    },
    {
      "cell_type": "code",
      "execution_count": 3,
      "metadata": {
        "id": "ttsAotx7SGmH",
        "colab": {
          "base_uri": "https://localhost:8080/",
          "height": 1000
        },
        "outputId": "ef6c5d7e-9a5d-4b75-8cba-e4429df57fec"
      },
      "outputs": [
        {
          "output_type": "display_data",
          "data": {
            "text/plain": [
              "        nct_id  start_date start_date_type      study_type    phase  \\\n",
              "0  NCT00000113  1997-09-30             NaN  Interventional  Phase 3   \n",
              "1  NCT00000114  1984-05-31             NaN  Interventional  Phase 3   \n",
              "\n",
              "  overall_status last_known_status  \\\n",
              "0      Completed               NaN   \n",
              "1      Completed               NaN   \n",
              "\n",
              "                                                                            brief_title  \\\n",
              "0                                         Correction of Myopia Evaluation Trial (COMET)   \n",
              "1  Randomized Trial of Vitamin A and Vitamin E Supplementation for Retinitis Pigmentosa   \n",
              "\n",
              "   population gender_description minimum_age maximum_age gender  \\\n",
              "0         NaN                NaN     6 Years    12 Years    All   \n",
              "1         NaN                NaN    18 Years    49 Years    All   \n",
              "\n",
              "  healthy_volunteers countries_removed countries_retained  \\\n",
              "0                 No                {}  {\"United States\"}   \n",
              "1                NaN               NaN                NaN   \n",
              "\n",
              "       conditions_table  \\\n",
              "0                myopia   \n",
              "1  retinitis pigmentosa   \n",
              "\n",
              "                                                                                                                                                        mesh_term  \\\n",
              "0                                                                                                                         eye diseases, myopia, refractive errors   \n",
              "1  eye diseases, retinal diseases, retinitis pigmentosa, retinitis, genetic diseases, inborn, retinal degeneration, retinal dystrophies, eye diseases, hereditary   \n",
              "\n",
              "                                                                                                                                                                                                                                                                                                                                                                                                                                                                                                                                                                                                                                                                                                                                                                                                                                                                                                 criteria  \n",
              "0                                                                                                                                                                                                                                                                               Children between the ages of 6 and 12 years with myopia in both eyes (defined as spherical equivalent between -1.25 D and -4.50 D in each eye as measured by cycloplegic autorefraction), astigmatism less than or equal to 1.50 D, and no anisometropia (defined as a difference in spherical equivalent between the two eyes greater than 1.0 D) are eligible for inclusion. Exclusion criteria include visual acuity greater than 20/25, strabismus, use of contact lenses, birth weight less than 1,250 grams, use of bifocal or progressive addition lenses, or any conditions precluding adherence to the protocol.  \n",
              "1  Men and nonpregnant women between ages 18 and 49 years with common forms of RP were included. All eligible patients had retinal arteriolar attenuation, elevated dark adaptation thresholds, and reduced ERGs. Patients had best corrected Snellen visual acuity of 20/100 or better, central visual field diameter on the Goldman perimeter with V4 e white test light of 8 degrees or greater, and ERG amplitude of 2.5 or greater in response to 0.5-Hz white light or of 0.12 ultraviolet light or greater in response to 30-Hz white flickering light in at least one eye. In addition, patients had normal fasting serum retinol and serum liver function profile and weight above the lower fifth percentile for age, sex, and height. All patients had a total estimated pre-trial intake of vitamins A and E from diet plus pills not greater than 11,500 IU/day and 40 IU/day, respectively.  "
            ],
            "text/html": [
              "\n",
              "  <div id=\"df-82b5e367-f381-49cf-901c-420180607cbb\">\n",
              "    <div class=\"colab-df-container\">\n",
              "      <div>\n",
              "<style scoped>\n",
              "    .dataframe tbody tr th:only-of-type {\n",
              "        vertical-align: middle;\n",
              "    }\n",
              "\n",
              "    .dataframe tbody tr th {\n",
              "        vertical-align: top;\n",
              "    }\n",
              "\n",
              "    .dataframe thead th {\n",
              "        text-align: right;\n",
              "    }\n",
              "</style>\n",
              "<table border=\"1\" class=\"dataframe\">\n",
              "  <thead>\n",
              "    <tr style=\"text-align: right;\">\n",
              "      <th></th>\n",
              "      <th>nct_id</th>\n",
              "      <th>start_date</th>\n",
              "      <th>start_date_type</th>\n",
              "      <th>study_type</th>\n",
              "      <th>phase</th>\n",
              "      <th>overall_status</th>\n",
              "      <th>last_known_status</th>\n",
              "      <th>brief_title</th>\n",
              "      <th>population</th>\n",
              "      <th>gender_description</th>\n",
              "      <th>minimum_age</th>\n",
              "      <th>maximum_age</th>\n",
              "      <th>gender</th>\n",
              "      <th>healthy_volunteers</th>\n",
              "      <th>countries_removed</th>\n",
              "      <th>countries_retained</th>\n",
              "      <th>conditions_table</th>\n",
              "      <th>mesh_term</th>\n",
              "      <th>criteria</th>\n",
              "    </tr>\n",
              "  </thead>\n",
              "  <tbody>\n",
              "    <tr>\n",
              "      <th>0</th>\n",
              "      <td>NCT00000113</td>\n",
              "      <td>1997-09-30</td>\n",
              "      <td>NaN</td>\n",
              "      <td>Interventional</td>\n",
              "      <td>Phase 3</td>\n",
              "      <td>Completed</td>\n",
              "      <td>NaN</td>\n",
              "      <td>Correction of Myopia Evaluation Trial (COMET)</td>\n",
              "      <td>NaN</td>\n",
              "      <td>NaN</td>\n",
              "      <td>6 Years</td>\n",
              "      <td>12 Years</td>\n",
              "      <td>All</td>\n",
              "      <td>No</td>\n",
              "      <td>{}</td>\n",
              "      <td>{\"United States\"}</td>\n",
              "      <td>myopia</td>\n",
              "      <td>eye diseases, myopia, refractive errors</td>\n",
              "      <td>Children between the ages of 6 and 12 years with myopia in both eyes (defined as spherical equivalent between -1.25 D and -4.50 D in each eye as measured by cycloplegic autorefraction), astigmatism less than or equal to 1.50 D, and no anisometropia (defined as a difference in spherical equivalent between the two eyes greater than 1.0 D) are eligible for inclusion. Exclusion criteria include visual acuity greater than 20/25, strabismus, use of contact lenses, birth weight less than 1,250 grams, use of bifocal or progressive addition lenses, or any conditions precluding adherence to the protocol.</td>\n",
              "    </tr>\n",
              "    <tr>\n",
              "      <th>1</th>\n",
              "      <td>NCT00000114</td>\n",
              "      <td>1984-05-31</td>\n",
              "      <td>NaN</td>\n",
              "      <td>Interventional</td>\n",
              "      <td>Phase 3</td>\n",
              "      <td>Completed</td>\n",
              "      <td>NaN</td>\n",
              "      <td>Randomized Trial of Vitamin A and Vitamin E Supplementation for Retinitis Pigmentosa</td>\n",
              "      <td>NaN</td>\n",
              "      <td>NaN</td>\n",
              "      <td>18 Years</td>\n",
              "      <td>49 Years</td>\n",
              "      <td>All</td>\n",
              "      <td>NaN</td>\n",
              "      <td>NaN</td>\n",
              "      <td>NaN</td>\n",
              "      <td>retinitis pigmentosa</td>\n",
              "      <td>eye diseases, retinal diseases, retinitis pigmentosa, retinitis, genetic diseases, inborn, retinal degeneration, retinal dystrophies, eye diseases, hereditary</td>\n",
              "      <td>Men and nonpregnant women between ages 18 and 49 years with common forms of RP were included. All eligible patients had retinal arteriolar attenuation, elevated dark adaptation thresholds, and reduced ERGs. Patients had best corrected Snellen visual acuity of 20/100 or better, central visual field diameter on the Goldman perimeter with V4 e white test light of 8 degrees or greater, and ERG amplitude of 2.5 or greater in response to 0.5-Hz white light or of 0.12 ultraviolet light or greater in response to 30-Hz white flickering light in at least one eye. In addition, patients had normal fasting serum retinol and serum liver function profile and weight above the lower fifth percentile for age, sex, and height. All patients had a total estimated pre-trial intake of vitamins A and E from diet plus pills not greater than 11,500 IU/day and 40 IU/day, respectively.</td>\n",
              "    </tr>\n",
              "  </tbody>\n",
              "</table>\n",
              "</div>\n",
              "      <button class=\"colab-df-convert\" onclick=\"convertToInteractive('df-82b5e367-f381-49cf-901c-420180607cbb')\"\n",
              "              title=\"Convert this dataframe to an interactive table.\"\n",
              "              style=\"display:none;\">\n",
              "        \n",
              "  <svg xmlns=\"http://www.w3.org/2000/svg\" height=\"24px\"viewBox=\"0 0 24 24\"\n",
              "       width=\"24px\">\n",
              "    <path d=\"M0 0h24v24H0V0z\" fill=\"none\"/>\n",
              "    <path d=\"M18.56 5.44l.94 2.06.94-2.06 2.06-.94-2.06-.94-.94-2.06-.94 2.06-2.06.94zm-11 1L8.5 8.5l.94-2.06 2.06-.94-2.06-.94L8.5 2.5l-.94 2.06-2.06.94zm10 10l.94 2.06.94-2.06 2.06-.94-2.06-.94-.94-2.06-.94 2.06-2.06.94z\"/><path d=\"M17.41 7.96l-1.37-1.37c-.4-.4-.92-.59-1.43-.59-.52 0-1.04.2-1.43.59L10.3 9.45l-7.72 7.72c-.78.78-.78 2.05 0 2.83L4 21.41c.39.39.9.59 1.41.59.51 0 1.02-.2 1.41-.59l7.78-7.78 2.81-2.81c.8-.78.8-2.07 0-2.86zM5.41 20L4 18.59l7.72-7.72 1.47 1.35L5.41 20z\"/>\n",
              "  </svg>\n",
              "      </button>\n",
              "      \n",
              "  <style>\n",
              "    .colab-df-container {\n",
              "      display:flex;\n",
              "      flex-wrap:wrap;\n",
              "      gap: 12px;\n",
              "    }\n",
              "\n",
              "    .colab-df-convert {\n",
              "      background-color: #E8F0FE;\n",
              "      border: none;\n",
              "      border-radius: 50%;\n",
              "      cursor: pointer;\n",
              "      display: none;\n",
              "      fill: #1967D2;\n",
              "      height: 32px;\n",
              "      padding: 0 0 0 0;\n",
              "      width: 32px;\n",
              "    }\n",
              "\n",
              "    .colab-df-convert:hover {\n",
              "      background-color: #E2EBFA;\n",
              "      box-shadow: 0px 1px 2px rgba(60, 64, 67, 0.3), 0px 1px 3px 1px rgba(60, 64, 67, 0.15);\n",
              "      fill: #174EA6;\n",
              "    }\n",
              "\n",
              "    [theme=dark] .colab-df-convert {\n",
              "      background-color: #3B4455;\n",
              "      fill: #D2E3FC;\n",
              "    }\n",
              "\n",
              "    [theme=dark] .colab-df-convert:hover {\n",
              "      background-color: #434B5C;\n",
              "      box-shadow: 0px 1px 3px 1px rgba(0, 0, 0, 0.15);\n",
              "      filter: drop-shadow(0px 1px 2px rgba(0, 0, 0, 0.3));\n",
              "      fill: #FFFFFF;\n",
              "    }\n",
              "  </style>\n",
              "\n",
              "      <script>\n",
              "        const buttonEl =\n",
              "          document.querySelector('#df-82b5e367-f381-49cf-901c-420180607cbb button.colab-df-convert');\n",
              "        buttonEl.style.display =\n",
              "          google.colab.kernel.accessAllowed ? 'block' : 'none';\n",
              "\n",
              "        async function convertToInteractive(key) {\n",
              "          const element = document.querySelector('#df-82b5e367-f381-49cf-901c-420180607cbb');\n",
              "          const dataTable =\n",
              "            await google.colab.kernel.invokeFunction('convertToInteractive',\n",
              "                                                     [key], {});\n",
              "          if (!dataTable) return;\n",
              "\n",
              "          const docLinkHtml = 'Like what you see? Visit the ' +\n",
              "            '<a target=\"_blank\" href=https://colab.research.google.com/notebooks/data_table.ipynb>data table notebook</a>'\n",
              "            + ' to learn more about interactive tables.';\n",
              "          element.innerHTML = '';\n",
              "          dataTable['output_type'] = 'display_data';\n",
              "          await google.colab.output.renderOutput(dataTable, element);\n",
              "          const docLink = document.createElement('div');\n",
              "          docLink.innerHTML = docLinkHtml;\n",
              "          element.appendChild(docLink);\n",
              "        }\n",
              "      </script>\n",
              "    </div>\n",
              "  </div>\n",
              "  "
            ]
          },
          "metadata": {}
        }
      ],
      "source": [
        "# Read data from csv\n",
        "folder = '1iLA5sSyu7ere1AN40TWRf6O6ma5LoIDl'\n",
        "filename = 'raw_AACT_data.csv'\n",
        "\n",
        "gfile_list = gdrive.ListFile({'q': \"'\" +  folder + \"'\" + \" in parents and trashed=false\"}).GetList()\n",
        "gfile = [f for f in gfile_list if f['title'] == filename][0]\n",
        "df_file = gdrive.CreateFile({'id': gfile['id']})\n",
        "df_file.GetContentFile(gfile['title'])\n",
        "df = pd.read_csv(filename)\n",
        "display(df.head(2))"
      ]
    },
    {
      "cell_type": "code",
      "execution_count": 4,
      "metadata": {
        "id": "5uIa41t3m8r-",
        "colab": {
          "base_uri": "https://localhost:8080/"
        },
        "outputId": "55000d8f-5ef7-43d4-c1b9-5faf15eae5ef"
      },
      "outputs": [
        {
          "output_type": "stream",
          "name": "stdout",
          "text": [
            "There are 42299 studies in our sample.\n"
          ]
        }
      ],
      "source": [
        "n = len(df)\n",
        "print(f'There are {n} studies in our sample.')"
      ]
    },
    {
      "cell_type": "markdown",
      "metadata": {
        "id": "ZeyaVTvCK0bO"
      },
      "source": [
        "# Data Cleaning"
      ]
    },
    {
      "cell_type": "code",
      "execution_count": 5,
      "metadata": {
        "id": "BJD2cqmWmvqV",
        "colab": {
          "base_uri": "https://localhost:8080/"
        },
        "outputId": "090566ae-b040-43ae-d915-1b272fedc31a"
      },
      "outputs": [
        {
          "output_type": "stream",
          "name": "stdout",
          "text": [
            "['digestive system neoplasms', 'respiratory tract neoplasms', 'head and neck neoplasms']\n"
          ]
        }
      ],
      "source": [
        "# list of major cancer categories\n",
        "cancers = ['digestive system', 'respiratory tract', 'head and neck']\n",
        "categories = [c + ' neoplasms' for c in cancers]\n",
        "categories = sorted(categories, key=lambda x: -len(df[df.mesh_term.fillna('').str.contains(x)]))\n",
        "print(categories)"
      ]
    },
    {
      "cell_type": "markdown",
      "metadata": {
        "id": "BvuYNH0UJJnn"
      },
      "source": [
        "## Dates"
      ]
    },
    {
      "cell_type": "code",
      "execution_count": 6,
      "metadata": {
        "id": "muEUyM5HJNW-"
      },
      "outputs": [],
      "source": [
        "# convert start date to date\n",
        "df['start_date'] = df['start_date'].apply(\n",
        "    lambda x: datetime.strptime(x, '%Y-%m-%d').date() \\\n",
        "    if str(x) != 'nan' else None)"
      ]
    },
    {
      "cell_type": "code",
      "execution_count": 7,
      "metadata": {
        "id": "9Wwr5jJyKBg_"
      },
      "outputs": [],
      "source": [
        "# extract year into separate column\n",
        "df['start_year'] = df['start_date'].apply(\n",
        "    lambda x: int(x.year) if x is not None else None)"
      ]
    },
    {
      "cell_type": "markdown",
      "metadata": {
        "id": "8hboB_lGKeaW"
      },
      "source": [
        "## Countries"
      ]
    },
    {
      "cell_type": "code",
      "execution_count": 8,
      "metadata": {
        "id": "Oo8o6Z5IKhSl"
      },
      "outputs": [],
      "source": [
        "def process_countries(l):\n",
        "  # converts string of list of countries into lists\n",
        "  l = l.replace('{','').replace('}','').split(',')\n",
        "  l = set([c.replace('\"','') for c in l])\n",
        "  return l"
      ]
    },
    {
      "cell_type": "code",
      "execution_count": 9,
      "metadata": {
        "id": "1QPo8n7ZMIiP"
      },
      "outputs": [],
      "source": [
        "# apply the function to each list of countries\n",
        "df['countries_removed'] = df['countries_removed'].apply(\n",
        "    lambda x: process_countries(x) if str(x) != 'nan' else None)\n",
        "\n",
        "df['countries_retained'] = df['countries_retained'].apply(\n",
        "    lambda x: process_countries(x) if str(x) != 'nan' else None)"
      ]
    },
    {
      "cell_type": "markdown",
      "metadata": {
        "id": "XTO-gyU-c2xU"
      },
      "source": [
        "## Ages"
      ]
    },
    {
      "cell_type": "code",
      "execution_count": 10,
      "metadata": {
        "id": "MWaCgE2fc4gY"
      },
      "outputs": [],
      "source": [
        "def parse_age(a):\n",
        "  # Convert text of age into years\n",
        "  if str(a) == 'nan':\n",
        "    return np.nan\n",
        "\n",
        "  num = int(str(a).split(' ')[0])\n",
        "  if 'Year' in a:\n",
        "    age = num\n",
        "  elif 'Month' in a:\n",
        "    age = num / 12\n",
        "  elif 'Week' in a:\n",
        "    age = num / 52\n",
        "  elif 'Day':\n",
        "    age = num / 365\n",
        "  elif 'Hour' in a:\n",
        "    age = num / (24 * 365)\n",
        "  elif 'Minute' in a:\n",
        "    age = num / (24 * 365 * 60)\n",
        "  return age\n",
        "\n",
        "df['minimum_age'] = df['minimum_age'].apply(parse_age)\n",
        "df['maximum_age'] = df['maximum_age'].apply(parse_age)"
      ]
    },
    {
      "cell_type": "markdown",
      "metadata": {
        "id": "S222znpRl7vj"
      },
      "source": [
        "## Inclusion/Exclusion Criteria"
      ]
    },
    {
      "cell_type": "code",
      "execution_count": 11,
      "metadata": {
        "id": "i5iaUdbiI-vc",
        "colab": {
          "base_uri": "https://localhost:8080/"
        },
        "outputId": "fe2966a7-09d4-4797-c99b-93253859487f"
      },
      "outputs": [
        {
          "output_type": "stream",
          "name": "stdout",
          "text": [
            "There are 38232 (90.39%) studies with clearly delineated inclusion/exclusion criteria\n"
          ]
        }
      ],
      "source": [
        "# identify which studies have clear inclusion vs. exclusion\n",
        "df['criteria_norm'] = df.criteria.fillna('').str.upper().str.strip().str.replace(' CRITERIA','')\n",
        "inc_cond = df.criteria_norm.str.contains('INCLUSION:')\n",
        "exc_cond = df.criteria_norm.str.contains('EXCLUSION:')\n",
        "parse_mask = (inc_cond) & (exc_cond)\n",
        "len_parse = df[parse_mask].shape[0]\n",
        "print(f'There are {len_parse} ({np.round(len_parse*100/n, 2)}%) studies with clearly delineated inclusion/exclusion criteria')"
      ]
    },
    {
      "cell_type": "code",
      "execution_count": 12,
      "metadata": {
        "id": "mEGr_DZqn4q9"
      },
      "outputs": [],
      "source": [
        "def parse_criteria(c):\n",
        "  '''Splits criteria into inclusion and exclusion'''\n",
        "\n",
        "  def clean_criteria(s):\n",
        "    # sub-function to clean up criteria text\n",
        "    s = s.replace('INCLUSION:','').strip() # remove inclusion title\n",
        "    s = re.sub(r'(\\n\\s*)+\\n+', '\\n', s) # reduce newlines\n",
        "    return s\n",
        "\n",
        "  # create list with [inclusion, exclusion]\n",
        "  c_list = c.split('EXCLUSION:')\n",
        "  c_list = [clean_criteria(s) for s in c_list]\n",
        "  return c_list\n",
        "\n",
        "# apply the function to derive inclusion and exclusion\n",
        "df['inclusion'] = None\n",
        "df['exclusion'] = None\n",
        "df.loc[parse_mask, 'criteria_split'] = df.loc[parse_mask, 'criteria_norm'].apply(parse_criteria)\n",
        "df.loc[parse_mask, 'inclusion'] = df.loc[parse_mask, 'criteria_split'].apply(lambda x: x[0])\n",
        "df.loc[parse_mask, 'exclusion'] = df.loc[parse_mask, 'criteria_split'].apply(lambda x: x[1])"
      ]
    },
    {
      "cell_type": "markdown",
      "metadata": {
        "id": "qjK0vQT-Myv3"
      },
      "source": [
        "## Subsetting"
      ]
    },
    {
      "cell_type": "code",
      "execution_count": 13,
      "metadata": {
        "id": "8CSVHf1pM1Eh",
        "colab": {
          "base_uri": "https://localhost:8080/"
        },
        "outputId": "02c6948a-e7fd-49d6-ac0d-512c5d01f036"
      },
      "outputs": [
        {
          "output_type": "stream",
          "name": "stdout",
          "text": [
            "There are 4600 studies that need to be removed because they are either terminated, withdrawn, or suspended.\n",
            "There are 37699 studies remaining.\n"
          ]
        }
      ],
      "source": [
        "# remove studies that were paused or suspended\n",
        "suspend_mask = (df.overall_status.isin(['Terminated', 'Withdrawn', 'Suspended']))\n",
        "n_suspend = df[suspend_mask].shape[0]\n",
        "print(f'There are {n_suspend} studies that need to be removed because they are either terminated, withdrawn, or suspended.')\n",
        "df = df[~suspend_mask].copy(deep=True)\n",
        "print(f'There are {len(df)} studies remaining.')"
      ]
    },
    {
      "cell_type": "code",
      "execution_count": 14,
      "metadata": {
        "colab": {
          "base_uri": "https://localhost:8080/"
        },
        "id": "Uc9Bfhf2rW-B",
        "outputId": "79305468-5962-4b44-eee3-c1f6b1a85cb4"
      },
      "outputs": [
        {
          "output_type": "stream",
          "name": "stdout",
          "text": [
            "There are 7385 studies for cancer-related interventions.\n"
          ]
        }
      ],
      "source": [
        "# obtain subset of cancer studies\n",
        "df = df[(df.mesh_term.str.contains('neoplasm')) | \n",
        "        (df.mesh_term.str.contains('carcinoma')) | \n",
        "        (df.mesh_term.str.contains('cancer'))].copy(deep=True)\n",
        "print(f'There are {len(df)} studies for cancer-related interventions.')"
      ]
    },
    {
      "cell_type": "code",
      "execution_count": 15,
      "metadata": {
        "colab": {
          "base_uri": "https://localhost:8080/",
          "height": 52
        },
        "id": "Vso2cZmPMicI",
        "outputId": "08275eba-f1a2-48ab-ce12-f13addae725c"
      },
      "outputs": [
        {
          "output_type": "execute_result",
          "data": {
            "text/plain": [
              "'additional step: make sure that the categories are exclusive of other \\ncategories that are not already in our list (Ex: breast)'"
            ],
            "application/vnd.google.colaboratory.intrinsic+json": {
              "type": "string"
            }
          },
          "metadata": {},
          "execution_count": 15
        }
      ],
      "source": [
        "'''additional step: make sure that the categories are exclusive of other \n",
        "categories that are not already in our list (Ex: breast)'''"
      ]
    },
    {
      "cell_type": "code",
      "execution_count": 16,
      "metadata": {
        "colab": {
          "base_uri": "https://localhost:8080/"
        },
        "id": "lkosEfLamjhK",
        "outputId": "1f47dbf3-a3a6-4ed5-d57a-21532a99e918"
      },
      "outputs": [
        {
          "output_type": "stream",
          "name": "stdout",
          "text": [
            "There are 2469 studies that fit into just 1 of the categories we identified\n"
          ]
        }
      ],
      "source": [
        "# subset to just the studies that fit into just 1 category\n",
        "\n",
        "# obtain the applicable categories for each study, in a list\n",
        "df['category'] = df.mesh_term.apply(lambda x: sorted([c for c in categories if c in x]))\n",
        "df = df[df.category.apply(lambda x: len(x) == 1)].copy(deep=True)\n",
        "df['category'] = df.category.apply(lambda x: x[0])\n",
        "print(f'There are {len(df)} studies that fit into just 1 of the categories we identified')"
      ]
    },
    {
      "cell_type": "markdown",
      "metadata": {
        "id": "RWrIf40eVDxw"
      },
      "source": [
        "# Initial Analysis"
      ]
    },
    {
      "cell_type": "markdown",
      "metadata": {
        "id": "zy8dYwFhtU3E"
      },
      "source": [
        "## Basic Descriptives"
      ]
    },
    {
      "cell_type": "code",
      "execution_count": 17,
      "metadata": {
        "colab": {
          "base_uri": "https://localhost:8080/",
          "height": 0
        },
        "id": "sV9IVFs6VZmy",
        "outputId": "2c553d74-e42b-4c7f-b00e-2cf93e2d47b9"
      },
      "outputs": [
        {
          "output_type": "display_data",
          "data": {
            "text/plain": [
              "digestive system diseases      1318\n",
              "digestive system neoplasms     1298\n",
              "gastrointestinal diseases       863\n",
              "gastrointestinal neoplasms      842\n",
              "respiratory tract neoplasms     815\n",
              "thoracic neoplasms              815\n",
              "lung neoplasms                  808\n",
              "respiratory tract diseases      807\n",
              "lung diseases                   805\n",
              "bronchogenic                    681\n",
              "bronchial neoplasms             681\n",
              "glandular and epithelial        635\n",
              "intestinal diseases             589\n",
              "intestinal neoplasms            585\n",
              "non-small-cell lung             584\n",
              "colorectal neoplasms            581\n",
              "rectal diseases                 482\n",
              "colonic diseases                460\n",
              "head and neck neoplasms         356\n",
              "adenocarcinoma                  350\n",
              "liver diseases                  290\n",
              "liver neoplasms                 289\n",
              "hepatocellular                  230\n",
              "stomach diseases                227\n",
              "stomach neoplasms               225\n",
              "endocrine system diseases       210\n",
              "endocrine gland neoplasms       209\n",
              "pathologic processes            163\n",
              "stomatognathic diseases         161\n",
              "squamous cell                   152\n",
              "dtype: int64"
            ]
          },
          "metadata": {}
        }
      ],
      "source": [
        "# most common mesh terms\n",
        "mesh_list = df.mesh_term.apply(lambda x: x.split(', '))\n",
        "all_mesh = [t for t in list(itertools.chain.from_iterable(mesh_list)) if \\\n",
        "            any([t.startswith(s) for s in ['neoplasm','cancer','carcinoma']]) is False]\n",
        "mesh_freq = pd.Series(all_mesh).value_counts()\n",
        "display(mesh_freq.head(30))"
      ]
    },
    {
      "cell_type": "code",
      "execution_count": 18,
      "metadata": {
        "colab": {
          "base_uri": "https://localhost:8080/",
          "height": 0
        },
        "id": "iH3FWScRxday",
        "outputId": "2d0818e6-41de-4e00-ce28-fa1572ecb046"
      },
      "outputs": [
        {
          "output_type": "stream",
          "name": "stdout",
          "text": [
            "no. of studies per category or set of categories\n"
          ]
        },
        {
          "output_type": "display_data",
          "data": {
            "text/plain": [
              "digestive system neoplasms     1298\n",
              "respiratory tract neoplasms     815\n",
              "head and neck neoplasms         356\n",
              "Name: category, dtype: int64"
            ]
          },
          "metadata": {}
        },
        {
          "output_type": "stream",
          "name": "stdout",
          "text": [
            "proportion:\n"
          ]
        },
        {
          "output_type": "display_data",
          "data": {
            "text/plain": [
              "digestive system neoplasms     0.525719\n",
              "respiratory tract neoplasms    0.330093\n",
              "head and neck neoplasms        0.144188\n",
              "Name: category, dtype: float64"
            ]
          },
          "metadata": {}
        }
      ],
      "source": [
        "# no. of studies per set of categories\n",
        "print('no. of studies per category or set of categories')\n",
        "all_cat_count = df.category.value_counts()\n",
        "all_cat_prop = all_cat_count / len(df)\n",
        "display(all_cat_count)\n",
        "print('proportion:')\n",
        "display(all_cat_prop)"
      ]
    },
    {
      "cell_type": "markdown",
      "metadata": {
        "id": "5NRkEnqWA99G"
      },
      "source": [
        "## By Age"
      ]
    },
    {
      "cell_type": "markdown",
      "metadata": {
        "id": "4lzETg-XBAL2"
      },
      "source": [
        "Perform analysis of excluded age groups"
      ]
    },
    {
      "cell_type": "code",
      "execution_count": 19,
      "metadata": {
        "colab": {
          "base_uri": "https://localhost:8080/",
          "height": 319
        },
        "id": "Lxy6prqIBXN8",
        "outputId": "4d15efdf-0c6e-4d4a-a42a-1457dd35a232"
      },
      "outputs": [
        {
          "output_type": "display_data",
          "data": {
            "text/plain": [
              "     minimum_age  maximum_age  \\\n",
              "203         50.0         79.0   \n",
              "354         20.0         80.0   \n",
              "360         18.0          NaN   \n",
              "365         18.0          NaN   \n",
              "368         20.0         80.0   \n",
              "\n",
              "                                                                                                                                                                                                                                                                           excluded_ages  \n",
              "203  [0, 1, 2, 3, 4, 5, 6, 7, 8, 9, 10, 11, 12, 13, 14, 15, 16, 17, 18, 19, 20, 21, 22, 23, 24, 25, 26, 27, 28, 29, 30, 31, 32, 33, 34, 35, 36, 37, 38, 39, 40, 41, 42, 43, 44, 45, 46, 47, 48, 49, 80, 81, 82, 83, 84, 85, 86, 87, 88, 89, 90, 91, 92, 93, 94, 95, 96, 97, 98, 99, 100]  \n",
              "354                                                                                                                              [0, 1, 2, 3, 4, 5, 6, 7, 8, 9, 10, 11, 12, 13, 14, 15, 16, 17, 18, 19, 81, 82, 83, 84, 85, 86, 87, 88, 89, 90, 91, 92, 93, 94, 95, 96, 97, 98, 99, 100]  \n",
              "360                                                                                                                                                                                                                       [0, 1, 2, 3, 4, 5, 6, 7, 8, 9, 10, 11, 12, 13, 14, 15, 16, 17]  \n",
              "365                                                                                                                                                                                                                       [0, 1, 2, 3, 4, 5, 6, 7, 8, 9, 10, 11, 12, 13, 14, 15, 16, 17]  \n",
              "368                                                                                                                              [0, 1, 2, 3, 4, 5, 6, 7, 8, 9, 10, 11, 12, 13, 14, 15, 16, 17, 18, 19, 81, 82, 83, 84, 85, 86, 87, 88, 89, 90, 91, 92, 93, 94, 95, 96, 97, 98, 99, 100]  "
            ],
            "text/html": [
              "\n",
              "  <div id=\"df-5f8b1073-d869-4cdb-a64e-7c6cdc82de4f\">\n",
              "    <div class=\"colab-df-container\">\n",
              "      <div>\n",
              "<style scoped>\n",
              "    .dataframe tbody tr th:only-of-type {\n",
              "        vertical-align: middle;\n",
              "    }\n",
              "\n",
              "    .dataframe tbody tr th {\n",
              "        vertical-align: top;\n",
              "    }\n",
              "\n",
              "    .dataframe thead th {\n",
              "        text-align: right;\n",
              "    }\n",
              "</style>\n",
              "<table border=\"1\" class=\"dataframe\">\n",
              "  <thead>\n",
              "    <tr style=\"text-align: right;\">\n",
              "      <th></th>\n",
              "      <th>minimum_age</th>\n",
              "      <th>maximum_age</th>\n",
              "      <th>excluded_ages</th>\n",
              "    </tr>\n",
              "  </thead>\n",
              "  <tbody>\n",
              "    <tr>\n",
              "      <th>203</th>\n",
              "      <td>50.0</td>\n",
              "      <td>79.0</td>\n",
              "      <td>[0, 1, 2, 3, 4, 5, 6, 7, 8, 9, 10, 11, 12, 13, 14, 15, 16, 17, 18, 19, 20, 21, 22, 23, 24, 25, 26, 27, 28, 29, 30, 31, 32, 33, 34, 35, 36, 37, 38, 39, 40, 41, 42, 43, 44, 45, 46, 47, 48, 49, 80, 81, 82, 83, 84, 85, 86, 87, 88, 89, 90, 91, 92, 93, 94, 95, 96, 97, 98, 99, 100]</td>\n",
              "    </tr>\n",
              "    <tr>\n",
              "      <th>354</th>\n",
              "      <td>20.0</td>\n",
              "      <td>80.0</td>\n",
              "      <td>[0, 1, 2, 3, 4, 5, 6, 7, 8, 9, 10, 11, 12, 13, 14, 15, 16, 17, 18, 19, 81, 82, 83, 84, 85, 86, 87, 88, 89, 90, 91, 92, 93, 94, 95, 96, 97, 98, 99, 100]</td>\n",
              "    </tr>\n",
              "    <tr>\n",
              "      <th>360</th>\n",
              "      <td>18.0</td>\n",
              "      <td>NaN</td>\n",
              "      <td>[0, 1, 2, 3, 4, 5, 6, 7, 8, 9, 10, 11, 12, 13, 14, 15, 16, 17]</td>\n",
              "    </tr>\n",
              "    <tr>\n",
              "      <th>365</th>\n",
              "      <td>18.0</td>\n",
              "      <td>NaN</td>\n",
              "      <td>[0, 1, 2, 3, 4, 5, 6, 7, 8, 9, 10, 11, 12, 13, 14, 15, 16, 17]</td>\n",
              "    </tr>\n",
              "    <tr>\n",
              "      <th>368</th>\n",
              "      <td>20.0</td>\n",
              "      <td>80.0</td>\n",
              "      <td>[0, 1, 2, 3, 4, 5, 6, 7, 8, 9, 10, 11, 12, 13, 14, 15, 16, 17, 18, 19, 81, 82, 83, 84, 85, 86, 87, 88, 89, 90, 91, 92, 93, 94, 95, 96, 97, 98, 99, 100]</td>\n",
              "    </tr>\n",
              "  </tbody>\n",
              "</table>\n",
              "</div>\n",
              "      <button class=\"colab-df-convert\" onclick=\"convertToInteractive('df-5f8b1073-d869-4cdb-a64e-7c6cdc82de4f')\"\n",
              "              title=\"Convert this dataframe to an interactive table.\"\n",
              "              style=\"display:none;\">\n",
              "        \n",
              "  <svg xmlns=\"http://www.w3.org/2000/svg\" height=\"24px\"viewBox=\"0 0 24 24\"\n",
              "       width=\"24px\">\n",
              "    <path d=\"M0 0h24v24H0V0z\" fill=\"none\"/>\n",
              "    <path d=\"M18.56 5.44l.94 2.06.94-2.06 2.06-.94-2.06-.94-.94-2.06-.94 2.06-2.06.94zm-11 1L8.5 8.5l.94-2.06 2.06-.94-2.06-.94L8.5 2.5l-.94 2.06-2.06.94zm10 10l.94 2.06.94-2.06 2.06-.94-2.06-.94-.94-2.06-.94 2.06-2.06.94z\"/><path d=\"M17.41 7.96l-1.37-1.37c-.4-.4-.92-.59-1.43-.59-.52 0-1.04.2-1.43.59L10.3 9.45l-7.72 7.72c-.78.78-.78 2.05 0 2.83L4 21.41c.39.39.9.59 1.41.59.51 0 1.02-.2 1.41-.59l7.78-7.78 2.81-2.81c.8-.78.8-2.07 0-2.86zM5.41 20L4 18.59l7.72-7.72 1.47 1.35L5.41 20z\"/>\n",
              "  </svg>\n",
              "      </button>\n",
              "      \n",
              "  <style>\n",
              "    .colab-df-container {\n",
              "      display:flex;\n",
              "      flex-wrap:wrap;\n",
              "      gap: 12px;\n",
              "    }\n",
              "\n",
              "    .colab-df-convert {\n",
              "      background-color: #E8F0FE;\n",
              "      border: none;\n",
              "      border-radius: 50%;\n",
              "      cursor: pointer;\n",
              "      display: none;\n",
              "      fill: #1967D2;\n",
              "      height: 32px;\n",
              "      padding: 0 0 0 0;\n",
              "      width: 32px;\n",
              "    }\n",
              "\n",
              "    .colab-df-convert:hover {\n",
              "      background-color: #E2EBFA;\n",
              "      box-shadow: 0px 1px 2px rgba(60, 64, 67, 0.3), 0px 1px 3px 1px rgba(60, 64, 67, 0.15);\n",
              "      fill: #174EA6;\n",
              "    }\n",
              "\n",
              "    [theme=dark] .colab-df-convert {\n",
              "      background-color: #3B4455;\n",
              "      fill: #D2E3FC;\n",
              "    }\n",
              "\n",
              "    [theme=dark] .colab-df-convert:hover {\n",
              "      background-color: #434B5C;\n",
              "      box-shadow: 0px 1px 3px 1px rgba(0, 0, 0, 0.15);\n",
              "      filter: drop-shadow(0px 1px 2px rgba(0, 0, 0, 0.3));\n",
              "      fill: #FFFFFF;\n",
              "    }\n",
              "  </style>\n",
              "\n",
              "      <script>\n",
              "        const buttonEl =\n",
              "          document.querySelector('#df-5f8b1073-d869-4cdb-a64e-7c6cdc82de4f button.colab-df-convert');\n",
              "        buttonEl.style.display =\n",
              "          google.colab.kernel.accessAllowed ? 'block' : 'none';\n",
              "\n",
              "        async function convertToInteractive(key) {\n",
              "          const element = document.querySelector('#df-5f8b1073-d869-4cdb-a64e-7c6cdc82de4f');\n",
              "          const dataTable =\n",
              "            await google.colab.kernel.invokeFunction('convertToInteractive',\n",
              "                                                     [key], {});\n",
              "          if (!dataTable) return;\n",
              "\n",
              "          const docLinkHtml = 'Like what you see? Visit the ' +\n",
              "            '<a target=\"_blank\" href=https://colab.research.google.com/notebooks/data_table.ipynb>data table notebook</a>'\n",
              "            + ' to learn more about interactive tables.';\n",
              "          element.innerHTML = '';\n",
              "          dataTable['output_type'] = 'display_data';\n",
              "          await google.colab.output.renderOutput(dataTable, element);\n",
              "          const docLink = document.createElement('div');\n",
              "          docLink.innerHTML = docLinkHtml;\n",
              "          element.appendChild(docLink);\n",
              "        }\n",
              "      </script>\n",
              "    </div>\n",
              "  </div>\n",
              "  "
            ]
          },
          "metadata": {}
        }
      ],
      "source": [
        "def get_ages(min, max):\n",
        "  # generate list of excluded ages, given minimum and maximum\n",
        "  reference_ages = set( range(0, 101) )\n",
        "\n",
        "  if str(min) != 'nan' and str(max) != 'nan':\n",
        "    inc = set( range( int(min), int(max)+1 ) )\n",
        "  elif str(min) == 'nan' and str(max) != 'nan':\n",
        "    inc = set( range(0, int(max)+1 ) )\n",
        "  elif str(min) != 'nan' and str(max) == 'nan':\n",
        "    inc = set( range( int(min), 101) )\n",
        "  else:\n",
        "    inc = reference_ages\n",
        "\n",
        "  exc = sorted(list(reference_ages - inc))\n",
        "  return exc\n",
        "\n",
        "df['excluded_ages'] = df.apply(lambda x: get_ages(x.minimum_age, x.maximum_age), axis=1) \n",
        "\n",
        "display( df[['minimum_age', 'maximum_age', 'excluded_ages']].head() )"
      ]
    },
    {
      "cell_type": "code",
      "execution_count": 20,
      "metadata": {
        "colab": {
          "base_uri": "https://localhost:8080/",
          "height": 584
        },
        "id": "QqRzs6ZO_vdA",
        "outputId": "6c0889fa-c031-4d3f-8568-2033baff6531"
      },
      "outputs": [
        {
          "output_type": "stream",
          "name": "stdout",
          "text": [
            "There are 1298 clinical trials for digestive system neoplasms.\n",
            "There are 815 clinical trials for respiratory tract neoplasms.\n",
            "There are 356 clinical trials for head and neck neoplasms.\n"
          ]
        },
        {
          "output_type": "execute_result",
          "data": {
            "text/plain": [
              "(array([  0.5,   5.5,  10.5,  15.5,  20.5,  25.5,  30.5,  35.5,  40.5,\n",
              "         45.5,  50.5,  55.5,  60.5,  65.5,  70.5,  75.5,  80.5,  85.5,\n",
              "         90.5,  95.5, 100.5]), <a list of 21 Text major ticklabel objects>)"
            ]
          },
          "metadata": {},
          "execution_count": 20
        },
        {
          "output_type": "display_data",
          "data": {
            "text/plain": [
              "<Figure size 720x504 with 2 Axes>"
            ],
            "image/png": "[encoded data removed]"
          },
          "metadata": {
            "needs_background": "light"
          }
        }
      ],
      "source": [
        "# obtain subset of cancer studies\n",
        "\n",
        "# for obtaining the \"exclusion rate\" per age from 0-100 based on a search term\n",
        "def count_age_exclude(search_term, df=df):\n",
        "\n",
        "  def count_trials(sub, age):\n",
        "    where_excluded = sub[sub.excluded_ages.apply(lambda x: age in x)]\n",
        "    no_excluded = len(where_excluded)\n",
        "    return no_excluded\n",
        "\n",
        "  sub = df[df.mesh_term.str.contains(search_term)].copy(deep=True)\n",
        "  n = len(sub)\n",
        "  print(f'There are {n} clinical trials for {search_term}.')\n",
        "  ages = list( range(0,101) )\n",
        "  percent_trials = [count_trials(sub, age)/n for age in ages]\n",
        "  result = pd.DataFrame({\n",
        "    'age': ages,\n",
        "    'sub_type': [search_term] * len(ages),\n",
        "    'percent_trials': percent_trials\n",
        "  })\n",
        "  return result\n",
        "\n",
        "# for obtaining the same thing for multiple search terms\n",
        "tables = [count_age_exclude(term) for term in categories]\n",
        "lt = pd.concat(tables)\n",
        "lt['percent_trials'] = lt['percent_trials'].apply(lambda x: x*100)\n",
        "\n",
        "# pivot from long to wide\n",
        "lt_wide = pd.pivot(lt, index='age', columns = 'sub_type', values = 'percent_trials')\n",
        "lt_wide.sort_values('age', ascending=False, inplace=True)\n",
        "lt_wide.columns = lt_wide.columns.str.replace(' neoplasms','').str.title()\n",
        "\n",
        "# generate heat map\n",
        "plt.figure(figsize=(10, 7))\n",
        "sns.heatmap(lt_wide, yticklabels=5, cmap=\"Blues\", cbar_kws={'format': '%.0f%%'})\n",
        "plt.title('Percentage of Cancer Trials Excluding by Age and Cancer Type', pad=13, fontsize=18)\n",
        "plt.xlabel(\"Cancer Types\", labelpad=10, fontsize=15)\n",
        "plt.xticks(rotation=0)\n",
        "plt.ylabel(\"Age (years)\", fontsize=15)\n",
        "plt.yticks(rotation=0)"
      ]
    },
    {
      "cell_type": "markdown",
      "metadata": {
        "id": "22lH_V_FHjic"
      },
      "source": [
        "## By Gender"
      ]
    },
    {
      "cell_type": "markdown",
      "metadata": {
        "id": "Q5JbO2OjIAv9"
      },
      "source": [
        "Gender proportions across all studies and by cancer type: "
      ]
    },
    {
      "cell_type": "code",
      "execution_count": 21,
      "metadata": {
        "colab": {
          "base_uri": "https://localhost:8080/",
          "height": 174
        },
        "id": "wghV6sQ3ICTY",
        "outputId": "4ad76f2d-74ca-4929-87fb-83321f467984"
      },
      "outputs": [
        {
          "output_type": "display_data",
          "data": {
            "text/plain": [
              "                      category  excludes_males  excludes_females\n",
              "0   digestive system neoplasms        0.025424          0.001541\n",
              "1      head and neck neoplasms        0.002809          0.008427\n",
              "2  respiratory tract neoplasms        0.001227          0.000000\n",
              "0           Across All Studies        0.014176          0.002025"
            ],
            "text/html": [
              "\n",
              "  <div id=\"df-06457c5b-2771-4f45-a098-76d33f7ab2ba\">\n",
              "    <div class=\"colab-df-container\">\n",
              "      <div>\n",
              "<style scoped>\n",
              "    .dataframe tbody tr th:only-of-type {\n",
              "        vertical-align: middle;\n",
              "    }\n",
              "\n",
              "    .dataframe tbody tr th {\n",
              "        vertical-align: top;\n",
              "    }\n",
              "\n",
              "    .dataframe thead th {\n",
              "        text-align: right;\n",
              "    }\n",
              "</style>\n",
              "<table border=\"1\" class=\"dataframe\">\n",
              "  <thead>\n",
              "    <tr style=\"text-align: right;\">\n",
              "      <th></th>\n",
              "      <th>category</th>\n",
              "      <th>excludes_males</th>\n",
              "      <th>excludes_females</th>\n",
              "    </tr>\n",
              "  </thead>\n",
              "  <tbody>\n",
              "    <tr>\n",
              "      <th>0</th>\n",
              "      <td>digestive system neoplasms</td>\n",
              "      <td>0.025424</td>\n",
              "      <td>0.001541</td>\n",
              "    </tr>\n",
              "    <tr>\n",
              "      <th>1</th>\n",
              "      <td>head and neck neoplasms</td>\n",
              "      <td>0.002809</td>\n",
              "      <td>0.008427</td>\n",
              "    </tr>\n",
              "    <tr>\n",
              "      <th>2</th>\n",
              "      <td>respiratory tract neoplasms</td>\n",
              "      <td>0.001227</td>\n",
              "      <td>0.000000</td>\n",
              "    </tr>\n",
              "    <tr>\n",
              "      <th>0</th>\n",
              "      <td>Across All Studies</td>\n",
              "      <td>0.014176</td>\n",
              "      <td>0.002025</td>\n",
              "    </tr>\n",
              "  </tbody>\n",
              "</table>\n",
              "</div>\n",
              "      <button class=\"colab-df-convert\" onclick=\"convertToInteractive('df-06457c5b-2771-4f45-a098-76d33f7ab2ba')\"\n",
              "              title=\"Convert this dataframe to an interactive table.\"\n",
              "              style=\"display:none;\">\n",
              "        \n",
              "  <svg xmlns=\"http://www.w3.org/2000/svg\" height=\"24px\"viewBox=\"0 0 24 24\"\n",
              "       width=\"24px\">\n",
              "    <path d=\"M0 0h24v24H0V0z\" fill=\"none\"/>\n",
              "    <path d=\"M18.56 5.44l.94 2.06.94-2.06 2.06-.94-2.06-.94-.94-2.06-.94 2.06-2.06.94zm-11 1L8.5 8.5l.94-2.06 2.06-.94-2.06-.94L8.5 2.5l-.94 2.06-2.06.94zm10 10l.94 2.06.94-2.06 2.06-.94-2.06-.94-.94-2.06-.94 2.06-2.06.94z\"/><path d=\"M17.41 7.96l-1.37-1.37c-.4-.4-.92-.59-1.43-.59-.52 0-1.04.2-1.43.59L10.3 9.45l-7.72 7.72c-.78.78-.78 2.05 0 2.83L4 21.41c.39.39.9.59 1.41.59.51 0 1.02-.2 1.41-.59l7.78-7.78 2.81-2.81c.8-.78.8-2.07 0-2.86zM5.41 20L4 18.59l7.72-7.72 1.47 1.35L5.41 20z\"/>\n",
              "  </svg>\n",
              "      </button>\n",
              "      \n",
              "  <style>\n",
              "    .colab-df-container {\n",
              "      display:flex;\n",
              "      flex-wrap:wrap;\n",
              "      gap: 12px;\n",
              "    }\n",
              "\n",
              "    .colab-df-convert {\n",
              "      background-color: #E8F0FE;\n",
              "      border: none;\n",
              "      border-radius: 50%;\n",
              "      cursor: pointer;\n",
              "      display: none;\n",
              "      fill: #1967D2;\n",
              "      height: 32px;\n",
              "      padding: 0 0 0 0;\n",
              "      width: 32px;\n",
              "    }\n",
              "\n",
              "    .colab-df-convert:hover {\n",
              "      background-color: #E2EBFA;\n",
              "      box-shadow: 0px 1px 2px rgba(60, 64, 67, 0.3), 0px 1px 3px 1px rgba(60, 64, 67, 0.15);\n",
              "      fill: #174EA6;\n",
              "    }\n",
              "\n",
              "    [theme=dark] .colab-df-convert {\n",
              "      background-color: #3B4455;\n",
              "      fill: #D2E3FC;\n",
              "    }\n",
              "\n",
              "    [theme=dark] .colab-df-convert:hover {\n",
              "      background-color: #434B5C;\n",
              "      box-shadow: 0px 1px 3px 1px rgba(0, 0, 0, 0.15);\n",
              "      filter: drop-shadow(0px 1px 2px rgba(0, 0, 0, 0.3));\n",
              "      fill: #FFFFFF;\n",
              "    }\n",
              "  </style>\n",
              "\n",
              "      <script>\n",
              "        const buttonEl =\n",
              "          document.querySelector('#df-06457c5b-2771-4f45-a098-76d33f7ab2ba button.colab-df-convert');\n",
              "        buttonEl.style.display =\n",
              "          google.colab.kernel.accessAllowed ? 'block' : 'none';\n",
              "\n",
              "        async function convertToInteractive(key) {\n",
              "          const element = document.querySelector('#df-06457c5b-2771-4f45-a098-76d33f7ab2ba');\n",
              "          const dataTable =\n",
              "            await google.colab.kernel.invokeFunction('convertToInteractive',\n",
              "                                                     [key], {});\n",
              "          if (!dataTable) return;\n",
              "\n",
              "          const docLinkHtml = 'Like what you see? Visit the ' +\n",
              "            '<a target=\"_blank\" href=https://colab.research.google.com/notebooks/data_table.ipynb>data table notebook</a>'\n",
              "            + ' to learn more about interactive tables.';\n",
              "          element.innerHTML = '';\n",
              "          dataTable['output_type'] = 'display_data';\n",
              "          await google.colab.output.renderOutput(dataTable, element);\n",
              "          const docLink = document.createElement('div');\n",
              "          docLink.innerHTML = docLinkHtml;\n",
              "          element.appendChild(docLink);\n",
              "        }\n",
              "      </script>\n",
              "    </div>\n",
              "  </div>\n",
              "  "
            ]
          },
          "metadata": {}
        }
      ],
      "source": [
        "df['excludes_females'] = df['gender'].apply(lambda x: x == \"Male\")\n",
        "df['excludes_males'] = df['gender'].apply(lambda x: x == \"Female\")\n",
        "\n",
        "# create new dataframe to store sex exclusion data\n",
        "sex_exclusion_df = pd.DataFrame(data = list(df.category.unique()), columns = [\"category\"])\n",
        "\n",
        "# populate the dataframe with the proportion of trials in each category excluding males/females\n",
        "# reset_index() allows the columns of the rightside 'groupby-generated' df (which has multilevel indexing) to be combined with sex_exclusion_df\n",
        "sex_exclusion_df[['excludes_males', 'excludes_females']] = df.groupby(['category'])[['excludes_males', 'excludes_females']].mean().reset_index(level=0, drop=True)\n",
        "\n",
        "# add in marginal exclusion by sex across all cancer categories \n",
        "sex_exclusion_df = sex_exclusion_df.append(\n",
        "    pd.DataFrame({'category': ['Across All Studies'], \n",
        "     'excludes_males': [df.excludes_males.mean()], \n",
        "     'excludes_females': [df.excludes_females.mean()]}))\n",
        "\n",
        "display(sex_exclusion_df)\n"
      ]
    },
    {
      "cell_type": "markdown",
      "metadata": {
        "id": "i9Jj_iQLuAjI"
      },
      "source": [
        "## Exclusion Criteria"
      ]
    },
    {
      "cell_type": "code",
      "execution_count": 22,
      "metadata": {
        "colab": {
          "base_uri": "https://localhost:8080/"
        },
        "id": "0Oq2wRi8uCuG",
        "outputId": "9b14721f-7e60-4632-90af-c2ee49a6b247"
      },
      "outputs": [
        {
          "output_type": "stream",
          "name": "stdout",
          "text": [
            "No. of studies with distinct inclusion and exclusion criteria: \n",
            "True     2057\n",
            "False     412\n",
            "dtype: int64\n",
            "By category:\n",
            "digestive system neoplasms\n",
            "True     1089\n",
            "False     209\n",
            "dtype: int64\n",
            "respiratory tract neoplasms\n",
            "True     670\n",
            "False    145\n",
            "dtype: int64\n",
            "head and neck neoplasms\n",
            "True     298\n",
            "False     58\n",
            "dtype: int64\n"
          ]
        }
      ],
      "source": [
        "# summarize no. of studies with separable criteria\n",
        "crit_mask = (df.inclusion.notnull()) & (df.exclusion.notnull())\n",
        "with_crit = crit_mask.value_counts()\n",
        "print(f'''No. of studies with distinct inclusion and exclusion criteria: \n",
        "{with_crit}''')\n",
        "\n",
        "print('By category:')\n",
        "for c in categories:\n",
        "  print(c)\n",
        "  sub = df[df.category == c].copy(deep=True)\n",
        "  print( (sub.inclusion.notnull() & sub.exclusion.notnull()).value_counts() )"
      ]
    },
    {
      "cell_type": "code",
      "execution_count": 23,
      "metadata": {
        "id": "FQO57GRu8p5z"
      },
      "outputs": [],
      "source": [
        "# remove punctuation and stopwords\n",
        "\n",
        "# list down stopwords\n",
        "\n",
        "stop_words = list(get_stop_words('en'))\n",
        "nltk_words = list(stopwords.words('english')) \n",
        "stop_words.extend(nltk_words)\n",
        "stop_words = [s.translate(str.maketrans('', '', string.punctuation)) for s in stop_words]\n",
        "\n",
        "clean_string = lambda x: ' '.join([w for w in x.translate(str.maketrans('', '', string.punctuation)).split() \\\n",
        "                                   if w.lower() not in stop_words and w.isdigit() is False]) \\\n",
        "                                   if x is not None else None\n",
        "\n",
        "df['exclusion_clean'] = df['exclusion'].apply(clean_string).fillna('')"
      ]
    },
    {
      "cell_type": "code",
      "execution_count": 24,
      "metadata": {
        "id": "TAI082SauG9W",
        "colab": {
          "base_uri": "https://localhost:8080/",
          "height": 1000
        },
        "outputId": "ced84d1c-c382-4c60-f4e8-a29dbfaaec93"
      },
      "outputs": [
        {
          "output_type": "display_data",
          "data": {
            "text/plain": [
              "(WITHIN, DAYS)                           510\n",
              "(MYOCARDIAL, INFARCTION)                 493\n",
              "(HEART, FAILURE)                         474\n",
              "(WITHIN, WEEKS)                          471\n",
              "(WITHIN, MONTHS)                         406\n",
              "(CELL, CARCINOMA)                        382\n",
              "(CONGESTIVE, HEART)                      379\n",
              "(CONGESTIVE, HEART, FAILURE)             372\n",
              "(BASAL, CELL)                            349\n",
              "(CARCINOMA, SITU)                        346\n",
              "(HEPATITIS, B)                           345\n",
              "(DAYS, PRIOR)                            344\n",
              "(SKIN, CANCER)                           337\n",
              "(CENTRAL, NERVOUS)                       329\n",
              "(NERVOUS, SYSTEM)                        327\n",
              "(CENTRAL, NERVOUS, SYSTEM)               321\n",
              "(CLINICALLY, SIGNIFICANT)                318\n",
              "(WEEKS, PRIOR)                           317\n",
              "(ACTIVE, INFECTION)                      315\n",
              "(UNSTABLE, ANGINA)                       314\n",
              "(PREGNANT, LACTATING)                    305\n",
              "(WITHIN, DAYS, PRIOR)                    294\n",
              "(HUMAN, IMMUNODEFICIENCY)                288\n",
              "(IMMUNODEFICIENCY, VIRUS)                287\n",
              "(HUMAN, IMMUNODEFICIENCY, VIRUS)         285\n",
              "(SQUAMOUS, CELL)                         266\n",
              "(PREGNANT, BREASTFEEDING)                265\n",
              "(MONTHS, PRIOR)                          259\n",
              "(STUDY, TREATMENT)                       254\n",
              "(VIRUS, HIV)                             250\n",
              "(HEPATITIS, C)                           249\n",
              "(MAJOR, SURGERY)                         249\n",
              "(BASAL, CELL, CARCINOMA)                 247\n",
              "(WITHIN, YEARS)                          245\n",
              "(IMMUNODEFICIENCY, VIRUS, HIV)           245\n",
              "(AUTOIMMUNE, DISEASE)                    244\n",
              "(HUMAN, IMMUNODEFICIENCY, VIRUS, HIV)    244\n",
              "(FIRST, DOSE)                            244\n",
              "(WITHIN, WEEKS, PRIOR)                   242\n",
              "(LUNG, DISEASE)                          232\n",
              "(BRAIN, METASTASES)                      228\n",
              "(INFORMED, CONSENT)                      227\n",
              "(WITHIN, LAST)                           223\n",
              "(UNCONTROLLED, HYPERTENSION)             219\n",
              "(YORK, HEART)                            216\n",
              "(PRIOR, TREATMENT)                       215\n",
              "(NEW, YORK, HEART)                       214\n",
              "(NEW, YORK)                              214\n",
              "(HEART, ASSOCIATION)                     214\n",
              "(PRIOR, RANDOMIZATION)                   213\n",
              "(KNOWN, HISTORY)                         210\n",
              "(YORK, HEART, ASSOCIATION)               210\n",
              "(INTERSTITIAL, LUNG)                     208\n",
              "(NEW, YORK, HEART, ASSOCIATION)          208\n",
              "(CARCINOMA, SKIN)                        208\n",
              "(INFARCTION, WITHIN)                     206\n",
              "(MYOCARDIAL, INFARCTION, WITHIN)         200\n",
              "(INTERSTITIAL, LUNG, DISEASE)            199\n",
              "(STUDY, DRUG)                            198\n",
              "(LACTATING, WOMEN)                       194\n",
              "(ADEQUATELY, TREATED)                    192\n",
              "(WITHIN, PAST)                           191\n",
              "(RADIATION, THERAPY)                     190\n",
              "(ACTIVE, HEPATITIS)                      189\n",
              "(DOSE, STUDY)                            187\n",
              "(CELL, CARCINOMA, SKIN)                  186\n",
              "(SQUAMOUS, CELL, CARCINOMA)              185\n",
              "(SYSTEMIC, TREATMENT)                    185\n",
              "(HIV, INFECTION)                         184\n",
              "(PRIOR, STUDY)                           183\n",
              "(PRIOR, FIRST)                           181\n",
              "(THERAPY, WITHIN)                        178\n",
              "(NONMELANOMA, SKIN)                      178\n",
              "(WITHIN, MONTHS, PRIOR)                  176\n",
              "(PREGNANT, LACTATING, WOMEN)             175\n",
              "(FIRST, DOSE, STUDY)                     174\n",
              "(CARDIOVASCULAR, DISEASE)                174\n",
              "(CHILDBEARING, POTENTIAL)                170\n",
              "(CLINICAL, TRIAL)                        166\n",
              "(PAST, YEARS)                            165\n",
              "(ACTIVE, AUTOIMMUNE)                     165\n",
              "(YEARS, PRIOR)                           162\n",
              "(NERVOUS, SYSTEM, CNS)                   158\n",
              "(SYSTEM, CNS)                            158\n",
              "(CENTRAL, NERVOUS, SYSTEM, CNS)          156\n",
              "(NONMELANOMA, SKIN, CANCER)              156\n",
              "(INCLUDING, LIMITED)                     155\n",
              "(METASTATIC, DISEASE)                    155\n",
              "(CNS, METASTASES)                        155\n",
              "(ANTICANCER, THERAPY)                    152\n",
              "(PRIOR, CHEMOTHERAPY)                    152\n",
              "(HEART, DISEASE)                         151\n",
              "(CARDIAC, DISEASE)                       151\n",
              "(WOMEN, CHILDBEARING)                    150\n",
              "(STUDY, ENTRY)                           149\n",
              "(PRIOR, FIRST, DOSE)                     145\n",
              "(SURGERY, WITHIN)                        142\n",
              "(REQUIRING, SYSTEMIC)                    141\n",
              "(BASAL, CELL, CARCINOMA, SKIN)           141\n",
              "(PERIPHERAL, NEUROPATHY)                 141\n",
              "dtype: int64"
            ]
          },
          "metadata": {}
        }
      ],
      "source": [
        "# view common n-grams (length of 2 to 4)\n",
        "to_ngram = lambda x: set(everygrams(x.split(), min_len=2, max_len=5)) if x != '' else None\n",
        "ngrams = df.exclusion_clean.apply(to_ngram)\n",
        "all_ngrams = list(itertools.chain.from_iterable([s for s in ngrams if s is not None]))\n",
        "ngram_count = pd.Series(all_ngrams).value_counts()\n",
        "display( ngram_count.head(100) )"
      ]
    },
    {
      "cell_type": "code",
      "execution_count": 25,
      "metadata": {
        "id": "IQE1br5Wk-we"
      },
      "outputs": [],
      "source": [
        "## keyword library\n",
        "keywords = {\n",
        "    'heart_issues': [\n",
        "        'CONGESTIVE HEART','HEART FAILURE','ANGINA','ISCHEMIC HEART',\n",
        "        'CORONARY DISEASE','CORONARY ARTERY DISEASE', 'HYPERTENSION','MYOCARDIAL',\n",
        "        'CARDIAC','CARDIOVASC','ARRHYTHMIA','ARRYTHMIA','HIGH BLOOD PRESSURE'\n",
        "        ],\n",
        "    'hiv': [\n",
        "        'HIV-','-HIV',',HIV','HIV/AIDS','(HIV)','KNOWN HIV',\n",
        "        'PROVEN HIV','HIV POSITIV','HIV-POSITIV','HUMAN IMMUNODEFICIENCY',\n",
        "        'OR HIV','HIV INFECT','HIV-INFECT',' HIV'\n",
        "        ],\n",
        "    'pregnant': ['PREGNAN'],\n",
        "    'breastfeeding': ['LACTATING','LACTATION','BREAST FEED','BREAST-FEED', 'BREAST- FEED','BREASTFEED'],\n",
        "    'psychosis': [\n",
        "        'PSYCH', 'DEPRESSI', 'ANXIETY', 'SCHIZOPHRENI', 'MENTAL ILLNESS', \n",
        "        'MENTAL DISORDER'\n",
        "        ]\n",
        "}"
      ]
    },
    {
      "cell_type": "code",
      "execution_count": 26,
      "metadata": {
        "id": "Y8RIvlTNuHZP",
        "colab": {
          "base_uri": "https://localhost:8080/",
          "height": 561
        },
        "outputId": "f44e1745-a009-4d0f-88a9-b739a5a6c141"
      },
      "outputs": [
        {
          "output_type": "display_data",
          "data": {
            "text/plain": [
              "  exclusion_criteria  no_trials  total_trials  percent_trials\n",
              "2           pregnant       1201          2469       48.643175\n",
              "0       heart_issues       1043          2469       42.243823\n",
              "3      breastfeeding       1004          2469       40.664237\n",
              "4          psychosis        594          2469       24.058323\n",
              "1                hiv        536          2469       21.709194"
            ],
            "text/html": [
              "\n",
              "  <div id=\"df-28c04d31-66c5-4443-a4f4-7e216da9d330\">\n",
              "    <div class=\"colab-df-container\">\n",
              "      <div>\n",
              "<style scoped>\n",
              "    .dataframe tbody tr th:only-of-type {\n",
              "        vertical-align: middle;\n",
              "    }\n",
              "\n",
              "    .dataframe tbody tr th {\n",
              "        vertical-align: top;\n",
              "    }\n",
              "\n",
              "    .dataframe thead th {\n",
              "        text-align: right;\n",
              "    }\n",
              "</style>\n",
              "<table border=\"1\" class=\"dataframe\">\n",
              "  <thead>\n",
              "    <tr style=\"text-align: right;\">\n",
              "      <th></th>\n",
              "      <th>exclusion_criteria</th>\n",
              "      <th>no_trials</th>\n",
              "      <th>total_trials</th>\n",
              "      <th>percent_trials</th>\n",
              "    </tr>\n",
              "  </thead>\n",
              "  <tbody>\n",
              "    <tr>\n",
              "      <th>2</th>\n",
              "      <td>pregnant</td>\n",
              "      <td>1201</td>\n",
              "      <td>2469</td>\n",
              "      <td>48.643175</td>\n",
              "    </tr>\n",
              "    <tr>\n",
              "      <th>0</th>\n",
              "      <td>heart_issues</td>\n",
              "      <td>1043</td>\n",
              "      <td>2469</td>\n",
              "      <td>42.243823</td>\n",
              "    </tr>\n",
              "    <tr>\n",
              "      <th>3</th>\n",
              "      <td>breastfeeding</td>\n",
              "      <td>1004</td>\n",
              "      <td>2469</td>\n",
              "      <td>40.664237</td>\n",
              "    </tr>\n",
              "    <tr>\n",
              "      <th>4</th>\n",
              "      <td>psychosis</td>\n",
              "      <td>594</td>\n",
              "      <td>2469</td>\n",
              "      <td>24.058323</td>\n",
              "    </tr>\n",
              "    <tr>\n",
              "      <th>1</th>\n",
              "      <td>hiv</td>\n",
              "      <td>536</td>\n",
              "      <td>2469</td>\n",
              "      <td>21.709194</td>\n",
              "    </tr>\n",
              "  </tbody>\n",
              "</table>\n",
              "</div>\n",
              "      <button class=\"colab-df-convert\" onclick=\"convertToInteractive('df-28c04d31-66c5-4443-a4f4-7e216da9d330')\"\n",
              "              title=\"Convert this dataframe to an interactive table.\"\n",
              "              style=\"display:none;\">\n",
              "        \n",
              "  <svg xmlns=\"http://www.w3.org/2000/svg\" height=\"24px\"viewBox=\"0 0 24 24\"\n",
              "       width=\"24px\">\n",
              "    <path d=\"M0 0h24v24H0V0z\" fill=\"none\"/>\n",
              "    <path d=\"M18.56 5.44l.94 2.06.94-2.06 2.06-.94-2.06-.94-.94-2.06-.94 2.06-2.06.94zm-11 1L8.5 8.5l.94-2.06 2.06-.94-2.06-.94L8.5 2.5l-.94 2.06-2.06.94zm10 10l.94 2.06.94-2.06 2.06-.94-2.06-.94-.94-2.06-.94 2.06-2.06.94z\"/><path d=\"M17.41 7.96l-1.37-1.37c-.4-.4-.92-.59-1.43-.59-.52 0-1.04.2-1.43.59L10.3 9.45l-7.72 7.72c-.78.78-.78 2.05 0 2.83L4 21.41c.39.39.9.59 1.41.59.51 0 1.02-.2 1.41-.59l7.78-7.78 2.81-2.81c.8-.78.8-2.07 0-2.86zM5.41 20L4 18.59l7.72-7.72 1.47 1.35L5.41 20z\"/>\n",
              "  </svg>\n",
              "      </button>\n",
              "      \n",
              "  <style>\n",
              "    .colab-df-container {\n",
              "      display:flex;\n",
              "      flex-wrap:wrap;\n",
              "      gap: 12px;\n",
              "    }\n",
              "\n",
              "    .colab-df-convert {\n",
              "      background-color: #E8F0FE;\n",
              "      border: none;\n",
              "      border-radius: 50%;\n",
              "      cursor: pointer;\n",
              "      display: none;\n",
              "      fill: #1967D2;\n",
              "      height: 32px;\n",
              "      padding: 0 0 0 0;\n",
              "      width: 32px;\n",
              "    }\n",
              "\n",
              "    .colab-df-convert:hover {\n",
              "      background-color: #E2EBFA;\n",
              "      box-shadow: 0px 1px 2px rgba(60, 64, 67, 0.3), 0px 1px 3px 1px rgba(60, 64, 67, 0.15);\n",
              "      fill: #174EA6;\n",
              "    }\n",
              "\n",
              "    [theme=dark] .colab-df-convert {\n",
              "      background-color: #3B4455;\n",
              "      fill: #D2E3FC;\n",
              "    }\n",
              "\n",
              "    [theme=dark] .colab-df-convert:hover {\n",
              "      background-color: #434B5C;\n",
              "      box-shadow: 0px 1px 3px 1px rgba(0, 0, 0, 0.15);\n",
              "      filter: drop-shadow(0px 1px 2px rgba(0, 0, 0, 0.3));\n",
              "      fill: #FFFFFF;\n",
              "    }\n",
              "  </style>\n",
              "\n",
              "      <script>\n",
              "        const buttonEl =\n",
              "          document.querySelector('#df-28c04d31-66c5-4443-a4f4-7e216da9d330 button.colab-df-convert');\n",
              "        buttonEl.style.display =\n",
              "          google.colab.kernel.accessAllowed ? 'block' : 'none';\n",
              "\n",
              "        async function convertToInteractive(key) {\n",
              "          const element = document.querySelector('#df-28c04d31-66c5-4443-a4f4-7e216da9d330');\n",
              "          const dataTable =\n",
              "            await google.colab.kernel.invokeFunction('convertToInteractive',\n",
              "                                                     [key], {});\n",
              "          if (!dataTable) return;\n",
              "\n",
              "          const docLinkHtml = 'Like what you see? Visit the ' +\n",
              "            '<a target=\"_blank\" href=https://colab.research.google.com/notebooks/data_table.ipynb>data table notebook</a>'\n",
              "            + ' to learn more about interactive tables.';\n",
              "          element.innerHTML = '';\n",
              "          dataTable['output_type'] = 'display_data';\n",
              "          await google.colab.output.renderOutput(dataTable, element);\n",
              "          const docLink = document.createElement('div');\n",
              "          docLink.innerHTML = docLinkHtml;\n",
              "          element.appendChild(docLink);\n",
              "        }\n",
              "      </script>\n",
              "    </div>\n",
              "  </div>\n",
              "  "
            ]
          },
          "metadata": {}
        },
        {
          "output_type": "display_data",
          "data": {
            "text/plain": [
              "<Figure size 504x360 with 1 Axes>"
            ],
            "image/png": "[encoded data removed]"
          },
          "metadata": {
            "needs_background": "light"
          }
        }
      ],
      "source": [
        "exclusion_dfs = []\n",
        "\n",
        "for key in keywords.keys():\n",
        "  search_terms = keywords[key]\n",
        "  terms_col = f'{key}_terms'\n",
        "  df[terms_col] = df.exclusion.apply(lambda x: [term for term in search_terms if term in x] \\\n",
        "                                     if x is not None else [])\n",
        "  df[key] = df[terms_col].apply(lambda x: len(x) > 0)\n",
        "\n",
        "  # summarize the % of studies per category\n",
        "  for c in categories:\n",
        "    cat_mask = (df.category.apply(lambda x: c in x))\n",
        "    exclusion_sub = {\n",
        "        'exclusion_criteria': key,\n",
        "        'cancer_category': c,\n",
        "        'no_trials': len(df[df[key] & cat_mask]),\n",
        "        'total_trials': len(df[cat_mask]),\n",
        "        'percent_trials': len(df[df[key] & cat_mask])*100 / len(df[cat_mask])\n",
        "    }\n",
        "    exclusion_dfs.append(exclusion_sub)\n",
        "\n",
        "# create top-level summary of exclusion criteria present\n",
        "exc_top = df[list(keywords.keys())].agg(['sum','mean']).transpose().reset_index()\n",
        "exc_top.rename(columns = {'index': 'exclusion_criteria', \n",
        "                          'sum': 'no_trials',\n",
        "                          'mean': 'percent_trials'}, inplace=True)\n",
        "exc_top['no_trials'] = exc_top['no_trials'].astype(int)\n",
        "exc_top['total_trials'] = len(df)\n",
        "exc_top['percent_trials'] = exc_top['percent_trials'] * 100\n",
        "exc_top = exc_top[['exclusion_criteria', 'no_trials', 'total_trials', 'percent_trials']]\n",
        "exc_top.sort_values('no_trials', ascending=False, inplace=True)\n",
        "display(exc_top)\n",
        "\n",
        "# plot the top-level summary\n",
        "criteria_map = {\n",
        "    'pregnant': 'Pregnant',\n",
        "    'heart_issues': 'Heart Issues',\n",
        "    'breastfeeding': 'Breastfeeding',\n",
        "    'psychosis': 'Psychiatric Disorders',\n",
        "    'hiv': 'HIV'\n",
        "}\n",
        "\n",
        "exc_top['exclusion_criteria'] = exc_top['exclusion_criteria'].map(criteria_map)\n",
        "plt.figure(figsize=(7, 5))\n",
        "ax = sns.barplot(data=exc_top, x='percent_trials', y='exclusion_criteria',\n",
        "            color='tab:blue')\n",
        "ax.set_title('Percentage of Cancer Trials Excluding by Condition', pad=13, fontsize=18)\n",
        "ax.set_xlabel('Cancer Trials', labelpad=10, fontsize = 15)\n",
        "ax.set_ylabel('Condition', labelpad=10, fontsize = 15)\n",
        "ax.xaxis.set_major_formatter(mtick.PercentFormatter())\n",
        "plt.show()\n",
        "\n",
        "# collect per-criteria summaries into one table\n",
        "exc_summary = pd.DataFrame(exclusion_dfs).sort_values(['cancer_category','exclusion_criteria'])"
      ]
    },
    {
      "cell_type": "code",
      "execution_count": 27,
      "metadata": {
        "id": "4FDjbg_Kew2Q",
        "colab": {
          "base_uri": "https://localhost:8080/",
          "height": 1000
        },
        "outputId": "cc654c6f-138a-41aa-fbf5-5aba4a553c79"
      },
      "outputs": [
        {
          "output_type": "display_data",
          "data": {
            "text/plain": [
              "                                                no_trials\n",
              "cancer_category             exclusion_criteria           \n",
              "digestive system neoplasms  heart_issues              585\n",
              "                            hiv                       251\n",
              "                            pregnant                  672\n",
              "                            breastfeeding             548\n",
              "                            psychosis                 329\n",
              "head and neck neoplasms     heart_issues              122\n",
              "                            hiv                        63\n",
              "                            pregnant                  190\n",
              "                            breastfeeding             162\n",
              "                            psychosis                  85\n",
              "respiratory tract neoplasms heart_issues              336\n",
              "                            hiv                       222\n",
              "                            pregnant                  339\n",
              "                            breastfeeding             294\n",
              "                            psychosis                 180"
            ],
            "text/html": [
              "\n",
              "  <div id=\"df-46772197-8c83-45ad-a33d-bde519a880c6\">\n",
              "    <div class=\"colab-df-container\">\n",
              "      <div>\n",
              "<style scoped>\n",
              "    .dataframe tbody tr th:only-of-type {\n",
              "        vertical-align: middle;\n",
              "    }\n",
              "\n",
              "    .dataframe tbody tr th {\n",
              "        vertical-align: top;\n",
              "    }\n",
              "\n",
              "    .dataframe thead th {\n",
              "        text-align: right;\n",
              "    }\n",
              "</style>\n",
              "<table border=\"1\" class=\"dataframe\">\n",
              "  <thead>\n",
              "    <tr style=\"text-align: right;\">\n",
              "      <th></th>\n",
              "      <th></th>\n",
              "      <th>no_trials</th>\n",
              "    </tr>\n",
              "    <tr>\n",
              "      <th>cancer_category</th>\n",
              "      <th>exclusion_criteria</th>\n",
              "      <th></th>\n",
              "    </tr>\n",
              "  </thead>\n",
              "  <tbody>\n",
              "    <tr>\n",
              "      <th rowspan=\"5\" valign=\"top\">digestive system neoplasms</th>\n",
              "      <th>heart_issues</th>\n",
              "      <td>585</td>\n",
              "    </tr>\n",
              "    <tr>\n",
              "      <th>hiv</th>\n",
              "      <td>251</td>\n",
              "    </tr>\n",
              "    <tr>\n",
              "      <th>pregnant</th>\n",
              "      <td>672</td>\n",
              "    </tr>\n",
              "    <tr>\n",
              "      <th>breastfeeding</th>\n",
              "      <td>548</td>\n",
              "    </tr>\n",
              "    <tr>\n",
              "      <th>psychosis</th>\n",
              "      <td>329</td>\n",
              "    </tr>\n",
              "    <tr>\n",
              "      <th rowspan=\"5\" valign=\"top\">head and neck neoplasms</th>\n",
              "      <th>heart_issues</th>\n",
              "      <td>122</td>\n",
              "    </tr>\n",
              "    <tr>\n",
              "      <th>hiv</th>\n",
              "      <td>63</td>\n",
              "    </tr>\n",
              "    <tr>\n",
              "      <th>pregnant</th>\n",
              "      <td>190</td>\n",
              "    </tr>\n",
              "    <tr>\n",
              "      <th>breastfeeding</th>\n",
              "      <td>162</td>\n",
              "    </tr>\n",
              "    <tr>\n",
              "      <th>psychosis</th>\n",
              "      <td>85</td>\n",
              "    </tr>\n",
              "    <tr>\n",
              "      <th rowspan=\"5\" valign=\"top\">respiratory tract neoplasms</th>\n",
              "      <th>heart_issues</th>\n",
              "      <td>336</td>\n",
              "    </tr>\n",
              "    <tr>\n",
              "      <th>hiv</th>\n",
              "      <td>222</td>\n",
              "    </tr>\n",
              "    <tr>\n",
              "      <th>pregnant</th>\n",
              "      <td>339</td>\n",
              "    </tr>\n",
              "    <tr>\n",
              "      <th>breastfeeding</th>\n",
              "      <td>294</td>\n",
              "    </tr>\n",
              "    <tr>\n",
              "      <th>psychosis</th>\n",
              "      <td>180</td>\n",
              "    </tr>\n",
              "  </tbody>\n",
              "</table>\n",
              "</div>\n",
              "      <button class=\"colab-df-convert\" onclick=\"convertToInteractive('df-46772197-8c83-45ad-a33d-bde519a880c6')\"\n",
              "              title=\"Convert this dataframe to an interactive table.\"\n",
              "              style=\"display:none;\">\n",
              "        \n",
              "  <svg xmlns=\"http://www.w3.org/2000/svg\" height=\"24px\"viewBox=\"0 0 24 24\"\n",
              "       width=\"24px\">\n",
              "    <path d=\"M0 0h24v24H0V0z\" fill=\"none\"/>\n",
              "    <path d=\"M18.56 5.44l.94 2.06.94-2.06 2.06-.94-2.06-.94-.94-2.06-.94 2.06-2.06.94zm-11 1L8.5 8.5l.94-2.06 2.06-.94-2.06-.94L8.5 2.5l-.94 2.06-2.06.94zm10 10l.94 2.06.94-2.06 2.06-.94-2.06-.94-.94-2.06-.94 2.06-2.06.94z\"/><path d=\"M17.41 7.96l-1.37-1.37c-.4-.4-.92-.59-1.43-.59-.52 0-1.04.2-1.43.59L10.3 9.45l-7.72 7.72c-.78.78-.78 2.05 0 2.83L4 21.41c.39.39.9.59 1.41.59.51 0 1.02-.2 1.41-.59l7.78-7.78 2.81-2.81c.8-.78.8-2.07 0-2.86zM5.41 20L4 18.59l7.72-7.72 1.47 1.35L5.41 20z\"/>\n",
              "  </svg>\n",
              "      </button>\n",
              "      \n",
              "  <style>\n",
              "    .colab-df-container {\n",
              "      display:flex;\n",
              "      flex-wrap:wrap;\n",
              "      gap: 12px;\n",
              "    }\n",
              "\n",
              "    .colab-df-convert {\n",
              "      background-color: #E8F0FE;\n",
              "      border: none;\n",
              "      border-radius: 50%;\n",
              "      cursor: pointer;\n",
              "      display: none;\n",
              "      fill: #1967D2;\n",
              "      height: 32px;\n",
              "      padding: 0 0 0 0;\n",
              "      width: 32px;\n",
              "    }\n",
              "\n",
              "    .colab-df-convert:hover {\n",
              "      background-color: #E2EBFA;\n",
              "      box-shadow: 0px 1px 2px rgba(60, 64, 67, 0.3), 0px 1px 3px 1px rgba(60, 64, 67, 0.15);\n",
              "      fill: #174EA6;\n",
              "    }\n",
              "\n",
              "    [theme=dark] .colab-df-convert {\n",
              "      background-color: #3B4455;\n",
              "      fill: #D2E3FC;\n",
              "    }\n",
              "\n",
              "    [theme=dark] .colab-df-convert:hover {\n",
              "      background-color: #434B5C;\n",
              "      box-shadow: 0px 1px 3px 1px rgba(0, 0, 0, 0.15);\n",
              "      filter: drop-shadow(0px 1px 2px rgba(0, 0, 0, 0.3));\n",
              "      fill: #FFFFFF;\n",
              "    }\n",
              "  </style>\n",
              "\n",
              "      <script>\n",
              "        const buttonEl =\n",
              "          document.querySelector('#df-46772197-8c83-45ad-a33d-bde519a880c6 button.colab-df-convert');\n",
              "        buttonEl.style.display =\n",
              "          google.colab.kernel.accessAllowed ? 'block' : 'none';\n",
              "\n",
              "        async function convertToInteractive(key) {\n",
              "          const element = document.querySelector('#df-46772197-8c83-45ad-a33d-bde519a880c6');\n",
              "          const dataTable =\n",
              "            await google.colab.kernel.invokeFunction('convertToInteractive',\n",
              "                                                     [key], {});\n",
              "          if (!dataTable) return;\n",
              "\n",
              "          const docLinkHtml = 'Like what you see? Visit the ' +\n",
              "            '<a target=\"_blank\" href=https://colab.research.google.com/notebooks/data_table.ipynb>data table notebook</a>'\n",
              "            + ' to learn more about interactive tables.';\n",
              "          element.innerHTML = '';\n",
              "          dataTable['output_type'] = 'display_data';\n",
              "          await google.colab.output.renderOutput(dataTable, element);\n",
              "          const docLink = document.createElement('div');\n",
              "          docLink.innerHTML = docLinkHtml;\n",
              "          element.appendChild(docLink);\n",
              "        }\n",
              "      </script>\n",
              "    </div>\n",
              "  </div>\n",
              "  "
            ]
          },
          "metadata": {}
        },
        {
          "output_type": "display_data",
          "data": {
            "text/plain": [
              "<Figure size 720x648 with 2 Axes>"
            ],
            "image/png": "[encoded data removed]"
          },
          "metadata": {
            "needs_background": "light"
          }
        }
      ],
      "source": [
        "## generate heatmap\n",
        "\n",
        "# sort exclusion criteria by no. of studies affected\n",
        "order = sorted(keywords.keys(), key=lambda x: len(df[x]), reverse=True)\n",
        "exc_summary['exclusion_criteria'] = pd.Categorical(exc_summary['exclusion_criteria'], order)\n",
        "exc_wide = pd.pivot(exc_summary[['exclusion_criteria','cancer_category','percent_trials']].copy(deep=True), \n",
        "                    index='exclusion_criteria', \n",
        "                    columns = 'cancer_category', \n",
        "                    values = 'percent_trials')\n",
        "\n",
        "# display the no. of trials by cancer category and exclusion criteria\n",
        "exc_count = exc_summary.groupby(['cancer_category','exclusion_criteria']).no_trials.sum().to_frame()\n",
        "display(exc_count)\n",
        "\n",
        "# plot the wide-format table\n",
        "exc_wide.columns = exc_wide.columns.str.replace(' neoplasm','').str.strip().str.title()\n",
        "exc_wide.index = exc_wide.index.values.map(criteria_map)\n",
        "exc_wide.sort_values('Digestive Systems', ascending=False, inplace=True)\n",
        "plt.figure(figsize=(10,9))\n",
        "ax = sns.heatmap(exc_wide, cmap=\"Blues\", annot=True, annot_kws={\"size\": 15}, fmt = '.1f', cbar_kws={'format': '%.0f%%'})\n",
        "ax.patch.set_facecolor('xkcd:white')\n",
        "ax.set_title('Percentage of Cancer Trial Excluding by Condition and Cancer Type', pad=13, fontsize=18)\n",
        "ax.set_ylabel('Condition', fontsize = 15)\n",
        "ax.set_xlabel('Cancer Types', labelpad=10, fontsize=15)\n",
        "plt.xticks(rotation=0)\n",
        "plt.show()"
      ]
    },
    {
      "cell_type": "markdown",
      "metadata": {
        "id": "vHTzYe7V21ns"
      },
      "source": [
        "# Time Trends"
      ]
    },
    {
      "cell_type": "markdown",
      "metadata": {
        "id": "NY9bamof7DWE"
      },
      "source": [
        "Create New dataframe for Studies without Start Year, Report initial summary statistics "
      ]
    },
    {
      "cell_type": "code",
      "execution_count": 28,
      "metadata": {
        "id": "m3sqRGrEX2Vk",
        "colab": {
          "base_uri": "https://localhost:8080/",
          "height": 620
        },
        "outputId": "57960667-e819-43a9-f434-a6d0e5de77af"
      },
      "outputs": [
        {
          "output_type": "stream",
          "name": "stdout",
          "text": [
            "Original number of studies: 2469\n",
            "Number of studies with recorded start year: 2469\n",
            "Earliest start year: 1971\n",
            "Lastest start year: 2023\n"
          ]
        },
        {
          "output_type": "display_data",
          "data": {
            "text/plain": [
              "<Figure size 432x288 with 1 Axes>"
            ],
            "image/png": "[encoded data removed]"
          },
          "metadata": {
            "needs_background": "light"
          }
        },
        {
          "output_type": "stream",
          "name": "stdout",
          "text": [
            "Earliest start year allowed: 2008\n",
            "Number of studies after and including 2008: 1794\n"
          ]
        },
        {
          "output_type": "display_data",
          "data": {
            "text/plain": [
              "<Figure size 432x288 with 1 Axes>"
            ],
            "image/png": "[encoded data removed]"
          },
          "metadata": {
            "needs_background": "light"
          }
        }
      ],
      "source": [
        "time_trend_df = df.copy()\n",
        "print(f'Original number of studies: {len(time_trend_df)}')\n",
        "\n",
        "# get rid of rows(i.e., studies) that do not have a start year and therefore do not fall into a year bin.\n",
        "# this is important to do since we are looking at time trend data.\n",
        "# I need to change this to a mask ...\n",
        "time_trend_df = time_trend_df[time_trend_df.start_year != \"None\"]\n",
        "print(f'Number of studies with recorded start year: {len(time_trend_df)}')\n",
        "\n",
        "# ror all studies with start years: min and max start year, histogram of start years \n",
        "print(f'Earliest start year: {int(time_trend_df[\"start_year\"].min())}')\n",
        "print(f'Lastest start year: {int(time_trend_df[\"start_year\"].max())}')\n",
        "fig = plt.hist(time_trend_df[\"start_year\"])\n",
        "plt.show()\n",
        "\n",
        "# remove all studies before a given year\n",
        "earliest_start_year_allowed = 2008\n",
        "time_trend_df = time_trend_df[time_trend_df.start_year >= earliest_start_year_allowed]\n",
        "print(f'Earliest start year allowed: {earliest_start_year_allowed}')\n",
        "print(f'Number of studies after and including {earliest_start_year_allowed}: {len(time_trend_df)}')\n",
        "fig = plt.hist(time_trend_df[\"start_year\"])\n",
        "plt.show()"
      ]
    },
    {
      "cell_type": "markdown",
      "metadata": {
        "id": "Wbp2SHv668Vk"
      },
      "source": [
        "Create Year Group Category Column"
      ]
    },
    {
      "cell_type": "code",
      "execution_count": 29,
      "metadata": {
        "id": "4J92MRD1n5nZ",
        "colab": {
          "base_uri": "https://localhost:8080/",
          "height": 206
        },
        "outputId": "ca015d7b-d100-454d-ab2b-762e80d49a70"
      },
      "outputs": [
        {
          "output_type": "display_data",
          "data": {
            "text/plain": [
              "       start_year      year_bin\n",
              "10022      2008.0  [2008, 2012)\n",
              "10221      2008.0  [2008, 2012)\n",
              "10406      2008.0  [2008, 2012)\n",
              "10423      2008.0  [2008, 2012)\n",
              "10433      2008.0  [2008, 2012)"
            ],
            "text/html": [
              "\n",
              "  <div id=\"df-12567220-6833-4164-960e-cdd6ad5cb049\">\n",
              "    <div class=\"colab-df-container\">\n",
              "      <div>\n",
              "<style scoped>\n",
              "    .dataframe tbody tr th:only-of-type {\n",
              "        vertical-align: middle;\n",
              "    }\n",
              "\n",
              "    .dataframe tbody tr th {\n",
              "        vertical-align: top;\n",
              "    }\n",
              "\n",
              "    .dataframe thead th {\n",
              "        text-align: right;\n",
              "    }\n",
              "</style>\n",
              "<table border=\"1\" class=\"dataframe\">\n",
              "  <thead>\n",
              "    <tr style=\"text-align: right;\">\n",
              "      <th></th>\n",
              "      <th>start_year</th>\n",
              "      <th>year_bin</th>\n",
              "    </tr>\n",
              "  </thead>\n",
              "  <tbody>\n",
              "    <tr>\n",
              "      <th>10022</th>\n",
              "      <td>2008.0</td>\n",
              "      <td>[2008, 2012)</td>\n",
              "    </tr>\n",
              "    <tr>\n",
              "      <th>10221</th>\n",
              "      <td>2008.0</td>\n",
              "      <td>[2008, 2012)</td>\n",
              "    </tr>\n",
              "    <tr>\n",
              "      <th>10406</th>\n",
              "      <td>2008.0</td>\n",
              "      <td>[2008, 2012)</td>\n",
              "    </tr>\n",
              "    <tr>\n",
              "      <th>10423</th>\n",
              "      <td>2008.0</td>\n",
              "      <td>[2008, 2012)</td>\n",
              "    </tr>\n",
              "    <tr>\n",
              "      <th>10433</th>\n",
              "      <td>2008.0</td>\n",
              "      <td>[2008, 2012)</td>\n",
              "    </tr>\n",
              "  </tbody>\n",
              "</table>\n",
              "</div>\n",
              "      <button class=\"colab-df-convert\" onclick=\"convertToInteractive('df-12567220-6833-4164-960e-cdd6ad5cb049')\"\n",
              "              title=\"Convert this dataframe to an interactive table.\"\n",
              "              style=\"display:none;\">\n",
              "        \n",
              "  <svg xmlns=\"http://www.w3.org/2000/svg\" height=\"24px\"viewBox=\"0 0 24 24\"\n",
              "       width=\"24px\">\n",
              "    <path d=\"M0 0h24v24H0V0z\" fill=\"none\"/>\n",
              "    <path d=\"M18.56 5.44l.94 2.06.94-2.06 2.06-.94-2.06-.94-.94-2.06-.94 2.06-2.06.94zm-11 1L8.5 8.5l.94-2.06 2.06-.94-2.06-.94L8.5 2.5l-.94 2.06-2.06.94zm10 10l.94 2.06.94-2.06 2.06-.94-2.06-.94-.94-2.06-.94 2.06-2.06.94z\"/><path d=\"M17.41 7.96l-1.37-1.37c-.4-.4-.92-.59-1.43-.59-.52 0-1.04.2-1.43.59L10.3 9.45l-7.72 7.72c-.78.78-.78 2.05 0 2.83L4 21.41c.39.39.9.59 1.41.59.51 0 1.02-.2 1.41-.59l7.78-7.78 2.81-2.81c.8-.78.8-2.07 0-2.86zM5.41 20L4 18.59l7.72-7.72 1.47 1.35L5.41 20z\"/>\n",
              "  </svg>\n",
              "      </button>\n",
              "      \n",
              "  <style>\n",
              "    .colab-df-container {\n",
              "      display:flex;\n",
              "      flex-wrap:wrap;\n",
              "      gap: 12px;\n",
              "    }\n",
              "\n",
              "    .colab-df-convert {\n",
              "      background-color: #E8F0FE;\n",
              "      border: none;\n",
              "      border-radius: 50%;\n",
              "      cursor: pointer;\n",
              "      display: none;\n",
              "      fill: #1967D2;\n",
              "      height: 32px;\n",
              "      padding: 0 0 0 0;\n",
              "      width: 32px;\n",
              "    }\n",
              "\n",
              "    .colab-df-convert:hover {\n",
              "      background-color: #E2EBFA;\n",
              "      box-shadow: 0px 1px 2px rgba(60, 64, 67, 0.3), 0px 1px 3px 1px rgba(60, 64, 67, 0.15);\n",
              "      fill: #174EA6;\n",
              "    }\n",
              "\n",
              "    [theme=dark] .colab-df-convert {\n",
              "      background-color: #3B4455;\n",
              "      fill: #D2E3FC;\n",
              "    }\n",
              "\n",
              "    [theme=dark] .colab-df-convert:hover {\n",
              "      background-color: #434B5C;\n",
              "      box-shadow: 0px 1px 3px 1px rgba(0, 0, 0, 0.15);\n",
              "      filter: drop-shadow(0px 1px 2px rgba(0, 0, 0, 0.3));\n",
              "      fill: #FFFFFF;\n",
              "    }\n",
              "  </style>\n",
              "\n",
              "      <script>\n",
              "        const buttonEl =\n",
              "          document.querySelector('#df-12567220-6833-4164-960e-cdd6ad5cb049 button.colab-df-convert');\n",
              "        buttonEl.style.display =\n",
              "          google.colab.kernel.accessAllowed ? 'block' : 'none';\n",
              "\n",
              "        async function convertToInteractive(key) {\n",
              "          const element = document.querySelector('#df-12567220-6833-4164-960e-cdd6ad5cb049');\n",
              "          const dataTable =\n",
              "            await google.colab.kernel.invokeFunction('convertToInteractive',\n",
              "                                                     [key], {});\n",
              "          if (!dataTable) return;\n",
              "\n",
              "          const docLinkHtml = 'Like what you see? Visit the ' +\n",
              "            '<a target=\"_blank\" href=https://colab.research.google.com/notebooks/data_table.ipynb>data table notebook</a>'\n",
              "            + ' to learn more about interactive tables.';\n",
              "          element.innerHTML = '';\n",
              "          dataTable['output_type'] = 'display_data';\n",
              "          await google.colab.output.renderOutput(dataTable, element);\n",
              "          const docLink = document.createElement('div');\n",
              "          docLink.innerHTML = docLinkHtml;\n",
              "          element.appendChild(docLink);\n",
              "        }\n",
              "      </script>\n",
              "    </div>\n",
              "  </div>\n",
              "  "
            ]
          },
          "metadata": {}
        }
      ],
      "source": [
        "# set breaks for year bins.\n",
        "year_bin_cutpoints = pd.array([earliest_start_year_allowed, 2012, 2016, 2020, 2024], dtype = np.ndarray)\n",
        "# use breaks to create an IntervalIndex object. Intervals include left-side (lower) limit.\n",
        "year_bin_intervals = pd.IntervalIndex.from_breaks(breaks = year_bin_cutpoints, closed = 'left')\n",
        "\n",
        "# create a new column which places studies into categories according to the year bins made above\n",
        "time_trend_df['year_bin'] = pd.cut(x = time_trend_df['start_year'], bins = year_bin_intervals)\n",
        "\n",
        "# visual inspection of the newly created column\n",
        "display(time_trend_df[['start_year', 'year_bin']].head())"
      ]
    },
    {
      "cell_type": "markdown",
      "metadata": {
        "id": "Yjs__ZVxE4xz"
      },
      "source": [
        "Create Age Bin Boolean Columns"
      ]
    },
    {
      "cell_type": "code",
      "execution_count": 30,
      "metadata": {
        "id": "9OI0raVhqM53",
        "colab": {
          "base_uri": "https://localhost:8080/",
          "height": 274
        },
        "outputId": "db7917b3-b6f0-47f5-9adb-52f776abdb94"
      },
      "outputs": [
        {
          "output_type": "display_data",
          "data": {
            "text/plain": [
              "                                                                                                                                                                     excluded_ages  \\\n",
              "10022                                                                                                               [0, 1, 2, 3, 4, 5, 6, 7, 8, 9, 10, 11, 12, 13, 14, 15, 16, 17]   \n",
              "10221                                                                                                               [0, 1, 2, 3, 4, 5, 6, 7, 8, 9, 10, 11, 12, 13, 14, 15, 16, 17]   \n",
              "10406  [0, 1, 2, 3, 4, 5, 6, 7, 8, 9, 10, 11, 12, 13, 14, 15, 16, 17, 18, 19, 76, 77, 78, 79, 80, 81, 82, 83, 84, 85, 86, 87, 88, 89, 90, 91, 92, 93, 94, 95, 96, 97, 98, 99, 100]   \n",
              "\n",
              "       age_bin_0_5  age_bin_5_18  age_bin_18_40  age_bin_40_65  age_bin_65_75  \\\n",
              "10022         True          True          False          False          False   \n",
              "10221         True          True          False          False          False   \n",
              "10406         True          True           True          False          False   \n",
              "\n",
              "       age_bin_75_101  \n",
              "10022           False  \n",
              "10221           False  \n",
              "10406            True  "
            ],
            "text/html": [
              "\n",
              "  <div id=\"df-94e437c4-d098-416c-a526-43418110135c\">\n",
              "    <div class=\"colab-df-container\">\n",
              "      <div>\n",
              "<style scoped>\n",
              "    .dataframe tbody tr th:only-of-type {\n",
              "        vertical-align: middle;\n",
              "    }\n",
              "\n",
              "    .dataframe tbody tr th {\n",
              "        vertical-align: top;\n",
              "    }\n",
              "\n",
              "    .dataframe thead th {\n",
              "        text-align: right;\n",
              "    }\n",
              "</style>\n",
              "<table border=\"1\" class=\"dataframe\">\n",
              "  <thead>\n",
              "    <tr style=\"text-align: right;\">\n",
              "      <th></th>\n",
              "      <th>excluded_ages</th>\n",
              "      <th>age_bin_0_5</th>\n",
              "      <th>age_bin_5_18</th>\n",
              "      <th>age_bin_18_40</th>\n",
              "      <th>age_bin_40_65</th>\n",
              "      <th>age_bin_65_75</th>\n",
              "      <th>age_bin_75_101</th>\n",
              "    </tr>\n",
              "  </thead>\n",
              "  <tbody>\n",
              "    <tr>\n",
              "      <th>10022</th>\n",
              "      <td>[0, 1, 2, 3, 4, 5, 6, 7, 8, 9, 10, 11, 12, 13, 14, 15, 16, 17]</td>\n",
              "      <td>True</td>\n",
              "      <td>True</td>\n",
              "      <td>False</td>\n",
              "      <td>False</td>\n",
              "      <td>False</td>\n",
              "      <td>False</td>\n",
              "    </tr>\n",
              "    <tr>\n",
              "      <th>10221</th>\n",
              "      <td>[0, 1, 2, 3, 4, 5, 6, 7, 8, 9, 10, 11, 12, 13, 14, 15, 16, 17]</td>\n",
              "      <td>True</td>\n",
              "      <td>True</td>\n",
              "      <td>False</td>\n",
              "      <td>False</td>\n",
              "      <td>False</td>\n",
              "      <td>False</td>\n",
              "    </tr>\n",
              "    <tr>\n",
              "      <th>10406</th>\n",
              "      <td>[0, 1, 2, 3, 4, 5, 6, 7, 8, 9, 10, 11, 12, 13, 14, 15, 16, 17, 18, 19, 76, 77, 78, 79, 80, 81, 82, 83, 84, 85, 86, 87, 88, 89, 90, 91, 92, 93, 94, 95, 96, 97, 98, 99, 100]</td>\n",
              "      <td>True</td>\n",
              "      <td>True</td>\n",
              "      <td>True</td>\n",
              "      <td>False</td>\n",
              "      <td>False</td>\n",
              "      <td>True</td>\n",
              "    </tr>\n",
              "  </tbody>\n",
              "</table>\n",
              "</div>\n",
              "      <button class=\"colab-df-convert\" onclick=\"convertToInteractive('df-94e437c4-d098-416c-a526-43418110135c')\"\n",
              "              title=\"Convert this dataframe to an interactive table.\"\n",
              "              style=\"display:none;\">\n",
              "        \n",
              "  <svg xmlns=\"http://www.w3.org/2000/svg\" height=\"24px\"viewBox=\"0 0 24 24\"\n",
              "       width=\"24px\">\n",
              "    <path d=\"M0 0h24v24H0V0z\" fill=\"none\"/>\n",
              "    <path d=\"M18.56 5.44l.94 2.06.94-2.06 2.06-.94-2.06-.94-.94-2.06-.94 2.06-2.06.94zm-11 1L8.5 8.5l.94-2.06 2.06-.94-2.06-.94L8.5 2.5l-.94 2.06-2.06.94zm10 10l.94 2.06.94-2.06 2.06-.94-2.06-.94-.94-2.06-.94 2.06-2.06.94z\"/><path d=\"M17.41 7.96l-1.37-1.37c-.4-.4-.92-.59-1.43-.59-.52 0-1.04.2-1.43.59L10.3 9.45l-7.72 7.72c-.78.78-.78 2.05 0 2.83L4 21.41c.39.39.9.59 1.41.59.51 0 1.02-.2 1.41-.59l7.78-7.78 2.81-2.81c.8-.78.8-2.07 0-2.86zM5.41 20L4 18.59l7.72-7.72 1.47 1.35L5.41 20z\"/>\n",
              "  </svg>\n",
              "      </button>\n",
              "      \n",
              "  <style>\n",
              "    .colab-df-container {\n",
              "      display:flex;\n",
              "      flex-wrap:wrap;\n",
              "      gap: 12px;\n",
              "    }\n",
              "\n",
              "    .colab-df-convert {\n",
              "      background-color: #E8F0FE;\n",
              "      border: none;\n",
              "      border-radius: 50%;\n",
              "      cursor: pointer;\n",
              "      display: none;\n",
              "      fill: #1967D2;\n",
              "      height: 32px;\n",
              "      padding: 0 0 0 0;\n",
              "      width: 32px;\n",
              "    }\n",
              "\n",
              "    .colab-df-convert:hover {\n",
              "      background-color: #E2EBFA;\n",
              "      box-shadow: 0px 1px 2px rgba(60, 64, 67, 0.3), 0px 1px 3px 1px rgba(60, 64, 67, 0.15);\n",
              "      fill: #174EA6;\n",
              "    }\n",
              "\n",
              "    [theme=dark] .colab-df-convert {\n",
              "      background-color: #3B4455;\n",
              "      fill: #D2E3FC;\n",
              "    }\n",
              "\n",
              "    [theme=dark] .colab-df-convert:hover {\n",
              "      background-color: #434B5C;\n",
              "      box-shadow: 0px 1px 3px 1px rgba(0, 0, 0, 0.15);\n",
              "      filter: drop-shadow(0px 1px 2px rgba(0, 0, 0, 0.3));\n",
              "      fill: #FFFFFF;\n",
              "    }\n",
              "  </style>\n",
              "\n",
              "      <script>\n",
              "        const buttonEl =\n",
              "          document.querySelector('#df-94e437c4-d098-416c-a526-43418110135c button.colab-df-convert');\n",
              "        buttonEl.style.display =\n",
              "          google.colab.kernel.accessAllowed ? 'block' : 'none';\n",
              "\n",
              "        async function convertToInteractive(key) {\n",
              "          const element = document.querySelector('#df-94e437c4-d098-416c-a526-43418110135c');\n",
              "          const dataTable =\n",
              "            await google.colab.kernel.invokeFunction('convertToInteractive',\n",
              "                                                     [key], {});\n",
              "          if (!dataTable) return;\n",
              "\n",
              "          const docLinkHtml = 'Like what you see? Visit the ' +\n",
              "            '<a target=\"_blank\" href=https://colab.research.google.com/notebooks/data_table.ipynb>data table notebook</a>'\n",
              "            + ' to learn more about interactive tables.';\n",
              "          element.innerHTML = '';\n",
              "          dataTable['output_type'] = 'display_data';\n",
              "          await google.colab.output.renderOutput(dataTable, element);\n",
              "          const docLink = document.createElement('div');\n",
              "          docLink.innerHTML = docLinkHtml;\n",
              "          element.appendChild(docLink);\n",
              "        }\n",
              "      </script>\n",
              "    </div>\n",
              "  </div>\n",
              "  "
            ]
          },
          "metadata": {}
        }
      ],
      "source": [
        "# specify cutpoints for the age bins in age_bin_cutpoints as an array.\n",
        "age_bin_cutpoints = pd.array([0, 5, 18, 40, 65, 75, 101], dtype = np.ndarray)\n",
        "\n",
        "# use the array to create age bin intervals, which include their left side (lower) limit.\n",
        "# the intervals are an \"IntervalIndex\" object\n",
        "age_bin_intervals = pd.IntervalIndex.from_breaks(breaks = age_bin_cutpoints, closed = 'left')\n",
        "\n",
        "\n",
        "# given a list of excluded ages and an IntervalIndex interval, determine whether the list of excluded ages ...\n",
        "# ... caries values that are in the age bin interval.\n",
        "def check_age_bin(excluded_ages, age_bin_interval):\n",
        "  # turn the excluded age list into a set\n",
        "  excluded_ages_set = set(excluded_ages)\n",
        "  # create a set with all integers in the age_bin_interval\n",
        "  age_bin_set = set(range(age_bin_interval.left, age_bin_interval.right))\n",
        "  #if the two sets have a non-empty intersection, return true, otherwise return false.\n",
        "  if not excluded_ages_set.intersection(age_bin_set):\n",
        "    return False\n",
        "  else:\n",
        "    return True\n",
        "\n",
        "# drops any existing age_bin_ boolean columns.\n",
        "# this is to prevent keeping old age bin columns after new age bins have been set.\n",
        "time_trend_df = time_trend_df[time_trend_df.columns.drop(list(time_trend_df.filter(regex='age_bin_')))]\n",
        "\n",
        "\n",
        "# create age bin boolean columns for every age bin.\n",
        "for age_bin_interval in age_bin_intervals:\n",
        "  # names every boolean column created \"age_bin_lowerlim_upperlim\"\n",
        "  # applies the check_age_bin function above to create the boolean column\n",
        "  time_trend_df[f'age_bin_{age_bin_interval.left}_{age_bin_interval.right}'] = time_trend_df.apply(lambda x: check_age_bin(x.excluded_ages, age_bin_interval), axis=1)\n",
        "\n",
        "\n",
        "# store the age bin columns in a list.\n",
        "age_bin_columns = [col for col in time_trend_df if col.startswith('age_bin')]\n",
        "# display the excluded ages and all age_bin_columns for quick visual inspection.\n",
        "display(time_trend_df[['excluded_ages'] + age_bin_columns].head(3))"
      ]
    },
    {
      "cell_type": "code",
      "execution_count": 39,
      "metadata": {
        "id": "j9HHqm1n3AlE",
        "colab": {
          "base_uri": "https://localhost:8080/",
          "height": 260
        },
        "outputId": "721a90c8-05d8-4e2a-f1ae-874bc468a51b"
      },
      "outputs": [
        {
          "output_type": "display_data",
          "data": {
            "text/plain": [
              "category                     year_bin    \n",
              "digestive system neoplasms   [2008, 2012)    192\n",
              "                             [2012, 2016)    228\n",
              "                             [2016, 2020)    287\n",
              "                             [2020, 2024)    225\n",
              "head and neck neoplasms      [2008, 2012)     46\n",
              "                             [2012, 2016)     69\n",
              "                             [2016, 2020)     72\n",
              "                             [2020, 2024)     77\n",
              "respiratory tract neoplasms  [2008, 2012)    103\n",
              "                             [2012, 2016)    131\n",
              "                             [2016, 2020)    194\n",
              "                             [2020, 2024)    170\n",
              "Name: year_bin, dtype: int64"
            ]
          },
          "metadata": {}
        }
      ],
      "source": [
        "# list of all age bin/keyword boolean columns\n",
        "exclusion_list = age_bin_columns + list(keywords.keys()) # creates a list of all exclusion criteria keywords\n",
        "\n",
        "# creates a new dataframe to store the plot data with two columns.\n",
        "# these columns show every unique combination of study category and year_bin in the study data.\n",
        "plot_time = pd.DataFrame(data = list(itertools.product(time_trend_df.category.unique(), time_trend_df.year_bin.unique())), columns = [\"category\", \"year_bin\"])\n",
        "\n",
        "# display the number of studies in each category/age_bin group\n",
        "display(time_trend_df.groupby(['category', 'year_bin'])['year_bin'].count())\n",
        "\n",
        "# place all of proportions of trials excluding a given condition in each cancer group into a common data frame\n",
        "for condition in exclusion_list:\n",
        "   # calculates the proportion of trials with that exclusion criteria in each category/year-bin group.\n",
        "   # reset index (to standard integers, instead of multilevel index from groupby)\n",
        "   # this allows the series to be added on as a column to a common data frame.\n",
        "  new_col = time_trend_df.groupby(['category', 'year_bin'])[condition].mean().reset_index(level=0, drop=True) # .mean() takes the mean of the boolean values in the groups, interpreting true as 1 and false as 0.\n",
        "  plot_time[condition] = new_col.reset_index(level=0, drop=True)"
      ]
    },
    {
      "cell_type": "code",
      "source": [
        "## Create the time trend visualizations\n",
        "import plotnine as p9\n",
        "\n",
        "#creating seperate dataframes for age and comorbidities \n",
        "age_plot = plot_time.iloc[:, 0:8]\n",
        "comor_plot = plot_time.drop(plot_time.columns[2:8],axis = 1)\n",
        "\n",
        "# pivot the tables\n",
        "age_long = pd.melt(age_plot, id_vars=['category','year_bin'])\n",
        "age_long.rename(columns={'variable': 'Age Group', 'value': 'Exclusion(%)'}, inplace=True)\n",
        "\n",
        "comor_long = pd.melt(comor_plot, id_vars=['category','year_bin'])\n",
        "comor_long.rename(columns={'variable': 'Condition', 'value': 'Exclusion(%)'}, inplace=True)\n",
        "\n",
        "# change to percentage\n",
        "age_long['Exclusion(%)'] = age_long['Exclusion(%)']*100\n",
        "comor_long['Exclusion(%)'] = comor_long['Exclusion(%)']*100\n",
        "\n",
        "# recode the variables\n",
        "age_map = {\n",
        "    'age_bin_0_5': '0 - 5',\n",
        "    'age_bin_5_18': '5 - 18',\n",
        "    'age_bin_18_40': '18 - 40',\n",
        "    'age_bin_40_65': '40 - 65',\n",
        "    'age_bin_65_75': '65 - 75',\n",
        "    'age_bin_75_101': '75 - 101'\n",
        "}\n",
        "\n",
        "comor_map = {\n",
        "    'hiv': 'HIV',\n",
        "    'pregnant': 'Pregnant',\n",
        "    'breastfeeding': 'Breastfeeding',\n",
        "    'psychosis': 'Psychiatric Disorders',\n",
        "    'heart_issues': 'Heart Issues'\n",
        "}\n",
        "\n",
        "cat_map = {\n",
        "    'digestive system neoplasms': 'Digestive System Cancers',\n",
        "    'head and neck neoplasms': 'Head & Neck Cancers',\n",
        "    'respiratory tract neoplasms': 'Respiratory Tract Cancers'\n",
        "}\n",
        "\n",
        "age_long['Age Group'] = age_long['Age Group'].map(age_map)\n",
        "age_long['category'] = age_long['category'].map(cat_map)\n",
        "comor_long['Condition'] = comor_long['Condition'].map(comor_map) \n",
        "comor_long['category'] = comor_long['category'].map(cat_map)\n",
        "\n",
        "# order the age groups so they're correctly ordered on our plots\n",
        "age_long['Age Group'] = pd.Categorical(age_long['Age Group']).set_categories(\n",
        "    [\"0 - 5\", \"5 - 18\", \"18 - 40\", \"40 - 65\", \"65 - 75\", \"75 - 101\"], ordered=True)\n",
        "age_long.sort_values('Age Group', inplace=True)\n",
        "\n",
        "\n",
        "## create the plots using ggplot\n",
        "from plotnine import *\n",
        "\n",
        "# age time trend\n",
        "(\n",
        "ggplot(data=age_long)\n",
        "+ aes(x='year_bin', y='Exclusion(%)', group='Age Group', color='Age Group') \n",
        "+ geom_line(position = position_dodge(width= 0.2), size= 0.6) \n",
        "+ facet_wrap(facets='~ category', nrow= 3) \n",
        "+ ggtitle( \"Percentage of Studies Excluding Age Groups Over Time\") \n",
        "+ theme_light() \n",
        "+ theme(plot_title = element_text(size = 30, face = \"bold\"), \n",
        "        axis_text= element_text(size= 22, face= \"bold\"),\n",
        "        axis_title = element_text(size= 22, face= \"bold\"),\n",
        "        strip_text = element_text(size= 20, face= \"bold\"),\n",
        "        legend_key_size = 5,\n",
        "        legend_text = element_text(size= 20, face= \"bold\"),\n",
        "        legend_title = element_text(size= 20, face= \"bold\"),\n",
        "        legend_background = element_rect(linetype = 'solid', colour = 'grey'),\n",
        "        figure_size = (6.4*2, 4.8*2)) \n",
        "# + scale_colour_brewer(palette=\"Dark2\") \n",
        "+ xlab(\"Year Interval\") \n",
        "+ ylab(\"Exclusion (%)\")\n",
        ")"
      ],
      "metadata": {
        "colab": {
          "base_uri": "https://localhost:8080/",
          "height": 691
        },
        "id": "iN5OouobwNeD",
        "outputId": "fbc8be43-ab7a-4c7e-f8a7-9b9e50a12472"
      },
      "execution_count": 107,
      "outputs": [
        {
          "output_type": "display_data",
          "data": {
            "text/plain": [
              "<Figure size 1280x960 with 3 Axes>"
            ],
            "image/png": "[encoded data removed]"
          },
          "metadata": {}
        },
        {
          "output_type": "execute_result",
          "data": {
            "text/plain": [
              "<ggplot: (8763021214949)>"
            ]
          },
          "metadata": {},
          "execution_count": 107
        }
      ]
    },
    {
      "cell_type": "code",
      "source": [
        "# comorbidities time trend\n",
        "(\n",
        "ggplot(data=comor_long)\n",
        "+ aes(x='year_bin', y='Exclusion(%)', group='Condition', color='Condition') \n",
        "+ geom_line(position = position_dodge(width= 0.2), size= 0.6) \n",
        "+ facet_wrap(facets='~ category', nrow= 3) \n",
        "+ ggtitle( \"Percentage of Studies Excluding Conditions Over Time\") \n",
        "+ theme_light() \n",
        "+ theme(plot_title = element_text(size = 30, face = \"bold\"), \n",
        "        axis_text= element_text(size= 22, face= \"bold\"),\n",
        "        axis_title = element_text(size= 22, face= \"bold\"),\n",
        "        strip_text = element_text(size= 20, face= \"bold\"),\n",
        "        legend_key_size = 5,\n",
        "        legend_text = element_text(size= 20, face= \"bold\"),\n",
        "        legend_title = element_text(size= 20, face= \"bold\"),\n",
        "        legend_background = element_rect(linetype = 'solid', colour = 'grey'),\n",
        "        figure_size = (6.4*2, 4.8*2)) \n",
        "# + scale_colour_brewer(palette=\"Dark2\") \n",
        "+ xlab(\"Year Interval\") \n",
        "+ ylab(\"Exclusion (%)\")\n",
        ")"
      ],
      "metadata": {
        "colab": {
          "base_uri": "https://localhost:8080/",
          "height": 621
        },
        "id": "VHWXAK4QI_fA",
        "outputId": "1b56f67e-0575-47d7-d82d-7e37977b6a8b"
      },
      "execution_count": 108,
      "outputs": [
        {
          "output_type": "display_data",
          "data": {
            "text/plain": [
              "<Figure size 1280x960 with 3 Axes>"
            ],
            "image/png": "[encoded data removed]"
          },
          "metadata": {}
        },
        {
          "output_type": "execute_result",
          "data": {
            "text/plain": [
              "<ggplot: (8763021308992)>"
            ]
          },
          "metadata": {},
          "execution_count": 108
        }
      ]
    },
    {
      "cell_type": "markdown",
      "metadata": {
        "id": "MzfqJK-q77f_"
      },
      "source": [
        "# Validation of Keyword Search"
      ]
    },
    {
      "cell_type": "code",
      "execution_count": 33,
      "metadata": {
        "id": "xMH4lial73mq"
      },
      "outputs": [],
      "source": [
        "# packages and authorization to deal with google sheets\n",
        "import gspread\n",
        "from gspread_dataframe import set_with_dataframe\n",
        "from google.auth import default\n",
        "\n",
        "creds, _ = default()\n",
        "gs = gspread.authorize(creds)\n",
        "url = 'https://docs.google.com/spreadsheets/d/1KUIJLbghBD2WUMIkTJ041x92egP5LEwZB-OAw13vCps/'\n",
        "eval_sheet = gs.open_by_url(url)\n",
        "members = ['CELINA','CYNTHIA','IDIL','MO','OLIVER']"
      ]
    },
    {
      "cell_type": "markdown",
      "metadata": {
        "id": "oMDc2bRE_Cjy"
      },
      "source": [
        "## Generate Files per Member"
      ]
    },
    {
      "cell_type": "code",
      "execution_count": 34,
      "metadata": {
        "id": "poD7FP1lmqBR",
        "colab": {
          "base_uri": "https://localhost:8080/"
        },
        "outputId": "c0f24d47-545c-49ce-bcb2-6c6a770d3390"
      },
      "outputs": [
        {
          "output_type": "stream",
          "name": "stdout",
          "text": [
            "heart_issues: 104 studies\n",
            "hiv: 54 studies\n",
            "pregnant: 120 studies\n",
            "breastfeeding: 100 studies\n",
            "psychosis: 59 studies\n",
            "\n",
            "0.1 of the studies per tag, placed all together, is n=388\n",
            "There will be 86.6 to review per person\n"
          ]
        }
      ],
      "source": [
        "# # Uncomment to redo the manual validation\n",
        "# take 10% of the studies tagged for each keyword\n",
        "frac = 0.1\n",
        "all_tagged = []\n",
        "keys = list(keywords.keys())\n",
        "for key in keys:\n",
        "  sub = df[df[key]][['nct_id','exclusion'] + keys].copy(deep=True)\n",
        "  sam_size = int(np.round(len(sub) * frac))\n",
        "  all_tagged.append(sub.sample(n=sam_size))\n",
        "  print(f'{key}: {sam_size} studies')\n",
        "\n",
        "# place all 10% samples together across all keywords and deduplicate\n",
        "for_review = pd.concat(all_tagged)\n",
        "for_review.drop_duplicates(inplace=True)\n",
        "\n",
        "# add in the studies that were not tagged as any\n",
        "untagged_mask = (df.apply(lambda x: any([x[k] for k in keys]) is False, axis=1)) & (df.exclusion.notnull())\n",
        "sam_untag = int(np.round(len(df[untagged_mask]) * frac))\n",
        "for_review_untagged = df[untagged_mask].sample(n=sam_untag)\n",
        "\n",
        "# summarize the no. of studies gathered\n",
        "total_samples = int(np.round(pd.concat([for_review, for_review_untagged]).nct_id.nunique()))\n",
        "print('')\n",
        "print(f'{frac} of the studies per tag, placed all together, is n={len(for_review)}')\n",
        "print(f'There will be {total_samples/5} to review per person')\n",
        "\n",
        "# create samples for each person\n",
        "\n",
        "def split(a, n):\n",
        "  # split an interval into even parts\n",
        "  k, m = divmod(len(a), n)\n",
        "  return (a[i*k+min(i, m):(i+1)*k+min(i+1, m)] for i in range(n))\n",
        "\n",
        "# split the no. indices by 5\n",
        "inter = list(split(range(len(for_review)), 5))\n",
        "inter_untagged = list(split(range(len(for_review_untagged)), 5))\n",
        "\n",
        "# upload to google drive\n",
        "\n",
        "splits = []\n",
        "\n",
        "for i in range(0, 5):\n",
        "  # open the sheet dedicated to the member\n",
        "  member = members[i]\n",
        "  member_sheet = eval_sheet.worksheet(member)\n",
        "\n",
        "  # create the split of the studies for review for that member\n",
        "  tagged = for_review.iloc[inter[i]].copy(deep=True)\n",
        "  untagged = for_review_untagged.iloc[inter_untagged[i]].copy(deep=True)\n",
        "  split = pd.concat([tagged, untagged])\n",
        "  split = split[['nct_id', 'exclusion','heart_issues', 'hiv', 'pregnant', \n",
        "                 'breastfeeding', 'psychosis']]\n",
        "  splits.append(split)\n",
        "\n",
        "  # # paste onto the gsheet\n",
        "  # set_with_dataframe(member_sheet, split, row=2, col=1, \n",
        "  #                    include_index=False, include_column_header=False)\n",
        "\n",
        "# confirm that there are no studies repeating across the splits\n",
        "if np.sum([len(d) for d in splits]) != pd.concat(splits).nct_id.nunique():\n",
        "  print('ERROR: There are studies are repeating across the splits.')"
      ]
    },
    {
      "cell_type": "markdown",
      "metadata": {
        "id": "XU3wUtA4_HFn"
      },
      "source": [
        "## Interpret Results"
      ]
    },
    {
      "cell_type": "code",
      "execution_count": 35,
      "metadata": {
        "id": "kQMyj4Nz9QA3"
      },
      "outputs": [],
      "source": [
        "# # interpreting the results\n",
        "\n",
        "eval_results = []\n",
        "conditions = ['heart_issues','hiv','pregnant','breastfeeding','psychosis']\n",
        "colnames = ['nct_id','exclusion'] + conditions\n",
        "\n",
        "# loop through each member's set of checked clinical trials and place them into one dataframe\n",
        "for member in members:\n",
        "  eval_result = pd.DataFrame(eval_sheet.worksheet(member).get_all_values()).iloc[1:, 0:len(colnames)]\n",
        "  eval_result.columns = colnames\n",
        "  eval_results.append(eval_result)\n",
        "  \n",
        "eval = pd.concat(eval_results)\n",
        "for c in conditions:\n",
        "  eval[c] = eval[c].apply(lambda x: True if x == 'TRUE' else False)\n",
        "eval.rename(columns = {k: f'{k}_real' for k in conditions}, inplace=True)\n",
        "del eval['exclusion']\n",
        "\n",
        "# compare with the original dataframe\n",
        "compare = df[(df.nct_id.isin(set(eval.nct_id)))][colnames].copy(deep=True)\n",
        "del compare['exclusion']\n",
        "result = eval.join(compare.set_index('nct_id'), how='left', on='nct_id')"
      ]
    },
    {
      "cell_type": "code",
      "execution_count": 36,
      "metadata": {
        "colab": {
          "base_uri": "https://localhost:8080/",
          "height": 206
        },
        "id": "Y2Hz_RMR_S0d",
        "outputId": "9aad900e-b3c6-4def-e430-a9ca7955c78b"
      },
      "outputs": [
        {
          "output_type": "display_data",
          "data": {
            "text/plain": [
              "               condition  num_tagged  num_correct  num_all  accuracy  misclass\n",
              "3          Breastfeeding         261          390      409  0.953545  0.046455\n",
              "1                    HIV         156          405      409  0.990220  0.009780\n",
              "0           Heart Issues         256          387      409  0.946210  0.053790\n",
              "2               Pregnant         305          408      409  0.997555  0.002445\n",
              "4  Psychiatric Disorders         158          393      409  0.960880  0.039120"
            ],
            "text/html": [
              "\n",
              "  <div id=\"df-1e630125-8d80-4113-bf22-f851e38702a9\">\n",
              "    <div class=\"colab-df-container\">\n",
              "      <div>\n",
              "<style scoped>\n",
              "    .dataframe tbody tr th:only-of-type {\n",
              "        vertical-align: middle;\n",
              "    }\n",
              "\n",
              "    .dataframe tbody tr th {\n",
              "        vertical-align: top;\n",
              "    }\n",
              "\n",
              "    .dataframe thead th {\n",
              "        text-align: right;\n",
              "    }\n",
              "</style>\n",
              "<table border=\"1\" class=\"dataframe\">\n",
              "  <thead>\n",
              "    <tr style=\"text-align: right;\">\n",
              "      <th></th>\n",
              "      <th>condition</th>\n",
              "      <th>num_tagged</th>\n",
              "      <th>num_correct</th>\n",
              "      <th>num_all</th>\n",
              "      <th>accuracy</th>\n",
              "      <th>misclass</th>\n",
              "    </tr>\n",
              "  </thead>\n",
              "  <tbody>\n",
              "    <tr>\n",
              "      <th>3</th>\n",
              "      <td>Breastfeeding</td>\n",
              "      <td>261</td>\n",
              "      <td>390</td>\n",
              "      <td>409</td>\n",
              "      <td>0.953545</td>\n",
              "      <td>0.046455</td>\n",
              "    </tr>\n",
              "    <tr>\n",
              "      <th>1</th>\n",
              "      <td>HIV</td>\n",
              "      <td>156</td>\n",
              "      <td>405</td>\n",
              "      <td>409</td>\n",
              "      <td>0.990220</td>\n",
              "      <td>0.009780</td>\n",
              "    </tr>\n",
              "    <tr>\n",
              "      <th>0</th>\n",
              "      <td>Heart Issues</td>\n",
              "      <td>256</td>\n",
              "      <td>387</td>\n",
              "      <td>409</td>\n",
              "      <td>0.946210</td>\n",
              "      <td>0.053790</td>\n",
              "    </tr>\n",
              "    <tr>\n",
              "      <th>2</th>\n",
              "      <td>Pregnant</td>\n",
              "      <td>305</td>\n",
              "      <td>408</td>\n",
              "      <td>409</td>\n",
              "      <td>0.997555</td>\n",
              "      <td>0.002445</td>\n",
              "    </tr>\n",
              "    <tr>\n",
              "      <th>4</th>\n",
              "      <td>Psychiatric Disorders</td>\n",
              "      <td>158</td>\n",
              "      <td>393</td>\n",
              "      <td>409</td>\n",
              "      <td>0.960880</td>\n",
              "      <td>0.039120</td>\n",
              "    </tr>\n",
              "  </tbody>\n",
              "</table>\n",
              "</div>\n",
              "      <button class=\"colab-df-convert\" onclick=\"convertToInteractive('df-1e630125-8d80-4113-bf22-f851e38702a9')\"\n",
              "              title=\"Convert this dataframe to an interactive table.\"\n",
              "              style=\"display:none;\">\n",
              "        \n",
              "  <svg xmlns=\"http://www.w3.org/2000/svg\" height=\"24px\"viewBox=\"0 0 24 24\"\n",
              "       width=\"24px\">\n",
              "    <path d=\"M0 0h24v24H0V0z\" fill=\"none\"/>\n",
              "    <path d=\"M18.56 5.44l.94 2.06.94-2.06 2.06-.94-2.06-.94-.94-2.06-.94 2.06-2.06.94zm-11 1L8.5 8.5l.94-2.06 2.06-.94-2.06-.94L8.5 2.5l-.94 2.06-2.06.94zm10 10l.94 2.06.94-2.06 2.06-.94-2.06-.94-.94-2.06-.94 2.06-2.06.94z\"/><path d=\"M17.41 7.96l-1.37-1.37c-.4-.4-.92-.59-1.43-.59-.52 0-1.04.2-1.43.59L10.3 9.45l-7.72 7.72c-.78.78-.78 2.05 0 2.83L4 21.41c.39.39.9.59 1.41.59.51 0 1.02-.2 1.41-.59l7.78-7.78 2.81-2.81c.8-.78.8-2.07 0-2.86zM5.41 20L4 18.59l7.72-7.72 1.47 1.35L5.41 20z\"/>\n",
              "  </svg>\n",
              "      </button>\n",
              "      \n",
              "  <style>\n",
              "    .colab-df-container {\n",
              "      display:flex;\n",
              "      flex-wrap:wrap;\n",
              "      gap: 12px;\n",
              "    }\n",
              "\n",
              "    .colab-df-convert {\n",
              "      background-color: #E8F0FE;\n",
              "      border: none;\n",
              "      border-radius: 50%;\n",
              "      cursor: pointer;\n",
              "      display: none;\n",
              "      fill: #1967D2;\n",
              "      height: 32px;\n",
              "      padding: 0 0 0 0;\n",
              "      width: 32px;\n",
              "    }\n",
              "\n",
              "    .colab-df-convert:hover {\n",
              "      background-color: #E2EBFA;\n",
              "      box-shadow: 0px 1px 2px rgba(60, 64, 67, 0.3), 0px 1px 3px 1px rgba(60, 64, 67, 0.15);\n",
              "      fill: #174EA6;\n",
              "    }\n",
              "\n",
              "    [theme=dark] .colab-df-convert {\n",
              "      background-color: #3B4455;\n",
              "      fill: #D2E3FC;\n",
              "    }\n",
              "\n",
              "    [theme=dark] .colab-df-convert:hover {\n",
              "      background-color: #434B5C;\n",
              "      box-shadow: 0px 1px 3px 1px rgba(0, 0, 0, 0.15);\n",
              "      filter: drop-shadow(0px 1px 2px rgba(0, 0, 0, 0.3));\n",
              "      fill: #FFFFFF;\n",
              "    }\n",
              "  </style>\n",
              "\n",
              "      <script>\n",
              "        const buttonEl =\n",
              "          document.querySelector('#df-1e630125-8d80-4113-bf22-f851e38702a9 button.colab-df-convert');\n",
              "        buttonEl.style.display =\n",
              "          google.colab.kernel.accessAllowed ? 'block' : 'none';\n",
              "\n",
              "        async function convertToInteractive(key) {\n",
              "          const element = document.querySelector('#df-1e630125-8d80-4113-bf22-f851e38702a9');\n",
              "          const dataTable =\n",
              "            await google.colab.kernel.invokeFunction('convertToInteractive',\n",
              "                                                     [key], {});\n",
              "          if (!dataTable) return;\n",
              "\n",
              "          const docLinkHtml = 'Like what you see? Visit the ' +\n",
              "            '<a target=\"_blank\" href=https://colab.research.google.com/notebooks/data_table.ipynb>data table notebook</a>'\n",
              "            + ' to learn more about interactive tables.';\n",
              "          element.innerHTML = '';\n",
              "          dataTable['output_type'] = 'display_data';\n",
              "          await google.colab.output.renderOutput(dataTable, element);\n",
              "          const docLink = document.createElement('div');\n",
              "          docLink.innerHTML = docLinkHtml;\n",
              "          element.appendChild(docLink);\n",
              "        }\n",
              "      </script>\n",
              "    </div>\n",
              "  </div>\n",
              "  "
            ]
          },
          "metadata": {}
        }
      ],
      "source": [
        "# obtain the scores\n",
        "\n",
        "import sklearn\n",
        "\n",
        "scores = []\n",
        "\n",
        "for c in conditions:\n",
        "  conf = sklearn.metrics.confusion_matrix(result[f'{c}_real'], result[c])\n",
        "  tagged = len(result[(result[f'{c}_real']) & (result[c] == result[f'{c}_real'])])\n",
        "  num = len(result[result[c] == result[f'{c}_real']])\n",
        "  denom = len(result)\n",
        "  sens = conf[0][0] / (conf[0][0] + conf[0][1])\n",
        "  spec = conf[1,1] / (conf[1,1] + conf[1,0])\n",
        "  acc = num / denom\n",
        "  misclass = 1 - acc\n",
        "\n",
        "  score = {\n",
        "    'condition': c,\n",
        "    'num_tagged': tagged,\n",
        "    'num_correct': num,\n",
        "    'num_all': denom,\n",
        "    'accuracy': acc,\n",
        "    'misclass': misclass\n",
        "  }\n",
        "  scores.append(score)\n",
        "\n",
        "scores = pd.DataFrame(scores)\n",
        "scores['condition'] = scores['condition'].map(criteria_map)\n",
        "scores.sort_values('condition', inplace=True)\n",
        "display(scores)"
      ]
    },
    {
      "cell_type": "code",
      "execution_count": 36,
      "metadata": {
        "id": "EpWsvjmfaoHQ"
      },
      "outputs": [],
      "source": []
    }
  ],
  "metadata": {
    "colab": {
      "collapsed_sections": [
        "BvuYNH0UJJnn",
        "8hboB_lGKeaW",
        "XTO-gyU-c2xU",
        "S222znpRl7vj",
        "zy8dYwFhtU3E"
      ],
      "toc_visible": true,
      "provenance": [],
      "include_colab_link": true
    },
    "kernelspec": {
      "display_name": "Python 3",
      "name": "python3"
    },
    "language_info": {
      "name": "python"
    }
  },
  "nbformat": 4,
  "nbformat_minor": 0
}