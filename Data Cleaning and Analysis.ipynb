{
  "nbformat": 4,
  "nbformat_minor": 0,
  "metadata": {
    "colab": {
      "provenance": [],
      "toc_visible": true,
      "include_colab_link": true
    },
    "kernelspec": {
      "name": "python3",
      "display_name": "Python 3"
    },
    "language_info": {
      "name": "python"
    }
  },
  "cells": [
    {
      "cell_type": "markdown",
      "metadata": {
        "id": "view-in-github",
        "colab_type": "text"
      },
      "source": [
        "<a href=\"https://colab.research.google.com/github/celinagacias/dc-symmetron/blob/main/Data%20Cleaning%20and%20Analysis.ipynb\" target=\"_parent\"><img src=\"https://colab.research.google.com/assets/colab-badge.svg\" alt=\"Open In Colab\"/></a>"
      ]
    },
    {
      "cell_type": "code",
      "execution_count": null,
      "metadata": {
        "id": "0DQLxPBhmyaq"
      },
      "outputs": [],
      "source": [
        "import pandas as pd\n",
        "import numpy as np\n",
        "from datetime import datetime\n",
        "import re\n",
        "\n",
        "from pydrive.auth import GoogleAuth\n",
        "from pydrive.drive import GoogleDrive\n",
        "from google.colab import auth, drive\n",
        "from oauth2client.client import GoogleCredentials"
      ]
    },
    {
      "cell_type": "markdown",
      "source": [
        "# Data Read-In"
      ],
      "metadata": {
        "id": "XE2F-wbaTCGI"
      }
    },
    {
      "cell_type": "code",
      "source": [
        "#Authenticate user\n",
        "auth.authenticate_user()\n",
        "gauth = GoogleAuth()\n",
        "\n",
        "#Mount GDrive\n",
        "gdrive = GoogleDrive(gauth)\n",
        "gauth.credentials = GoogleCredentials.get_application_default()\n",
        "drive.mount('/content/drive')"
      ],
      "metadata": {
        "colab": {
          "base_uri": "https://localhost:8080/"
        },
        "id": "b4w23Db_RjPs",
        "outputId": "29938063-c99a-476e-b69e-b7f3e138b8d8"
      },
      "execution_count": null,
      "outputs": [
        {
          "output_type": "stream",
          "name": "stdout",
          "text": [
            "Mounted at /content/drive\n"
          ]
        }
      ]
    },
    {
      "cell_type": "code",
      "source": [
        "# Read data from csv\n",
        "folder = '1iLA5sSyu7ere1AN40TWRf6O6ma5LoIDl'\n",
        "filename = 'raw_AACT_data.csv'\n",
        "\n",
        "gfile_list = gdrive.ListFile({'q': \"'\" +  folder + \"'\" + \" in parents and trashed=false\"}).GetList()\n",
        "gfile = [f for f in gfile_list if f['title'] == filename][0]\n",
        "df_file = gdrive.CreateFile({'id': gfile['id']})\n",
        "df_file.GetContentFile(gfile['title'])\n",
        "df = pd.read_csv(filename)\n",
        "display(df.head(2))"
      ],
      "metadata": {
        "id": "ttsAotx7SGmH",
        "colab": {
          "base_uri": "https://localhost:8080/",
          "height": 332
        },
        "outputId": "81e5b9b4-cb8b-4a57-d474-a33b4b1bd846"
      },
      "execution_count": null,
      "outputs": [
        {
          "output_type": "display_data",
          "data": {
            "text/plain": [
              "        nct_id  start_date start_date_type      study_type    phase  \\\n",
              "0  NCT00000113  1997-09-30             NaN  Interventional  Phase 3   \n",
              "1  NCT00000114  1984-05-31             NaN  Interventional  Phase 3   \n",
              "\n",
              "  overall_status last_known_status  population gender_description minimum_age  \\\n",
              "0      Completed               NaN         NaN                NaN     6 Years   \n",
              "1      Completed               NaN         NaN                NaN    18 Years   \n",
              "\n",
              "  maximum_age gender healthy_volunteers countries_removed countries_retained  \\\n",
              "0    12 Years    All                 No                {}  {\"United States\"}   \n",
              "1    49 Years    All                NaN               NaN                NaN   \n",
              "\n",
              "       conditions_table                                          mesh_term  \\\n",
              "0                myopia            eye diseases, refractive errors, myopia   \n",
              "1  retinitis pigmentosa  retinitis, eye diseases, hereditary, retinal d...   \n",
              "\n",
              "                                            criteria  \n",
              "0  Children between the ages of 6 and 12 years wi...  \n",
              "1  Men and nonpregnant women between ages 18 and ...  "
            ],
            "text/html": [
              "\n",
              "  <div id=\"df-73c87295-da60-4445-8dd5-96f22a31f442\">\n",
              "    <div class=\"colab-df-container\">\n",
              "      <div>\n",
              "<style scoped>\n",
              "    .dataframe tbody tr th:only-of-type {\n",
              "        vertical-align: middle;\n",
              "    }\n",
              "\n",
              "    .dataframe tbody tr th {\n",
              "        vertical-align: top;\n",
              "    }\n",
              "\n",
              "    .dataframe thead th {\n",
              "        text-align: right;\n",
              "    }\n",
              "</style>\n",
              "<table border=\"1\" class=\"dataframe\">\n",
              "  <thead>\n",
              "    <tr style=\"text-align: right;\">\n",
              "      <th></th>\n",
              "      <th>nct_id</th>\n",
              "      <th>start_date</th>\n",
              "      <th>start_date_type</th>\n",
              "      <th>study_type</th>\n",
              "      <th>phase</th>\n",
              "      <th>overall_status</th>\n",
              "      <th>last_known_status</th>\n",
              "      <th>population</th>\n",
              "      <th>gender_description</th>\n",
              "      <th>minimum_age</th>\n",
              "      <th>maximum_age</th>\n",
              "      <th>gender</th>\n",
              "      <th>healthy_volunteers</th>\n",
              "      <th>countries_removed</th>\n",
              "      <th>countries_retained</th>\n",
              "      <th>conditions_table</th>\n",
              "      <th>mesh_term</th>\n",
              "      <th>criteria</th>\n",
              "    </tr>\n",
              "  </thead>\n",
              "  <tbody>\n",
              "    <tr>\n",
              "      <th>0</th>\n",
              "      <td>NCT00000113</td>\n",
              "      <td>1997-09-30</td>\n",
              "      <td>NaN</td>\n",
              "      <td>Interventional</td>\n",
              "      <td>Phase 3</td>\n",
              "      <td>Completed</td>\n",
              "      <td>NaN</td>\n",
              "      <td>NaN</td>\n",
              "      <td>NaN</td>\n",
              "      <td>6 Years</td>\n",
              "      <td>12 Years</td>\n",
              "      <td>All</td>\n",
              "      <td>No</td>\n",
              "      <td>{}</td>\n",
              "      <td>{\"United States\"}</td>\n",
              "      <td>myopia</td>\n",
              "      <td>eye diseases, refractive errors, myopia</td>\n",
              "      <td>Children between the ages of 6 and 12 years wi...</td>\n",
              "    </tr>\n",
              "    <tr>\n",
              "      <th>1</th>\n",
              "      <td>NCT00000114</td>\n",
              "      <td>1984-05-31</td>\n",
              "      <td>NaN</td>\n",
              "      <td>Interventional</td>\n",
              "      <td>Phase 3</td>\n",
              "      <td>Completed</td>\n",
              "      <td>NaN</td>\n",
              "      <td>NaN</td>\n",
              "      <td>NaN</td>\n",
              "      <td>18 Years</td>\n",
              "      <td>49 Years</td>\n",
              "      <td>All</td>\n",
              "      <td>NaN</td>\n",
              "      <td>NaN</td>\n",
              "      <td>NaN</td>\n",
              "      <td>retinitis pigmentosa</td>\n",
              "      <td>retinitis, eye diseases, hereditary, retinal d...</td>\n",
              "      <td>Men and nonpregnant women between ages 18 and ...</td>\n",
              "    </tr>\n",
              "  </tbody>\n",
              "</table>\n",
              "</div>\n",
              "      <button class=\"colab-df-convert\" onclick=\"convertToInteractive('df-73c87295-da60-4445-8dd5-96f22a31f442')\"\n",
              "              title=\"Convert this dataframe to an interactive table.\"\n",
              "              style=\"display:none;\">\n",
              "        \n",
              "  <svg xmlns=\"http://www.w3.org/2000/svg\" height=\"24px\"viewBox=\"0 0 24 24\"\n",
              "       width=\"24px\">\n",
              "    <path d=\"M0 0h24v24H0V0z\" fill=\"none\"/>\n",
              "    <path d=\"M18.56 5.44l.94 2.06.94-2.06 2.06-.94-2.06-.94-.94-2.06-.94 2.06-2.06.94zm-11 1L8.5 8.5l.94-2.06 2.06-.94-2.06-.94L8.5 2.5l-.94 2.06-2.06.94zm10 10l.94 2.06.94-2.06 2.06-.94-2.06-.94-.94-2.06-.94 2.06-2.06.94z\"/><path d=\"M17.41 7.96l-1.37-1.37c-.4-.4-.92-.59-1.43-.59-.52 0-1.04.2-1.43.59L10.3 9.45l-7.72 7.72c-.78.78-.78 2.05 0 2.83L4 21.41c.39.39.9.59 1.41.59.51 0 1.02-.2 1.41-.59l7.78-7.78 2.81-2.81c.8-.78.8-2.07 0-2.86zM5.41 20L4 18.59l7.72-7.72 1.47 1.35L5.41 20z\"/>\n",
              "  </svg>\n",
              "      </button>\n",
              "      \n",
              "  <style>\n",
              "    .colab-df-container {\n",
              "      display:flex;\n",
              "      flex-wrap:wrap;\n",
              "      gap: 12px;\n",
              "    }\n",
              "\n",
              "    .colab-df-convert {\n",
              "      background-color: #E8F0FE;\n",
              "      border: none;\n",
              "      border-radius: 50%;\n",
              "      cursor: pointer;\n",
              "      display: none;\n",
              "      fill: #1967D2;\n",
              "      height: 32px;\n",
              "      padding: 0 0 0 0;\n",
              "      width: 32px;\n",
              "    }\n",
              "\n",
              "    .colab-df-convert:hover {\n",
              "      background-color: #E2EBFA;\n",
              "      box-shadow: 0px 1px 2px rgba(60, 64, 67, 0.3), 0px 1px 3px 1px rgba(60, 64, 67, 0.15);\n",
              "      fill: #174EA6;\n",
              "    }\n",
              "\n",
              "    [theme=dark] .colab-df-convert {\n",
              "      background-color: #3B4455;\n",
              "      fill: #D2E3FC;\n",
              "    }\n",
              "\n",
              "    [theme=dark] .colab-df-convert:hover {\n",
              "      background-color: #434B5C;\n",
              "      box-shadow: 0px 1px 3px 1px rgba(0, 0, 0, 0.15);\n",
              "      filter: drop-shadow(0px 1px 2px rgba(0, 0, 0, 0.3));\n",
              "      fill: #FFFFFF;\n",
              "    }\n",
              "  </style>\n",
              "\n",
              "      <script>\n",
              "        const buttonEl =\n",
              "          document.querySelector('#df-73c87295-da60-4445-8dd5-96f22a31f442 button.colab-df-convert');\n",
              "        buttonEl.style.display =\n",
              "          google.colab.kernel.accessAllowed ? 'block' : 'none';\n",
              "\n",
              "        async function convertToInteractive(key) {\n",
              "          const element = document.querySelector('#df-73c87295-da60-4445-8dd5-96f22a31f442');\n",
              "          const dataTable =\n",
              "            await google.colab.kernel.invokeFunction('convertToInteractive',\n",
              "                                                     [key], {});\n",
              "          if (!dataTable) return;\n",
              "\n",
              "          const docLinkHtml = 'Like what you see? Visit the ' +\n",
              "            '<a target=\"_blank\" href=https://colab.research.google.com/notebooks/data_table.ipynb>data table notebook</a>'\n",
              "            + ' to learn more about interactive tables.';\n",
              "          element.innerHTML = '';\n",
              "          dataTable['output_type'] = 'display_data';\n",
              "          await google.colab.output.renderOutput(dataTable, element);\n",
              "          const docLink = document.createElement('div');\n",
              "          docLink.innerHTML = docLinkHtml;\n",
              "          element.appendChild(docLink);\n",
              "        }\n",
              "      </script>\n",
              "    </div>\n",
              "  </div>\n",
              "  "
            ]
          },
          "metadata": {}
        }
      ]
    },
    {
      "cell_type": "code",
      "source": [
        "n = len(df)\n",
        "print(f'There are {n} studies in our sample.')"
      ],
      "metadata": {
        "colab": {
          "base_uri": "https://localhost:8080/"
        },
        "id": "5uIa41t3m8r-",
        "outputId": "b14d2637-68b9-49af-b306-6d75829cb43a"
      },
      "execution_count": null,
      "outputs": [
        {
          "output_type": "stream",
          "name": "stdout",
          "text": [
            "There are 42275 studies in our sample.\n"
          ]
        }
      ]
    },
    {
      "cell_type": "markdown",
      "source": [
        "# Data Cleaning"
      ],
      "metadata": {
        "id": "ZeyaVTvCK0bO"
      }
    },
    {
      "cell_type": "markdown",
      "source": [
        "## Dates"
      ],
      "metadata": {
        "id": "BvuYNH0UJJnn"
      }
    },
    {
      "cell_type": "code",
      "source": [
        "# convert start date to date\n",
        "df['start_date'] = df['start_date'].apply(\n",
        "    lambda x: datetime.strptime(x, '%Y-%m-%d').date() if str(x) != 'nan' else None)"
      ],
      "metadata": {
        "id": "muEUyM5HJNW-"
      },
      "execution_count": null,
      "outputs": []
    },
    {
      "cell_type": "code",
      "source": [
        "# extract year into separate column\n",
        "df['start_year'] = df['start_date'].apply(lambda x: int(x.year) if x is not None else None)"
      ],
      "metadata": {
        "id": "9Wwr5jJyKBg_"
      },
      "execution_count": null,
      "outputs": []
    },
    {
      "cell_type": "markdown",
      "source": [
        "## Countries"
      ],
      "metadata": {
        "id": "8hboB_lGKeaW"
      }
    },
    {
      "cell_type": "code",
      "source": [
        "def process_countries(l):\n",
        "  # converts string of list of countries into lists\n",
        "  l = l.replace('{','').replace('}','').split(',')\n",
        "  l = set([c.replace('\"','') for c in l])\n",
        "  return l"
      ],
      "metadata": {
        "id": "Oo8o6Z5IKhSl"
      },
      "execution_count": null,
      "outputs": []
    },
    {
      "cell_type": "code",
      "source": [
        "# apply the function to each list of countries\n",
        "df['countries_removed'] = df['countries_removed'].apply(\n",
        "    lambda x: process_countries(x) if str(x) != 'nan' else None)\n",
        "\n",
        "df['countries_retained'] = df['countries_retained'].apply(\n",
        "    lambda x: process_countries(x) if str(x) != 'nan' else None)"
      ],
      "metadata": {
        "id": "1QPo8n7ZMIiP"
      },
      "execution_count": null,
      "outputs": []
    },
    {
      "cell_type": "markdown",
      "source": [
        "## Ages"
      ],
      "metadata": {
        "id": "XTO-gyU-c2xU"
      }
    },
    {
      "cell_type": "code",
      "source": [
        "def parse_age(a):\n",
        "  # Convert text of age into years\n",
        "  if str(a) == 'nan':\n",
        "    return np.nan\n",
        "\n",
        "  num = int(str(a).split(' ')[0])\n",
        "  if 'Year' in a:\n",
        "    age = num\n",
        "  elif 'Month' in a:\n",
        "    age = num / 12\n",
        "  elif 'Week' in a:\n",
        "    age = num / 52\n",
        "  elif 'Day':\n",
        "    age = num / 365\n",
        "  elif 'Hour' in a:\n",
        "    age = num / (24 * 365)\n",
        "  elif 'Minute' in a:\n",
        "    age = num / (24 * 365 * 60)\n",
        "  return age\n",
        "\n",
        "df['minimum_age'] = df['minimum_age'].apply(parse_age)\n",
        "df['maximum_age'] = df['maximum_age'].apply(parse_age)"
      ],
      "metadata": {
        "id": "MWaCgE2fc4gY"
      },
      "execution_count": null,
      "outputs": []
    },
    {
      "cell_type": "markdown",
      "source": [
        "## Inclusion/Exclusion Criteria"
      ],
      "metadata": {
        "id": "S222znpRl7vj"
      }
    },
    {
      "cell_type": "code",
      "source": [
        "# identify which studies have clear inclusion vs. exclusion\n",
        "df['criteria_norm'] = df.criteria.fillna('').str.upper().str.strip().str.replace(' CRITERIA','')\n",
        "inc_cond = df.criteria_norm.str.contains('INCLUSION:')\n",
        "exc_cond = df.criteria_norm.str.contains('EXCLUSION:')\n",
        "parse_mask = (inc_cond) & (exc_cond)\n",
        "len_parse = df[parse_mask].shape[0]\n",
        "print(f'There are {len_parse} ({np.round(len_parse*100/n, 2)}%) studies with clearly delineated inclusion/exclusion criteria')"
      ],
      "metadata": {
        "colab": {
          "base_uri": "https://localhost:8080/"
        },
        "id": "i5iaUdbiI-vc",
        "outputId": "22ac1f66-39ee-43c1-e150-d6a21af56714"
      },
      "execution_count": null,
      "outputs": [
        {
          "output_type": "stream",
          "name": "stdout",
          "text": [
            "There are 38208 (90.38%) studies with clearly delineated inclusion/exclusion criteria\n"
          ]
        }
      ]
    },
    {
      "cell_type": "code",
      "source": [
        "def parse_criteria(c):\n",
        "  '''Splits criteria into inclusion and exclusion'''\n",
        "\n",
        "  def clean_criteria(s):\n",
        "    # sub-function to clean up criteria text\n",
        "    s = s.replace('INCLUSION:','').strip() # remove inclusion title\n",
        "    s = re.sub(r'(\\n\\s*)+\\n+', '\\n', s) # reduce newlines\n",
        "    return s\n",
        "\n",
        "  # create list with [inclusion, exclusion]\n",
        "  c_list = c.split('EXCLUSION:')\n",
        "  c_list = [clean_criteria(s) for s in c_list]\n",
        "  return c_list\n",
        "\n",
        "# apply the function to derive inclusion and exclusion\n",
        "df['inclusion'] = None\n",
        "df['exclusion'] = None\n",
        "df.loc[parse_mask, 'criteria_split'] = df.loc[parse_mask, 'criteria_norm'].apply(parse_criteria)\n",
        "df.loc[parse_mask, 'inclusion'] = df.loc[parse_mask, 'criteria_split'].apply(lambda x: x[0])\n",
        "df.loc[parse_mask, 'exclusion'] = df.loc[parse_mask, 'criteria_split'].apply(lambda x: x[1])"
      ],
      "metadata": {
        "id": "mEGr_DZqn4q9"
      },
      "execution_count": null,
      "outputs": []
    },
    {
      "cell_type": "markdown",
      "source": [
        "## Subsetting"
      ],
      "metadata": {
        "id": "qjK0vQT-Myv3"
      }
    },
    {
      "cell_type": "code",
      "source": [
        "# remove studies that were paused or suspended\n",
        "suspend_mask = (df.overall_status.isin(['Terminated', 'Withdrawn', 'Suspended']))\n",
        "n_suspend = df[suspend_mask].shape[0]\n",
        "print(f'There are {n_suspend} studies that need to be removed because they are either terminated, withdrawn, or suspended.')\n",
        "df = df[~suspend_mask].copy(deep=True)\n",
        "print(f'There are {len(df)} studies remaining.')"
      ],
      "metadata": {
        "colab": {
          "base_uri": "https://localhost:8080/"
        },
        "id": "8CSVHf1pM1Eh",
        "outputId": "d8890e71-aabf-43f2-adea-d201711c83c4"
      },
      "execution_count": null,
      "outputs": [
        {
          "output_type": "stream",
          "name": "stdout",
          "text": [
            "There are 4597 studies that need to be removed because they are either terminated, withdrawn, or suspended.\n",
            "There are 37678 studies remaining.\n"
          ]
        }
      ]
    },
    {
      "cell_type": "markdown",
      "source": [
        "# Initial Analysis"
      ],
      "metadata": {
        "id": "RWrIf40eVDxw"
      }
    },
    {
      "cell_type": "markdown",
      "source": [
        "## By Age"
      ],
      "metadata": {
        "id": "5NRkEnqWA99G"
      }
    },
    {
      "cell_type": "markdown",
      "source": [
        "Perform analysis of excluded age groups"
      ],
      "metadata": {
        "id": "4lzETg-XBAL2"
      }
    },
    {
      "cell_type": "code",
      "source": [
        "def get_ages(min, max):\n",
        "  reference_ages = set( range(0, 101) )\n",
        "  if str(min) != 'nan' and str(max) != 'nan':\n",
        "    inc = set( range( int(min), int(max)+1 ) )\n",
        "  elif str(min) == 'nan' and str(max) != 'nan':\n",
        "    inc = set( range(0, int(max)+1 ) )\n",
        "  elif str(min) != 'nan' and str(max) == 'nan':\n",
        "    inc = set( range( int(min), 101) )\n",
        "  else:\n",
        "    inc = reference_ages\n",
        "  exc = sorted(list(reference_ages - inc))\n",
        "  return exc\n",
        "\n",
        "df['excluded_ages'] = df.apply(lambda x: get_ages(x.minimum_age, x.maximum_age), axis=1) \n",
        "\n",
        "display( df[['minimum_age', 'maximum_age', 'excluded_ages']] )"
      ],
      "metadata": {
        "colab": {
          "base_uri": "https://localhost:8080/",
          "height": 424
        },
        "id": "Lxy6prqIBXN8",
        "outputId": "b0b59648-1720-4d25-94e2-70930ab0848f"
      },
      "execution_count": null,
      "outputs": [
        {
          "output_type": "display_data",
          "data": {
            "text/plain": [
              "       minimum_age  maximum_age  \\\n",
              "0              6.0         12.0   \n",
              "1             18.0         49.0   \n",
              "2             18.0         56.0   \n",
              "3              NaN         50.0   \n",
              "4              NaN          NaN   \n",
              "...            ...          ...   \n",
              "42270         18.0         65.0   \n",
              "42271         18.0         80.0   \n",
              "42272         20.0         70.0   \n",
              "42273         18.0         64.0   \n",
              "42274         18.0         85.0   \n",
              "\n",
              "                                           excluded_ages  \n",
              "0      [0, 1, 2, 3, 4, 5, 13, 14, 15, 16, 17, 18, 19,...  \n",
              "1      [0, 1, 2, 3, 4, 5, 6, 7, 8, 9, 10, 11, 12, 13,...  \n",
              "2      [0, 1, 2, 3, 4, 5, 6, 7, 8, 9, 10, 11, 12, 13,...  \n",
              "3      [51, 52, 53, 54, 55, 56, 57, 58, 59, 60, 61, 6...  \n",
              "4                                                     []  \n",
              "...                                                  ...  \n",
              "42270  [0, 1, 2, 3, 4, 5, 6, 7, 8, 9, 10, 11, 12, 13,...  \n",
              "42271  [0, 1, 2, 3, 4, 5, 6, 7, 8, 9, 10, 11, 12, 13,...  \n",
              "42272  [0, 1, 2, 3, 4, 5, 6, 7, 8, 9, 10, 11, 12, 13,...  \n",
              "42273  [0, 1, 2, 3, 4, 5, 6, 7, 8, 9, 10, 11, 12, 13,...  \n",
              "42274  [0, 1, 2, 3, 4, 5, 6, 7, 8, 9, 10, 11, 12, 13,...  \n",
              "\n",
              "[37678 rows x 3 columns]"
            ],
            "text/html": [
              "\n",
              "  <div id=\"df-3a631ba5-2f6f-4348-b1d3-569ea54cd11d\">\n",
              "    <div class=\"colab-df-container\">\n",
              "      <div>\n",
              "<style scoped>\n",
              "    .dataframe tbody tr th:only-of-type {\n",
              "        vertical-align: middle;\n",
              "    }\n",
              "\n",
              "    .dataframe tbody tr th {\n",
              "        vertical-align: top;\n",
              "    }\n",
              "\n",
              "    .dataframe thead th {\n",
              "        text-align: right;\n",
              "    }\n",
              "</style>\n",
              "<table border=\"1\" class=\"dataframe\">\n",
              "  <thead>\n",
              "    <tr style=\"text-align: right;\">\n",
              "      <th></th>\n",
              "      <th>minimum_age</th>\n",
              "      <th>maximum_age</th>\n",
              "      <th>excluded_ages</th>\n",
              "    </tr>\n",
              "  </thead>\n",
              "  <tbody>\n",
              "    <tr>\n",
              "      <th>0</th>\n",
              "      <td>6.0</td>\n",
              "      <td>12.0</td>\n",
              "      <td>[0, 1, 2, 3, 4, 5, 13, 14, 15, 16, 17, 18, 19,...</td>\n",
              "    </tr>\n",
              "    <tr>\n",
              "      <th>1</th>\n",
              "      <td>18.0</td>\n",
              "      <td>49.0</td>\n",
              "      <td>[0, 1, 2, 3, 4, 5, 6, 7, 8, 9, 10, 11, 12, 13,...</td>\n",
              "    </tr>\n",
              "    <tr>\n",
              "      <th>2</th>\n",
              "      <td>18.0</td>\n",
              "      <td>56.0</td>\n",
              "      <td>[0, 1, 2, 3, 4, 5, 6, 7, 8, 9, 10, 11, 12, 13,...</td>\n",
              "    </tr>\n",
              "    <tr>\n",
              "      <th>3</th>\n",
              "      <td>NaN</td>\n",
              "      <td>50.0</td>\n",
              "      <td>[51, 52, 53, 54, 55, 56, 57, 58, 59, 60, 61, 6...</td>\n",
              "    </tr>\n",
              "    <tr>\n",
              "      <th>4</th>\n",
              "      <td>NaN</td>\n",
              "      <td>NaN</td>\n",
              "      <td>[]</td>\n",
              "    </tr>\n",
              "    <tr>\n",
              "      <th>...</th>\n",
              "      <td>...</td>\n",
              "      <td>...</td>\n",
              "      <td>...</td>\n",
              "    </tr>\n",
              "    <tr>\n",
              "      <th>42270</th>\n",
              "      <td>18.0</td>\n",
              "      <td>65.0</td>\n",
              "      <td>[0, 1, 2, 3, 4, 5, 6, 7, 8, 9, 10, 11, 12, 13,...</td>\n",
              "    </tr>\n",
              "    <tr>\n",
              "      <th>42271</th>\n",
              "      <td>18.0</td>\n",
              "      <td>80.0</td>\n",
              "      <td>[0, 1, 2, 3, 4, 5, 6, 7, 8, 9, 10, 11, 12, 13,...</td>\n",
              "    </tr>\n",
              "    <tr>\n",
              "      <th>42272</th>\n",
              "      <td>20.0</td>\n",
              "      <td>70.0</td>\n",
              "      <td>[0, 1, 2, 3, 4, 5, 6, 7, 8, 9, 10, 11, 12, 13,...</td>\n",
              "    </tr>\n",
              "    <tr>\n",
              "      <th>42273</th>\n",
              "      <td>18.0</td>\n",
              "      <td>64.0</td>\n",
              "      <td>[0, 1, 2, 3, 4, 5, 6, 7, 8, 9, 10, 11, 12, 13,...</td>\n",
              "    </tr>\n",
              "    <tr>\n",
              "      <th>42274</th>\n",
              "      <td>18.0</td>\n",
              "      <td>85.0</td>\n",
              "      <td>[0, 1, 2, 3, 4, 5, 6, 7, 8, 9, 10, 11, 12, 13,...</td>\n",
              "    </tr>\n",
              "  </tbody>\n",
              "</table>\n",
              "<p>37678 rows × 3 columns</p>\n",
              "</div>\n",
              "      <button class=\"colab-df-convert\" onclick=\"convertToInteractive('df-3a631ba5-2f6f-4348-b1d3-569ea54cd11d')\"\n",
              "              title=\"Convert this dataframe to an interactive table.\"\n",
              "              style=\"display:none;\">\n",
              "        \n",
              "  <svg xmlns=\"http://www.w3.org/2000/svg\" height=\"24px\"viewBox=\"0 0 24 24\"\n",
              "       width=\"24px\">\n",
              "    <path d=\"M0 0h24v24H0V0z\" fill=\"none\"/>\n",
              "    <path d=\"M18.56 5.44l.94 2.06.94-2.06 2.06-.94-2.06-.94-.94-2.06-.94 2.06-2.06.94zm-11 1L8.5 8.5l.94-2.06 2.06-.94-2.06-.94L8.5 2.5l-.94 2.06-2.06.94zm10 10l.94 2.06.94-2.06 2.06-.94-2.06-.94-.94-2.06-.94 2.06-2.06.94z\"/><path d=\"M17.41 7.96l-1.37-1.37c-.4-.4-.92-.59-1.43-.59-.52 0-1.04.2-1.43.59L10.3 9.45l-7.72 7.72c-.78.78-.78 2.05 0 2.83L4 21.41c.39.39.9.59 1.41.59.51 0 1.02-.2 1.41-.59l7.78-7.78 2.81-2.81c.8-.78.8-2.07 0-2.86zM5.41 20L4 18.59l7.72-7.72 1.47 1.35L5.41 20z\"/>\n",
              "  </svg>\n",
              "      </button>\n",
              "      \n",
              "  <style>\n",
              "    .colab-df-container {\n",
              "      display:flex;\n",
              "      flex-wrap:wrap;\n",
              "      gap: 12px;\n",
              "    }\n",
              "\n",
              "    .colab-df-convert {\n",
              "      background-color: #E8F0FE;\n",
              "      border: none;\n",
              "      border-radius: 50%;\n",
              "      cursor: pointer;\n",
              "      display: none;\n",
              "      fill: #1967D2;\n",
              "      height: 32px;\n",
              "      padding: 0 0 0 0;\n",
              "      width: 32px;\n",
              "    }\n",
              "\n",
              "    .colab-df-convert:hover {\n",
              "      background-color: #E2EBFA;\n",
              "      box-shadow: 0px 1px 2px rgba(60, 64, 67, 0.3), 0px 1px 3px 1px rgba(60, 64, 67, 0.15);\n",
              "      fill: #174EA6;\n",
              "    }\n",
              "\n",
              "    [theme=dark] .colab-df-convert {\n",
              "      background-color: #3B4455;\n",
              "      fill: #D2E3FC;\n",
              "    }\n",
              "\n",
              "    [theme=dark] .colab-df-convert:hover {\n",
              "      background-color: #434B5C;\n",
              "      box-shadow: 0px 1px 3px 1px rgba(0, 0, 0, 0.15);\n",
              "      filter: drop-shadow(0px 1px 2px rgba(0, 0, 0, 0.3));\n",
              "      fill: #FFFFFF;\n",
              "    }\n",
              "  </style>\n",
              "\n",
              "      <script>\n",
              "        const buttonEl =\n",
              "          document.querySelector('#df-3a631ba5-2f6f-4348-b1d3-569ea54cd11d button.colab-df-convert');\n",
              "        buttonEl.style.display =\n",
              "          google.colab.kernel.accessAllowed ? 'block' : 'none';\n",
              "\n",
              "        async function convertToInteractive(key) {\n",
              "          const element = document.querySelector('#df-3a631ba5-2f6f-4348-b1d3-569ea54cd11d');\n",
              "          const dataTable =\n",
              "            await google.colab.kernel.invokeFunction('convertToInteractive',\n",
              "                                                     [key], {});\n",
              "          if (!dataTable) return;\n",
              "\n",
              "          const docLinkHtml = 'Like what you see? Visit the ' +\n",
              "            '<a target=\"_blank\" href=https://colab.research.google.com/notebooks/data_table.ipynb>data table notebook</a>'\n",
              "            + ' to learn more about interactive tables.';\n",
              "          element.innerHTML = '';\n",
              "          dataTable['output_type'] = 'display_data';\n",
              "          await google.colab.output.renderOutput(dataTable, element);\n",
              "          const docLink = document.createElement('div');\n",
              "          docLink.innerHTML = docLinkHtml;\n",
              "          element.appendChild(docLink);\n",
              "        }\n",
              "      </script>\n",
              "    </div>\n",
              "  </div>\n",
              "  "
            ]
          },
          "metadata": {}
        }
      ]
    },
    {
      "cell_type": "code",
      "source": [
        "# obtain subset of cancer studies\n",
        "cancer = df[(df.mesh_term.str.contains('neoplasm')) | (df.mesh_term.str.contains('cancer'))].copy(deep=True)\n",
        "\n",
        "# for obtaining the \"exclusion rate\" per age from 0-100 based on a search term\n",
        "search_term = 'digestive system'\n",
        "def count_age_exclude(search_term, cancer=cancer):\n",
        "\n",
        "  def count_trials(sub, age):\n",
        "    where_excluded = sub[sub.excluded_ages.apply(lambda x: age in x)]\n",
        "    no_excluded = len(where_excluded)\n",
        "    return no_excluded\n",
        "\n",
        "  sub = cancer[cancer.mesh_term.str.contains(search_term)].copy(deep=True)\n",
        "  n = len(sub)\n",
        "  print(f'There are {n} clinical trials for {search_term}.')\n",
        "  ages = list( range(0,101) )\n",
        "  percent_trials = [count_trials(sub, age)/n for age in ages]\n",
        "  result = pd.DataFrame({\n",
        "    'age': ages,\n",
        "    'sub_type': [search_term] * len(ages),\n",
        "    'percent_trials': percent_trials\n",
        "  })\n",
        "  return result\n",
        "\n",
        "# for obtaining the same thing for multiple search terms\n",
        "search_terms = sorted(['respiratory', 'lymphoproliferative', 'lymphatic', 'leukemia', 'immunoproliferative', 'head and neck', 'digestive system', 'breast'],\n",
        "key=lambda x: -len(cancer[cancer.mesh_term.str.contains(x)]))\n",
        "tables = [count_age_exclude(term) for term in search_terms]\n",
        "lt = pd.concat(tables)\n",
        "\n",
        "# pivot from long to wide\n",
        "lt_wide = pd.pivot(lt, index='age', columns = 'sub_type', values = 'percent_trials')\n",
        "lt_wide.sort_values('age', ascending=False, inplace=True)\n",
        "\n",
        "import seaborn as sns\n",
        "\n",
        "sns.heatmap(lt_wide, cmap=\"Blues\")"
      ],
      "metadata": {
        "id": "QqRzs6ZO_vdA",
        "colab": {
          "base_uri": "https://localhost:8080/",
          "height": 541
        },
        "outputId": "d0dc96fc-a56c-495c-9e4a-47fc2b126037"
      },
      "execution_count": null,
      "outputs": [
        {
          "output_type": "stream",
          "name": "stdout",
          "text": [
            "There are 1511 clinical trials for digestive system.\n",
            "There are 1003 clinical trials for breast.\n",
            "There are 926 clinical trials for lymphoproliferative.\n",
            "There are 925 clinical trials for immunoproliferative.\n",
            "There are 855 clinical trials for respiratory.\n",
            "There are 684 clinical trials for lymphatic.\n",
            "There are 593 clinical trials for leukemia.\n",
            "There are 529 clinical trials for head and neck.\n"
          ]
        },
        {
          "output_type": "execute_result",
          "data": {
            "text/plain": [
              "<matplotlib.axes._subplots.AxesSubplot at 0x7f2ad9174850>"
            ]
          },
          "metadata": {},
          "execution_count": 16
        },
        {
          "output_type": "display_data",
          "data": {
            "text/plain": [
              "<Figure size 432x288 with 2 Axes>"
            ],
            "image/png": "[encoded data removed]"
          },
          "metadata": {
            "needs_background": "light"
          }
        }
      ]
    },
    {
      "cell_type": "markdown",
      "source": [
        "## By Gender"
      ],
      "metadata": {
        "id": "22lH_V_FHjic"
      }
    },
    {
      "cell_type": "markdown",
      "source": [
        "Simple descriptive statistics of gender column:"
      ],
      "metadata": {
        "id": "Xr4gD1UwH0g7"
      }
    },
    {
      "cell_type": "code",
      "source": [
        "# Overall gender percentages across all cancer groups:\n",
        "gender_percentages_overall = df.gender.value_counts(normalize=True) * 100\n",
        "gender_percentages_overall"
      ],
      "metadata": {
        "id": "umP3qs-rHn8Z"
      },
      "execution_count": null,
      "outputs": []
    },
    {
      "cell_type": "markdown",
      "source": [
        "Gender proportions by cancer type: "
      ],
      "metadata": {
        "id": "Q5JbO2OjIAv9"
      }
    },
    {
      "cell_type": "code",
      "source": [
        "search_terms = ['digestive system neoplasm', 'respiratory tract neoplasm', 'head and neck neoplasm']\n",
        "\n",
        "def obtain_gender_percent(term, df=df):\n",
        "  # obtain subset of trials with search term\n",
        "  mask = df.mesh_term.fillna('').str.contains(term)\n",
        "  sub = df[mask].copy(deep=True)\n",
        "  gender_prop = sub['gender'].value_counts(normalize = True) * 100\n",
        "\n",
        "  # summarize gender percent\n",
        "  table = pd.DataFrame(gender_prop).reset_index()\n",
        "  table.rename(columns={'index': 'gender', 'gender': 'percent'}, inplace=True)\n",
        "  table['condition'] = term\n",
        "  return table\n",
        "\n",
        "percent_tables = [obtain_gender_percent(term) for term in search_terms]\n",
        "percent_all = pd.concat(percent_tables)\n",
        "percent_all"
      ],
      "metadata": {
        "id": "wghV6sQ3ICTY"
      },
      "execution_count": null,
      "outputs": []
    },
    {
      "cell_type": "code",
      "source": [
        "raise Exception(\"scratch code below\")"
      ],
      "metadata": {
        "colab": {
          "base_uri": "https://localhost:8080/",
          "height": 171
        },
        "id": "dvd3wCMkrsy_",
        "outputId": "6dbc57e4-4db7-444c-f993-baebfb3829bc"
      },
      "execution_count": null,
      "outputs": [
        {
          "output_type": "error",
          "ename": "Exception",
          "evalue": "ignored",
          "traceback": [
            "\u001b[0;31m---------------------------------------------------------------------------\u001b[0m",
            "\u001b[0;31mException\u001b[0m                                 Traceback (most recent call last)",
            "\u001b[0;32m<ipython-input-17-5c105c5ae893>\u001b[0m in \u001b[0;36m<module>\u001b[0;34m\u001b[0m\n\u001b[0;32m----> 1\u001b[0;31m \u001b[0;32mraise\u001b[0m \u001b[0mException\u001b[0m\u001b[0;34m(\u001b[0m\u001b[0;34m\"scratch code below\"\u001b[0m\u001b[0;34m)\u001b[0m\u001b[0;34m\u001b[0m\u001b[0;34m\u001b[0m\u001b[0m\n\u001b[0m",
            "\u001b[0;31mException\u001b[0m: scratch code below"
          ]
        }
      ]
    }
  ]
}