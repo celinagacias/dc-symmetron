{
  "nbformat": 4,
  "nbformat_minor": 0,
  "metadata": {
    "colab": {
      "provenance": [],
      "toc_visible": true,
      "include_colab_link": true
    },
    "kernelspec": {
      "name": "python3",
      "display_name": "Python 3"
    },
    "language_info": {
      "name": "python"
    }
  },
  "cells": [
    {
      "cell_type": "markdown",
      "metadata": {
        "id": "view-in-github",
        "colab_type": "text"
      },
      "source": [
        "<a href=\"https://colab.research.google.com/github/celinagacias/dc-symmetron/blob/main/Data%20Cleaning%20and%20Analysis.ipynb\" target=\"_parent\"><img src=\"https://colab.research.google.com/assets/colab-badge.svg\" alt=\"Open In Colab\"/></a>"
      ]
    },
    {
      "cell_type": "code",
      "execution_count": null,
      "metadata": {
        "id": "0DQLxPBhmyaq"
      },
      "outputs": [],
      "source": [
        "import pandas as pd\n",
        "import numpy as np\n",
        "from datetime import datetime\n",
        "import re\n",
        "\n",
        "from pydrive.auth import GoogleAuth\n",
        "from pydrive.drive import GoogleDrive\n",
        "from google.colab import auth, drive\n",
        "from oauth2client.client import GoogleCredentials"
      ]
    },
    {
      "cell_type": "markdown",
      "source": [
        "# Data Read-In"
      ],
      "metadata": {
        "id": "XE2F-wbaTCGI"
      }
    },
    {
      "cell_type": "code",
      "source": [
        "#Authenticate user\n",
        "auth.authenticate_user()\n",
        "gauth = GoogleAuth()\n",
        "\n",
        "#Mount GDrive\n",
        "gdrive = GoogleDrive(gauth)\n",
        "gauth.credentials = GoogleCredentials.get_application_default()\n",
        "drive.mount('/content/drive')"
      ],
      "metadata": {
        "colab": {
          "base_uri": "https://localhost:8080/"
        },
        "id": "b4w23Db_RjPs",
        "outputId": "0513a31d-932e-4a74-ca61-615e07a832ff"
      },
      "execution_count": null,
      "outputs": [
        {
          "output_type": "stream",
          "name": "stdout",
          "text": [
            "Mounted at /content/drive\n"
          ]
        }
      ]
    },
    {
      "cell_type": "code",
      "source": [
        "# Read data from csv\n",
        "folder = '1iLA5sSyu7ere1AN40TWRf6O6ma5LoIDl'\n",
        "filename = 'raw_AACT_data.csv'\n",
        "\n",
        "gfile_list = gdrive.ListFile({'q': \"'\" +  folder + \"'\" + \" in parents and trashed=false\"}).GetList()\n",
        "gfile = [f for f in gfile_list if f['title'] == filename][0]\n",
        "df_file = gdrive.CreateFile({'id': gfile['id']})\n",
        "df_file.GetContentFile(gfile['title'])\n",
        "df = pd.read_csv(filename)\n",
        "display(df.head(2))"
      ],
      "metadata": {
        "id": "ttsAotx7SGmH",
        "colab": {
          "base_uri": "https://localhost:8080/",
          "height": 332
        },
        "outputId": "6b2b2a81-ea5f-437b-f7f0-4e8fef979047"
      },
      "execution_count": null,
      "outputs": [
        {
          "output_type": "display_data",
          "data": {
            "text/plain": [
              "        nct_id  start_date start_date_type      study_type    phase  \\\n",
              "0  NCT00000113  1997-09-30             NaN  Interventional  Phase 3   \n",
              "1  NCT00000114  1984-05-31             NaN  Interventional  Phase 3   \n",
              "\n",
              "  overall_status last_known_status  population gender_description minimum_age  \\\n",
              "0      Completed               NaN         NaN                NaN     6 Years   \n",
              "1      Completed               NaN         NaN                NaN    18 Years   \n",
              "\n",
              "  maximum_age gender healthy_volunteers countries_removed countries_retained  \\\n",
              "0    12 Years    All                 No                {}  {\"United States\"}   \n",
              "1    49 Years    All                NaN               NaN                NaN   \n",
              "\n",
              "       conditions_table                                          mesh_term  \\\n",
              "0                myopia            eye diseases, refractive errors, myopia   \n",
              "1  retinitis pigmentosa  retinitis, eye diseases, hereditary, retinal d...   \n",
              "\n",
              "                                            criteria  \n",
              "0  Children between the ages of 6 and 12 years wi...  \n",
              "1  Men and nonpregnant women between ages 18 and ...  "
            ],
            "text/html": [
              "\n",
              "  <div id=\"df-a005a1c8-8523-4ed2-b574-fff279555bcd\">\n",
              "    <div class=\"colab-df-container\">\n",
              "      <div>\n",
              "<style scoped>\n",
              "    .dataframe tbody tr th:only-of-type {\n",
              "        vertical-align: middle;\n",
              "    }\n",
              "\n",
              "    .dataframe tbody tr th {\n",
              "        vertical-align: top;\n",
              "    }\n",
              "\n",
              "    .dataframe thead th {\n",
              "        text-align: right;\n",
              "    }\n",
              "</style>\n",
              "<table border=\"1\" class=\"dataframe\">\n",
              "  <thead>\n",
              "    <tr style=\"text-align: right;\">\n",
              "      <th></th>\n",
              "      <th>nct_id</th>\n",
              "      <th>start_date</th>\n",
              "      <th>start_date_type</th>\n",
              "      <th>study_type</th>\n",
              "      <th>phase</th>\n",
              "      <th>overall_status</th>\n",
              "      <th>last_known_status</th>\n",
              "      <th>population</th>\n",
              "      <th>gender_description</th>\n",
              "      <th>minimum_age</th>\n",
              "      <th>maximum_age</th>\n",
              "      <th>gender</th>\n",
              "      <th>healthy_volunteers</th>\n",
              "      <th>countries_removed</th>\n",
              "      <th>countries_retained</th>\n",
              "      <th>conditions_table</th>\n",
              "      <th>mesh_term</th>\n",
              "      <th>criteria</th>\n",
              "    </tr>\n",
              "  </thead>\n",
              "  <tbody>\n",
              "    <tr>\n",
              "      <th>0</th>\n",
              "      <td>NCT00000113</td>\n",
              "      <td>1997-09-30</td>\n",
              "      <td>NaN</td>\n",
              "      <td>Interventional</td>\n",
              "      <td>Phase 3</td>\n",
              "      <td>Completed</td>\n",
              "      <td>NaN</td>\n",
              "      <td>NaN</td>\n",
              "      <td>NaN</td>\n",
              "      <td>6 Years</td>\n",
              "      <td>12 Years</td>\n",
              "      <td>All</td>\n",
              "      <td>No</td>\n",
              "      <td>{}</td>\n",
              "      <td>{\"United States\"}</td>\n",
              "      <td>myopia</td>\n",
              "      <td>eye diseases, refractive errors, myopia</td>\n",
              "      <td>Children between the ages of 6 and 12 years wi...</td>\n",
              "    </tr>\n",
              "    <tr>\n",
              "      <th>1</th>\n",
              "      <td>NCT00000114</td>\n",
              "      <td>1984-05-31</td>\n",
              "      <td>NaN</td>\n",
              "      <td>Interventional</td>\n",
              "      <td>Phase 3</td>\n",
              "      <td>Completed</td>\n",
              "      <td>NaN</td>\n",
              "      <td>NaN</td>\n",
              "      <td>NaN</td>\n",
              "      <td>18 Years</td>\n",
              "      <td>49 Years</td>\n",
              "      <td>All</td>\n",
              "      <td>NaN</td>\n",
              "      <td>NaN</td>\n",
              "      <td>NaN</td>\n",
              "      <td>retinitis pigmentosa</td>\n",
              "      <td>retinitis, eye diseases, hereditary, retinal d...</td>\n",
              "      <td>Men and nonpregnant women between ages 18 and ...</td>\n",
              "    </tr>\n",
              "  </tbody>\n",
              "</table>\n",
              "</div>\n",
              "      <button class=\"colab-df-convert\" onclick=\"convertToInteractive('df-a005a1c8-8523-4ed2-b574-fff279555bcd')\"\n",
              "              title=\"Convert this dataframe to an interactive table.\"\n",
              "              style=\"display:none;\">\n",
              "        \n",
              "  <svg xmlns=\"http://www.w3.org/2000/svg\" height=\"24px\"viewBox=\"0 0 24 24\"\n",
              "       width=\"24px\">\n",
              "    <path d=\"M0 0h24v24H0V0z\" fill=\"none\"/>\n",
              "    <path d=\"M18.56 5.44l.94 2.06.94-2.06 2.06-.94-2.06-.94-.94-2.06-.94 2.06-2.06.94zm-11 1L8.5 8.5l.94-2.06 2.06-.94-2.06-.94L8.5 2.5l-.94 2.06-2.06.94zm10 10l.94 2.06.94-2.06 2.06-.94-2.06-.94-.94-2.06-.94 2.06-2.06.94z\"/><path d=\"M17.41 7.96l-1.37-1.37c-.4-.4-.92-.59-1.43-.59-.52 0-1.04.2-1.43.59L10.3 9.45l-7.72 7.72c-.78.78-.78 2.05 0 2.83L4 21.41c.39.39.9.59 1.41.59.51 0 1.02-.2 1.41-.59l7.78-7.78 2.81-2.81c.8-.78.8-2.07 0-2.86zM5.41 20L4 18.59l7.72-7.72 1.47 1.35L5.41 20z\"/>\n",
              "  </svg>\n",
              "      </button>\n",
              "      \n",
              "  <style>\n",
              "    .colab-df-container {\n",
              "      display:flex;\n",
              "      flex-wrap:wrap;\n",
              "      gap: 12px;\n",
              "    }\n",
              "\n",
              "    .colab-df-convert {\n",
              "      background-color: #E8F0FE;\n",
              "      border: none;\n",
              "      border-radius: 50%;\n",
              "      cursor: pointer;\n",
              "      display: none;\n",
              "      fill: #1967D2;\n",
              "      height: 32px;\n",
              "      padding: 0 0 0 0;\n",
              "      width: 32px;\n",
              "    }\n",
              "\n",
              "    .colab-df-convert:hover {\n",
              "      background-color: #E2EBFA;\n",
              "      box-shadow: 0px 1px 2px rgba(60, 64, 67, 0.3), 0px 1px 3px 1px rgba(60, 64, 67, 0.15);\n",
              "      fill: #174EA6;\n",
              "    }\n",
              "\n",
              "    [theme=dark] .colab-df-convert {\n",
              "      background-color: #3B4455;\n",
              "      fill: #D2E3FC;\n",
              "    }\n",
              "\n",
              "    [theme=dark] .colab-df-convert:hover {\n",
              "      background-color: #434B5C;\n",
              "      box-shadow: 0px 1px 3px 1px rgba(0, 0, 0, 0.15);\n",
              "      filter: drop-shadow(0px 1px 2px rgba(0, 0, 0, 0.3));\n",
              "      fill: #FFFFFF;\n",
              "    }\n",
              "  </style>\n",
              "\n",
              "      <script>\n",
              "        const buttonEl =\n",
              "          document.querySelector('#df-a005a1c8-8523-4ed2-b574-fff279555bcd button.colab-df-convert');\n",
              "        buttonEl.style.display =\n",
              "          google.colab.kernel.accessAllowed ? 'block' : 'none';\n",
              "\n",
              "        async function convertToInteractive(key) {\n",
              "          const element = document.querySelector('#df-a005a1c8-8523-4ed2-b574-fff279555bcd');\n",
              "          const dataTable =\n",
              "            await google.colab.kernel.invokeFunction('convertToInteractive',\n",
              "                                                     [key], {});\n",
              "          if (!dataTable) return;\n",
              "\n",
              "          const docLinkHtml = 'Like what you see? Visit the ' +\n",
              "            '<a target=\"_blank\" href=https://colab.research.google.com/notebooks/data_table.ipynb>data table notebook</a>'\n",
              "            + ' to learn more about interactive tables.';\n",
              "          element.innerHTML = '';\n",
              "          dataTable['output_type'] = 'display_data';\n",
              "          await google.colab.output.renderOutput(dataTable, element);\n",
              "          const docLink = document.createElement('div');\n",
              "          docLink.innerHTML = docLinkHtml;\n",
              "          element.appendChild(docLink);\n",
              "        }\n",
              "      </script>\n",
              "    </div>\n",
              "  </div>\n",
              "  "
            ]
          },
          "metadata": {}
        }
      ]
    },
    {
      "cell_type": "code",
      "source": [
        "n = len(df)\n",
        "print(f'There are {n} studies in our sample.')"
      ],
      "metadata": {
        "colab": {
          "base_uri": "https://localhost:8080/"
        },
        "id": "5uIa41t3m8r-",
        "outputId": "be125d12-b526-4a84-a768-c06a24e4b89a"
      },
      "execution_count": null,
      "outputs": [
        {
          "output_type": "stream",
          "name": "stdout",
          "text": [
            "There are 42275 studies in our sample.\n"
          ]
        }
      ]
    },
    {
      "cell_type": "markdown",
      "source": [
        "# Data Cleaning"
      ],
      "metadata": {
        "id": "ZeyaVTvCK0bO"
      }
    },
    {
      "cell_type": "markdown",
      "source": [
        "## Dates"
      ],
      "metadata": {
        "id": "BvuYNH0UJJnn"
      }
    },
    {
      "cell_type": "code",
      "source": [
        "# convert start date to date\n",
        "df['start_date'] = df['start_date'].apply(\n",
        "    lambda x: datetime.strptime(x, '%Y-%m-%d').date() if str(x) != 'nan' else None)"
      ],
      "metadata": {
        "id": "muEUyM5HJNW-"
      },
      "execution_count": null,
      "outputs": []
    },
    {
      "cell_type": "code",
      "source": [
        "# extract year into separate column\n",
        "df['start_year'] = df['start_date'].apply(lambda x: int(x.year) if x is not None else None)"
      ],
      "metadata": {
        "id": "9Wwr5jJyKBg_"
      },
      "execution_count": null,
      "outputs": []
    },
    {
      "cell_type": "markdown",
      "source": [
        "## Countries"
      ],
      "metadata": {
        "id": "8hboB_lGKeaW"
      }
    },
    {
      "cell_type": "code",
      "source": [
        "def process_countries(l):\n",
        "  # converts string of list of countries into lists\n",
        "  l = l.replace('{','').replace('}','').split(',')\n",
        "  l = set([c.replace('\"','') for c in l])\n",
        "  return l"
      ],
      "metadata": {
        "id": "Oo8o6Z5IKhSl"
      },
      "execution_count": null,
      "outputs": []
    },
    {
      "cell_type": "code",
      "source": [
        "# apply the function to each list of countries\n",
        "df['countries_removed'] = df['countries_removed'].apply(\n",
        "    lambda x: process_countries(x) if str(x) != 'nan' else None)\n",
        "\n",
        "df['countries_retained'] = df['countries_retained'].apply(\n",
        "    lambda x: process_countries(x) if str(x) != 'nan' else None)"
      ],
      "metadata": {
        "id": "1QPo8n7ZMIiP"
      },
      "execution_count": null,
      "outputs": []
    },
    {
      "cell_type": "markdown",
      "source": [
        "## Ages"
      ],
      "metadata": {
        "id": "XTO-gyU-c2xU"
      }
    },
    {
      "cell_type": "code",
      "source": [
        "def parse_age(a):\n",
        "  # Convert text of age into years\n",
        "  if str(a) == 'nan':\n",
        "    return np.nan\n",
        "\n",
        "  num = int(str(a).split(' ')[0])\n",
        "  if 'Year' in a:\n",
        "    age = num\n",
        "  elif 'Month' in a:\n",
        "    age = num / 12\n",
        "  elif 'Week' in a:\n",
        "    age = num / 52\n",
        "  elif 'Day':\n",
        "    age = num / 365\n",
        "  elif 'Hour' in a:\n",
        "    age = num / (24 * 365)\n",
        "  elif 'Minute' in a:\n",
        "    age = num / (24 * 365 * 60)\n",
        "  return age\n",
        "\n",
        "df['minimum_age'] = df['minimum_age'].apply(parse_age)\n",
        "df['maximum_age'] = df['maximum_age'].apply(parse_age)"
      ],
      "metadata": {
        "id": "MWaCgE2fc4gY"
      },
      "execution_count": null,
      "outputs": []
    },
    {
      "cell_type": "markdown",
      "source": [
        "## Inclusion/Exclusion Criteria"
      ],
      "metadata": {
        "id": "S222znpRl7vj"
      }
    },
    {
      "cell_type": "code",
      "source": [
        "# identify which studies have clear inclusion vs. exclusion\n",
        "df['criteria_norm'] = df.criteria.fillna('').str.upper().str.strip().str.replace(' CRITERIA','')\n",
        "inc_cond = df.criteria_norm.str.contains('INCLUSION:')\n",
        "exc_cond = df.criteria_norm.str.contains('EXCLUSION:')\n",
        "parse_mask = (inc_cond) & (exc_cond)\n",
        "len_parse = df[parse_mask].shape[0]\n",
        "print(f'There are {len_parse} ({np.round(len_parse*100/n, 2)}%) studies with clearly delineated inclusion/exclusion criteria')"
      ],
      "metadata": {
        "colab": {
          "base_uri": "https://localhost:8080/"
        },
        "id": "i5iaUdbiI-vc",
        "outputId": "44f62326-62c7-43a1-9002-66887f1f6952"
      },
      "execution_count": null,
      "outputs": [
        {
          "output_type": "stream",
          "name": "stdout",
          "text": [
            "There are 38208 (90.38%) studies with clearly delineated inclusion/exclusion criteria\n"
          ]
        }
      ]
    },
    {
      "cell_type": "code",
      "source": [
        "def parse_criteria(c):\n",
        "  '''Splits criteria into inclusion and exclusion'''\n",
        "\n",
        "  def clean_criteria(s):\n",
        "    # sub-function to clean up criteria text\n",
        "    s = s.replace('INCLUSION:','').strip() # remove inclusion title\n",
        "    s = re.sub(r'(\\n\\s*)+\\n+', '\\n', s) # reduce newlines\n",
        "    return s\n",
        "\n",
        "  # create list with [inclusion, exclusion]\n",
        "  c_list = c.split('EXCLUSION:')\n",
        "  c_list = [clean_criteria(s) for s in c_list]\n",
        "  return c_list\n",
        "\n",
        "# apply the function to derive inclusion and exclusion\n",
        "df['inclusion'] = None\n",
        "df['exclusion'] = None\n",
        "df.loc[parse_mask, 'criteria_split'] = df.loc[parse_mask, 'criteria_norm'].apply(parse_criteria)\n",
        "df.loc[parse_mask, 'inclusion'] = df.loc[parse_mask, 'criteria_split'].apply(lambda x: x[0])\n",
        "df.loc[parse_mask, 'exclusion'] = df.loc[parse_mask, 'criteria_split'].apply(lambda x: x[1])"
      ],
      "metadata": {
        "id": "mEGr_DZqn4q9"
      },
      "execution_count": null,
      "outputs": []
    },
    {
      "cell_type": "markdown",
      "source": [
        "## Subsetting"
      ],
      "metadata": {
        "id": "qjK0vQT-Myv3"
      }
    },
    {
      "cell_type": "code",
      "source": [
        "# remove studies that were paused or suspended\n",
        "suspend_mask = (df.overall_status.isin(['Terminated', 'Withdrawn', 'Suspended']))\n",
        "n_suspend = df[suspend_mask].shape[0]\n",
        "print(f'There are {n_suspend} studies that need to be removed because they are either terminated, withdrawn, or suspended.')\n",
        "df = df[~suspend_mask].copy(deep=True)\n",
        "print(f'There are {len(df)} studies remaining.')"
      ],
      "metadata": {
        "colab": {
          "base_uri": "https://localhost:8080/"
        },
        "id": "8CSVHf1pM1Eh",
        "outputId": "6ab381ad-cf09-4ff0-bfa9-a7fca99aa373"
      },
      "execution_count": null,
      "outputs": [
        {
          "output_type": "stream",
          "name": "stdout",
          "text": [
            "There are 4597 studies that need to be removed because they are either terminated, withdrawn, or suspended.\n",
            "There are 37678 studies remaining.\n"
          ]
        }
      ]
    },
    {
      "cell_type": "markdown",
      "source": [
        "# Descriptives"
      ],
      "metadata": {
        "id": "RWrIf40eVDxw"
      }
    },
    {
      "cell_type": "code",
      "source": [
        "raise Exception(\"scratch code below\")"
      ],
      "metadata": {
        "colab": {
          "base_uri": "https://localhost:8080/",
          "height": 166
        },
        "id": "dvd3wCMkrsy_",
        "outputId": "bbd5d7c1-f811-499d-b0cf-1152e3acccd1"
      },
      "execution_count": null,
      "outputs": [
        {
          "output_type": "error",
          "ename": "Exception",
          "evalue": "ignored",
          "traceback": [
            "\u001b[0;31m---------------------------------------------------------------------------\u001b[0m",
            "\u001b[0;31mException\u001b[0m                                 Traceback (most recent call last)",
            "\u001b[0;32m<ipython-input-32-7619fa7bed1e>\u001b[0m in \u001b[0;36m<module>\u001b[0;34m\u001b[0m\n\u001b[0;32m----> 1\u001b[0;31m \u001b[0;32mraise\u001b[0m \u001b[0mException\u001b[0m\u001b[0;34m(\u001b[0m\u001b[0;34m\"celina faffing about below\"\u001b[0m\u001b[0;34m)\u001b[0m\u001b[0;34m\u001b[0m\u001b[0;34m\u001b[0m\u001b[0m\n\u001b[0m",
            "\u001b[0;31mException\u001b[0m: celina faffing about below"
          ]
        }
      ]
    },
    {
      "cell_type": "code",
      "source": [
        "# obtain subset of cancer studies\n",
        "cancer = df[(df.mesh_term.str.contains('neoplasm')) | (df.mesh_term.str.contains('cancer'))]\n",
        "\n",
        "# show most frequent mesh term phrases\n",
        "cancer['mesh_list'] = cancer.mesh_term.apply(lambda x: list(set(x.split(', '))))\n",
        "\n",
        "mesh_frequency = pd.Series([i for s in cancer['mesh_list'] for i in s]).value_counts()\n",
        "display(mesh_frequency.head(40))"
      ],
      "metadata": {
        "colab": {
          "base_uri": "https://localhost:8080/",
          "height": 853
        },
        "id": "uJPWcrL5yb0q",
        "outputId": "fd9fd0de-5c76-42f6-e3e9-64852c055037"
      },
      "execution_count": null,
      "outputs": [
        {
          "output_type": "stream",
          "name": "stderr",
          "text": [
            "<ipython-input-10-df69a8d55b2c>:5: SettingWithCopyWarning: \n",
            "A value is trying to be set on a copy of a slice from a DataFrame.\n",
            "Try using .loc[row_indexer,col_indexer] = value instead\n",
            "\n",
            "See the caveats in the documentation: https://pandas.pydata.org/pandas-docs/stable/user_guide/indexing.html#returning-a-view-versus-a-copy\n",
            "  cancer['mesh_list'] = cancer.mesh_term.apply(lambda x: list(set(x.split(', '))))\n"
          ]
        },
        {
          "output_type": "display_data",
          "data": {
            "text/plain": [
              "neoplasms                        8298\n",
              "neoplasms by site                5611\n",
              "neoplasms by histologic type     3676\n",
              "carcinoma                        2177\n",
              "glandular and epithelial         1750\n",
              "digestive system diseases        1710\n",
              "digestive system neoplasms       1655\n",
              "skin diseases                    1247\n",
              "urogenital neoplasms             1232\n",
              "immune system diseases           1163\n",
              "gastrointestinal diseases        1163\n",
              "gastrointestinal neoplasms       1118\n",
              "breast diseases                  1101\n",
              "breast neoplasms                 1100\n",
              "lymphoproliferative disorders    1057\n",
              "immunoproliferative disorders    1056\n",
              "respiratory tract diseases        977\n",
              "genital neoplasms                 970\n",
              "respiratory tract neoplasms       959\n",
              "thoracic neoplasms                957\n",
              "lung diseases                     942\n",
              "lung neoplasms                    941\n",
              "pathologic processes              929\n",
              "bronchogenic                      784\n",
              "bronchial neoplasms               784\n",
              "lymphatic diseases                779\n",
              "adenocarcinoma                    734\n",
              "hematologic diseases              686\n",
              "non-small-cell lung               677\n",
              "intestinal diseases               665\n",
              "intestinal neoplasms              659\n",
              "colorectal neoplasms              648\n",
              "leukemia                          638\n",
              "head and neck neoplasms           597\n",
              "endocrine system diseases         586\n",
              "rectal diseases                   545\n",
              "male                              544\n",
              "lymphoma                          541\n",
              "prostatic diseases                532\n",
              "prostatic neoplasms               532\n",
              "dtype: int64"
            ]
          },
          "metadata": {}
        }
      ]
    },
    {
      "cell_type": "code",
      "source": [],
      "metadata": {
        "id": "xLSJ3tHv4hju"
      },
      "execution_count": null,
      "outputs": []
    }
  ]
}