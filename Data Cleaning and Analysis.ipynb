{
  "nbformat": 4,
  "nbformat_minor": 0,
  "metadata": {
    "colab": {
      "provenance": [],
      "toc_visible": true,
      "include_colab_link": true
    },
    "kernelspec": {
      "name": "python3",
      "display_name": "Python 3"
    },
    "language_info": {
      "name": "python"
    }
  },
  "cells": [
    {
      "cell_type": "markdown",
      "metadata": {
        "id": "view-in-github",
        "colab_type": "text"
      },
      "source": [
        "<a href=\"https://colab.research.google.com/github/celinagacias/dc-symmetron/blob/main/Data%20Cleaning%20and%20Analysis.ipynb\" target=\"_parent\"><img src=\"https://colab.research.google.com/assets/colab-badge.svg\" alt=\"Open In Colab\"/></a>"
      ]
    },
    {
      "cell_type": "code",
      "execution_count": null,
      "metadata": {
        "id": "0DQLxPBhmyaq",
        "colab": {
          "base_uri": "https://localhost:8080/"
        },
        "outputId": "586c3746-aa2e-4a2c-f143-567f2e6aa2ce"
      },
      "outputs": [
        {
          "output_type": "stream",
          "name": "stderr",
          "text": [
            "[nltk_data] Downloading package stopwords to /root/nltk_data...\n",
            "[nltk_data]   Unzipping corpora/stopwords.zip.\n"
          ]
        },
        {
          "output_type": "stream",
          "name": "stdout",
          "text": [
            "Looking in indexes: https://pypi.org/simple, https://us-python.pkg.dev/colab-wheels/public/simple/\n",
            "Collecting stop_words\n",
            "  Downloading stop-words-2018.7.23.tar.gz (31 kB)\n",
            "  Preparing metadata (setup.py) ... \u001b[?25l\u001b[?25hdone\n",
            "Building wheels for collected packages: stop_words\n",
            "  Building wheel for stop_words (setup.py) ... \u001b[?25l\u001b[?25hdone\n",
            "  Created wheel for stop_words: filename=stop_words-2018.7.23-py3-none-any.whl size=32910 sha256=822d153c5647f468d4987373cc6bdb6a3ef2b086012167bc1f4aa0a38a457bca\n",
            "  Stored in directory: /root/.cache/pip/wheels/eb/03/0d/3bd31c983789aeb0b4d5e2ca48590288d9db1586cf5f225062\n",
            "Successfully built stop_words\n",
            "Installing collected packages: stop_words\n",
            "Successfully installed stop_words-2018.7.23\n"
          ]
        }
      ],
      "source": [
        "import pandas as pd\n",
        "import numpy as np\n",
        "from datetime import datetime\n",
        "import string\n",
        "import re\n",
        "import itertools\n",
        "\n",
        "import matplotlib.pyplot as plt\n",
        "import seaborn as sns\n",
        "\n",
        "import nltk\n",
        "from nltk.util import everygrams\n",
        "nltk.download('stopwords')\n",
        "from nltk.corpus import stopwords\n",
        "!pip install stop_words\n",
        "from stop_words import get_stop_words\n",
        "\n",
        "from pydrive.auth import GoogleAuth\n",
        "from pydrive.drive import GoogleDrive\n",
        "from google.colab import auth, drive\n",
        "from oauth2client.client import GoogleCredentials\n",
        "\n",
        "pd.set_option('max_rows', None)\n",
        "pd.set_option('max_colwidth', None)"
      ]
    },
    {
      "cell_type": "markdown",
      "source": [
        "# Data Read-In"
      ],
      "metadata": {
        "id": "XE2F-wbaTCGI"
      }
    },
    {
      "cell_type": "code",
      "source": [
        "#Authenticate user\n",
        "auth.authenticate_user()\n",
        "gauth = GoogleAuth()\n",
        "\n",
        "#Mount GDrive\n",
        "gdrive = GoogleDrive(gauth)\n",
        "gauth.credentials = GoogleCredentials.get_application_default()\n",
        "drive.mount('/content/drive')"
      ],
      "metadata": {
        "colab": {
          "base_uri": "https://localhost:8080/"
        },
        "id": "b4w23Db_RjPs",
        "outputId": "4c046bbd-165e-4a4c-b655-e13850736a6c"
      },
      "execution_count": null,
      "outputs": [
        {
          "output_type": "stream",
          "name": "stdout",
          "text": [
            "Mounted at /content/drive\n"
          ]
        }
      ]
    },
    {
      "cell_type": "code",
      "source": [
        "# Read data from csv\n",
        "folder = '1iLA5sSyu7ere1AN40TWRf6O6ma5LoIDl'\n",
        "filename = 'raw_AACT_data.csv'\n",
        "\n",
        "gfile_list = gdrive.ListFile({'q': \"'\" +  folder + \"'\" + \" in parents and trashed=false\"}).GetList()\n",
        "gfile = [f for f in gfile_list if f['title'] == filename][0]\n",
        "df_file = gdrive.CreateFile({'id': gfile['id']})\n",
        "df_file.GetContentFile(gfile['title'])\n",
        "df = pd.read_csv(filename)\n",
        "display(df.head(2))"
      ],
      "metadata": {
        "id": "ttsAotx7SGmH",
        "colab": {
          "base_uri": "https://localhost:8080/",
          "height": 1000
        },
        "outputId": "ff61b817-a8dd-4e92-c5f2-2f797d71d960"
      },
      "execution_count": null,
      "outputs": [
        {
          "output_type": "display_data",
          "data": {
            "text/plain": [
              "        nct_id  start_date start_date_type      study_type    phase  \\\n",
              "0  NCT00000113  1997-09-30             NaN  Interventional  Phase 3   \n",
              "1  NCT00000114  1984-05-31             NaN  Interventional  Phase 3   \n",
              "\n",
              "  overall_status last_known_status  \\\n",
              "0      Completed               NaN   \n",
              "1      Completed               NaN   \n",
              "\n",
              "                                                                            brief_title  \\\n",
              "0                                         Correction of Myopia Evaluation Trial (COMET)   \n",
              "1  Randomized Trial of Vitamin A and Vitamin E Supplementation for Retinitis Pigmentosa   \n",
              "\n",
              "   population gender_description minimum_age maximum_age gender  \\\n",
              "0         NaN                NaN     6 Years    12 Years    All   \n",
              "1         NaN                NaN    18 Years    49 Years    All   \n",
              "\n",
              "  healthy_volunteers countries_removed countries_retained  \\\n",
              "0                 No                {}  {\"United States\"}   \n",
              "1                NaN               NaN                NaN   \n",
              "\n",
              "       conditions_table  \\\n",
              "0                myopia   \n",
              "1  retinitis pigmentosa   \n",
              "\n",
              "                                                                                                                                                        mesh_term  \\\n",
              "0                                                                                                                         eye diseases, myopia, refractive errors   \n",
              "1  eye diseases, retinal diseases, retinitis pigmentosa, retinitis, genetic diseases, inborn, retinal degeneration, retinal dystrophies, eye diseases, hereditary   \n",
              "\n",
              "                                                                                                                                                                                                                                                                                                                                                                                                                                                                                                                                                                                                                                                                                                                                                                                                                                                                                                 criteria  \n",
              "0                                                                                                                                                                                                                                                                               Children between the ages of 6 and 12 years with myopia in both eyes (defined as spherical equivalent between -1.25 D and -4.50 D in each eye as measured by cycloplegic autorefraction), astigmatism less than or equal to 1.50 D, and no anisometropia (defined as a difference in spherical equivalent between the two eyes greater than 1.0 D) are eligible for inclusion. Exclusion criteria include visual acuity greater than 20/25, strabismus, use of contact lenses, birth weight less than 1,250 grams, use of bifocal or progressive addition lenses, or any conditions precluding adherence to the protocol.  \n",
              "1  Men and nonpregnant women between ages 18 and 49 years with common forms of RP were included. All eligible patients had retinal arteriolar attenuation, elevated dark adaptation thresholds, and reduced ERGs. Patients had best corrected Snellen visual acuity of 20/100 or better, central visual field diameter on the Goldman perimeter with V4 e white test light of 8 degrees or greater, and ERG amplitude of 2.5 or greater in response to 0.5-Hz white light or of 0.12 ultraviolet light or greater in response to 30-Hz white flickering light in at least one eye. In addition, patients had normal fasting serum retinol and serum liver function profile and weight above the lower fifth percentile for age, sex, and height. All patients had a total estimated pre-trial intake of vitamins A and E from diet plus pills not greater than 11,500 IU/day and 40 IU/day, respectively.  "
            ],
            "text/html": [
              "\n",
              "  <div id=\"df-fec0abf8-1ed7-4eba-9e1d-604ad1b4a097\">\n",
              "    <div class=\"colab-df-container\">\n",
              "      <div>\n",
              "<style scoped>\n",
              "    .dataframe tbody tr th:only-of-type {\n",
              "        vertical-align: middle;\n",
              "    }\n",
              "\n",
              "    .dataframe tbody tr th {\n",
              "        vertical-align: top;\n",
              "    }\n",
              "\n",
              "    .dataframe thead th {\n",
              "        text-align: right;\n",
              "    }\n",
              "</style>\n",
              "<table border=\"1\" class=\"dataframe\">\n",
              "  <thead>\n",
              "    <tr style=\"text-align: right;\">\n",
              "      <th></th>\n",
              "      <th>nct_id</th>\n",
              "      <th>start_date</th>\n",
              "      <th>start_date_type</th>\n",
              "      <th>study_type</th>\n",
              "      <th>phase</th>\n",
              "      <th>overall_status</th>\n",
              "      <th>last_known_status</th>\n",
              "      <th>brief_title</th>\n",
              "      <th>population</th>\n",
              "      <th>gender_description</th>\n",
              "      <th>minimum_age</th>\n",
              "      <th>maximum_age</th>\n",
              "      <th>gender</th>\n",
              "      <th>healthy_volunteers</th>\n",
              "      <th>countries_removed</th>\n",
              "      <th>countries_retained</th>\n",
              "      <th>conditions_table</th>\n",
              "      <th>mesh_term</th>\n",
              "      <th>criteria</th>\n",
              "    </tr>\n",
              "  </thead>\n",
              "  <tbody>\n",
              "    <tr>\n",
              "      <th>0</th>\n",
              "      <td>NCT00000113</td>\n",
              "      <td>1997-09-30</td>\n",
              "      <td>NaN</td>\n",
              "      <td>Interventional</td>\n",
              "      <td>Phase 3</td>\n",
              "      <td>Completed</td>\n",
              "      <td>NaN</td>\n",
              "      <td>Correction of Myopia Evaluation Trial (COMET)</td>\n",
              "      <td>NaN</td>\n",
              "      <td>NaN</td>\n",
              "      <td>6 Years</td>\n",
              "      <td>12 Years</td>\n",
              "      <td>All</td>\n",
              "      <td>No</td>\n",
              "      <td>{}</td>\n",
              "      <td>{\"United States\"}</td>\n",
              "      <td>myopia</td>\n",
              "      <td>eye diseases, myopia, refractive errors</td>\n",
              "      <td>Children between the ages of 6 and 12 years with myopia in both eyes (defined as spherical equivalent between -1.25 D and -4.50 D in each eye as measured by cycloplegic autorefraction), astigmatism less than or equal to 1.50 D, and no anisometropia (defined as a difference in spherical equivalent between the two eyes greater than 1.0 D) are eligible for inclusion. Exclusion criteria include visual acuity greater than 20/25, strabismus, use of contact lenses, birth weight less than 1,250 grams, use of bifocal or progressive addition lenses, or any conditions precluding adherence to the protocol.</td>\n",
              "    </tr>\n",
              "    <tr>\n",
              "      <th>1</th>\n",
              "      <td>NCT00000114</td>\n",
              "      <td>1984-05-31</td>\n",
              "      <td>NaN</td>\n",
              "      <td>Interventional</td>\n",
              "      <td>Phase 3</td>\n",
              "      <td>Completed</td>\n",
              "      <td>NaN</td>\n",
              "      <td>Randomized Trial of Vitamin A and Vitamin E Supplementation for Retinitis Pigmentosa</td>\n",
              "      <td>NaN</td>\n",
              "      <td>NaN</td>\n",
              "      <td>18 Years</td>\n",
              "      <td>49 Years</td>\n",
              "      <td>All</td>\n",
              "      <td>NaN</td>\n",
              "      <td>NaN</td>\n",
              "      <td>NaN</td>\n",
              "      <td>retinitis pigmentosa</td>\n",
              "      <td>eye diseases, retinal diseases, retinitis pigmentosa, retinitis, genetic diseases, inborn, retinal degeneration, retinal dystrophies, eye diseases, hereditary</td>\n",
              "      <td>Men and nonpregnant women between ages 18 and 49 years with common forms of RP were included. All eligible patients had retinal arteriolar attenuation, elevated dark adaptation thresholds, and reduced ERGs. Patients had best corrected Snellen visual acuity of 20/100 or better, central visual field diameter on the Goldman perimeter with V4 e white test light of 8 degrees or greater, and ERG amplitude of 2.5 or greater in response to 0.5-Hz white light or of 0.12 ultraviolet light or greater in response to 30-Hz white flickering light in at least one eye. In addition, patients had normal fasting serum retinol and serum liver function profile and weight above the lower fifth percentile for age, sex, and height. All patients had a total estimated pre-trial intake of vitamins A and E from diet plus pills not greater than 11,500 IU/day and 40 IU/day, respectively.</td>\n",
              "    </tr>\n",
              "  </tbody>\n",
              "</table>\n",
              "</div>\n",
              "      <button class=\"colab-df-convert\" onclick=\"convertToInteractive('df-fec0abf8-1ed7-4eba-9e1d-604ad1b4a097')\"\n",
              "              title=\"Convert this dataframe to an interactive table.\"\n",
              "              style=\"display:none;\">\n",
              "        \n",
              "  <svg xmlns=\"http://www.w3.org/2000/svg\" height=\"24px\"viewBox=\"0 0 24 24\"\n",
              "       width=\"24px\">\n",
              "    <path d=\"M0 0h24v24H0V0z\" fill=\"none\"/>\n",
              "    <path d=\"M18.56 5.44l.94 2.06.94-2.06 2.06-.94-2.06-.94-.94-2.06-.94 2.06-2.06.94zm-11 1L8.5 8.5l.94-2.06 2.06-.94-2.06-.94L8.5 2.5l-.94 2.06-2.06.94zm10 10l.94 2.06.94-2.06 2.06-.94-2.06-.94-.94-2.06-.94 2.06-2.06.94z\"/><path d=\"M17.41 7.96l-1.37-1.37c-.4-.4-.92-.59-1.43-.59-.52 0-1.04.2-1.43.59L10.3 9.45l-7.72 7.72c-.78.78-.78 2.05 0 2.83L4 21.41c.39.39.9.59 1.41.59.51 0 1.02-.2 1.41-.59l7.78-7.78 2.81-2.81c.8-.78.8-2.07 0-2.86zM5.41 20L4 18.59l7.72-7.72 1.47 1.35L5.41 20z\"/>\n",
              "  </svg>\n",
              "      </button>\n",
              "      \n",
              "  <style>\n",
              "    .colab-df-container {\n",
              "      display:flex;\n",
              "      flex-wrap:wrap;\n",
              "      gap: 12px;\n",
              "    }\n",
              "\n",
              "    .colab-df-convert {\n",
              "      background-color: #E8F0FE;\n",
              "      border: none;\n",
              "      border-radius: 50%;\n",
              "      cursor: pointer;\n",
              "      display: none;\n",
              "      fill: #1967D2;\n",
              "      height: 32px;\n",
              "      padding: 0 0 0 0;\n",
              "      width: 32px;\n",
              "    }\n",
              "\n",
              "    .colab-df-convert:hover {\n",
              "      background-color: #E2EBFA;\n",
              "      box-shadow: 0px 1px 2px rgba(60, 64, 67, 0.3), 0px 1px 3px 1px rgba(60, 64, 67, 0.15);\n",
              "      fill: #174EA6;\n",
              "    }\n",
              "\n",
              "    [theme=dark] .colab-df-convert {\n",
              "      background-color: #3B4455;\n",
              "      fill: #D2E3FC;\n",
              "    }\n",
              "\n",
              "    [theme=dark] .colab-df-convert:hover {\n",
              "      background-color: #434B5C;\n",
              "      box-shadow: 0px 1px 3px 1px rgba(0, 0, 0, 0.15);\n",
              "      filter: drop-shadow(0px 1px 2px rgba(0, 0, 0, 0.3));\n",
              "      fill: #FFFFFF;\n",
              "    }\n",
              "  </style>\n",
              "\n",
              "      <script>\n",
              "        const buttonEl =\n",
              "          document.querySelector('#df-fec0abf8-1ed7-4eba-9e1d-604ad1b4a097 button.colab-df-convert');\n",
              "        buttonEl.style.display =\n",
              "          google.colab.kernel.accessAllowed ? 'block' : 'none';\n",
              "\n",
              "        async function convertToInteractive(key) {\n",
              "          const element = document.querySelector('#df-fec0abf8-1ed7-4eba-9e1d-604ad1b4a097');\n",
              "          const dataTable =\n",
              "            await google.colab.kernel.invokeFunction('convertToInteractive',\n",
              "                                                     [key], {});\n",
              "          if (!dataTable) return;\n",
              "\n",
              "          const docLinkHtml = 'Like what you see? Visit the ' +\n",
              "            '<a target=\"_blank\" href=https://colab.research.google.com/notebooks/data_table.ipynb>data table notebook</a>'\n",
              "            + ' to learn more about interactive tables.';\n",
              "          element.innerHTML = '';\n",
              "          dataTable['output_type'] = 'display_data';\n",
              "          await google.colab.output.renderOutput(dataTable, element);\n",
              "          const docLink = document.createElement('div');\n",
              "          docLink.innerHTML = docLinkHtml;\n",
              "          element.appendChild(docLink);\n",
              "        }\n",
              "      </script>\n",
              "    </div>\n",
              "  </div>\n",
              "  "
            ]
          },
          "metadata": {}
        }
      ]
    },
    {
      "cell_type": "code",
      "source": [
        "n = len(df)\n",
        "print(f'There are {n} studies in our sample.')"
      ],
      "metadata": {
        "colab": {
          "base_uri": "https://localhost:8080/"
        },
        "id": "5uIa41t3m8r-",
        "outputId": "eefa773e-96d7-4354-cf69-616b7179c160"
      },
      "execution_count": null,
      "outputs": [
        {
          "output_type": "stream",
          "name": "stdout",
          "text": [
            "There are 42299 studies in our sample.\n"
          ]
        }
      ]
    },
    {
      "cell_type": "markdown",
      "source": [
        "# Data Cleaning"
      ],
      "metadata": {
        "id": "ZeyaVTvCK0bO"
      }
    },
    {
      "cell_type": "code",
      "source": [
        "# list of major cancer categories\n",
        "cancers = ['digestive system', 'respiratory tract', 'head and neck']\n",
        "categories = [c + ' neoplasms' for c in cancers]\n",
        "categories = sorted(categories, key=lambda x: -len(df[df.mesh_term.fillna('').str.contains(x)]))\n",
        "print(categories)"
      ],
      "metadata": {
        "id": "BJD2cqmWmvqV",
        "colab": {
          "base_uri": "https://localhost:8080/"
        },
        "outputId": "ba569b62-04c9-463d-e0f3-7810e7621cbf"
      },
      "execution_count": null,
      "outputs": [
        {
          "output_type": "stream",
          "name": "stdout",
          "text": [
            "['digestive system neoplasms', 'respiratory tract neoplasms', 'head and neck neoplasms']\n"
          ]
        }
      ]
    },
    {
      "cell_type": "markdown",
      "source": [
        "## Dates"
      ],
      "metadata": {
        "id": "BvuYNH0UJJnn"
      }
    },
    {
      "cell_type": "code",
      "source": [
        "# convert start date to date\n",
        "df['start_date'] = df['start_date'].apply(\n",
        "    lambda x: datetime.strptime(x, '%Y-%m-%d').date() \\\n",
        "    if str(x) != 'nan' else None)"
      ],
      "metadata": {
        "id": "muEUyM5HJNW-"
      },
      "execution_count": null,
      "outputs": []
    },
    {
      "cell_type": "code",
      "source": [
        "# extract year into separate column\n",
        "df['start_year'] = df['start_date'].apply(\n",
        "    lambda x: int(x.year) if x is not None else None)"
      ],
      "metadata": {
        "id": "9Wwr5jJyKBg_"
      },
      "execution_count": null,
      "outputs": []
    },
    {
      "cell_type": "markdown",
      "source": [
        "## Countries"
      ],
      "metadata": {
        "id": "8hboB_lGKeaW"
      }
    },
    {
      "cell_type": "code",
      "source": [
        "def process_countries(l):\n",
        "  # converts string of list of countries into lists\n",
        "  l = l.replace('{','').replace('}','').split(',')\n",
        "  l = set([c.replace('\"','') for c in l])\n",
        "  return l"
      ],
      "metadata": {
        "id": "Oo8o6Z5IKhSl"
      },
      "execution_count": null,
      "outputs": []
    },
    {
      "cell_type": "code",
      "source": [
        "# apply the function to each list of countries\n",
        "df['countries_removed'] = df['countries_removed'].apply(\n",
        "    lambda x: process_countries(x) if str(x) != 'nan' else None)\n",
        "\n",
        "df['countries_retained'] = df['countries_retained'].apply(\n",
        "    lambda x: process_countries(x) if str(x) != 'nan' else None)"
      ],
      "metadata": {
        "id": "1QPo8n7ZMIiP"
      },
      "execution_count": null,
      "outputs": []
    },
    {
      "cell_type": "markdown",
      "source": [
        "## Ages"
      ],
      "metadata": {
        "id": "XTO-gyU-c2xU"
      }
    },
    {
      "cell_type": "code",
      "source": [
        "def parse_age(a):\n",
        "  # Convert text of age into years\n",
        "  if str(a) == 'nan':\n",
        "    return np.nan\n",
        "\n",
        "  num = int(str(a).split(' ')[0])\n",
        "  if 'Year' in a:\n",
        "    age = num\n",
        "  elif 'Month' in a:\n",
        "    age = num / 12\n",
        "  elif 'Week' in a:\n",
        "    age = num / 52\n",
        "  elif 'Day':\n",
        "    age = num / 365\n",
        "  elif 'Hour' in a:\n",
        "    age = num / (24 * 365)\n",
        "  elif 'Minute' in a:\n",
        "    age = num / (24 * 365 * 60)\n",
        "  return age\n",
        "\n",
        "df['minimum_age'] = df['minimum_age'].apply(parse_age)\n",
        "df['maximum_age'] = df['maximum_age'].apply(parse_age)"
      ],
      "metadata": {
        "id": "MWaCgE2fc4gY"
      },
      "execution_count": null,
      "outputs": []
    },
    {
      "cell_type": "markdown",
      "source": [
        "## Inclusion/Exclusion Criteria"
      ],
      "metadata": {
        "id": "S222znpRl7vj"
      }
    },
    {
      "cell_type": "code",
      "source": [
        "# identify which studies have clear inclusion vs. exclusion\n",
        "df['criteria_norm'] = df.criteria.fillna('').str.upper().str.strip().str.replace(' CRITERIA','')\n",
        "inc_cond = df.criteria_norm.str.contains('INCLUSION:')\n",
        "exc_cond = df.criteria_norm.str.contains('EXCLUSION:')\n",
        "parse_mask = (inc_cond) & (exc_cond)\n",
        "len_parse = df[parse_mask].shape[0]\n",
        "print(f'There are {len_parse} ({np.round(len_parse*100/n, 2)}%) studies with clearly delineated inclusion/exclusion criteria')"
      ],
      "metadata": {
        "colab": {
          "base_uri": "https://localhost:8080/"
        },
        "id": "i5iaUdbiI-vc",
        "outputId": "b3e9175e-482e-4105-aa65-8e8c0917e880"
      },
      "execution_count": null,
      "outputs": [
        {
          "output_type": "stream",
          "name": "stdout",
          "text": [
            "There are 38232 (90.39%) studies with clearly delineated inclusion/exclusion criteria\n"
          ]
        }
      ]
    },
    {
      "cell_type": "code",
      "source": [
        "def parse_criteria(c):\n",
        "  '''Splits criteria into inclusion and exclusion'''\n",
        "\n",
        "  def clean_criteria(s):\n",
        "    # sub-function to clean up criteria text\n",
        "    s = s.replace('INCLUSION:','').strip() # remove inclusion title\n",
        "    s = re.sub(r'(\\n\\s*)+\\n+', '\\n', s) # reduce newlines\n",
        "    return s\n",
        "\n",
        "  # create list with [inclusion, exclusion]\n",
        "  c_list = c.split('EXCLUSION:')\n",
        "  c_list = [clean_criteria(s) for s in c_list]\n",
        "  return c_list\n",
        "\n",
        "# apply the function to derive inclusion and exclusion\n",
        "df['inclusion'] = None\n",
        "df['exclusion'] = None\n",
        "df.loc[parse_mask, 'criteria_split'] = df.loc[parse_mask, 'criteria_norm'].apply(parse_criteria)\n",
        "df.loc[parse_mask, 'inclusion'] = df.loc[parse_mask, 'criteria_split'].apply(lambda x: x[0])\n",
        "df.loc[parse_mask, 'exclusion'] = df.loc[parse_mask, 'criteria_split'].apply(lambda x: x[1])"
      ],
      "metadata": {
        "id": "mEGr_DZqn4q9"
      },
      "execution_count": null,
      "outputs": []
    },
    {
      "cell_type": "markdown",
      "source": [
        "## Subsetting"
      ],
      "metadata": {
        "id": "qjK0vQT-Myv3"
      }
    },
    {
      "cell_type": "code",
      "source": [
        "# remove studies that were paused or suspended\n",
        "suspend_mask = (df.overall_status.isin(['Terminated', 'Withdrawn', 'Suspended']))\n",
        "n_suspend = df[suspend_mask].shape[0]\n",
        "print(f'There are {n_suspend} studies that need to be removed because they are either terminated, withdrawn, or suspended.')\n",
        "df = df[~suspend_mask].copy(deep=True)\n",
        "print(f'There are {len(df)} studies remaining.')"
      ],
      "metadata": {
        "colab": {
          "base_uri": "https://localhost:8080/"
        },
        "id": "8CSVHf1pM1Eh",
        "outputId": "a2901388-75bf-4ac9-a6a6-3c336b32c0b9"
      },
      "execution_count": null,
      "outputs": [
        {
          "output_type": "stream",
          "name": "stdout",
          "text": [
            "There are 4600 studies that need to be removed because they are either terminated, withdrawn, or suspended.\n",
            "There are 37699 studies remaining.\n"
          ]
        }
      ]
    },
    {
      "cell_type": "code",
      "source": [
        "# obtain subset of cancer studies\n",
        "df = df[(df.mesh_term.str.contains('neoplasm')) | \n",
        "        (df.mesh_term.str.contains('carcinoma')) | \n",
        "        (df.mesh_term.str.contains('cancer'))].copy(deep=True)\n",
        "print(f'There are {len(df)} studies for cancer-related interventions.')"
      ],
      "metadata": {
        "colab": {
          "base_uri": "https://localhost:8080/"
        },
        "id": "Uc9Bfhf2rW-B",
        "outputId": "c4861890-7b9a-4ab9-af23-5752288d6d87"
      },
      "execution_count": null,
      "outputs": [
        {
          "output_type": "stream",
          "name": "stdout",
          "text": [
            "There are 7385 studies for cancer-related interventions.\n"
          ]
        }
      ]
    },
    {
      "cell_type": "code",
      "source": [
        "'''additional step: make sure that the categories are exclusive of other \n",
        "categories that are not already in our list (Ex: breast)'''"
      ],
      "metadata": {
        "colab": {
          "base_uri": "https://localhost:8080/",
          "height": 1000
        },
        "id": "Vso2cZmPMicI",
        "outputId": "d528988e-33c3-49a8-d634-64d7ab6f2b8a"
      },
      "execution_count": null,
      "outputs": [
        {
          "output_type": "execute_result",
          "data": {
            "text/plain": [
              "'additional step: make sure that the categories are exclusive of other \\ncategories that are not already in our list (Ex: breast)'"
            ],
            "application/vnd.google.colaboratory.intrinsic+json": {
              "type": "string"
            }
          },
          "metadata": {},
          "execution_count": 15
        }
      ]
    },
    {
      "cell_type": "code",
      "source": [
        "# subset to just the studies that fit into just 1 category\n",
        "\n",
        "# obtain the applicable categories for each study, in a list\n",
        "df['category'] = df.mesh_term.apply(lambda x: sorted([c for c in categories if c in x]))\n",
        "df = df[df.category.apply(lambda x: len(x) == 1)].copy(deep=True)\n",
        "df['category'] = df.category.apply(lambda x: x[0])\n",
        "print(f'There are {len(df)} studies that fit into just 1 of the categories we identified')"
      ],
      "metadata": {
        "colab": {
          "base_uri": "https://localhost:8080/"
        },
        "id": "lkosEfLamjhK",
        "outputId": "c630fb88-8a62-43c6-880a-6fbdc6e8fddf"
      },
      "execution_count": null,
      "outputs": [
        {
          "output_type": "stream",
          "name": "stdout",
          "text": [
            "There are 2469 studies that fit into just 1 of the categories we identified\n"
          ]
        }
      ]
    },
    {
      "cell_type": "markdown",
      "source": [
        "# Initial Analysis"
      ],
      "metadata": {
        "id": "RWrIf40eVDxw"
      }
    },
    {
      "cell_type": "markdown",
      "source": [
        "## Basic Descriptives"
      ],
      "metadata": {
        "id": "zy8dYwFhtU3E"
      }
    },
    {
      "cell_type": "code",
      "source": [
        "# most common mesh terms\n",
        "mesh_list = df.mesh_term.apply(lambda x: x.split(', '))\n",
        "all_mesh = [t for t in list(itertools.chain.from_iterable(mesh_list)) if \\\n",
        "            any([t.startswith(s) for s in ['neoplasm','cancer','carcinoma']]) is False]\n",
        "mesh_freq = pd.Series(all_mesh).value_counts()\n",
        "display(mesh_freq.head(30))"
      ],
      "metadata": {
        "colab": {
          "base_uri": "https://localhost:8080/",
          "height": 1000
        },
        "id": "sV9IVFs6VZmy",
        "outputId": "5641e254-cd70-4f38-9d3b-833dfd418750"
      },
      "execution_count": null,
      "outputs": [
        {
          "output_type": "display_data",
          "data": {
            "text/plain": [
              "digestive system diseases      1318\n",
              "digestive system neoplasms     1298\n",
              "gastrointestinal diseases       863\n",
              "gastrointestinal neoplasms      842\n",
              "respiratory tract neoplasms     815\n",
              "thoracic neoplasms              815\n",
              "lung neoplasms                  808\n",
              "respiratory tract diseases      807\n",
              "lung diseases                   805\n",
              "bronchogenic                    681\n",
              "bronchial neoplasms             681\n",
              "glandular and epithelial        635\n",
              "intestinal diseases             589\n",
              "intestinal neoplasms            585\n",
              "non-small-cell lung             584\n",
              "colorectal neoplasms            581\n",
              "rectal diseases                 482\n",
              "colonic diseases                460\n",
              "head and neck neoplasms         356\n",
              "adenocarcinoma                  350\n",
              "liver diseases                  290\n",
              "liver neoplasms                 289\n",
              "hepatocellular                  230\n",
              "stomach diseases                227\n",
              "stomach neoplasms               225\n",
              "endocrine system diseases       210\n",
              "endocrine gland neoplasms       209\n",
              "pathologic processes            163\n",
              "stomatognathic diseases         161\n",
              "squamous cell                   152\n",
              "dtype: int64"
            ]
          },
          "metadata": {}
        }
      ]
    },
    {
      "cell_type": "code",
      "source": [
        "# no. of studies per set of categories\n",
        "print('no. of studies per category or set of categories')\n",
        "all_cat_count = df.category.value_counts()\n",
        "all_cat_prop = all_cat_count / len(df)\n",
        "display(all_cat_count)\n",
        "print('proportion:')\n",
        "display(all_cat_prop)"
      ],
      "metadata": {
        "colab": {
          "base_uri": "https://localhost:8080/",
          "height": 649
        },
        "id": "iH3FWScRxday",
        "outputId": "b37851cf-3d10-42f1-e622-24ef74851781"
      },
      "execution_count": null,
      "outputs": [
        {
          "output_type": "stream",
          "name": "stdout",
          "text": [
            "no. of studies per category or set of categories\n"
          ]
        },
        {
          "output_type": "display_data",
          "data": {
            "text/plain": [
              "digestive system neoplasms     1298\n",
              "respiratory tract neoplasms     815\n",
              "head and neck neoplasms         356\n",
              "Name: category, dtype: int64"
            ]
          },
          "metadata": {}
        },
        {
          "output_type": "stream",
          "name": "stdout",
          "text": [
            "proportion:\n"
          ]
        },
        {
          "output_type": "display_data",
          "data": {
            "text/plain": [
              "digestive system neoplasms     0.525719\n",
              "respiratory tract neoplasms    0.330093\n",
              "head and neck neoplasms        0.144188\n",
              "Name: category, dtype: float64"
            ]
          },
          "metadata": {}
        }
      ]
    },
    {
      "cell_type": "markdown",
      "source": [
        "## By Age"
      ],
      "metadata": {
        "id": "5NRkEnqWA99G"
      }
    },
    {
      "cell_type": "markdown",
      "source": [
        "Perform analysis of excluded age groups"
      ],
      "metadata": {
        "id": "4lzETg-XBAL2"
      }
    },
    {
      "cell_type": "code",
      "source": [
        "def get_ages(min, max):\n",
        "  # generate list of excluded ages, given minimum and maximum\n",
        "  reference_ages = set( range(0, 101) )\n",
        "\n",
        "  if str(min) != 'nan' and str(max) != 'nan':\n",
        "    inc = set( range( int(min), int(max)+1 ) )\n",
        "  elif str(min) == 'nan' and str(max) != 'nan':\n",
        "    inc = set( range(0, int(max)+1 ) )\n",
        "  elif str(min) != 'nan' and str(max) == 'nan':\n",
        "    inc = set( range( int(min), 101) )\n",
        "  else:\n",
        "    inc = reference_ages\n",
        "\n",
        "  exc = sorted(list(reference_ages - inc))\n",
        "  return exc\n",
        "\n",
        "df['excluded_ages'] = df.apply(lambda x: get_ages(x.minimum_age, x.maximum_age), axis=1) \n",
        "\n",
        "display( df[['minimum_age', 'maximum_age', 'excluded_ages']].head() )"
      ],
      "metadata": {
        "colab": {
          "base_uri": "https://localhost:8080/",
          "height": 914
        },
        "id": "Lxy6prqIBXN8",
        "outputId": "e8307fd4-9ce9-47e2-db39-5a94f89cf434"
      },
      "execution_count": null,
      "outputs": [
        {
          "output_type": "display_data",
          "data": {
            "text/plain": [
              "     minimum_age  maximum_age  \\\n",
              "203         50.0         79.0   \n",
              "354         20.0         80.0   \n",
              "360         18.0          NaN   \n",
              "365         18.0          NaN   \n",
              "368         20.0         80.0   \n",
              "\n",
              "                                                                                                                                                                                                                                                                           excluded_ages  \n",
              "203  [0, 1, 2, 3, 4, 5, 6, 7, 8, 9, 10, 11, 12, 13, 14, 15, 16, 17, 18, 19, 20, 21, 22, 23, 24, 25, 26, 27, 28, 29, 30, 31, 32, 33, 34, 35, 36, 37, 38, 39, 40, 41, 42, 43, 44, 45, 46, 47, 48, 49, 80, 81, 82, 83, 84, 85, 86, 87, 88, 89, 90, 91, 92, 93, 94, 95, 96, 97, 98, 99, 100]  \n",
              "354                                                                                                                              [0, 1, 2, 3, 4, 5, 6, 7, 8, 9, 10, 11, 12, 13, 14, 15, 16, 17, 18, 19, 81, 82, 83, 84, 85, 86, 87, 88, 89, 90, 91, 92, 93, 94, 95, 96, 97, 98, 99, 100]  \n",
              "360                                                                                                                                                                                                                       [0, 1, 2, 3, 4, 5, 6, 7, 8, 9, 10, 11, 12, 13, 14, 15, 16, 17]  \n",
              "365                                                                                                                                                                                                                       [0, 1, 2, 3, 4, 5, 6, 7, 8, 9, 10, 11, 12, 13, 14, 15, 16, 17]  \n",
              "368                                                                                                                              [0, 1, 2, 3, 4, 5, 6, 7, 8, 9, 10, 11, 12, 13, 14, 15, 16, 17, 18, 19, 81, 82, 83, 84, 85, 86, 87, 88, 89, 90, 91, 92, 93, 94, 95, 96, 97, 98, 99, 100]  "
            ],
            "text/html": [
              "\n",
              "  <div id=\"df-495bef9a-20a7-48fa-b504-c695e02f2901\">\n",
              "    <div class=\"colab-df-container\">\n",
              "      <div>\n",
              "<style scoped>\n",
              "    .dataframe tbody tr th:only-of-type {\n",
              "        vertical-align: middle;\n",
              "    }\n",
              "\n",
              "    .dataframe tbody tr th {\n",
              "        vertical-align: top;\n",
              "    }\n",
              "\n",
              "    .dataframe thead th {\n",
              "        text-align: right;\n",
              "    }\n",
              "</style>\n",
              "<table border=\"1\" class=\"dataframe\">\n",
              "  <thead>\n",
              "    <tr style=\"text-align: right;\">\n",
              "      <th></th>\n",
              "      <th>minimum_age</th>\n",
              "      <th>maximum_age</th>\n",
              "      <th>excluded_ages</th>\n",
              "    </tr>\n",
              "  </thead>\n",
              "  <tbody>\n",
              "    <tr>\n",
              "      <th>203</th>\n",
              "      <td>50.0</td>\n",
              "      <td>79.0</td>\n",
              "      <td>[0, 1, 2, 3, 4, 5, 6, 7, 8, 9, 10, 11, 12, 13, 14, 15, 16, 17, 18, 19, 20, 21, 22, 23, 24, 25, 26, 27, 28, 29, 30, 31, 32, 33, 34, 35, 36, 37, 38, 39, 40, 41, 42, 43, 44, 45, 46, 47, 48, 49, 80, 81, 82, 83, 84, 85, 86, 87, 88, 89, 90, 91, 92, 93, 94, 95, 96, 97, 98, 99, 100]</td>\n",
              "    </tr>\n",
              "    <tr>\n",
              "      <th>354</th>\n",
              "      <td>20.0</td>\n",
              "      <td>80.0</td>\n",
              "      <td>[0, 1, 2, 3, 4, 5, 6, 7, 8, 9, 10, 11, 12, 13, 14, 15, 16, 17, 18, 19, 81, 82, 83, 84, 85, 86, 87, 88, 89, 90, 91, 92, 93, 94, 95, 96, 97, 98, 99, 100]</td>\n",
              "    </tr>\n",
              "    <tr>\n",
              "      <th>360</th>\n",
              "      <td>18.0</td>\n",
              "      <td>NaN</td>\n",
              "      <td>[0, 1, 2, 3, 4, 5, 6, 7, 8, 9, 10, 11, 12, 13, 14, 15, 16, 17]</td>\n",
              "    </tr>\n",
              "    <tr>\n",
              "      <th>365</th>\n",
              "      <td>18.0</td>\n",
              "      <td>NaN</td>\n",
              "      <td>[0, 1, 2, 3, 4, 5, 6, 7, 8, 9, 10, 11, 12, 13, 14, 15, 16, 17]</td>\n",
              "    </tr>\n",
              "    <tr>\n",
              "      <th>368</th>\n",
              "      <td>20.0</td>\n",
              "      <td>80.0</td>\n",
              "      <td>[0, 1, 2, 3, 4, 5, 6, 7, 8, 9, 10, 11, 12, 13, 14, 15, 16, 17, 18, 19, 81, 82, 83, 84, 85, 86, 87, 88, 89, 90, 91, 92, 93, 94, 95, 96, 97, 98, 99, 100]</td>\n",
              "    </tr>\n",
              "  </tbody>\n",
              "</table>\n",
              "</div>\n",
              "      <button class=\"colab-df-convert\" onclick=\"convertToInteractive('df-495bef9a-20a7-48fa-b504-c695e02f2901')\"\n",
              "              title=\"Convert this dataframe to an interactive table.\"\n",
              "              style=\"display:none;\">\n",
              "        \n",
              "  <svg xmlns=\"http://www.w3.org/2000/svg\" height=\"24px\"viewBox=\"0 0 24 24\"\n",
              "       width=\"24px\">\n",
              "    <path d=\"M0 0h24v24H0V0z\" fill=\"none\"/>\n",
              "    <path d=\"M18.56 5.44l.94 2.06.94-2.06 2.06-.94-2.06-.94-.94-2.06-.94 2.06-2.06.94zm-11 1L8.5 8.5l.94-2.06 2.06-.94-2.06-.94L8.5 2.5l-.94 2.06-2.06.94zm10 10l.94 2.06.94-2.06 2.06-.94-2.06-.94-.94-2.06-.94 2.06-2.06.94z\"/><path d=\"M17.41 7.96l-1.37-1.37c-.4-.4-.92-.59-1.43-.59-.52 0-1.04.2-1.43.59L10.3 9.45l-7.72 7.72c-.78.78-.78 2.05 0 2.83L4 21.41c.39.39.9.59 1.41.59.51 0 1.02-.2 1.41-.59l7.78-7.78 2.81-2.81c.8-.78.8-2.07 0-2.86zM5.41 20L4 18.59l7.72-7.72 1.47 1.35L5.41 20z\"/>\n",
              "  </svg>\n",
              "      </button>\n",
              "      \n",
              "  <style>\n",
              "    .colab-df-container {\n",
              "      display:flex;\n",
              "      flex-wrap:wrap;\n",
              "      gap: 12px;\n",
              "    }\n",
              "\n",
              "    .colab-df-convert {\n",
              "      background-color: #E8F0FE;\n",
              "      border: none;\n",
              "      border-radius: 50%;\n",
              "      cursor: pointer;\n",
              "      display: none;\n",
              "      fill: #1967D2;\n",
              "      height: 32px;\n",
              "      padding: 0 0 0 0;\n",
              "      width: 32px;\n",
              "    }\n",
              "\n",
              "    .colab-df-convert:hover {\n",
              "      background-color: #E2EBFA;\n",
              "      box-shadow: 0px 1px 2px rgba(60, 64, 67, 0.3), 0px 1px 3px 1px rgba(60, 64, 67, 0.15);\n",
              "      fill: #174EA6;\n",
              "    }\n",
              "\n",
              "    [theme=dark] .colab-df-convert {\n",
              "      background-color: #3B4455;\n",
              "      fill: #D2E3FC;\n",
              "    }\n",
              "\n",
              "    [theme=dark] .colab-df-convert:hover {\n",
              "      background-color: #434B5C;\n",
              "      box-shadow: 0px 1px 3px 1px rgba(0, 0, 0, 0.15);\n",
              "      filter: drop-shadow(0px 1px 2px rgba(0, 0, 0, 0.3));\n",
              "      fill: #FFFFFF;\n",
              "    }\n",
              "  </style>\n",
              "\n",
              "      <script>\n",
              "        const buttonEl =\n",
              "          document.querySelector('#df-495bef9a-20a7-48fa-b504-c695e02f2901 button.colab-df-convert');\n",
              "        buttonEl.style.display =\n",
              "          google.colab.kernel.accessAllowed ? 'block' : 'none';\n",
              "\n",
              "        async function convertToInteractive(key) {\n",
              "          const element = document.querySelector('#df-495bef9a-20a7-48fa-b504-c695e02f2901');\n",
              "          const dataTable =\n",
              "            await google.colab.kernel.invokeFunction('convertToInteractive',\n",
              "                                                     [key], {});\n",
              "          if (!dataTable) return;\n",
              "\n",
              "          const docLinkHtml = 'Like what you see? Visit the ' +\n",
              "            '<a target=\"_blank\" href=https://colab.research.google.com/notebooks/data_table.ipynb>data table notebook</a>'\n",
              "            + ' to learn more about interactive tables.';\n",
              "          element.innerHTML = '';\n",
              "          dataTable['output_type'] = 'display_data';\n",
              "          await google.colab.output.renderOutput(dataTable, element);\n",
              "          const docLink = document.createElement('div');\n",
              "          docLink.innerHTML = docLinkHtml;\n",
              "          element.appendChild(docLink);\n",
              "        }\n",
              "      </script>\n",
              "    </div>\n",
              "  </div>\n",
              "  "
            ]
          },
          "metadata": {}
        }
      ]
    },
    {
      "cell_type": "code",
      "source": [
        "# obtain subset of cancer studies\n",
        "\n",
        "# for obtaining the \"exclusion rate\" per age from 0-100 based on a search term\n",
        "def count_age_exclude(search_term, df=df):\n",
        "\n",
        "  def count_trials(sub, age):\n",
        "    where_excluded = sub[sub.excluded_ages.apply(lambda x: age in x)]\n",
        "    no_excluded = len(where_excluded)\n",
        "    return no_excluded\n",
        "\n",
        "  sub = df[df.mesh_term.str.contains(search_term)].copy(deep=True)\n",
        "  n = len(sub)\n",
        "  print(f'There are {n} clinical trials for {search_term}.')\n",
        "  ages = list( range(0,101) )\n",
        "  percent_trials = [count_trials(sub, age)/n for age in ages]\n",
        "  result = pd.DataFrame({\n",
        "    'age': ages,\n",
        "    'sub_type': [search_term] * len(ages),\n",
        "    'percent_trials': percent_trials\n",
        "  })\n",
        "  return result\n",
        "\n",
        "# for obtaining the same thing for multiple search terms\n",
        "tables = [count_age_exclude(term) for term in categories]\n",
        "lt = pd.concat(tables)\n",
        "\n",
        "# pivot from long to wide\n",
        "lt_wide = pd.pivot(lt, index='age', columns = 'sub_type', values = 'percent_trials')\n",
        "lt_wide.sort_values('age', ascending=False, inplace=True)\n",
        "lt_wide.columns = lt_wide.columns.str.replace(' neoplasms','').str.title()\n",
        "\n",
        "# generate heat map\n",
        "plt.figure(figsize=(10, 8))\n",
        "sns.heatmap(lt_wide, yticklabels=5, cmap=\"Blues\")\n",
        "plt.title('% of Trials with Age Exclusion, by Cancer Sub-Type', pad=13, fontsize=14)\n",
        "plt.xlabel(\"Cancer Sub-Types\")\n",
        "plt.xticks(rotation=0)\n",
        "plt.ylabel(\"Age (years)\")\n",
        "plt.yticks(rotation=0)"
      ],
      "metadata": {
        "id": "QqRzs6ZO_vdA",
        "colab": {
          "base_uri": "https://localhost:8080/",
          "height": 649
        },
        "outputId": "e0eddf49-ed58-4f1f-c9ff-145bea18a2af"
      },
      "execution_count": null,
      "outputs": [
        {
          "output_type": "stream",
          "name": "stdout",
          "text": [
            "There are 1298 clinical trials for digestive system neoplasms.\n",
            "There are 815 clinical trials for respiratory tract neoplasms.\n",
            "There are 356 clinical trials for head and neck neoplasms.\n"
          ]
        },
        {
          "output_type": "execute_result",
          "data": {
            "text/plain": [
              "(array([  0.5,   5.5,  10.5,  15.5,  20.5,  25.5,  30.5,  35.5,  40.5,\n",
              "         45.5,  50.5,  55.5,  60.5,  65.5,  70.5,  75.5,  80.5,  85.5,\n",
              "         90.5,  95.5, 100.5]), <a list of 21 Text major ticklabel objects>)"
            ]
          },
          "metadata": {},
          "execution_count": 20
        },
        {
          "output_type": "display_data",
          "data": {
            "text/plain": [
              "<Figure size 720x576 with 2 Axes>"
            ],
            "image/png": "[encoded data removed]"
          },
          "metadata": {
            "needs_background": "light"
          }
        }
      ]
    },
    {
      "cell_type": "markdown",
      "source": [
        "## By Gender"
      ],
      "metadata": {
        "id": "22lH_V_FHjic"
      }
    },
    {
      "cell_type": "markdown",
      "source": [
        "Gender proportions across all studies and by cancer type: "
      ],
      "metadata": {
        "id": "Q5JbO2OjIAv9"
      }
    },
    {
      "cell_type": "code",
      "source": [
        "df['excludes_females'] = df['gender'].apply(lambda x: x == \"Male\")\n",
        "df['excludes_males'] = df['gender'].apply(lambda x: x == \"Female\")\n",
        "\n",
        "# create new dataframe to store sex exclusion data\n",
        "sex_exclusion_df = pd.DataFrame(data = list(df.category.unique()), columns = [\"category\"])\n",
        "\n",
        "# populate the dataframe with the proportion of trials in each category excluding males/females\n",
        "# reset_index() allows the columns of the rightside 'groupby-generated' df (which has multilevel indexing) to be combined with sex_exclusion_df\n",
        "sex_exclusion_df[['excludes_males', 'excludes_females']] = df.groupby(['category'])[['excludes_males', 'excludes_females']].mean().reset_index(level=0, drop=True)\n",
        "\n",
        "# add in marginal exclusion by sex across all cancer categories \n",
        "sex_exclusion_df = sex_exclusion_df.append(\n",
        "    pd.DataFrame({'category': ['Across All Studies'], \n",
        "     'excludes_males': [df.excludes_males.mean()], \n",
        "     'excludes_females': [df.excludes_females.mean()]}))\n",
        "\n",
        "display(sex_exclusion_df)\n"
      ],
      "metadata": {
        "id": "wghV6sQ3ICTY",
        "colab": {
          "base_uri": "https://localhost:8080/",
          "height": 356
        },
        "outputId": "e7e1031f-e870-4f6d-fe70-3006013aaf96"
      },
      "execution_count": null,
      "outputs": [
        {
          "output_type": "display_data",
          "data": {
            "text/plain": [
              "                      category  excludes_males  excludes_females\n",
              "0   digestive system neoplasms        0.025424          0.001541\n",
              "1      head and neck neoplasms        0.002809          0.008427\n",
              "2  respiratory tract neoplasms        0.001227          0.000000\n",
              "0           Across All Studies        0.014176          0.002025"
            ],
            "text/html": [
              "\n",
              "  <div id=\"df-9f6185a9-7fe3-4163-a1c0-5148e9bce7de\">\n",
              "    <div class=\"colab-df-container\">\n",
              "      <div>\n",
              "<style scoped>\n",
              "    .dataframe tbody tr th:only-of-type {\n",
              "        vertical-align: middle;\n",
              "    }\n",
              "\n",
              "    .dataframe tbody tr th {\n",
              "        vertical-align: top;\n",
              "    }\n",
              "\n",
              "    .dataframe thead th {\n",
              "        text-align: right;\n",
              "    }\n",
              "</style>\n",
              "<table border=\"1\" class=\"dataframe\">\n",
              "  <thead>\n",
              "    <tr style=\"text-align: right;\">\n",
              "      <th></th>\n",
              "      <th>category</th>\n",
              "      <th>excludes_males</th>\n",
              "      <th>excludes_females</th>\n",
              "    </tr>\n",
              "  </thead>\n",
              "  <tbody>\n",
              "    <tr>\n",
              "      <th>0</th>\n",
              "      <td>digestive system neoplasms</td>\n",
              "      <td>0.025424</td>\n",
              "      <td>0.001541</td>\n",
              "    </tr>\n",
              "    <tr>\n",
              "      <th>1</th>\n",
              "      <td>head and neck neoplasms</td>\n",
              "      <td>0.002809</td>\n",
              "      <td>0.008427</td>\n",
              "    </tr>\n",
              "    <tr>\n",
              "      <th>2</th>\n",
              "      <td>respiratory tract neoplasms</td>\n",
              "      <td>0.001227</td>\n",
              "      <td>0.000000</td>\n",
              "    </tr>\n",
              "    <tr>\n",
              "      <th>0</th>\n",
              "      <td>Across All Studies</td>\n",
              "      <td>0.014176</td>\n",
              "      <td>0.002025</td>\n",
              "    </tr>\n",
              "  </tbody>\n",
              "</table>\n",
              "</div>\n",
              "      <button class=\"colab-df-convert\" onclick=\"convertToInteractive('df-9f6185a9-7fe3-4163-a1c0-5148e9bce7de')\"\n",
              "              title=\"Convert this dataframe to an interactive table.\"\n",
              "              style=\"display:none;\">\n",
              "        \n",
              "  <svg xmlns=\"http://www.w3.org/2000/svg\" height=\"24px\"viewBox=\"0 0 24 24\"\n",
              "       width=\"24px\">\n",
              "    <path d=\"M0 0h24v24H0V0z\" fill=\"none\"/>\n",
              "    <path d=\"M18.56 5.44l.94 2.06.94-2.06 2.06-.94-2.06-.94-.94-2.06-.94 2.06-2.06.94zm-11 1L8.5 8.5l.94-2.06 2.06-.94-2.06-.94L8.5 2.5l-.94 2.06-2.06.94zm10 10l.94 2.06.94-2.06 2.06-.94-2.06-.94-.94-2.06-.94 2.06-2.06.94z\"/><path d=\"M17.41 7.96l-1.37-1.37c-.4-.4-.92-.59-1.43-.59-.52 0-1.04.2-1.43.59L10.3 9.45l-7.72 7.72c-.78.78-.78 2.05 0 2.83L4 21.41c.39.39.9.59 1.41.59.51 0 1.02-.2 1.41-.59l7.78-7.78 2.81-2.81c.8-.78.8-2.07 0-2.86zM5.41 20L4 18.59l7.72-7.72 1.47 1.35L5.41 20z\"/>\n",
              "  </svg>\n",
              "      </button>\n",
              "      \n",
              "  <style>\n",
              "    .colab-df-container {\n",
              "      display:flex;\n",
              "      flex-wrap:wrap;\n",
              "      gap: 12px;\n",
              "    }\n",
              "\n",
              "    .colab-df-convert {\n",
              "      background-color: #E8F0FE;\n",
              "      border: none;\n",
              "      border-radius: 50%;\n",
              "      cursor: pointer;\n",
              "      display: none;\n",
              "      fill: #1967D2;\n",
              "      height: 32px;\n",
              "      padding: 0 0 0 0;\n",
              "      width: 32px;\n",
              "    }\n",
              "\n",
              "    .colab-df-convert:hover {\n",
              "      background-color: #E2EBFA;\n",
              "      box-shadow: 0px 1px 2px rgba(60, 64, 67, 0.3), 0px 1px 3px 1px rgba(60, 64, 67, 0.15);\n",
              "      fill: #174EA6;\n",
              "    }\n",
              "\n",
              "    [theme=dark] .colab-df-convert {\n",
              "      background-color: #3B4455;\n",
              "      fill: #D2E3FC;\n",
              "    }\n",
              "\n",
              "    [theme=dark] .colab-df-convert:hover {\n",
              "      background-color: #434B5C;\n",
              "      box-shadow: 0px 1px 3px 1px rgba(0, 0, 0, 0.15);\n",
              "      filter: drop-shadow(0px 1px 2px rgba(0, 0, 0, 0.3));\n",
              "      fill: #FFFFFF;\n",
              "    }\n",
              "  </style>\n",
              "\n",
              "      <script>\n",
              "        const buttonEl =\n",
              "          document.querySelector('#df-9f6185a9-7fe3-4163-a1c0-5148e9bce7de button.colab-df-convert');\n",
              "        buttonEl.style.display =\n",
              "          google.colab.kernel.accessAllowed ? 'block' : 'none';\n",
              "\n",
              "        async function convertToInteractive(key) {\n",
              "          const element = document.querySelector('#df-9f6185a9-7fe3-4163-a1c0-5148e9bce7de');\n",
              "          const dataTable =\n",
              "            await google.colab.kernel.invokeFunction('convertToInteractive',\n",
              "                                                     [key], {});\n",
              "          if (!dataTable) return;\n",
              "\n",
              "          const docLinkHtml = 'Like what you see? Visit the ' +\n",
              "            '<a target=\"_blank\" href=https://colab.research.google.com/notebooks/data_table.ipynb>data table notebook</a>'\n",
              "            + ' to learn more about interactive tables.';\n",
              "          element.innerHTML = '';\n",
              "          dataTable['output_type'] = 'display_data';\n",
              "          await google.colab.output.renderOutput(dataTable, element);\n",
              "          const docLink = document.createElement('div');\n",
              "          docLink.innerHTML = docLinkHtml;\n",
              "          element.appendChild(docLink);\n",
              "        }\n",
              "      </script>\n",
              "    </div>\n",
              "  </div>\n",
              "  "
            ]
          },
          "metadata": {}
        }
      ]
    },
    {
      "cell_type": "markdown",
      "source": [
        "## Exclusion Criteria"
      ],
      "metadata": {
        "id": "i9Jj_iQLuAjI"
      }
    },
    {
      "cell_type": "code",
      "source": [
        "# summarize no. of studies with separable criteria\n",
        "crit_mask = (df.inclusion.notnull()) & (df.exclusion.notnull())\n",
        "with_crit = crit_mask.value_counts()\n",
        "print(f'''No. of studies with distinct inclusion and exclusion criteria: \n",
        "{with_crit}''')\n",
        "\n",
        "print('By category:')\n",
        "for c in categories:\n",
        "  print(c)\n",
        "  sub = df[df.category == c].copy(deep=True)\n",
        "  print( (sub.inclusion.notnull() & sub.exclusion.notnull()).value_counts() )"
      ],
      "metadata": {
        "id": "0Oq2wRi8uCuG",
        "colab": {
          "base_uri": "https://localhost:8080/"
        },
        "outputId": "153403fa-c0a6-4e2e-ba44-f1d3c3b2c7b7"
      },
      "execution_count": null,
      "outputs": [
        {
          "output_type": "stream",
          "name": "stdout",
          "text": [
            "No. of studies with distinct inclusion and exclusion criteria: \n",
            "True     2057\n",
            "False     412\n",
            "dtype: int64\n",
            "By category:\n",
            "digestive system neoplasms\n",
            "True     1089\n",
            "False     209\n",
            "dtype: int64\n",
            "respiratory tract neoplasms\n",
            "True     670\n",
            "False    145\n",
            "dtype: int64\n",
            "head and neck neoplasms\n",
            "True     298\n",
            "False     58\n",
            "dtype: int64\n"
          ]
        }
      ]
    },
    {
      "cell_type": "code",
      "source": [
        "# remove punctuation and stopwords\n",
        "\n",
        "# list down stopwords\n",
        "\n",
        "stop_words = list(get_stop_words('en'))\n",
        "nltk_words = list(stopwords.words('english')) \n",
        "stop_words.extend(nltk_words)\n",
        "stop_words = [s.translate(str.maketrans('', '', string.punctuation)) for s in stop_words]\n",
        "\n",
        "clean_string = lambda x: ' '.join([w for w in x.translate(str.maketrans('', '', string.punctuation)).split() \\\n",
        "                                   if w.lower() not in stop_words and w.isdigit() is False]) \\\n",
        "                                   if x is not None else None\n",
        "\n",
        "df['exclusion_clean'] = df['exclusion'].apply(clean_string).fillna('')"
      ],
      "metadata": {
        "id": "FQO57GRu8p5z"
      },
      "execution_count": null,
      "outputs": []
    },
    {
      "cell_type": "code",
      "source": [
        "# view common n-grams (length of 2 to 4)\n",
        "to_ngram = lambda x: set(everygrams(x.split(), min_len=2, max_len=5)) if x != '' else None\n",
        "ngrams = df.exclusion_clean.apply(to_ngram)\n",
        "all_ngrams = list(itertools.chain.from_iterable([s for s in ngrams if s is not None]))\n",
        "ngram_count = pd.Series(all_ngrams).value_counts()\n",
        "display( ngram_count.head(100) )"
      ],
      "metadata": {
        "id": "TAI082SauG9W",
        "colab": {
          "base_uri": "https://localhost:8080/",
          "height": 1000
        },
        "outputId": "f2884fdc-1560-4943-efc9-21526d73694d"
      },
      "execution_count": null,
      "outputs": [
        {
          "output_type": "display_data",
          "data": {
            "text/plain": [
              "(WITHIN, DAYS)                           510\n",
              "(MYOCARDIAL, INFARCTION)                 493\n",
              "(HEART, FAILURE)                         474\n",
              "(WITHIN, WEEKS)                          471\n",
              "(WITHIN, MONTHS)                         406\n",
              "(CELL, CARCINOMA)                        382\n",
              "(CONGESTIVE, HEART)                      379\n",
              "(CONGESTIVE, HEART, FAILURE)             372\n",
              "(BASAL, CELL)                            349\n",
              "(CARCINOMA, SITU)                        346\n",
              "(HEPATITIS, B)                           345\n",
              "(DAYS, PRIOR)                            344\n",
              "(SKIN, CANCER)                           337\n",
              "(CENTRAL, NERVOUS)                       329\n",
              "(NERVOUS, SYSTEM)                        327\n",
              "(CENTRAL, NERVOUS, SYSTEM)               321\n",
              "(CLINICALLY, SIGNIFICANT)                318\n",
              "(WEEKS, PRIOR)                           317\n",
              "(ACTIVE, INFECTION)                      315\n",
              "(UNSTABLE, ANGINA)                       314\n",
              "(PREGNANT, LACTATING)                    305\n",
              "(WITHIN, DAYS, PRIOR)                    294\n",
              "(HUMAN, IMMUNODEFICIENCY)                288\n",
              "(IMMUNODEFICIENCY, VIRUS)                287\n",
              "(HUMAN, IMMUNODEFICIENCY, VIRUS)         285\n",
              "(SQUAMOUS, CELL)                         266\n",
              "(PREGNANT, BREASTFEEDING)                265\n",
              "(MONTHS, PRIOR)                          259\n",
              "(STUDY, TREATMENT)                       254\n",
              "(VIRUS, HIV)                             250\n",
              "(MAJOR, SURGERY)                         249\n",
              "(HEPATITIS, C)                           249\n",
              "(BASAL, CELL, CARCINOMA)                 247\n",
              "(IMMUNODEFICIENCY, VIRUS, HIV)           245\n",
              "(WITHIN, YEARS)                          245\n",
              "(AUTOIMMUNE, DISEASE)                    244\n",
              "(FIRST, DOSE)                            244\n",
              "(HUMAN, IMMUNODEFICIENCY, VIRUS, HIV)    244\n",
              "(WITHIN, WEEKS, PRIOR)                   242\n",
              "(LUNG, DISEASE)                          232\n",
              "(BRAIN, METASTASES)                      228\n",
              "(INFORMED, CONSENT)                      227\n",
              "(WITHIN, LAST)                           223\n",
              "(UNCONTROLLED, HYPERTENSION)             219\n",
              "(YORK, HEART)                            216\n",
              "(PRIOR, TREATMENT)                       215\n",
              "(HEART, ASSOCIATION)                     214\n",
              "(NEW, YORK)                              214\n",
              "(NEW, YORK, HEART)                       214\n",
              "(PRIOR, RANDOMIZATION)                   213\n",
              "(KNOWN, HISTORY)                         210\n",
              "(YORK, HEART, ASSOCIATION)               210\n",
              "(CARCINOMA, SKIN)                        208\n",
              "(INTERSTITIAL, LUNG)                     208\n",
              "(NEW, YORK, HEART, ASSOCIATION)          208\n",
              "(INFARCTION, WITHIN)                     206\n",
              "(MYOCARDIAL, INFARCTION, WITHIN)         200\n",
              "(INTERSTITIAL, LUNG, DISEASE)            199\n",
              "(STUDY, DRUG)                            198\n",
              "(LACTATING, WOMEN)                       194\n",
              "(ADEQUATELY, TREATED)                    192\n",
              "(WITHIN, PAST)                           191\n",
              "(RADIATION, THERAPY)                     190\n",
              "(ACTIVE, HEPATITIS)                      189\n",
              "(DOSE, STUDY)                            187\n",
              "(CELL, CARCINOMA, SKIN)                  186\n",
              "(SYSTEMIC, TREATMENT)                    185\n",
              "(SQUAMOUS, CELL, CARCINOMA)              185\n",
              "(HIV, INFECTION)                         184\n",
              "(PRIOR, STUDY)                           183\n",
              "(PRIOR, FIRST)                           181\n",
              "(NONMELANOMA, SKIN)                      178\n",
              "(THERAPY, WITHIN)                        178\n",
              "(WITHIN, MONTHS, PRIOR)                  176\n",
              "(PREGNANT, LACTATING, WOMEN)             175\n",
              "(FIRST, DOSE, STUDY)                     174\n",
              "(CARDIOVASCULAR, DISEASE)                174\n",
              "(CHILDBEARING, POTENTIAL)                170\n",
              "(CLINICAL, TRIAL)                        166\n",
              "(ACTIVE, AUTOIMMUNE)                     165\n",
              "(PAST, YEARS)                            165\n",
              "(YEARS, PRIOR)                           162\n",
              "(NERVOUS, SYSTEM, CNS)                   158\n",
              "(SYSTEM, CNS)                            158\n",
              "(NONMELANOMA, SKIN, CANCER)              156\n",
              "(CENTRAL, NERVOUS, SYSTEM, CNS)          156\n",
              "(CNS, METASTASES)                        155\n",
              "(METASTATIC, DISEASE)                    155\n",
              "(INCLUDING, LIMITED)                     155\n",
              "(ANTICANCER, THERAPY)                    152\n",
              "(PRIOR, CHEMOTHERAPY)                    152\n",
              "(HEART, DISEASE)                         151\n",
              "(CARDIAC, DISEASE)                       151\n",
              "(WOMEN, CHILDBEARING)                    150\n",
              "(STUDY, ENTRY)                           149\n",
              "(PRIOR, FIRST, DOSE)                     145\n",
              "(SURGERY, WITHIN)                        142\n",
              "(PERIPHERAL, NEUROPATHY)                 141\n",
              "(BASAL, CELL, CARCINOMA, SKIN)           141\n",
              "(REQUIRING, SYSTEMIC)                    141\n",
              "dtype: int64"
            ]
          },
          "metadata": {}
        }
      ]
    },
    {
      "cell_type": "code",
      "source": [
        "## keyword library\n",
        "keywords = {\n",
        "    'heart_issues': [\n",
        "        'CONGESTIVE HEART','HEART FAILURE','ANGINA','ISCHEMIC HEART',\n",
        "        'CORONARY DISEASE','CORONARY ARTERY DISEASE', 'HYPERTENSION','MYOCARDIAL',\n",
        "        'CARDIAC','CARDIOVASC','ARRHYTHMIA','ARRYTHMIA','HIGH BLOOD PRESSURE'\n",
        "        ],\n",
        "    'hiv': [\n",
        "        'HIV-','-HIV',',HIV','HIV/AIDS','(HIV)','KNOWN HIV',\n",
        "        'PROVEN HIV','HIV POSITIV','HIV-POSITIV','HUMAN IMMUNODEFICIENCY',\n",
        "        'OR HIV','HIV INFECT','HIV-INFECT',' HIV'\n",
        "        ],\n",
        "    'pregnant': ['PREGNAN'],\n",
        "    'breastfeeding': ['LACTATING', 'BREASTFEED'],\n",
        "    'psychosis': [\n",
        "        'PSYCH', 'DEPRESSI', 'ANXIETY', 'SCHIZOPHRENI', 'MENTAL ILLNESS', \n",
        "        'MENTAL DISORDER'\n",
        "        ]\n",
        "}\n",
        "\n",
        "\n",
        "# 'cns_disorder': ['CNS','CENTRAL NERVOUS SYSTEM'], #only 25 excluded\n",
        "# 'lung_disease': ['LUNG DISEASE', 'INTERSTITIAL LUNG']\n",
        "# 'substance_abuse': [\n",
        "#     'DRUG ABUSE', 'ALCOHOL ABUSE', 'SUBSTANCE ABUSE', 'ALCOHOL OR', 'ALCOHOLISM',\n",
        "#     'COCAINE', 'OF ALCOHOL', 'OF SUBSTANCE', 'DAILY ALCOHOL', 'ALCOHOL DEPENDENCE',\n",
        "#     'DRUG ADDICTION', 'ALCOHOL ADDICTION', 'INTRAVENOUS DRUG USE'\n",
        "#     ]\n",
        "# 'surgery': ['MAJOR SURG', 'MINOR SURG', 'PRIOR SURG', 'UNDERWENT SURG'],\n",
        "# 'hepatitis': ['HEPATITIS'],"
      ],
      "metadata": {
        "id": "IQE1br5Wk-we"
      },
      "execution_count": null,
      "outputs": []
    },
    {
      "cell_type": "code",
      "source": [
        "exclusion_dfs = []\n",
        "\n",
        "for key in keywords.keys():\n",
        "  search_terms = keywords[key]\n",
        "  terms_col = f'{key}_terms'\n",
        "  df[terms_col] = df.exclusion.apply(lambda x: [term for term in search_terms if term in x] \\\n",
        "                                     if x is not None else [])\n",
        "  df[key] = df[terms_col].apply(lambda x: len(x) > 0)\n",
        "\n",
        "  # summarize the % of studies per category\n",
        "  for c in categories:\n",
        "    cat_mask = (df.category.apply(lambda x: c in x))\n",
        "    exclusion_sub = {\n",
        "        'exclusion_criteria': key,\n",
        "        'cancer_category': c,\n",
        "        'no_trials': len(df[df[key] & cat_mask]),\n",
        "        'total_trials': len(df[cat_mask]),\n",
        "        'percent_trials': len(df[df[key] & cat_mask])*100 / len(df[cat_mask])\n",
        "    }\n",
        "    exclusion_dfs.append(exclusion_sub)\n",
        "\n",
        "# create top-level summary of exclusion criteria present\n",
        "exc_top = df[list(keywords.keys())].agg(['sum','mean']).transpose().reset_index()\n",
        "exc_top.rename(columns = {'index': 'exclusion_criteria', \n",
        "                          'sum': 'no_trials',\n",
        "                          'mean': 'percent_trials'}, inplace=True)\n",
        "exc_top['no_trials'] = exc_top['no_trials'].astype(int)\n",
        "exc_top['total_trials'] = len(df)\n",
        "exc_top['percent_trials'] = exc_top['percent_trials'] * 100\n",
        "exc_top = exc_top[['exclusion_criteria', 'no_trials', 'total_trials', 'percent_trials']]\n",
        "exc_top.sort_values('no_trials', ascending=False, inplace=True)\n",
        "display(exc_top)\n",
        "\n",
        "# plot the top-level summary\n",
        "criteria_map = {\n",
        "    'pregnant': 'Pregnant',\n",
        "    'heart_issues': 'Heart Issues',\n",
        "    'breastfeeding': 'Breastfeeding',\n",
        "    'psychosis': 'Psychosis',\n",
        "    'hiv': 'HIV'\n",
        "}\n",
        "\n",
        "exc_top['exclusion_criteria'] = exc_top['exclusion_criteria'].map(criteria_map)\n",
        "ax = sns.barplot(data=exc_top, x='percent_trials', y='exclusion_criteria',\n",
        "            color='lightblue')\n",
        "ax.set_title('Common Conditions for Exclusion in Cancer Trials')\n",
        "ax.set_xlabel('% of Trials w/ Exclusion')\n",
        "ax.set_ylabel('Criteria')\n",
        "plt.show()\n",
        "\n",
        "# collect per-criteria summaries into one table\n",
        "exc_summary = pd.DataFrame(exclusion_dfs).sort_values(['cancer_category','exclusion_criteria'])"
      ],
      "metadata": {
        "id": "Y8RIvlTNuHZP",
        "colab": {
          "base_uri": "https://localhost:8080/",
          "height": 285
        },
        "outputId": "ef14b1db-56e3-490d-bbb2-2f58d2e59e99"
      },
      "execution_count": null,
      "outputs": [
        {
          "output_type": "display_data",
          "data": {
            "text/plain": [
              "  exclusion_criteria  no_trials  total_trials  percent_trials\n",
              "2           pregnant       1201          2469       48.643175\n",
              "0       heart_issues       1043          2469       42.243823\n",
              "4          psychosis        594          2469       24.058323\n",
              "3      breastfeeding        581          2469       23.531794\n",
              "1                hiv        536          2469       21.709194"
            ],
            "text/html": [
              "\n",
              "  <div id=\"df-558e7a88-9fe7-4d21-844d-b8dbada5e2f5\">\n",
              "    <div class=\"colab-df-container\">\n",
              "      <div>\n",
              "<style scoped>\n",
              "    .dataframe tbody tr th:only-of-type {\n",
              "        vertical-align: middle;\n",
              "    }\n",
              "\n",
              "    .dataframe tbody tr th {\n",
              "        vertical-align: top;\n",
              "    }\n",
              "\n",
              "    .dataframe thead th {\n",
              "        text-align: right;\n",
              "    }\n",
              "</style>\n",
              "<table border=\"1\" class=\"dataframe\">\n",
              "  <thead>\n",
              "    <tr style=\"text-align: right;\">\n",
              "      <th></th>\n",
              "      <th>exclusion_criteria</th>\n",
              "      <th>no_trials</th>\n",
              "      <th>total_trials</th>\n",
              "      <th>percent_trials</th>\n",
              "    </tr>\n",
              "  </thead>\n",
              "  <tbody>\n",
              "    <tr>\n",
              "      <th>2</th>\n",
              "      <td>pregnant</td>\n",
              "      <td>1201</td>\n",
              "      <td>2469</td>\n",
              "      <td>48.643175</td>\n",
              "    </tr>\n",
              "    <tr>\n",
              "      <th>0</th>\n",
              "      <td>heart_issues</td>\n",
              "      <td>1043</td>\n",
              "      <td>2469</td>\n",
              "      <td>42.243823</td>\n",
              "    </tr>\n",
              "    <tr>\n",
              "      <th>4</th>\n",
              "      <td>psychosis</td>\n",
              "      <td>594</td>\n",
              "      <td>2469</td>\n",
              "      <td>24.058323</td>\n",
              "    </tr>\n",
              "    <tr>\n",
              "      <th>3</th>\n",
              "      <td>breastfeeding</td>\n",
              "      <td>581</td>\n",
              "      <td>2469</td>\n",
              "      <td>23.531794</td>\n",
              "    </tr>\n",
              "    <tr>\n",
              "      <th>1</th>\n",
              "      <td>hiv</td>\n",
              "      <td>536</td>\n",
              "      <td>2469</td>\n",
              "      <td>21.709194</td>\n",
              "    </tr>\n",
              "  </tbody>\n",
              "</table>\n",
              "</div>\n",
              "      <button class=\"colab-df-convert\" onclick=\"convertToInteractive('df-558e7a88-9fe7-4d21-844d-b8dbada5e2f5')\"\n",
              "              title=\"Convert this dataframe to an interactive table.\"\n",
              "              style=\"display:none;\">\n",
              "        \n",
              "  <svg xmlns=\"http://www.w3.org/2000/svg\" height=\"24px\"viewBox=\"0 0 24 24\"\n",
              "       width=\"24px\">\n",
              "    <path d=\"M0 0h24v24H0V0z\" fill=\"none\"/>\n",
              "    <path d=\"M18.56 5.44l.94 2.06.94-2.06 2.06-.94-2.06-.94-.94-2.06-.94 2.06-2.06.94zm-11 1L8.5 8.5l.94-2.06 2.06-.94-2.06-.94L8.5 2.5l-.94 2.06-2.06.94zm10 10l.94 2.06.94-2.06 2.06-.94-2.06-.94-.94-2.06-.94 2.06-2.06.94z\"/><path d=\"M17.41 7.96l-1.37-1.37c-.4-.4-.92-.59-1.43-.59-.52 0-1.04.2-1.43.59L10.3 9.45l-7.72 7.72c-.78.78-.78 2.05 0 2.83L4 21.41c.39.39.9.59 1.41.59.51 0 1.02-.2 1.41-.59l7.78-7.78 2.81-2.81c.8-.78.8-2.07 0-2.86zM5.41 20L4 18.59l7.72-7.72 1.47 1.35L5.41 20z\"/>\n",
              "  </svg>\n",
              "      </button>\n",
              "      \n",
              "  <style>\n",
              "    .colab-df-container {\n",
              "      display:flex;\n",
              "      flex-wrap:wrap;\n",
              "      gap: 12px;\n",
              "    }\n",
              "\n",
              "    .colab-df-convert {\n",
              "      background-color: #E8F0FE;\n",
              "      border: none;\n",
              "      border-radius: 50%;\n",
              "      cursor: pointer;\n",
              "      display: none;\n",
              "      fill: #1967D2;\n",
              "      height: 32px;\n",
              "      padding: 0 0 0 0;\n",
              "      width: 32px;\n",
              "    }\n",
              "\n",
              "    .colab-df-convert:hover {\n",
              "      background-color: #E2EBFA;\n",
              "      box-shadow: 0px 1px 2px rgba(60, 64, 67, 0.3), 0px 1px 3px 1px rgba(60, 64, 67, 0.15);\n",
              "      fill: #174EA6;\n",
              "    }\n",
              "\n",
              "    [theme=dark] .colab-df-convert {\n",
              "      background-color: #3B4455;\n",
              "      fill: #D2E3FC;\n",
              "    }\n",
              "\n",
              "    [theme=dark] .colab-df-convert:hover {\n",
              "      background-color: #434B5C;\n",
              "      box-shadow: 0px 1px 3px 1px rgba(0, 0, 0, 0.15);\n",
              "      filter: drop-shadow(0px 1px 2px rgba(0, 0, 0, 0.3));\n",
              "      fill: #FFFFFF;\n",
              "    }\n",
              "  </style>\n",
              "\n",
              "      <script>\n",
              "        const buttonEl =\n",
              "          document.querySelector('#df-558e7a88-9fe7-4d21-844d-b8dbada5e2f5 button.colab-df-convert');\n",
              "        buttonEl.style.display =\n",
              "          google.colab.kernel.accessAllowed ? 'block' : 'none';\n",
              "\n",
              "        async function convertToInteractive(key) {\n",
              "          const element = document.querySelector('#df-558e7a88-9fe7-4d21-844d-b8dbada5e2f5');\n",
              "          const dataTable =\n",
              "            await google.colab.kernel.invokeFunction('convertToInteractive',\n",
              "                                                     [key], {});\n",
              "          if (!dataTable) return;\n",
              "\n",
              "          const docLinkHtml = 'Like what you see? Visit the ' +\n",
              "            '<a target=\"_blank\" href=https://colab.research.google.com/notebooks/data_table.ipynb>data table notebook</a>'\n",
              "            + ' to learn more about interactive tables.';\n",
              "          element.innerHTML = '';\n",
              "          dataTable['output_type'] = 'display_data';\n",
              "          await google.colab.output.renderOutput(dataTable, element);\n",
              "          const docLink = document.createElement('div');\n",
              "          docLink.innerHTML = docLinkHtml;\n",
              "          element.appendChild(docLink);\n",
              "        }\n",
              "      </script>\n",
              "    </div>\n",
              "  </div>\n",
              "  "
            ]
          },
          "metadata": {}
        },
        {
          "output_type": "display_data",
          "data": {
            "text/plain": [
              "<Figure size 432x288 with 1 Axes>"
            ],
            "image/png": "[encoded data removed]"
          },
          "metadata": {
            "needs_background": "light"
          }
        }
      ]
    },
    {
      "cell_type": "code",
      "source": [
        "## generate heatmap\n",
        "\n",
        "# sort exclusion criteria by no. of studies affected\n",
        "order = sorted(keywords.keys(), key=lambda x: len(df[x]), reverse=True)\n",
        "exc_summary['exclusion_criteria'] = pd.Categorical(exc_summary['exclusion_criteria'], order)\n",
        "exc_wide = pd.pivot(exc_summary[['exclusion_criteria','cancer_category','percent_trials']].copy(deep=True), \n",
        "                    index='exclusion_criteria', \n",
        "                    columns = 'cancer_category', \n",
        "                    values = 'percent_trials')\n",
        "\n",
        "# display the no. of trials by cancer category and exclusion criteria\n",
        "exc_count = exc_summary.groupby(['cancer_category','exclusion_criteria']).no_trials.sum().to_frame()\n",
        "display(exc_count)\n",
        "\n",
        "# plot the wide-format table\n",
        "exc_wide.columns = exc_wide.columns.str.replace(' neoplasm','').str.strip().str.title()\n",
        "exc_wide.index = exc_wide.index.values.map(criteria_map)\n",
        "plt.figure(figsize=(10,7))\n",
        "ax = sns.heatmap(exc_wide, cmap=\"Blues\", annot=True, fmt = '.1f')\n",
        "ax.patch.set_facecolor('xkcd:white')\n",
        "ax.set_title('% of Cancer Trials w/ Exclusion Criteria')\n",
        "ax.set_ylabel('Criteria')\n",
        "ax.set_xlabel('Broad Cancer Category')\n",
        "for t in ax.texts: t.set_text(t.get_text() + \" %\")\n",
        "plt.xticks(rotation=0)\n",
        "plt.show()"
      ],
      "metadata": {
        "id": "4FDjbg_Kew2Q",
        "colab": {
          "base_uri": "https://localhost:8080/",
          "height": 626
        },
        "outputId": "c084c582-b00c-4225-e826-42cb1468c062"
      },
      "execution_count": null,
      "outputs": [
        {
          "output_type": "display_data",
          "data": {
            "text/plain": [
              "                                                no_trials\n",
              "cancer_category             exclusion_criteria           \n",
              "digestive system neoplasms  heart_issues              585\n",
              "                            hiv                       251\n",
              "                            pregnant                  672\n",
              "                            breastfeeding             315\n",
              "                            psychosis                 329\n",
              "head and neck neoplasms     heart_issues              122\n",
              "                            hiv                        63\n",
              "                            pregnant                  190\n",
              "                            breastfeeding              83\n",
              "                            psychosis                  85\n",
              "respiratory tract neoplasms heart_issues              336\n",
              "                            hiv                       222\n",
              "                            pregnant                  339\n",
              "                            breastfeeding             183\n",
              "                            psychosis                 180"
            ],
            "text/html": [
              "\n",
              "  <div id=\"df-6ecb7123-dc0c-4dc5-b106-70ac37772486\">\n",
              "    <div class=\"colab-df-container\">\n",
              "      <div>\n",
              "<style scoped>\n",
              "    .dataframe tbody tr th:only-of-type {\n",
              "        vertical-align: middle;\n",
              "    }\n",
              "\n",
              "    .dataframe tbody tr th {\n",
              "        vertical-align: top;\n",
              "    }\n",
              "\n",
              "    .dataframe thead th {\n",
              "        text-align: right;\n",
              "    }\n",
              "</style>\n",
              "<table border=\"1\" class=\"dataframe\">\n",
              "  <thead>\n",
              "    <tr style=\"text-align: right;\">\n",
              "      <th></th>\n",
              "      <th></th>\n",
              "      <th>no_trials</th>\n",
              "    </tr>\n",
              "    <tr>\n",
              "      <th>cancer_category</th>\n",
              "      <th>exclusion_criteria</th>\n",
              "      <th></th>\n",
              "    </tr>\n",
              "  </thead>\n",
              "  <tbody>\n",
              "    <tr>\n",
              "      <th rowspan=\"5\" valign=\"top\">digestive system neoplasms</th>\n",
              "      <th>heart_issues</th>\n",
              "      <td>585</td>\n",
              "    </tr>\n",
              "    <tr>\n",
              "      <th>hiv</th>\n",
              "      <td>251</td>\n",
              "    </tr>\n",
              "    <tr>\n",
              "      <th>pregnant</th>\n",
              "      <td>672</td>\n",
              "    </tr>\n",
              "    <tr>\n",
              "      <th>breastfeeding</th>\n",
              "      <td>315</td>\n",
              "    </tr>\n",
              "    <tr>\n",
              "      <th>psychosis</th>\n",
              "      <td>329</td>\n",
              "    </tr>\n",
              "    <tr>\n",
              "      <th rowspan=\"5\" valign=\"top\">head and neck neoplasms</th>\n",
              "      <th>heart_issues</th>\n",
              "      <td>122</td>\n",
              "    </tr>\n",
              "    <tr>\n",
              "      <th>hiv</th>\n",
              "      <td>63</td>\n",
              "    </tr>\n",
              "    <tr>\n",
              "      <th>pregnant</th>\n",
              "      <td>190</td>\n",
              "    </tr>\n",
              "    <tr>\n",
              "      <th>breastfeeding</th>\n",
              "      <td>83</td>\n",
              "    </tr>\n",
              "    <tr>\n",
              "      <th>psychosis</th>\n",
              "      <td>85</td>\n",
              "    </tr>\n",
              "    <tr>\n",
              "      <th rowspan=\"5\" valign=\"top\">respiratory tract neoplasms</th>\n",
              "      <th>heart_issues</th>\n",
              "      <td>336</td>\n",
              "    </tr>\n",
              "    <tr>\n",
              "      <th>hiv</th>\n",
              "      <td>222</td>\n",
              "    </tr>\n",
              "    <tr>\n",
              "      <th>pregnant</th>\n",
              "      <td>339</td>\n",
              "    </tr>\n",
              "    <tr>\n",
              "      <th>breastfeeding</th>\n",
              "      <td>183</td>\n",
              "    </tr>\n",
              "    <tr>\n",
              "      <th>psychosis</th>\n",
              "      <td>180</td>\n",
              "    </tr>\n",
              "  </tbody>\n",
              "</table>\n",
              "</div>\n",
              "      <button class=\"colab-df-convert\" onclick=\"convertToInteractive('df-6ecb7123-dc0c-4dc5-b106-70ac37772486')\"\n",
              "              title=\"Convert this dataframe to an interactive table.\"\n",
              "              style=\"display:none;\">\n",
              "        \n",
              "  <svg xmlns=\"http://www.w3.org/2000/svg\" height=\"24px\"viewBox=\"0 0 24 24\"\n",
              "       width=\"24px\">\n",
              "    <path d=\"M0 0h24v24H0V0z\" fill=\"none\"/>\n",
              "    <path d=\"M18.56 5.44l.94 2.06.94-2.06 2.06-.94-2.06-.94-.94-2.06-.94 2.06-2.06.94zm-11 1L8.5 8.5l.94-2.06 2.06-.94-2.06-.94L8.5 2.5l-.94 2.06-2.06.94zm10 10l.94 2.06.94-2.06 2.06-.94-2.06-.94-.94-2.06-.94 2.06-2.06.94z\"/><path d=\"M17.41 7.96l-1.37-1.37c-.4-.4-.92-.59-1.43-.59-.52 0-1.04.2-1.43.59L10.3 9.45l-7.72 7.72c-.78.78-.78 2.05 0 2.83L4 21.41c.39.39.9.59 1.41.59.51 0 1.02-.2 1.41-.59l7.78-7.78 2.81-2.81c.8-.78.8-2.07 0-2.86zM5.41 20L4 18.59l7.72-7.72 1.47 1.35L5.41 20z\"/>\n",
              "  </svg>\n",
              "      </button>\n",
              "      \n",
              "  <style>\n",
              "    .colab-df-container {\n",
              "      display:flex;\n",
              "      flex-wrap:wrap;\n",
              "      gap: 12px;\n",
              "    }\n",
              "\n",
              "    .colab-df-convert {\n",
              "      background-color: #E8F0FE;\n",
              "      border: none;\n",
              "      border-radius: 50%;\n",
              "      cursor: pointer;\n",
              "      display: none;\n",
              "      fill: #1967D2;\n",
              "      height: 32px;\n",
              "      padding: 0 0 0 0;\n",
              "      width: 32px;\n",
              "    }\n",
              "\n",
              "    .colab-df-convert:hover {\n",
              "      background-color: #E2EBFA;\n",
              "      box-shadow: 0px 1px 2px rgba(60, 64, 67, 0.3), 0px 1px 3px 1px rgba(60, 64, 67, 0.15);\n",
              "      fill: #174EA6;\n",
              "    }\n",
              "\n",
              "    [theme=dark] .colab-df-convert {\n",
              "      background-color: #3B4455;\n",
              "      fill: #D2E3FC;\n",
              "    }\n",
              "\n",
              "    [theme=dark] .colab-df-convert:hover {\n",
              "      background-color: #434B5C;\n",
              "      box-shadow: 0px 1px 3px 1px rgba(0, 0, 0, 0.15);\n",
              "      filter: drop-shadow(0px 1px 2px rgba(0, 0, 0, 0.3));\n",
              "      fill: #FFFFFF;\n",
              "    }\n",
              "  </style>\n",
              "\n",
              "      <script>\n",
              "        const buttonEl =\n",
              "          document.querySelector('#df-6ecb7123-dc0c-4dc5-b106-70ac37772486 button.colab-df-convert');\n",
              "        buttonEl.style.display =\n",
              "          google.colab.kernel.accessAllowed ? 'block' : 'none';\n",
              "\n",
              "        async function convertToInteractive(key) {\n",
              "          const element = document.querySelector('#df-6ecb7123-dc0c-4dc5-b106-70ac37772486');\n",
              "          const dataTable =\n",
              "            await google.colab.kernel.invokeFunction('convertToInteractive',\n",
              "                                                     [key], {});\n",
              "          if (!dataTable) return;\n",
              "\n",
              "          const docLinkHtml = 'Like what you see? Visit the ' +\n",
              "            '<a target=\"_blank\" href=https://colab.research.google.com/notebooks/data_table.ipynb>data table notebook</a>'\n",
              "            + ' to learn more about interactive tables.';\n",
              "          element.innerHTML = '';\n",
              "          dataTable['output_type'] = 'display_data';\n",
              "          await google.colab.output.renderOutput(dataTable, element);\n",
              "          const docLink = document.createElement('div');\n",
              "          docLink.innerHTML = docLinkHtml;\n",
              "          element.appendChild(docLink);\n",
              "        }\n",
              "      </script>\n",
              "    </div>\n",
              "  </div>\n",
              "  "
            ]
          },
          "metadata": {}
        },
        {
          "output_type": "display_data",
          "data": {
            "text/plain": [
              "<Figure size 720x504 with 2 Axes>"
            ],
            "image/png": "[encoded data removed]"
          },
          "metadata": {
            "needs_background": "light"
          }
        }
      ]
    },
    {
      "cell_type": "markdown",
      "source": [
        "# Time Trends"
      ],
      "metadata": {
        "id": "vHTzYe7V21ns"
      }
    },
    {
      "cell_type": "markdown",
      "source": [
        "Create New dataframe for Studies without Start Year, Report initial summary statistics "
      ],
      "metadata": {
        "id": "NY9bamof7DWE"
      }
    },
    {
      "cell_type": "code",
      "source": [
        "time_trend_df = df.copy()\n",
        "print(f'Original number of studies: {len(time_trend_df)}')\n",
        "\n",
        "# get rid of rows(i.e., studies) that do not have a start year and therefore do not fall into a year bin.\n",
        "# this is important to do since we are looking at time trend data.\n",
        "# I need to change this to a mask ...\n",
        "time_trend_df = time_trend_df[time_trend_df.start_year != \"None\"]\n",
        "print(f'Number of studies with recorded start year: {len(time_trend_df)}')\n",
        "\n",
        "# For all studies with start years: min and max start year, histogram of start years \n",
        "print(f'Earliest start year: {int(time_trend_df[\"start_year\"].min())}')\n",
        "print(f'Lastest start year: {int(time_trend_df[\"start_year\"].max())}')\n",
        "fig = plt.hist(time_trend_df[\"start_year\"])\n",
        "plt.show()\n",
        "\n",
        "# remove all studies before a given year\n",
        "earliest_start_year_allowed = 2008\n",
        "time_trend_df = time_trend_df[time_trend_df.start_year >= earliest_start_year_allowed]\n",
        "print(f'Earliest start year allowed: {earliest_start_year_allowed}')\n",
        "print(f'Number of studies after and including {earliest_start_year_allowed}: {len(time_trend_df)}')\n",
        "fig = plt.hist(time_trend_df[\"start_year\"])\n",
        "plt.show()"
      ],
      "metadata": {
        "id": "m3sqRGrEX2Vk",
        "colab": {
          "base_uri": "https://localhost:8080/",
          "height": 618
        },
        "outputId": "e5a0ce0c-49b4-4112-9fbf-a48ffe4b4c71"
      },
      "execution_count": null,
      "outputs": [
        {
          "output_type": "stream",
          "name": "stdout",
          "text": [
            "Original number of studies: 2469\n",
            "Number of studies with recorded start year: 2469\n",
            "Earliest start year: 1971\n",
            "Lastest start year: 2023\n"
          ]
        },
        {
          "output_type": "display_data",
          "data": {
            "text/plain": [
              "<Figure size 432x288 with 1 Axes>"
            ],
            "image/png": "[encoded data removed]"
          },
          "metadata": {
            "needs_background": "light"
          }
        },
        {
          "output_type": "stream",
          "name": "stdout",
          "text": [
            "Earliest start year allowed: 2008\n",
            "Number of studies after and including 2008: 1794\n"
          ]
        },
        {
          "output_type": "display_data",
          "data": {
            "text/plain": [
              "<Figure size 432x288 with 1 Axes>"
            ],
            "image/png": "[encoded data removed]"
          },
          "metadata": {
            "needs_background": "light"
          }
        }
      ]
    },
    {
      "cell_type": "markdown",
      "source": [
        "Create Year Group Category Column"
      ],
      "metadata": {
        "id": "Wbp2SHv668Vk"
      }
    },
    {
      "cell_type": "code",
      "source": [
        "# set breaks for year bins.\n",
        "year_bin_cutpoints = pd.array([earliest_start_year_allowed, 2012, 2016, 2020, 2024], dtype = np.ndarray)\n",
        "# use breaks to create an IntervalIndex object. Intervals include left-side (lower) limit.\n",
        "year_bin_intervals = pd.IntervalIndex.from_breaks(breaks = year_bin_cutpoints, closed = 'left')\n",
        "\n",
        "# create a new column which places studies into categories according to the year bins made above\n",
        "time_trend_df['year_bin'] = pd.cut(x = time_trend_df['start_year'], bins = year_bin_intervals)\n",
        "\n",
        "# visual inspection of the newly created column\n",
        "display(time_trend_df[['start_year', 'year_bin']].head())"
      ],
      "metadata": {
        "id": "4J92MRD1n5nZ",
        "colab": {
          "base_uri": "https://localhost:8080/",
          "height": 204
        },
        "outputId": "a65164de-bfe7-44fe-b778-c14f60321a67"
      },
      "execution_count": null,
      "outputs": [
        {
          "output_type": "display_data",
          "data": {
            "text/plain": [
              "       start_year      year_bin\n",
              "10022      2008.0  [2008, 2012)\n",
              "10221      2008.0  [2008, 2012)\n",
              "10406      2008.0  [2008, 2012)\n",
              "10423      2008.0  [2008, 2012)\n",
              "10433      2008.0  [2008, 2012)"
            ],
            "text/html": [
              "\n",
              "  <div id=\"df-bb450bd7-76ee-4354-970c-dec8da6aafc3\">\n",
              "    <div class=\"colab-df-container\">\n",
              "      <div>\n",
              "<style scoped>\n",
              "    .dataframe tbody tr th:only-of-type {\n",
              "        vertical-align: middle;\n",
              "    }\n",
              "\n",
              "    .dataframe tbody tr th {\n",
              "        vertical-align: top;\n",
              "    }\n",
              "\n",
              "    .dataframe thead th {\n",
              "        text-align: right;\n",
              "    }\n",
              "</style>\n",
              "<table border=\"1\" class=\"dataframe\">\n",
              "  <thead>\n",
              "    <tr style=\"text-align: right;\">\n",
              "      <th></th>\n",
              "      <th>start_year</th>\n",
              "      <th>year_bin</th>\n",
              "    </tr>\n",
              "  </thead>\n",
              "  <tbody>\n",
              "    <tr>\n",
              "      <th>10022</th>\n",
              "      <td>2008.0</td>\n",
              "      <td>[2008, 2012)</td>\n",
              "    </tr>\n",
              "    <tr>\n",
              "      <th>10221</th>\n",
              "      <td>2008.0</td>\n",
              "      <td>[2008, 2012)</td>\n",
              "    </tr>\n",
              "    <tr>\n",
              "      <th>10406</th>\n",
              "      <td>2008.0</td>\n",
              "      <td>[2008, 2012)</td>\n",
              "    </tr>\n",
              "    <tr>\n",
              "      <th>10423</th>\n",
              "      <td>2008.0</td>\n",
              "      <td>[2008, 2012)</td>\n",
              "    </tr>\n",
              "    <tr>\n",
              "      <th>10433</th>\n",
              "      <td>2008.0</td>\n",
              "      <td>[2008, 2012)</td>\n",
              "    </tr>\n",
              "  </tbody>\n",
              "</table>\n",
              "</div>\n",
              "      <button class=\"colab-df-convert\" onclick=\"convertToInteractive('df-bb450bd7-76ee-4354-970c-dec8da6aafc3')\"\n",
              "              title=\"Convert this dataframe to an interactive table.\"\n",
              "              style=\"display:none;\">\n",
              "        \n",
              "  <svg xmlns=\"http://www.w3.org/2000/svg\" height=\"24px\"viewBox=\"0 0 24 24\"\n",
              "       width=\"24px\">\n",
              "    <path d=\"M0 0h24v24H0V0z\" fill=\"none\"/>\n",
              "    <path d=\"M18.56 5.44l.94 2.06.94-2.06 2.06-.94-2.06-.94-.94-2.06-.94 2.06-2.06.94zm-11 1L8.5 8.5l.94-2.06 2.06-.94-2.06-.94L8.5 2.5l-.94 2.06-2.06.94zm10 10l.94 2.06.94-2.06 2.06-.94-2.06-.94-.94-2.06-.94 2.06-2.06.94z\"/><path d=\"M17.41 7.96l-1.37-1.37c-.4-.4-.92-.59-1.43-.59-.52 0-1.04.2-1.43.59L10.3 9.45l-7.72 7.72c-.78.78-.78 2.05 0 2.83L4 21.41c.39.39.9.59 1.41.59.51 0 1.02-.2 1.41-.59l7.78-7.78 2.81-2.81c.8-.78.8-2.07 0-2.86zM5.41 20L4 18.59l7.72-7.72 1.47 1.35L5.41 20z\"/>\n",
              "  </svg>\n",
              "      </button>\n",
              "      \n",
              "  <style>\n",
              "    .colab-df-container {\n",
              "      display:flex;\n",
              "      flex-wrap:wrap;\n",
              "      gap: 12px;\n",
              "    }\n",
              "\n",
              "    .colab-df-convert {\n",
              "      background-color: #E8F0FE;\n",
              "      border: none;\n",
              "      border-radius: 50%;\n",
              "      cursor: pointer;\n",
              "      display: none;\n",
              "      fill: #1967D2;\n",
              "      height: 32px;\n",
              "      padding: 0 0 0 0;\n",
              "      width: 32px;\n",
              "    }\n",
              "\n",
              "    .colab-df-convert:hover {\n",
              "      background-color: #E2EBFA;\n",
              "      box-shadow: 0px 1px 2px rgba(60, 64, 67, 0.3), 0px 1px 3px 1px rgba(60, 64, 67, 0.15);\n",
              "      fill: #174EA6;\n",
              "    }\n",
              "\n",
              "    [theme=dark] .colab-df-convert {\n",
              "      background-color: #3B4455;\n",
              "      fill: #D2E3FC;\n",
              "    }\n",
              "\n",
              "    [theme=dark] .colab-df-convert:hover {\n",
              "      background-color: #434B5C;\n",
              "      box-shadow: 0px 1px 3px 1px rgba(0, 0, 0, 0.15);\n",
              "      filter: drop-shadow(0px 1px 2px rgba(0, 0, 0, 0.3));\n",
              "      fill: #FFFFFF;\n",
              "    }\n",
              "  </style>\n",
              "\n",
              "      <script>\n",
              "        const buttonEl =\n",
              "          document.querySelector('#df-bb450bd7-76ee-4354-970c-dec8da6aafc3 button.colab-df-convert');\n",
              "        buttonEl.style.display =\n",
              "          google.colab.kernel.accessAllowed ? 'block' : 'none';\n",
              "\n",
              "        async function convertToInteractive(key) {\n",
              "          const element = document.querySelector('#df-bb450bd7-76ee-4354-970c-dec8da6aafc3');\n",
              "          const dataTable =\n",
              "            await google.colab.kernel.invokeFunction('convertToInteractive',\n",
              "                                                     [key], {});\n",
              "          if (!dataTable) return;\n",
              "\n",
              "          const docLinkHtml = 'Like what you see? Visit the ' +\n",
              "            '<a target=\"_blank\" href=https://colab.research.google.com/notebooks/data_table.ipynb>data table notebook</a>'\n",
              "            + ' to learn more about interactive tables.';\n",
              "          element.innerHTML = '';\n",
              "          dataTable['output_type'] = 'display_data';\n",
              "          await google.colab.output.renderOutput(dataTable, element);\n",
              "          const docLink = document.createElement('div');\n",
              "          docLink.innerHTML = docLinkHtml;\n",
              "          element.appendChild(docLink);\n",
              "        }\n",
              "      </script>\n",
              "    </div>\n",
              "  </div>\n",
              "  "
            ]
          },
          "metadata": {}
        }
      ]
    },
    {
      "cell_type": "markdown",
      "source": [
        "Create Age Bin Boolean Columns"
      ],
      "metadata": {
        "id": "Yjs__ZVxE4xz"
      }
    },
    {
      "cell_type": "code",
      "source": [
        "# Specify cutpoints for the age bins in age_bin_cutpoints as an array.\n",
        "age_bin_cutpoints = pd.array([0, 20, 40, 60, 80, 101], dtype = np.ndarray)\n",
        "\n",
        "# Use the array to create age bin intervals, which include their left side (lower) limit.\n",
        "# The intervals are an \"IntervalIndex\" object\n",
        "age_bin_intervals = pd.IntervalIndex.from_breaks(breaks = age_bin_cutpoints, closed = 'left')\n",
        "\n",
        "\n",
        "# given a list of excluded ages and an IntervalIndex interval, determine whether the list of excluded ages ...\n",
        "# ... caries values that are in the age bin interval.\n",
        "def check_age_bin(excluded_ages, age_bin_interval):\n",
        "  # turn the excluded age list into a set\n",
        "  excluded_ages_set = set(excluded_ages)\n",
        "  # create a set with all integers in the age_bin_interval\n",
        "  age_bin_set = set(range(age_bin_interval.left, age_bin_interval.right))\n",
        "  #if the two sets have a non-empty intersection, return true, otherwise return false.\n",
        "  if not excluded_ages_set.intersection(age_bin_set):\n",
        "    return False\n",
        "  else:\n",
        "    return True\n",
        "\n",
        "# Drops any existing age_bin_ boolean columns.\n",
        "# This is to prevent keeping old age bin columns after new age bins have been set.\n",
        "time_trend_df = time_trend_df[time_trend_df.columns.drop(list(time_trend_df.filter(regex='age_bin_')))]\n",
        "\n",
        "\n",
        "# create age bin boolean columns for every age bin.\n",
        "for age_bin_interval in age_bin_intervals:\n",
        "  # names every boolean column created \"age_bin_lowerlim_upperlim\"\n",
        "  # applies the check_age_bin function above to create the boolean column\n",
        "  time_trend_df[f'age_bin_{age_bin_interval.left}_{age_bin_interval.right}'] = time_trend_df.apply(lambda x: check_age_bin(x.excluded_ages, age_bin_interval), axis=1)\n",
        "\n",
        "\n",
        "# store the age bin columns in a list.\n",
        "age_bin_columns = [col for col in time_trend_df if col.startswith('age_bin')]\n",
        "# display the excluded ages and all age_bin_columns for quick visual inspection.\n",
        "display(time_trend_df[['excluded_ages'] + age_bin_columns].head(3))"
      ],
      "metadata": {
        "id": "9OI0raVhqM53",
        "colab": {
          "base_uri": "https://localhost:8080/",
          "height": 220
        },
        "outputId": "0d5897e0-545c-4387-eaae-4dddb1b3bd7a"
      },
      "execution_count": null,
      "outputs": [
        {
          "output_type": "display_data",
          "data": {
            "text/plain": [
              "                                                                                                                                                                     excluded_ages  \\\n",
              "10022                                                                                                               [0, 1, 2, 3, 4, 5, 6, 7, 8, 9, 10, 11, 12, 13, 14, 15, 16, 17]   \n",
              "10221                                                                                                               [0, 1, 2, 3, 4, 5, 6, 7, 8, 9, 10, 11, 12, 13, 14, 15, 16, 17]   \n",
              "10406  [0, 1, 2, 3, 4, 5, 6, 7, 8, 9, 10, 11, 12, 13, 14, 15, 16, 17, 18, 19, 76, 77, 78, 79, 80, 81, 82, 83, 84, 85, 86, 87, 88, 89, 90, 91, 92, 93, 94, 95, 96, 97, 98, 99, 100]   \n",
              "\n",
              "       age_bin_0_20  age_bin_20_40  age_bin_40_60  age_bin_60_80  \\\n",
              "10022          True          False          False          False   \n",
              "10221          True          False          False          False   \n",
              "10406          True          False          False           True   \n",
              "\n",
              "       age_bin_80_101  \n",
              "10022           False  \n",
              "10221           False  \n",
              "10406            True  "
            ],
            "text/html": [
              "\n",
              "  <div id=\"df-e8e16c25-1e5f-4566-9696-b14dbd78d540\">\n",
              "    <div class=\"colab-df-container\">\n",
              "      <div>\n",
              "<style scoped>\n",
              "    .dataframe tbody tr th:only-of-type {\n",
              "        vertical-align: middle;\n",
              "    }\n",
              "\n",
              "    .dataframe tbody tr th {\n",
              "        vertical-align: top;\n",
              "    }\n",
              "\n",
              "    .dataframe thead th {\n",
              "        text-align: right;\n",
              "    }\n",
              "</style>\n",
              "<table border=\"1\" class=\"dataframe\">\n",
              "  <thead>\n",
              "    <tr style=\"text-align: right;\">\n",
              "      <th></th>\n",
              "      <th>excluded_ages</th>\n",
              "      <th>age_bin_0_20</th>\n",
              "      <th>age_bin_20_40</th>\n",
              "      <th>age_bin_40_60</th>\n",
              "      <th>age_bin_60_80</th>\n",
              "      <th>age_bin_80_101</th>\n",
              "    </tr>\n",
              "  </thead>\n",
              "  <tbody>\n",
              "    <tr>\n",
              "      <th>10022</th>\n",
              "      <td>[0, 1, 2, 3, 4, 5, 6, 7, 8, 9, 10, 11, 12, 13, 14, 15, 16, 17]</td>\n",
              "      <td>True</td>\n",
              "      <td>False</td>\n",
              "      <td>False</td>\n",
              "      <td>False</td>\n",
              "      <td>False</td>\n",
              "    </tr>\n",
              "    <tr>\n",
              "      <th>10221</th>\n",
              "      <td>[0, 1, 2, 3, 4, 5, 6, 7, 8, 9, 10, 11, 12, 13, 14, 15, 16, 17]</td>\n",
              "      <td>True</td>\n",
              "      <td>False</td>\n",
              "      <td>False</td>\n",
              "      <td>False</td>\n",
              "      <td>False</td>\n",
              "    </tr>\n",
              "    <tr>\n",
              "      <th>10406</th>\n",
              "      <td>[0, 1, 2, 3, 4, 5, 6, 7, 8, 9, 10, 11, 12, 13, 14, 15, 16, 17, 18, 19, 76, 77, 78, 79, 80, 81, 82, 83, 84, 85, 86, 87, 88, 89, 90, 91, 92, 93, 94, 95, 96, 97, 98, 99, 100]</td>\n",
              "      <td>True</td>\n",
              "      <td>False</td>\n",
              "      <td>False</td>\n",
              "      <td>True</td>\n",
              "      <td>True</td>\n",
              "    </tr>\n",
              "  </tbody>\n",
              "</table>\n",
              "</div>\n",
              "      <button class=\"colab-df-convert\" onclick=\"convertToInteractive('df-e8e16c25-1e5f-4566-9696-b14dbd78d540')\"\n",
              "              title=\"Convert this dataframe to an interactive table.\"\n",
              "              style=\"display:none;\">\n",
              "        \n",
              "  <svg xmlns=\"http://www.w3.org/2000/svg\" height=\"24px\"viewBox=\"0 0 24 24\"\n",
              "       width=\"24px\">\n",
              "    <path d=\"M0 0h24v24H0V0z\" fill=\"none\"/>\n",
              "    <path d=\"M18.56 5.44l.94 2.06.94-2.06 2.06-.94-2.06-.94-.94-2.06-.94 2.06-2.06.94zm-11 1L8.5 8.5l.94-2.06 2.06-.94-2.06-.94L8.5 2.5l-.94 2.06-2.06.94zm10 10l.94 2.06.94-2.06 2.06-.94-2.06-.94-.94-2.06-.94 2.06-2.06.94z\"/><path d=\"M17.41 7.96l-1.37-1.37c-.4-.4-.92-.59-1.43-.59-.52 0-1.04.2-1.43.59L10.3 9.45l-7.72 7.72c-.78.78-.78 2.05 0 2.83L4 21.41c.39.39.9.59 1.41.59.51 0 1.02-.2 1.41-.59l7.78-7.78 2.81-2.81c.8-.78.8-2.07 0-2.86zM5.41 20L4 18.59l7.72-7.72 1.47 1.35L5.41 20z\"/>\n",
              "  </svg>\n",
              "      </button>\n",
              "      \n",
              "  <style>\n",
              "    .colab-df-container {\n",
              "      display:flex;\n",
              "      flex-wrap:wrap;\n",
              "      gap: 12px;\n",
              "    }\n",
              "\n",
              "    .colab-df-convert {\n",
              "      background-color: #E8F0FE;\n",
              "      border: none;\n",
              "      border-radius: 50%;\n",
              "      cursor: pointer;\n",
              "      display: none;\n",
              "      fill: #1967D2;\n",
              "      height: 32px;\n",
              "      padding: 0 0 0 0;\n",
              "      width: 32px;\n",
              "    }\n",
              "\n",
              "    .colab-df-convert:hover {\n",
              "      background-color: #E2EBFA;\n",
              "      box-shadow: 0px 1px 2px rgba(60, 64, 67, 0.3), 0px 1px 3px 1px rgba(60, 64, 67, 0.15);\n",
              "      fill: #174EA6;\n",
              "    }\n",
              "\n",
              "    [theme=dark] .colab-df-convert {\n",
              "      background-color: #3B4455;\n",
              "      fill: #D2E3FC;\n",
              "    }\n",
              "\n",
              "    [theme=dark] .colab-df-convert:hover {\n",
              "      background-color: #434B5C;\n",
              "      box-shadow: 0px 1px 3px 1px rgba(0, 0, 0, 0.15);\n",
              "      filter: drop-shadow(0px 1px 2px rgba(0, 0, 0, 0.3));\n",
              "      fill: #FFFFFF;\n",
              "    }\n",
              "  </style>\n",
              "\n",
              "      <script>\n",
              "        const buttonEl =\n",
              "          document.querySelector('#df-e8e16c25-1e5f-4566-9696-b14dbd78d540 button.colab-df-convert');\n",
              "        buttonEl.style.display =\n",
              "          google.colab.kernel.accessAllowed ? 'block' : 'none';\n",
              "\n",
              "        async function convertToInteractive(key) {\n",
              "          const element = document.querySelector('#df-e8e16c25-1e5f-4566-9696-b14dbd78d540');\n",
              "          const dataTable =\n",
              "            await google.colab.kernel.invokeFunction('convertToInteractive',\n",
              "                                                     [key], {});\n",
              "          if (!dataTable) return;\n",
              "\n",
              "          const docLinkHtml = 'Like what you see? Visit the ' +\n",
              "            '<a target=\"_blank\" href=https://colab.research.google.com/notebooks/data_table.ipynb>data table notebook</a>'\n",
              "            + ' to learn more about interactive tables.';\n",
              "          element.innerHTML = '';\n",
              "          dataTable['output_type'] = 'display_data';\n",
              "          await google.colab.output.renderOutput(dataTable, element);\n",
              "          const docLink = document.createElement('div');\n",
              "          docLink.innerHTML = docLinkHtml;\n",
              "          element.appendChild(docLink);\n",
              "        }\n",
              "      </script>\n",
              "    </div>\n",
              "  </div>\n",
              "  "
            ]
          },
          "metadata": {}
        }
      ]
    },
    {
      "cell_type": "code",
      "source": [
        "# list of all age bin/keyword boolean columns\n",
        "exclusion_list = age_bin_columns + list(keywords.keys()) # creates a list of all exclusion criteria keywords\n",
        "\n",
        "# creates a new dataframe to store the plot data with two columns.\n",
        "# These columns show every unique combination of study category and year_bin in the study data.\n",
        "plot_time_trend_df = pd.DataFrame(data = list(itertools.product(time_trend_df.category.unique(), time_trend_df.year_bin.unique())), columns = [\"category\", \"year_bin\"])\n",
        "\n",
        "# display the number of studies in each category/age_bin group\n",
        "display(time_trend_df.groupby(['category', 'year_bin'])['year_bin'].count())\n",
        "\n",
        "\n",
        "# place all of proportions of trials excluding a given condition in each cancer group into a common data frame\n",
        "for condition in exclusion_list:\n",
        "   # calculates the proportion of trials with that exclusion criteria in each category/year-bin group.\n",
        "   # reset index (to standard integers, instead of multilevel index from groupby)\n",
        "   # this allows the series to be added on as a column to a common data frame.\n",
        "  new_col = time_trend_df.groupby(['category', 'year_bin'])[condition].mean().reset_index(level=0, drop=True) # .mean() takes the mean of the boolean values in the groups, interpreting true as 1 and false as 0.\n",
        "  plot_time_trend_df[condition] = new_col.reset_index(level=0, drop=True)\n",
        "\n",
        "display(plot_time_trend_df.head())\n"
      ],
      "metadata": {
        "id": "j9HHqm1n3AlE",
        "colab": {
          "base_uri": "https://localhost:8080/",
          "height": 676
        },
        "outputId": "b5020ac1-fffc-434a-ab43-b29b8b7e77ae"
      },
      "execution_count": null,
      "outputs": [
        {
          "output_type": "display_data",
          "data": {
            "text/plain": [
              "category                     year_bin    \n",
              "digestive system neoplasms   [2008, 2012)    192\n",
              "                             [2012, 2016)    228\n",
              "                             [2016, 2020)    287\n",
              "                             [2020, 2024)    225\n",
              "head and neck neoplasms      [2008, 2012)     46\n",
              "                             [2012, 2016)     69\n",
              "                             [2016, 2020)     72\n",
              "                             [2020, 2024)     77\n",
              "respiratory tract neoplasms  [2008, 2012)    103\n",
              "                             [2012, 2016)    131\n",
              "                             [2016, 2020)    194\n",
              "                             [2020, 2024)    170\n",
              "Name: year_bin, dtype: int64"
            ]
          },
          "metadata": {}
        },
        {
          "output_type": "display_data",
          "data": {
            "text/plain": [
              "                     category      year_bin  age_bin_0_20  age_bin_20_40  \\\n",
              "0  digestive system neoplasms  [2008, 2012)      0.968750       0.072917   \n",
              "1  digestive system neoplasms  [2012, 2016)      0.991228       0.061404   \n",
              "2  digestive system neoplasms  [2016, 2020)      0.982578       0.048780   \n",
              "3  digestive system neoplasms  [2020, 2024)      1.000000       0.017778   \n",
              "4     head and neck neoplasms  [2008, 2012)      1.000000       0.021739   \n",
              "\n",
              "   age_bin_40_60  age_bin_60_80  age_bin_80_101  heart_issues       hiv  \\\n",
              "0       0.057292       0.270833        0.380208      0.437500  0.114583   \n",
              "1       0.043860       0.381579        0.504386      0.517544  0.179825   \n",
              "2       0.020906       0.404181        0.498258      0.529617  0.299652   \n",
              "3       0.013333       0.413333        0.502222      0.573333  0.346667   \n",
              "4       0.000000       0.260870        0.347826      0.282609  0.065217   \n",
              "\n",
              "   pregnant  breastfeeding  psychosis  \n",
              "0  0.500000       0.213542   0.197917  \n",
              "1  0.675439       0.289474   0.324561  \n",
              "2  0.616725       0.341463   0.334495  \n",
              "3  0.582222       0.302222   0.302222  \n",
              "4  0.521739       0.260870   0.195652  "
            ],
            "text/html": [
              "\n",
              "  <div id=\"df-617e0243-182b-47f7-ae57-e31f471d7d3f\">\n",
              "    <div class=\"colab-df-container\">\n",
              "      <div>\n",
              "<style scoped>\n",
              "    .dataframe tbody tr th:only-of-type {\n",
              "        vertical-align: middle;\n",
              "    }\n",
              "\n",
              "    .dataframe tbody tr th {\n",
              "        vertical-align: top;\n",
              "    }\n",
              "\n",
              "    .dataframe thead th {\n",
              "        text-align: right;\n",
              "    }\n",
              "</style>\n",
              "<table border=\"1\" class=\"dataframe\">\n",
              "  <thead>\n",
              "    <tr style=\"text-align: right;\">\n",
              "      <th></th>\n",
              "      <th>category</th>\n",
              "      <th>year_bin</th>\n",
              "      <th>age_bin_0_20</th>\n",
              "      <th>age_bin_20_40</th>\n",
              "      <th>age_bin_40_60</th>\n",
              "      <th>age_bin_60_80</th>\n",
              "      <th>age_bin_80_101</th>\n",
              "      <th>heart_issues</th>\n",
              "      <th>hiv</th>\n",
              "      <th>pregnant</th>\n",
              "      <th>breastfeeding</th>\n",
              "      <th>psychosis</th>\n",
              "    </tr>\n",
              "  </thead>\n",
              "  <tbody>\n",
              "    <tr>\n",
              "      <th>0</th>\n",
              "      <td>digestive system neoplasms</td>\n",
              "      <td>[2008, 2012)</td>\n",
              "      <td>0.968750</td>\n",
              "      <td>0.072917</td>\n",
              "      <td>0.057292</td>\n",
              "      <td>0.270833</td>\n",
              "      <td>0.380208</td>\n",
              "      <td>0.437500</td>\n",
              "      <td>0.114583</td>\n",
              "      <td>0.500000</td>\n",
              "      <td>0.213542</td>\n",
              "      <td>0.197917</td>\n",
              "    </tr>\n",
              "    <tr>\n",
              "      <th>1</th>\n",
              "      <td>digestive system neoplasms</td>\n",
              "      <td>[2012, 2016)</td>\n",
              "      <td>0.991228</td>\n",
              "      <td>0.061404</td>\n",
              "      <td>0.043860</td>\n",
              "      <td>0.381579</td>\n",
              "      <td>0.504386</td>\n",
              "      <td>0.517544</td>\n",
              "      <td>0.179825</td>\n",
              "      <td>0.675439</td>\n",
              "      <td>0.289474</td>\n",
              "      <td>0.324561</td>\n",
              "    </tr>\n",
              "    <tr>\n",
              "      <th>2</th>\n",
              "      <td>digestive system neoplasms</td>\n",
              "      <td>[2016, 2020)</td>\n",
              "      <td>0.982578</td>\n",
              "      <td>0.048780</td>\n",
              "      <td>0.020906</td>\n",
              "      <td>0.404181</td>\n",
              "      <td>0.498258</td>\n",
              "      <td>0.529617</td>\n",
              "      <td>0.299652</td>\n",
              "      <td>0.616725</td>\n",
              "      <td>0.341463</td>\n",
              "      <td>0.334495</td>\n",
              "    </tr>\n",
              "    <tr>\n",
              "      <th>3</th>\n",
              "      <td>digestive system neoplasms</td>\n",
              "      <td>[2020, 2024)</td>\n",
              "      <td>1.000000</td>\n",
              "      <td>0.017778</td>\n",
              "      <td>0.013333</td>\n",
              "      <td>0.413333</td>\n",
              "      <td>0.502222</td>\n",
              "      <td>0.573333</td>\n",
              "      <td>0.346667</td>\n",
              "      <td>0.582222</td>\n",
              "      <td>0.302222</td>\n",
              "      <td>0.302222</td>\n",
              "    </tr>\n",
              "    <tr>\n",
              "      <th>4</th>\n",
              "      <td>head and neck neoplasms</td>\n",
              "      <td>[2008, 2012)</td>\n",
              "      <td>1.000000</td>\n",
              "      <td>0.021739</td>\n",
              "      <td>0.000000</td>\n",
              "      <td>0.260870</td>\n",
              "      <td>0.347826</td>\n",
              "      <td>0.282609</td>\n",
              "      <td>0.065217</td>\n",
              "      <td>0.521739</td>\n",
              "      <td>0.260870</td>\n",
              "      <td>0.195652</td>\n",
              "    </tr>\n",
              "  </tbody>\n",
              "</table>\n",
              "</div>\n",
              "      <button class=\"colab-df-convert\" onclick=\"convertToInteractive('df-617e0243-182b-47f7-ae57-e31f471d7d3f')\"\n",
              "              title=\"Convert this dataframe to an interactive table.\"\n",
              "              style=\"display:none;\">\n",
              "        \n",
              "  <svg xmlns=\"http://www.w3.org/2000/svg\" height=\"24px\"viewBox=\"0 0 24 24\"\n",
              "       width=\"24px\">\n",
              "    <path d=\"M0 0h24v24H0V0z\" fill=\"none\"/>\n",
              "    <path d=\"M18.56 5.44l.94 2.06.94-2.06 2.06-.94-2.06-.94-.94-2.06-.94 2.06-2.06.94zm-11 1L8.5 8.5l.94-2.06 2.06-.94-2.06-.94L8.5 2.5l-.94 2.06-2.06.94zm10 10l.94 2.06.94-2.06 2.06-.94-2.06-.94-.94-2.06-.94 2.06-2.06.94z\"/><path d=\"M17.41 7.96l-1.37-1.37c-.4-.4-.92-.59-1.43-.59-.52 0-1.04.2-1.43.59L10.3 9.45l-7.72 7.72c-.78.78-.78 2.05 0 2.83L4 21.41c.39.39.9.59 1.41.59.51 0 1.02-.2 1.41-.59l7.78-7.78 2.81-2.81c.8-.78.8-2.07 0-2.86zM5.41 20L4 18.59l7.72-7.72 1.47 1.35L5.41 20z\"/>\n",
              "  </svg>\n",
              "      </button>\n",
              "      \n",
              "  <style>\n",
              "    .colab-df-container {\n",
              "      display:flex;\n",
              "      flex-wrap:wrap;\n",
              "      gap: 12px;\n",
              "    }\n",
              "\n",
              "    .colab-df-convert {\n",
              "      background-color: #E8F0FE;\n",
              "      border: none;\n",
              "      border-radius: 50%;\n",
              "      cursor: pointer;\n",
              "      display: none;\n",
              "      fill: #1967D2;\n",
              "      height: 32px;\n",
              "      padding: 0 0 0 0;\n",
              "      width: 32px;\n",
              "    }\n",
              "\n",
              "    .colab-df-convert:hover {\n",
              "      background-color: #E2EBFA;\n",
              "      box-shadow: 0px 1px 2px rgba(60, 64, 67, 0.3), 0px 1px 3px 1px rgba(60, 64, 67, 0.15);\n",
              "      fill: #174EA6;\n",
              "    }\n",
              "\n",
              "    [theme=dark] .colab-df-convert {\n",
              "      background-color: #3B4455;\n",
              "      fill: #D2E3FC;\n",
              "    }\n",
              "\n",
              "    [theme=dark] .colab-df-convert:hover {\n",
              "      background-color: #434B5C;\n",
              "      box-shadow: 0px 1px 3px 1px rgba(0, 0, 0, 0.15);\n",
              "      filter: drop-shadow(0px 1px 2px rgba(0, 0, 0, 0.3));\n",
              "      fill: #FFFFFF;\n",
              "    }\n",
              "  </style>\n",
              "\n",
              "      <script>\n",
              "        const buttonEl =\n",
              "          document.querySelector('#df-617e0243-182b-47f7-ae57-e31f471d7d3f button.colab-df-convert');\n",
              "        buttonEl.style.display =\n",
              "          google.colab.kernel.accessAllowed ? 'block' : 'none';\n",
              "\n",
              "        async function convertToInteractive(key) {\n",
              "          const element = document.querySelector('#df-617e0243-182b-47f7-ae57-e31f471d7d3f');\n",
              "          const dataTable =\n",
              "            await google.colab.kernel.invokeFunction('convertToInteractive',\n",
              "                                                     [key], {});\n",
              "          if (!dataTable) return;\n",
              "\n",
              "          const docLinkHtml = 'Like what you see? Visit the ' +\n",
              "            '<a target=\"_blank\" href=https://colab.research.google.com/notebooks/data_table.ipynb>data table notebook</a>'\n",
              "            + ' to learn more about interactive tables.';\n",
              "          element.innerHTML = '';\n",
              "          dataTable['output_type'] = 'display_data';\n",
              "          await google.colab.output.renderOutput(dataTable, element);\n",
              "          const docLink = document.createElement('div');\n",
              "          docLink.innerHTML = docLinkHtml;\n",
              "          element.appendChild(docLink);\n",
              "        }\n",
              "      </script>\n",
              "    </div>\n",
              "  </div>\n",
              "  "
            ]
          },
          "metadata": {}
        }
      ]
    },
    {
      "cell_type": "markdown",
      "source": [
        "(Preliminary!!) Time Trend Data Visualisation"
      ],
      "metadata": {
        "id": "tOmB6kJcBigt"
      }
    },
    {
      "cell_type": "code",
      "source": [
        "# Produces graphs showing the proportion of studies that mention a given keyword in each cancer group over time.\n",
        "for exclusion_criterion in list(keywords.keys()):\n",
        "  fig, ax = plt.subplots()\n",
        "  for category in categories:\n",
        "    # year_bin must be converted from IntervalIndex to string so that it can be plotted.\n",
        "    ax.plot(list(plot_time_trend_df.loc[plot_time_trend_df['category'] == category][\"year_bin\"].astype('string')), \n",
        "            plot_time_trend_df.loc[plot_time_trend_df['category'] == category][exclusion_criterion], \n",
        "            label = f'{category}')\n",
        "  plt.title(label = f'proportion of studies that mention {exclusion_criterion} in their exclusion criteria over time, across cancer groups')\n",
        "  ax.legend()\n",
        "  plt.show()\n",
        "\n",
        "# Produces graphs showing the proportion of studies excluding each age group within in a particular cancer area.\n",
        "for category in categories:\n",
        "  fig, ax = plt.subplots()\n",
        "  for age_bin in age_bin_columns:\n",
        "    # year_bin must be converted from IntervalIndex to string so that it can be plotted.\n",
        "    ax.plot(list(plot_time_trend_df.loc[plot_time_trend_df['category'] == category][\"year_bin\"].astype('string')), \n",
        "            plot_time_trend_df.loc[plot_time_trend_df['category'] == category][age_bin], \n",
        "            label = age_bin)\n",
        "  plt.title(label = f'proportion of {category} cancer studies excluding each age group over time')\n",
        "  ax.legend()\n",
        "  plt.show()\n"
      ],
      "metadata": {
        "id": "gxXEGob2cOYp",
        "colab": {
          "base_uri": "https://localhost:8080/",
          "height": 1000
        },
        "outputId": "f4482059-ed27-4af1-e5a8-f0202b72526e"
      },
      "execution_count": null,
      "outputs": [
        {
          "output_type": "display_data",
          "data": {
            "text/plain": [
              "<Figure size 432x288 with 1 Axes>"
            ],
            "image/png": "[encoded data removed]"
          },
          "metadata": {
            "needs_background": "light"
          }
        },
        {
          "output_type": "display_data",
          "data": {
            "text/plain": [
              "<Figure size 432x288 with 1 Axes>"
            ],
            "image/png": "[encoded data removed]"
          },
          "metadata": {
            "needs_background": "light"
          }
        },
        {
          "output_type": "display_data",
          "data": {
            "text/plain": [
              "<Figure size 432x288 with 1 Axes>"
            ],
            "image/png": "[encoded data removed]"
          },
          "metadata": {
            "needs_background": "light"
          }
        },
        {
          "output_type": "display_data",
          "data": {
            "text/plain": [
              "<Figure size 432x288 with 1 Axes>"
            ],
            "image/png": "[encoded data removed]"
          },
          "metadata": {
            "needs_background": "light"
          }
        },
        {
          "output_type": "display_data",
          "data": {
            "text/plain": [
              "<Figure size 432x288 with 1 Axes>"
            ],
            "image/png": "[encoded data removed]"
          },
          "metadata": {
            "needs_background": "light"
          }
        },
        {
          "output_type": "display_data",
          "data": {
            "text/plain": [
              "<Figure size 432x288 with 1 Axes>"
            ],
            "image/png": "[encoded data removed]"
          },
          "metadata": {
            "needs_background": "light"
          }
        },
        {
          "output_type": "display_data",
          "data": {
            "text/plain": [
              "<Figure size 432x288 with 1 Axes>"
            ],
            "image/png": "[encoded data removed]"
          },
          "metadata": {
            "needs_background": "light"
          }
        },
        {
          "output_type": "display_data",
          "data": {
            "text/plain": [
              "<Figure size 432x288 with 1 Axes>"
            ],
            "image/png": "[encoded data removed]"
          },
          "metadata": {
            "needs_background": "light"
          }
        }
      ]
    },
    {
      "cell_type": "markdown",
      "source": [
        "# Creating Graphs"
      ],
      "metadata": {
        "id": "dkj3v6zOxoWk"
      }
    },
    {
      "cell_type": "code",
      "source": [],
      "metadata": {
        "id": "BjmWHi7xtYgW"
      },
      "execution_count": null,
      "outputs": []
    },
    {
      "cell_type": "code",
      "source": [
        "raise Exception(\"Manual validation continues below.\")"
      ],
      "metadata": {
        "id": "dvd3wCMkrsy_",
        "colab": {
          "base_uri": "https://localhost:8080/",
          "height": 169
        },
        "outputId": "66ce58e5-c59a-41fc-84aa-97aedebcd359"
      },
      "execution_count": null,
      "outputs": [
        {
          "output_type": "error",
          "ename": "Exception",
          "evalue": "ignored",
          "traceback": [
            "\u001b[0;31m---------------------------------------------------------------------------\u001b[0m",
            "\u001b[0;31mException\u001b[0m                                 Traceback (most recent call last)",
            "\u001b[0;32m<ipython-input-33-5c105c5ae893>\u001b[0m in \u001b[0;36m<module>\u001b[0;34m\u001b[0m\n\u001b[0;32m----> 1\u001b[0;31m \u001b[0;32mraise\u001b[0m \u001b[0mException\u001b[0m\u001b[0;34m(\u001b[0m\u001b[0;34m\"scratch code below\"\u001b[0m\u001b[0;34m)\u001b[0m\u001b[0;34m\u001b[0m\u001b[0;34m\u001b[0m\u001b[0m\n\u001b[0m",
            "\u001b[0;31mException\u001b[0m: scratch code below"
          ]
        }
      ]
    },
    {
      "cell_type": "markdown",
      "source": [
        "# Validation of Keyword Search"
      ],
      "metadata": {
        "id": "MzfqJK-q77f_"
      }
    },
    {
      "cell_type": "code",
      "source": [
        "# packages and authorization to deal with google sheets\n",
        "import gspread\n",
        "from gspread_dataframe import set_with_dataframe\n",
        "from google.auth import default\n",
        "\n",
        "creds, _ = default()\n",
        "gs = gspread.authorize(creds)"
      ],
      "metadata": {
        "id": "xMH4lial73mq"
      },
      "execution_count": null,
      "outputs": []
    },
    {
      "cell_type": "code",
      "source": [
        "# take 10% of the studies tagged for each keyword\n",
        "frac = 0.1\n",
        "all_tagged = []\n",
        "keys = list(keywords.keys())\n",
        "for key in keys:\n",
        "  sub = df[df[key]][['nct_id','exclusion'] + keys].copy(deep=True)\n",
        "  sam_size = int(np.round(len(sub) * frac))\n",
        "  all_tagged.append(sub.sample(n=sam_size))\n",
        "  print(f'{key}: {sam_size} studies')\n",
        "\n",
        "# place all 10% samples together across all keywords and deduplicate\n",
        "for_review = pd.concat(all_tagged)\n",
        "for_review.drop_duplicates(inplace=True)\n",
        "\n",
        "# add in the studies that were not tagged as any\n",
        "untagged_mask = (df.apply(lambda x: any([x[k] for k in keys]) is False, axis=1)) & (df.exclusion.notnull())\n",
        "sam_untag = int(np.round(len(df[untagged_mask]) * frac))\n",
        "for_review_untagged = df[untagged_mask].sample(n=sam_untag)\n",
        "\n",
        "# summarize the no. of studies gathered\n",
        "total_samples = int(np.round(pd.concat([for_review, for_review_untagged]).nct_id.nunique()))\n",
        "print('')\n",
        "print(f'{frac} of the studies per tag, placed all together, is n={len(for_review)}')\n",
        "print(f'There will be {total_samples/5} to review per person')"
      ],
      "metadata": {
        "id": "poD7FP1lmqBR"
      },
      "execution_count": null,
      "outputs": []
    },
    {
      "cell_type": "code",
      "source": [
        "# create samples for each person\n",
        "\n",
        "def split(a, n):\n",
        "  # split an interval into even parts\n",
        "  k, m = divmod(len(a), n)\n",
        "  return (a[i*k+min(i, m):(i+1)*k+min(i+1, m)] for i in range(n))\n",
        "\n",
        "# split the no. indices by 5\n",
        "inter = list(split(range(len(for_review)), 5))\n",
        "inter_untagged = list(split(range(len(for_review_untagged)), 5))"
      ],
      "metadata": {
        "id": "s5AFoKz8mqGk"
      },
      "execution_count": null,
      "outputs": []
    },
    {
      "cell_type": "code",
      "source": [
        "# upload to google drive\n",
        "members = ['CELINA','CYNTHIA','IDIL','MO','OLIVER']\n",
        "url = 'https://docs.google.com/spreadsheets/d/1KUIJLbghBD2WUMIkTJ041x92egP5LEwZB-OAw13vCps/'\n",
        "eval_sheet = gs.open_by_url(url)\n",
        "\n",
        "splits = []\n",
        "\n",
        "for i in range(0, 5):\n",
        "  # open the sheet dedicated to the member\n",
        "  member = members[i]\n",
        "  member_sheet = eval_sheet.worksheet(member)\n",
        "\n",
        "  # create the split of the studies for review for that member\n",
        "  tagged = for_review.iloc[inter[i]].copy(deep=True)\n",
        "  untagged = for_review_untagged.iloc[inter_untagged[i]].copy(deep=True)\n",
        "  split = pd.concat([tagged, untagged])\n",
        "  split = split[['nct_id', 'exclusion','heart_issues', 'hiv', 'pregnant', \n",
        "                 'breastfeeding', 'psychosis']]\n",
        "  splits.append(split)\n",
        "\n",
        "  # paste onto the gsheet\n",
        "  set_with_dataframe(member_sheet, split, row=2, col=1, \n",
        "                     include_index=False, include_column_header=False)\n",
        "\n",
        "# confirm that there are no studies repeating across the splits\n",
        "if np.sum([len(d) for d in splits]) != pd.concat(splits).nct_id.nunique():\n",
        "  print('ERROR: There are studies are repeating across the splits.')"
      ],
      "metadata": {
        "id": "p9_-Bbr68IZZ"
      },
      "execution_count": null,
      "outputs": []
    }
  ]
}